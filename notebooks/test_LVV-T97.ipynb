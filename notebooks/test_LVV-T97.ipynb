{
 "cells": [
  {
   "cell_type": "markdown",
   "metadata": {},
   "source": [
    "# Test notebook for Fall 2023 DM Acceptance Test Campaign\n",
    "\n",
    "This test will be executed on the LSST Science Platform Notebook Aspect, initialized with Science Pipelines release `w_2023_43`."
   ]
  },
  {
   "cell_type": "markdown",
   "metadata": {},
   "source": [
    "### Test case LVV-T97: Verify implementation of Uniqueness of IDs Across Data Releases\n",
    "Verify that the IDs of Objects, Sources, DIAObjects, and DIASources from different Data Releases are unique."
   ]
  },
  {
   "cell_type": "code",
   "execution_count": 1,
   "metadata": {
    "execution": {
     "iopub.execute_input": "2023-11-01T23:01:24.485881Z",
     "iopub.status.busy": "2023-11-01T23:01:24.485769Z",
     "iopub.status.idle": "2023-11-01T23:01:25.054985Z",
     "shell.execute_reply": "2023-11-01T23:01:25.054435Z",
     "shell.execute_reply.started": "2023-11-01T23:01:24.485869Z"
    },
    "tags": []
   },
   "outputs": [
    {
     "name": "stdout",
     "output_type": "stream",
     "text": [
      "jcarlin-nb\n",
      "lsst_distrib          g4213664e8e+da93b84f60 \tcurrent w_2023_37 setup\n"
     ]
    }
   ],
   "source": [
    "# Confirm that the version of the Science Pipelines is v19_0_0:\n",
    "! echo $HOSTNAME\n",
    "! eups list -s | grep lsst_distrib"
   ]
  },
  {
   "cell_type": "code",
   "execution_count": 2,
   "metadata": {
    "execution": {
     "iopub.execute_input": "2023-11-01T23:01:25.055949Z",
     "iopub.status.busy": "2023-11-01T23:01:25.055797Z",
     "iopub.status.idle": "2023-11-01T23:01:25.543734Z",
     "shell.execute_reply": "2023-11-01T23:01:25.543212Z",
     "shell.execute_reply.started": "2023-11-01T23:01:25.055934Z"
    },
    "tags": []
   },
   "outputs": [],
   "source": [
    "import numpy as np\n",
    "from lsst.daf.butler import Butler"
   ]
  },
  {
   "cell_type": "markdown",
   "metadata": {},
   "source": [
    "We have processed `rc2_subset` (a small set of HSC data) two times. In the first, we changed lines 44-52 in `meas_base` [in _id_generator.py here](https://github.com/lsst/meas_base/blob/1bfaca56951770c88f4308da41de16d72ce40db9/python/lsst/meas/base/_id_generator.py#L44-L52) to read:\n",
    "\n",
    "```\n",
    "DEFAULT_RELEASE_ID = 8\n",
    "\"\"\"Default release ID to embed in catalog IDs.\n",
    "\n",
    "This can be changed globally to avoid having to override individual task\n",
    "configs to set the release ID.\n",
    "\"\"\"\n",
    "\n",
    "DEFAULT_N_RELEASES = 10  # 1 means don't reserve space for releases.\n",
    "\"\"\"Default number of releases to reserve space for in catalog IDs.\"\"\"\n",
    "```\n",
    "\n",
    "For the second, we set `DEFAULT_RELEASE_ID = 9`. This should ensure that the two processing runs will not share any IDs in common."
   ]
  },
  {
   "cell_type": "code",
   "execution_count": 3,
   "metadata": {
    "execution": {
     "iopub.execute_input": "2023-11-01T23:01:25.544535Z",
     "iopub.status.busy": "2023-11-01T23:01:25.544402Z",
     "iopub.status.idle": "2023-11-01T23:01:25.546736Z",
     "shell.execute_reply": "2023-11-01T23:01:25.546339Z",
     "shell.execute_reply.started": "2023-11-01T23:01:25.544521Z"
    },
    "tags": []
   },
   "outputs": [],
   "source": [
    "repo = '/repo/main'\n",
    "rc2_subset_collection_id8 = 'u/jcarlin/lvv-t97_8'\n",
    "rc2_subset_collection_id9 = 'u/jcarlin/lvv-t97_9'"
   ]
  },
  {
   "cell_type": "markdown",
   "metadata": {},
   "source": [
    "Initialize two butler repositories pointing to the collections for the two runs:"
   ]
  },
  {
   "cell_type": "code",
   "execution_count": 4,
   "metadata": {
    "execution": {
     "iopub.execute_input": "2023-11-01T23:01:25.547542Z",
     "iopub.status.busy": "2023-11-01T23:01:25.547210Z",
     "iopub.status.idle": "2023-11-01T23:01:37.693874Z",
     "shell.execute_reply": "2023-11-01T23:01:37.693433Z",
     "shell.execute_reply.started": "2023-11-01T23:01:25.547528Z"
    },
    "tags": []
   },
   "outputs": [],
   "source": [
    "# Initialize the butler repo:\n",
    "butler8 = Butler(repo, collections=rc2_subset_collection_id8)\n",
    "butler9 = Butler(repo, collections=rc2_subset_collection_id9)"
   ]
  },
  {
   "cell_type": "markdown",
   "metadata": {},
   "source": [
    "### Extract sourceTables from multiple processing runs and compare their IDs:\n",
    "\n",
    "We select a random single visit for comparison."
   ]
  },
  {
   "cell_type": "code",
   "execution_count": 5,
   "metadata": {
    "execution": {
     "iopub.execute_input": "2023-11-01T23:01:37.694548Z",
     "iopub.status.busy": "2023-11-01T23:01:37.694427Z",
     "iopub.status.idle": "2023-11-01T23:01:37.696900Z",
     "shell.execute_reply": "2023-11-01T23:01:37.696533Z",
     "shell.execute_reply.started": "2023-11-01T23:01:37.694535Z"
    },
    "tags": []
   },
   "outputs": [],
   "source": [
    "visit = 30490\n",
    "\n",
    "dataid_visit = {'visit':visit, 'instrument':'HSC'}"
   ]
  },
  {
   "cell_type": "code",
   "execution_count": 6,
   "metadata": {
    "execution": {
     "iopub.execute_input": "2023-11-01T23:01:37.697481Z",
     "iopub.status.busy": "2023-11-01T23:01:37.697360Z",
     "iopub.status.idle": "2023-11-01T23:01:38.080953Z",
     "shell.execute_reply": "2023-11-01T23:01:38.080501Z",
     "shell.execute_reply.started": "2023-11-01T23:01:37.697469Z"
    },
    "tags": []
   },
   "outputs": [
    {
     "name": "stdout",
     "output_type": "stream",
     "text": [
      "4612504483635658753 5188965235939082241\n",
      "4612504483635658754 5188965235939082242\n",
      "4612504483635658755 5188965235939082243\n",
      "4612504483635658756 5188965235939082244\n",
      "4612504483635658757 5188965235939082245\n",
      "4612504483635658758 5188965235939082246\n",
      "4612504483635658759 5188965235939082247\n",
      "4612504483635658760 5188965235939082248\n",
      "4612504483635658761 5188965235939082249\n",
      "4612504483635658762 5188965235939082250\n"
     ]
    }
   ],
   "source": [
    "src_8 = butler8.get('sourceTable_visit', dataId=dataid_visit)\n",
    "src_9 = butler9.get('sourceTable_visit', dataId=dataid_visit)\n",
    "\n",
    "# Print the first few IDs to the screen:\n",
    "for i in range(10):\n",
    "    print(src_8.index[i], src_9.index[i])"
   ]
  },
  {
   "cell_type": "markdown",
   "metadata": {},
   "source": [
    "Source IDs are the table indices (labeled \"sourceId\" above). We will extract those indices, and then compare them to check whether they share any elements in common."
   ]
  },
  {
   "cell_type": "code",
   "execution_count": 7,
   "metadata": {
    "execution": {
     "iopub.execute_input": "2023-11-01T23:01:38.081925Z",
     "iopub.status.busy": "2023-11-01T23:01:38.081530Z",
     "iopub.status.idle": "2023-11-01T23:01:38.084082Z",
     "shell.execute_reply": "2023-11-01T23:01:38.083687Z",
     "shell.execute_reply.started": "2023-11-01T23:01:38.081911Z"
    },
    "tags": []
   },
   "outputs": [],
   "source": [
    "ind_src8 = src_8.index\n",
    "ind_src9 = src_9.index"
   ]
  },
  {
   "cell_type": "markdown",
   "metadata": {},
   "source": [
    "Use the method `.isin` to check whether any elements of `ind_src8` are also in `ind_src9`. The result of this comparison is a boolean array, so by using the `numpy.sum` method, we can count how many elements of this array are True."
   ]
  },
  {
   "cell_type": "code",
   "execution_count": 8,
   "metadata": {
    "execution": {
     "iopub.execute_input": "2023-11-01T23:01:38.084630Z",
     "iopub.status.busy": "2023-11-01T23:01:38.084517Z",
     "iopub.status.idle": "2023-11-01T23:01:38.091554Z",
     "shell.execute_reply": "2023-11-01T23:01:38.091073Z",
     "shell.execute_reply.started": "2023-11-01T23:01:38.084618Z"
    },
    "tags": []
   },
   "outputs": [
    {
     "data": {
      "text/plain": [
       "0"
      ]
     },
     "execution_count": 8,
     "metadata": {},
     "output_type": "execute_result"
    }
   ],
   "source": [
    "np.sum(ind_src8.isin(ind_src9))"
   ]
  },
  {
   "cell_type": "markdown",
   "metadata": {},
   "source": [
    "The zero implies that there are no elements of `ind_src8` that are also in `ind_src9`, so we have demonstrated that the sourceIds from the two processing campaigns are unique."
   ]
  },
  {
   "cell_type": "markdown",
   "metadata": {},
   "source": [
    "### Extract objectTables from multiple processing runs and compare their IDs:\n",
    "\n",
    "We select a random single patch for comparison. (Note that `rc2_subset` only contains data in tract 9813.)"
   ]
  },
  {
   "cell_type": "code",
   "execution_count": 9,
   "metadata": {
    "execution": {
     "iopub.execute_input": "2023-11-01T23:01:38.092154Z",
     "iopub.status.busy": "2023-11-01T23:01:38.092037Z",
     "iopub.status.idle": "2023-11-01T23:01:38.094533Z",
     "shell.execute_reply": "2023-11-01T23:01:38.094128Z",
     "shell.execute_reply.started": "2023-11-01T23:01:38.092144Z"
    },
    "tags": []
   },
   "outputs": [],
   "source": [
    "tract = 9813\n",
    "patch = 40\n",
    "\n",
    "dataid_tract = {'tract':tract, 'patch':patch, 'skymap':'hsc_rings_v1', 'instrument':'HSC'}"
   ]
  },
  {
   "cell_type": "code",
   "execution_count": 10,
   "metadata": {
    "execution": {
     "iopub.execute_input": "2023-11-01T23:01:38.095187Z",
     "iopub.status.busy": "2023-11-01T23:01:38.095073Z",
     "iopub.status.idle": "2023-11-01T23:01:38.597779Z",
     "shell.execute_reply": "2023-11-01T23:01:38.597456Z",
     "shell.execute_reply.started": "2023-11-01T23:01:38.095176Z"
    },
    "tags": []
   },
   "outputs": [
    {
     "data": {
      "text/html": [
       "<div>\n",
       "<style scoped>\n",
       "    .dataframe tbody tr th:only-of-type {\n",
       "        vertical-align: middle;\n",
       "    }\n",
       "\n",
       "    .dataframe tbody tr th {\n",
       "        vertical-align: top;\n",
       "    }\n",
       "\n",
       "    .dataframe thead th {\n",
       "        text-align: right;\n",
       "    }\n",
       "</style>\n",
       "<table border=\"1\" class=\"dataframe\">\n",
       "  <thead>\n",
       "    <tr style=\"text-align: right;\">\n",
       "      <th>column</th>\n",
       "      <th>coord_dec</th>\n",
       "      <th>refBand</th>\n",
       "      <th>x</th>\n",
       "      <th>detect_isPatchInner</th>\n",
       "      <th>shape_xy</th>\n",
       "      <th>coord_ra</th>\n",
       "      <th>shape_yy</th>\n",
       "      <th>detect_isDeblendedSource</th>\n",
       "      <th>deblend_nChild</th>\n",
       "      <th>sky_object</th>\n",
       "      <th>...</th>\n",
       "      <th>z_kronFlux_flag</th>\n",
       "      <th>z_kronFlux_flag_bad_radius</th>\n",
       "      <th>z_kronFlux_flag_bad_shape</th>\n",
       "      <th>z_kronFlux_flag_bad_shape_no_psf</th>\n",
       "      <th>z_kronFlux_flag_edge</th>\n",
       "      <th>z_kronFlux_flag_no_fallback_radius</th>\n",
       "      <th>z_kronFlux_flag_no_minimum_radius</th>\n",
       "      <th>z_kronFlux_flag_small_radius</th>\n",
       "      <th>z_kronFlux_flag_used_minimum_radius</th>\n",
       "      <th>z_kronFlux_flag_used_psf_radius</th>\n",
       "    </tr>\n",
       "    <tr>\n",
       "      <th>objectId</th>\n",
       "      <th></th>\n",
       "      <th></th>\n",
       "      <th></th>\n",
       "      <th></th>\n",
       "      <th></th>\n",
       "      <th></th>\n",
       "      <th></th>\n",
       "      <th></th>\n",
       "      <th></th>\n",
       "      <th></th>\n",
       "      <th></th>\n",
       "      <th></th>\n",
       "      <th></th>\n",
       "      <th></th>\n",
       "      <th></th>\n",
       "      <th></th>\n",
       "      <th></th>\n",
       "      <th></th>\n",
       "      <th></th>\n",
       "      <th></th>\n",
       "      <th></th>\n",
       "    </tr>\n",
       "  </thead>\n",
       "  <tbody>\n",
       "    <tr>\n",
       "      <th>5406645294815248385</th>\n",
       "      <td>2.133690</td>\n",
       "      <td>i</td>\n",
       "      <td>15963.325496</td>\n",
       "      <td>False</td>\n",
       "      <td>1.939241</td>\n",
       "      <td>150.342998</td>\n",
       "      <td>4.838945</td>\n",
       "      <td>True</td>\n",
       "      <td>1</td>\n",
       "      <td>False</td>\n",
       "      <td>...</td>\n",
       "      <td>True</td>\n",
       "      <td>False</td>\n",
       "      <td>True</td>\n",
       "      <td>False</td>\n",
       "      <td>True</td>\n",
       "      <td>False</td>\n",
       "      <td>False</td>\n",
       "      <td>False</td>\n",
       "      <td>False</td>\n",
       "      <td>False</td>\n",
       "    </tr>\n",
       "    <tr>\n",
       "      <th>5406645294815248386</th>\n",
       "      <td>2.133776</td>\n",
       "      <td>i</td>\n",
       "      <td>16150.000000</td>\n",
       "      <td>False</td>\n",
       "      <td>-0.361829</td>\n",
       "      <td>150.334280</td>\n",
       "      <td>2.787343</td>\n",
       "      <td>True</td>\n",
       "      <td>1</td>\n",
       "      <td>False</td>\n",
       "      <td>...</td>\n",
       "      <td>True</td>\n",
       "      <td>False</td>\n",
       "      <td>True</td>\n",
       "      <td>False</td>\n",
       "      <td>False</td>\n",
       "      <td>False</td>\n",
       "      <td>False</td>\n",
       "      <td>False</td>\n",
       "      <td>False</td>\n",
       "      <td>False</td>\n",
       "    </tr>\n",
       "    <tr>\n",
       "      <th>5406645294815248387</th>\n",
       "      <td>2.134882</td>\n",
       "      <td>i</td>\n",
       "      <td>16367.552413</td>\n",
       "      <td>False</td>\n",
       "      <td>-0.393917</td>\n",
       "      <td>150.324121</td>\n",
       "      <td>3.554593</td>\n",
       "      <td>False</td>\n",
       "      <td>3</td>\n",
       "      <td>False</td>\n",
       "      <td>...</td>\n",
       "      <td>False</td>\n",
       "      <td>False</td>\n",
       "      <td>False</td>\n",
       "      <td>False</td>\n",
       "      <td>False</td>\n",
       "      <td>False</td>\n",
       "      <td>False</td>\n",
       "      <td>False</td>\n",
       "      <td>False</td>\n",
       "      <td>False</td>\n",
       "    </tr>\n",
       "    <tr>\n",
       "      <th>5406645294815248388</th>\n",
       "      <td>2.133683</td>\n",
       "      <td>i</td>\n",
       "      <td>16395.000000</td>\n",
       "      <td>False</td>\n",
       "      <td>-0.030194</td>\n",
       "      <td>150.322839</td>\n",
       "      <td>1.616722</td>\n",
       "      <td>True</td>\n",
       "      <td>1</td>\n",
       "      <td>False</td>\n",
       "      <td>...</td>\n",
       "      <td>True</td>\n",
       "      <td>False</td>\n",
       "      <td>True</td>\n",
       "      <td>False</td>\n",
       "      <td>True</td>\n",
       "      <td>False</td>\n",
       "      <td>False</td>\n",
       "      <td>False</td>\n",
       "      <td>False</td>\n",
       "      <td>False</td>\n",
       "    </tr>\n",
       "    <tr>\n",
       "      <th>5406645294815248389</th>\n",
       "      <td>2.133923</td>\n",
       "      <td>i</td>\n",
       "      <td>16707.893795</td>\n",
       "      <td>False</td>\n",
       "      <td>0.386806</td>\n",
       "      <td>150.308227</td>\n",
       "      <td>7.236080</td>\n",
       "      <td>False</td>\n",
       "      <td>6</td>\n",
       "      <td>False</td>\n",
       "      <td>...</td>\n",
       "      <td>True</td>\n",
       "      <td>False</td>\n",
       "      <td>True</td>\n",
       "      <td>False</td>\n",
       "      <td>False</td>\n",
       "      <td>False</td>\n",
       "      <td>False</td>\n",
       "      <td>False</td>\n",
       "      <td>False</td>\n",
       "      <td>False</td>\n",
       "    </tr>\n",
       "    <tr>\n",
       "      <th>...</th>\n",
       "      <td>...</td>\n",
       "      <td>...</td>\n",
       "      <td>...</td>\n",
       "      <td>...</td>\n",
       "      <td>...</td>\n",
       "      <td>...</td>\n",
       "      <td>...</td>\n",
       "      <td>...</td>\n",
       "      <td>...</td>\n",
       "      <td>...</td>\n",
       "      <td>...</td>\n",
       "      <td>...</td>\n",
       "      <td>...</td>\n",
       "      <td>...</td>\n",
       "      <td>...</td>\n",
       "      <td>...</td>\n",
       "      <td>...</td>\n",
       "      <td>...</td>\n",
       "      <td>...</td>\n",
       "      <td>...</td>\n",
       "      <td>...</td>\n",
       "    </tr>\n",
       "    <tr>\n",
       "      <th>5406645294815297873</th>\n",
       "      <td>2.321529</td>\n",
       "      <td>g</td>\n",
       "      <td>19987.829656</td>\n",
       "      <td>True</td>\n",
       "      <td>NaN</td>\n",
       "      <td>150.155046</td>\n",
       "      <td>NaN</td>\n",
       "      <td>False</td>\n",
       "      <td>0</td>\n",
       "      <td>False</td>\n",
       "      <td>...</td>\n",
       "      <td>True</td>\n",
       "      <td>False</td>\n",
       "      <td>True</td>\n",
       "      <td>False</td>\n",
       "      <td>False</td>\n",
       "      <td>False</td>\n",
       "      <td>False</td>\n",
       "      <td>False</td>\n",
       "      <td>False</td>\n",
       "      <td>False</td>\n",
       "    </tr>\n",
       "    <tr>\n",
       "      <th>5406645294815297874</th>\n",
       "      <td>2.324527</td>\n",
       "      <td>g</td>\n",
       "      <td>19779.226432</td>\n",
       "      <td>True</td>\n",
       "      <td>NaN</td>\n",
       "      <td>150.164788</td>\n",
       "      <td>NaN</td>\n",
       "      <td>False</td>\n",
       "      <td>0</td>\n",
       "      <td>False</td>\n",
       "      <td>...</td>\n",
       "      <td>True</td>\n",
       "      <td>False</td>\n",
       "      <td>True</td>\n",
       "      <td>False</td>\n",
       "      <td>False</td>\n",
       "      <td>False</td>\n",
       "      <td>False</td>\n",
       "      <td>False</td>\n",
       "      <td>False</td>\n",
       "      <td>False</td>\n",
       "    </tr>\n",
       "    <tr>\n",
       "      <th>5406645294815297875</th>\n",
       "      <td>2.324735</td>\n",
       "      <td>g</td>\n",
       "      <td>19979.000000</td>\n",
       "      <td>False</td>\n",
       "      <td>-3.420993</td>\n",
       "      <td>150.155458</td>\n",
       "      <td>2.915249</td>\n",
       "      <td>False</td>\n",
       "      <td>0</td>\n",
       "      <td>False</td>\n",
       "      <td>...</td>\n",
       "      <td>True</td>\n",
       "      <td>False</td>\n",
       "      <td>True</td>\n",
       "      <td>False</td>\n",
       "      <td>False</td>\n",
       "      <td>False</td>\n",
       "      <td>False</td>\n",
       "      <td>False</td>\n",
       "      <td>False</td>\n",
       "      <td>False</td>\n",
       "    </tr>\n",
       "    <tr>\n",
       "      <th>5406645294815297876</th>\n",
       "      <td>2.325499</td>\n",
       "      <td>g</td>\n",
       "      <td>19744.705969</td>\n",
       "      <td>False</td>\n",
       "      <td>0.245101</td>\n",
       "      <td>150.166401</td>\n",
       "      <td>0.687463</td>\n",
       "      <td>False</td>\n",
       "      <td>0</td>\n",
       "      <td>False</td>\n",
       "      <td>...</td>\n",
       "      <td>True</td>\n",
       "      <td>False</td>\n",
       "      <td>True</td>\n",
       "      <td>False</td>\n",
       "      <td>False</td>\n",
       "      <td>False</td>\n",
       "      <td>False</td>\n",
       "      <td>False</td>\n",
       "      <td>False</td>\n",
       "      <td>False</td>\n",
       "    </tr>\n",
       "    <tr>\n",
       "      <th>5406645294815297877</th>\n",
       "      <td>2.327415</td>\n",
       "      <td>g</td>\n",
       "      <td>19845.468949</td>\n",
       "      <td>False</td>\n",
       "      <td>NaN</td>\n",
       "      <td>150.161694</td>\n",
       "      <td>NaN</td>\n",
       "      <td>False</td>\n",
       "      <td>0</td>\n",
       "      <td>False</td>\n",
       "      <td>...</td>\n",
       "      <td>True</td>\n",
       "      <td>False</td>\n",
       "      <td>True</td>\n",
       "      <td>False</td>\n",
       "      <td>False</td>\n",
       "      <td>False</td>\n",
       "      <td>False</td>\n",
       "      <td>False</td>\n",
       "      <td>False</td>\n",
       "      <td>False</td>\n",
       "    </tr>\n",
       "  </tbody>\n",
       "</table>\n",
       "<p>34812 rows × 844 columns</p>\n",
       "</div>"
      ],
      "text/plain": [
       "column               coord_dec refBand             x  detect_isPatchInner  \\\n",
       "objectId                                                                    \n",
       "5406645294815248385   2.133690       i  15963.325496                False   \n",
       "5406645294815248386   2.133776       i  16150.000000                False   \n",
       "5406645294815248387   2.134882       i  16367.552413                False   \n",
       "5406645294815248388   2.133683       i  16395.000000                False   \n",
       "5406645294815248389   2.133923       i  16707.893795                False   \n",
       "...                        ...     ...           ...                  ...   \n",
       "5406645294815297873   2.321529       g  19987.829656                 True   \n",
       "5406645294815297874   2.324527       g  19779.226432                 True   \n",
       "5406645294815297875   2.324735       g  19979.000000                False   \n",
       "5406645294815297876   2.325499       g  19744.705969                False   \n",
       "5406645294815297877   2.327415       g  19845.468949                False   \n",
       "\n",
       "column               shape_xy    coord_ra  shape_yy  detect_isDeblendedSource  \\\n",
       "objectId                                                                        \n",
       "5406645294815248385  1.939241  150.342998  4.838945                      True   \n",
       "5406645294815248386 -0.361829  150.334280  2.787343                      True   \n",
       "5406645294815248387 -0.393917  150.324121  3.554593                     False   \n",
       "5406645294815248388 -0.030194  150.322839  1.616722                      True   \n",
       "5406645294815248389  0.386806  150.308227  7.236080                     False   \n",
       "...                       ...         ...       ...                       ...   \n",
       "5406645294815297873       NaN  150.155046       NaN                     False   \n",
       "5406645294815297874       NaN  150.164788       NaN                     False   \n",
       "5406645294815297875 -3.420993  150.155458  2.915249                     False   \n",
       "5406645294815297876  0.245101  150.166401  0.687463                     False   \n",
       "5406645294815297877       NaN  150.161694       NaN                     False   \n",
       "\n",
       "column               deblend_nChild  sky_object  ...  z_kronFlux_flag  \\\n",
       "objectId                                         ...                    \n",
       "5406645294815248385               1       False  ...             True   \n",
       "5406645294815248386               1       False  ...             True   \n",
       "5406645294815248387               3       False  ...            False   \n",
       "5406645294815248388               1       False  ...             True   \n",
       "5406645294815248389               6       False  ...             True   \n",
       "...                             ...         ...  ...              ...   \n",
       "5406645294815297873               0       False  ...             True   \n",
       "5406645294815297874               0       False  ...             True   \n",
       "5406645294815297875               0       False  ...             True   \n",
       "5406645294815297876               0       False  ...             True   \n",
       "5406645294815297877               0       False  ...             True   \n",
       "\n",
       "column               z_kronFlux_flag_bad_radius  z_kronFlux_flag_bad_shape  \\\n",
       "objectId                                                                     \n",
       "5406645294815248385                       False                       True   \n",
       "5406645294815248386                       False                       True   \n",
       "5406645294815248387                       False                      False   \n",
       "5406645294815248388                       False                       True   \n",
       "5406645294815248389                       False                       True   \n",
       "...                                         ...                        ...   \n",
       "5406645294815297873                       False                       True   \n",
       "5406645294815297874                       False                       True   \n",
       "5406645294815297875                       False                       True   \n",
       "5406645294815297876                       False                       True   \n",
       "5406645294815297877                       False                       True   \n",
       "\n",
       "column               z_kronFlux_flag_bad_shape_no_psf  z_kronFlux_flag_edge  \\\n",
       "objectId                                                                      \n",
       "5406645294815248385                             False                  True   \n",
       "5406645294815248386                             False                 False   \n",
       "5406645294815248387                             False                 False   \n",
       "5406645294815248388                             False                  True   \n",
       "5406645294815248389                             False                 False   \n",
       "...                                               ...                   ...   \n",
       "5406645294815297873                             False                 False   \n",
       "5406645294815297874                             False                 False   \n",
       "5406645294815297875                             False                 False   \n",
       "5406645294815297876                             False                 False   \n",
       "5406645294815297877                             False                 False   \n",
       "\n",
       "column               z_kronFlux_flag_no_fallback_radius  \\\n",
       "objectId                                                  \n",
       "5406645294815248385                               False   \n",
       "5406645294815248386                               False   \n",
       "5406645294815248387                               False   \n",
       "5406645294815248388                               False   \n",
       "5406645294815248389                               False   \n",
       "...                                                 ...   \n",
       "5406645294815297873                               False   \n",
       "5406645294815297874                               False   \n",
       "5406645294815297875                               False   \n",
       "5406645294815297876                               False   \n",
       "5406645294815297877                               False   \n",
       "\n",
       "column               z_kronFlux_flag_no_minimum_radius  \\\n",
       "objectId                                                 \n",
       "5406645294815248385                              False   \n",
       "5406645294815248386                              False   \n",
       "5406645294815248387                              False   \n",
       "5406645294815248388                              False   \n",
       "5406645294815248389                              False   \n",
       "...                                                ...   \n",
       "5406645294815297873                              False   \n",
       "5406645294815297874                              False   \n",
       "5406645294815297875                              False   \n",
       "5406645294815297876                              False   \n",
       "5406645294815297877                              False   \n",
       "\n",
       "column               z_kronFlux_flag_small_radius  \\\n",
       "objectId                                            \n",
       "5406645294815248385                         False   \n",
       "5406645294815248386                         False   \n",
       "5406645294815248387                         False   \n",
       "5406645294815248388                         False   \n",
       "5406645294815248389                         False   \n",
       "...                                           ...   \n",
       "5406645294815297873                         False   \n",
       "5406645294815297874                         False   \n",
       "5406645294815297875                         False   \n",
       "5406645294815297876                         False   \n",
       "5406645294815297877                         False   \n",
       "\n",
       "column               z_kronFlux_flag_used_minimum_radius  \\\n",
       "objectId                                                   \n",
       "5406645294815248385                                False   \n",
       "5406645294815248386                                False   \n",
       "5406645294815248387                                False   \n",
       "5406645294815248388                                False   \n",
       "5406645294815248389                                False   \n",
       "...                                                  ...   \n",
       "5406645294815297873                                False   \n",
       "5406645294815297874                                False   \n",
       "5406645294815297875                                False   \n",
       "5406645294815297876                                False   \n",
       "5406645294815297877                                False   \n",
       "\n",
       "column               z_kronFlux_flag_used_psf_radius  \n",
       "objectId                                              \n",
       "5406645294815248385                            False  \n",
       "5406645294815248386                            False  \n",
       "5406645294815248387                            False  \n",
       "5406645294815248388                            False  \n",
       "5406645294815248389                            False  \n",
       "...                                              ...  \n",
       "5406645294815297873                            False  \n",
       "5406645294815297874                            False  \n",
       "5406645294815297875                            False  \n",
       "5406645294815297876                            False  \n",
       "5406645294815297877                            False  \n",
       "\n",
       "[34812 rows x 844 columns]"
      ]
     },
     "execution_count": 10,
     "metadata": {},
     "output_type": "execute_result"
    }
   ],
   "source": [
    "obj_8 = butler8.get('objectTable', dataId=dataid_tract)\n",
    "obj_9 = butler9.get('objectTable', dataId=dataid_tract)\n",
    "\n",
    "obj_9"
   ]
  },
  {
   "cell_type": "code",
   "execution_count": 11,
   "metadata": {
    "execution": {
     "iopub.execute_input": "2023-11-01T23:01:38.598390Z",
     "iopub.status.busy": "2023-11-01T23:01:38.598264Z",
     "iopub.status.idle": "2023-11-01T23:01:38.600751Z",
     "shell.execute_reply": "2023-11-01T23:01:38.600435Z",
     "shell.execute_reply.started": "2023-11-01T23:01:38.598378Z"
    },
    "tags": []
   },
   "outputs": [
    {
     "name": "stdout",
     "output_type": "stream",
     "text": [
      "33981 34812\n"
     ]
    }
   ],
   "source": [
    "print(len(obj_8), len(obj_9))"
   ]
  },
  {
   "cell_type": "markdown",
   "metadata": {
    "tags": []
   },
   "source": [
    "Object IDs are the table indices (labeled \"objectId\" above). We will extract those indices, and then compare them to check whether they share any elements in common."
   ]
  },
  {
   "cell_type": "code",
   "execution_count": 12,
   "metadata": {
    "execution": {
     "iopub.execute_input": "2023-11-01T23:01:38.601258Z",
     "iopub.status.busy": "2023-11-01T23:01:38.601140Z",
     "iopub.status.idle": "2023-11-01T23:01:38.604687Z",
     "shell.execute_reply": "2023-11-01T23:01:38.604336Z",
     "shell.execute_reply.started": "2023-11-01T23:01:38.601247Z"
    },
    "tags": []
   },
   "outputs": [],
   "source": [
    "ind_obj8 = obj_8.index\n",
    "ind_obj9 = obj_9.index"
   ]
  },
  {
   "cell_type": "code",
   "execution_count": 13,
   "metadata": {
    "execution": {
     "iopub.execute_input": "2023-11-01T23:01:38.605215Z",
     "iopub.status.busy": "2023-11-01T23:01:38.605106Z",
     "iopub.status.idle": "2023-11-01T23:01:38.610635Z",
     "shell.execute_reply": "2023-11-01T23:01:38.610302Z",
     "shell.execute_reply.started": "2023-11-01T23:01:38.605204Z"
    },
    "tags": []
   },
   "outputs": [
    {
     "data": {
      "text/plain": [
       "0"
      ]
     },
     "execution_count": 13,
     "metadata": {},
     "output_type": "execute_result"
    }
   ],
   "source": [
    "np.sum(ind_obj8.isin(ind_obj9))"
   ]
  },
  {
   "cell_type": "markdown",
   "metadata": {},
   "source": [
    "The zero implies that there are no elements of `ind_obj8` that are also in `ind_obj9`, so we have demonstrated that the objectIds from the two processing campaigns are unique."
   ]
  }
 ],
 "metadata": {
  "kernelspec": {
   "display_name": "LSST",
   "language": "python",
   "name": "lsst"
  },
  "language_info": {
   "codemirror_mode": {
    "name": "ipython",
    "version": 3
   },
   "file_extension": ".py",
   "mimetype": "text/x-python",
   "name": "python",
   "nbconvert_exporter": "python",
   "pygments_lexer": "ipython3",
   "version": "3.11.4"
  }
 },
 "nbformat": 4,
 "nbformat_minor": 4
}
