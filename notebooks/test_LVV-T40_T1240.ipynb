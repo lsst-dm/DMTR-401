{
 "cells": [
  {
   "cell_type": "markdown",
   "metadata": {},
   "source": [
    "# Test notebook for Fall 2023 DM Acceptance Test Campaign\n",
    "\n",
    "This test will be executed on the LSST Science Platform Notebook Aspect, initialized with Science Pipelines release `w_2023_37`."
   ]
  },
  {
   "cell_type": "markdown",
   "metadata": {},
   "source": [
    "### Test case LVV-T40: Verify implementation of Generate WCS for Visit Images\n",
    "Verify that Processed Visit Images produced by the AP and DRP pipelines include FITS WCS accurate to specified **astrometricAccuracy** over the bounds of the image.\n",
    "\n",
    "### Test case LVV-T1240: Verify implementation of minimum astrometric standards per CCD\n",
    "Verify that each CCD in a processed dataset had its astrometric solution determined by at least **astrometricMinStandards = 5** astrometric standards."
   ]
  },
  {
   "cell_type": "markdown",
   "metadata": {},
   "source": [
    "#### Discussion:\n",
    "For this test we interpret the requirement to mean that the _absolute_ astrometry (as compared to an external reference source of \"truth\" such as Gaia DR3) should meet the specified accuracy. Thus the verification will be done by comparing to Gaia DR3 (note, however, that the HSC-RC2 data were astrometrically and photometrically calibrated to PanSTARRS-1)."
   ]
  },
  {
   "cell_type": "code",
   "execution_count": 1,
   "metadata": {
    "execution": {
     "iopub.execute_input": "2023-10-20T01:50:35.300215Z",
     "iopub.status.busy": "2023-10-20T01:50:35.299993Z",
     "iopub.status.idle": "2023-10-20T01:50:35.855255Z",
     "shell.execute_reply": "2023-10-20T01:50:35.854663Z",
     "shell.execute_reply.started": "2023-10-20T01:50:35.300201Z"
    },
    "tags": []
   },
   "outputs": [
    {
     "name": "stdout",
     "output_type": "stream",
     "text": [
      "jcarlin-nb\n",
      "lsst_distrib          g4213664e8e+da93b84f60 \tcurrent w_2023_37 setup\n"
     ]
    }
   ],
   "source": [
    "# Confirm that the version of the Science Pipelines is recent:\n",
    "! echo $HOSTNAME\n",
    "! eups list -s | grep lsst_distrib"
   ]
  },
  {
   "cell_type": "code",
   "execution_count": 2,
   "metadata": {
    "execution": {
     "iopub.execute_input": "2023-10-20T01:50:35.856127Z",
     "iopub.status.busy": "2023-10-20T01:50:35.855987Z",
     "iopub.status.idle": "2023-10-20T01:50:36.356585Z",
     "shell.execute_reply": "2023-10-20T01:50:36.356113Z",
     "shell.execute_reply.started": "2023-10-20T01:50:35.856112Z"
    },
    "tags": []
   },
   "outputs": [],
   "source": [
    "from lsst.daf.butler import Butler\n",
    "import lsst.geom as geom"
   ]
  },
  {
   "cell_type": "code",
   "execution_count": 3,
   "metadata": {
    "execution": {
     "iopub.execute_input": "2023-10-20T01:50:36.357295Z",
     "iopub.status.busy": "2023-10-20T01:50:36.357161Z",
     "iopub.status.idle": "2023-10-20T01:50:36.964584Z",
     "shell.execute_reply": "2023-10-20T01:50:36.964147Z",
     "shell.execute_reply.started": "2023-10-20T01:50:36.357282Z"
    },
    "tags": []
   },
   "outputs": [],
   "source": [
    "import os\n",
    "import gc\n",
    "import glob\n",
    "import numpy as np\n",
    "import pandas as pd\n",
    "import random\n",
    "\n",
    "import astropy.units as u\n",
    "from astropy.coordinates import SkyCoord\n",
    "from astroquery.gaia import Gaia\n",
    "Gaia.MAIN_GAIA_TABLE = \"gaiadr3.gaia_source\"  # Reselect Data Release 3, default\n",
    "Gaia.ROW_LIMIT = 100000\n",
    "from astropy.visualization import (MinMaxInterval, AsinhStretch, ZScaleInterval, LogStretch, LinearStretch,\n",
    "                                   ImageNormalize)"
   ]
  },
  {
   "cell_type": "code",
   "execution_count": 4,
   "metadata": {
    "execution": {
     "iopub.execute_input": "2023-10-20T01:50:36.965485Z",
     "iopub.status.busy": "2023-10-20T01:50:36.965172Z",
     "iopub.status.idle": "2023-10-20T01:50:36.973830Z",
     "shell.execute_reply": "2023-10-20T01:50:36.973504Z",
     "shell.execute_reply.started": "2023-10-20T01:50:36.965471Z"
    },
    "tags": []
   },
   "outputs": [],
   "source": [
    "# Set plotting defaults\n",
    "%matplotlib inline\n",
    "import matplotlib.pyplot as plt\n",
    "zscale = ZScaleInterval()\n",
    "\n",
    "# Set up some plotting defaults:\n",
    "plt.rcParams.update({'figure.figsize' : (12, 8)})\n",
    "plt.rcParams.update({'font.size' : 24})\n",
    "plt.rcParams.update({'axes.linewidth' : 3})\n",
    "plt.rcParams.update({'axes.labelweight' : 3})\n",
    "plt.rcParams.update({'axes.titleweight' : 5})\n",
    "plt.rcParams.update({'ytick.major.width' : 3})\n",
    "plt.rcParams.update({'ytick.minor.width' : 2})\n",
    "plt.rcParams.update({'ytick.major.size' : 8})\n",
    "plt.rcParams.update({'ytick.minor.size' : 5})\n",
    "plt.rcParams.update({'xtick.major.size' : 8})\n",
    "plt.rcParams.update({'xtick.minor.size' : 5})\n",
    "plt.rcParams.update({'xtick.major.width' : 3})\n",
    "plt.rcParams.update({'xtick.minor.width' : 2})\n",
    "plt.rcParams.update({'xtick.direction' : 'in'})\n",
    "plt.rcParams.update({'ytick.direction' : 'in'})"
   ]
  },
  {
   "cell_type": "markdown",
   "metadata": {},
   "source": [
    "We will use HSC-RC2, as processed using `w_2023_32`, which is the most recent reprocessing of RC2 data."
   ]
  },
  {
   "cell_type": "code",
   "execution_count": 5,
   "metadata": {
    "execution": {
     "iopub.execute_input": "2023-10-20T01:50:36.974441Z",
     "iopub.status.busy": "2023-10-20T01:50:36.974315Z",
     "iopub.status.idle": "2023-10-20T01:50:36.976458Z",
     "shell.execute_reply": "2023-10-20T01:50:36.976122Z",
     "shell.execute_reply.started": "2023-10-20T01:50:36.974429Z"
    },
    "tags": []
   },
   "outputs": [],
   "source": [
    "# The output repo is tagged with the Jira ticket number \"DM-40356\":\n",
    "\n",
    "repo = '/repo/main'\n",
    "rc2_collection = 'HSC/runs/RC2/w_2023_32/DM-40356'"
   ]
  },
  {
   "cell_type": "code",
   "execution_count": 6,
   "metadata": {
    "execution": {
     "iopub.execute_input": "2023-10-20T01:50:36.977026Z",
     "iopub.status.busy": "2023-10-20T01:50:36.976906Z",
     "iopub.status.idle": "2023-10-20T01:50:43.056336Z",
     "shell.execute_reply": "2023-10-20T01:50:43.055871Z",
     "shell.execute_reply.started": "2023-10-20T01:50:36.977015Z"
    },
    "tags": []
   },
   "outputs": [],
   "source": [
    "# Initialize the butler repo:\n",
    "butler = Butler(repo, collections=rc2_collection)"
   ]
  },
  {
   "cell_type": "markdown",
   "metadata": {
    "tags": []
   },
   "source": [
    "#### Query for all visits in _grizy_ bands:"
   ]
  },
  {
   "cell_type": "code",
   "execution_count": 7,
   "metadata": {
    "execution": {
     "iopub.execute_input": "2023-10-20T01:50:43.057166Z",
     "iopub.status.busy": "2023-10-20T01:50:43.057020Z",
     "iopub.status.idle": "2023-10-20T01:50:43.502348Z",
     "shell.execute_reply": "2023-10-20T01:50:43.501853Z",
     "shell.execute_reply.started": "2023-10-20T01:50:43.057153Z"
    },
    "tags": []
   },
   "outputs": [],
   "source": [
    "data_ids = []\n",
    "\n",
    "for data_id in butler.registry.queryDataIds(\n",
    "    [\"visit\", \"detector\"],\n",
    "    instrument=\"HSC\",\n",
    "    datasets=\"calexp\",\n",
    "    collections=rc2_collection,\n",
    "    where=\"(band='g' OR band='r' OR band='i' OR band='z' OR band='y') AND skymap='hsc_rings_v1'\"):\n",
    "    data_ids.append(data_id.full)"
   ]
  },
  {
   "cell_type": "markdown",
   "metadata": {},
   "source": [
    "It would take a prohibitively long time to check every CCD from every visit, so we will randomly select a subset to test. For now, the test is using `astroquery` to match to Gaia, but implementing a more direct match to the Gaia database on lsst-dev would likely streamline the process."
   ]
  },
  {
   "cell_type": "code",
   "execution_count": 8,
   "metadata": {
    "collapsed": true,
    "execution": {
     "iopub.execute_input": "2023-10-20T01:50:43.503150Z",
     "iopub.status.busy": "2023-10-20T01:50:43.503008Z",
     "iopub.status.idle": "2023-10-20T02:59:56.658682Z",
     "shell.execute_reply": "2023-10-20T02:59:56.658200Z",
     "shell.execute_reply.started": "2023-10-20T01:50:43.503136Z"
    },
    "jupyter": {
     "outputs_hidden": true
    },
    "tags": []
   },
   "outputs": [
    {
     "name": "stdout",
     "output_type": "stream",
     "text": [
      "INFO: Query finished. [astroquery.utils.tap.core]\n"
     ]
    },
    {
     "data": {
      "text/html": [
       "<pre style=\"margin: 0.1em;\n",
       "padding-left: 0.25em;\n",
       "border-left-style: solid;\n",
       "font-family: var(--jp-code-font-family);\n",
       "font-size: var(--jp-code-font-size);\n",
       "line-height: var(--jp-code-line-height);\n",
       "\"><span style=\"color: var(--jp-warn-color2)\">astroquery</span> <span style=\"color: var(--jp-info-color0)\">INFO</span>: Query finished.</pre>"
      ],
      "text/plain": [
       "<IPython.core.display.HTML object>"
      ]
     },
     "metadata": {},
     "output_type": "display_data"
    },
    {
     "name": "stderr",
     "output_type": "stream",
     "text": [
      "/opt/lsst/software/stack/conda/miniconda3-py38_4.9.2/envs/lsst-scipipe-7.0.1/lib/python3.11/site-packages/numpy/core/fromnumeric.py:784: UserWarning: Warning: 'partition' will ignore the 'mask' of the MaskedColumn.\n",
      "  a.partition(kth, axis=axis, kind=kind, order=order)\n"
     ]
    },
    {
     "name": "stdout",
     "output_type": "stream",
     "text": [
      "INFO: Query finished. [astroquery.utils.tap.core]\n"
     ]
    },
    {
     "data": {
      "text/html": [
       "<pre style=\"margin: 0.1em;\n",
       "padding-left: 0.25em;\n",
       "border-left-style: solid;\n",
       "font-family: var(--jp-code-font-family);\n",
       "font-size: var(--jp-code-font-size);\n",
       "line-height: var(--jp-code-line-height);\n",
       "\"><span style=\"color: var(--jp-warn-color2)\">astroquery</span> <span style=\"color: var(--jp-info-color0)\">INFO</span>: Query finished.</pre>"
      ],
      "text/plain": [
       "<IPython.core.display.HTML object>"
      ]
     },
     "metadata": {},
     "output_type": "display_data"
    },
    {
     "name": "stdout",
     "output_type": "stream",
     "text": [
      "INFO: Query finished. [astroquery.utils.tap.core]\n"
     ]
    },
    {
     "data": {
      "text/html": [
       "<pre style=\"margin: 0.1em;\n",
       "padding-left: 0.25em;\n",
       "border-left-style: solid;\n",
       "font-family: var(--jp-code-font-family);\n",
       "font-size: var(--jp-code-font-size);\n",
       "line-height: var(--jp-code-line-height);\n",
       "\"><span style=\"color: var(--jp-warn-color2)\">astroquery</span> <span style=\"color: var(--jp-info-color0)\">INFO</span>: Query finished.</pre>"
      ],
      "text/plain": [
       "<IPython.core.display.HTML object>"
      ]
     },
     "metadata": {},
     "output_type": "display_data"
    },
    {
     "name": "stdout",
     "output_type": "stream",
     "text": [
      "INFO: Query finished. [astroquery.utils.tap.core]\n"
     ]
    },
    {
     "data": {
      "text/html": [
       "<pre style=\"margin: 0.1em;\n",
       "padding-left: 0.25em;\n",
       "border-left-style: solid;\n",
       "font-family: var(--jp-code-font-family);\n",
       "font-size: var(--jp-code-font-size);\n",
       "line-height: var(--jp-code-line-height);\n",
       "\"><span style=\"color: var(--jp-warn-color2)\">astroquery</span> <span style=\"color: var(--jp-info-color0)\">INFO</span>: Query finished.</pre>"
      ],
      "text/plain": [
       "<IPython.core.display.HTML object>"
      ]
     },
     "metadata": {},
     "output_type": "display_data"
    },
    {
     "name": "stdout",
     "output_type": "stream",
     "text": [
      "INFO: Query finished. [astroquery.utils.tap.core]\n"
     ]
    },
    {
     "data": {
      "text/html": [
       "<pre style=\"margin: 0.1em;\n",
       "padding-left: 0.25em;\n",
       "border-left-style: solid;\n",
       "font-family: var(--jp-code-font-family);\n",
       "font-size: var(--jp-code-font-size);\n",
       "line-height: var(--jp-code-line-height);\n",
       "\"><span style=\"color: var(--jp-warn-color2)\">astroquery</span> <span style=\"color: var(--jp-info-color0)\">INFO</span>: Query finished.</pre>"
      ],
      "text/plain": [
       "<IPython.core.display.HTML object>"
      ]
     },
     "metadata": {},
     "output_type": "display_data"
    },
    {
     "name": "stdout",
     "output_type": "stream",
     "text": [
      "INFO: Query finished. [astroquery.utils.tap.core]\n"
     ]
    },
    {
     "data": {
      "text/html": [
       "<pre style=\"margin: 0.1em;\n",
       "padding-left: 0.25em;\n",
       "border-left-style: solid;\n",
       "font-family: var(--jp-code-font-family);\n",
       "font-size: var(--jp-code-font-size);\n",
       "line-height: var(--jp-code-line-height);\n",
       "\"><span style=\"color: var(--jp-warn-color2)\">astroquery</span> <span style=\"color: var(--jp-info-color0)\">INFO</span>: Query finished.</pre>"
      ],
      "text/plain": [
       "<IPython.core.display.HTML object>"
      ]
     },
     "metadata": {},
     "output_type": "display_data"
    },
    {
     "name": "stdout",
     "output_type": "stream",
     "text": [
      "INFO: Query finished. [astroquery.utils.tap.core]\n"
     ]
    },
    {
     "data": {
      "text/html": [
       "<pre style=\"margin: 0.1em;\n",
       "padding-left: 0.25em;\n",
       "border-left-style: solid;\n",
       "font-family: var(--jp-code-font-family);\n",
       "font-size: var(--jp-code-font-size);\n",
       "line-height: var(--jp-code-line-height);\n",
       "\"><span style=\"color: var(--jp-warn-color2)\">astroquery</span> <span style=\"color: var(--jp-info-color0)\">INFO</span>: Query finished.</pre>"
      ],
      "text/plain": [
       "<IPython.core.display.HTML object>"
      ]
     },
     "metadata": {},
     "output_type": "display_data"
    },
    {
     "name": "stdout",
     "output_type": "stream",
     "text": [
      "INFO: Query finished. [astroquery.utils.tap.core]\n"
     ]
    },
    {
     "data": {
      "text/html": [
       "<pre style=\"margin: 0.1em;\n",
       "padding-left: 0.25em;\n",
       "border-left-style: solid;\n",
       "font-family: var(--jp-code-font-family);\n",
       "font-size: var(--jp-code-font-size);\n",
       "line-height: var(--jp-code-line-height);\n",
       "\"><span style=\"color: var(--jp-warn-color2)\">astroquery</span> <span style=\"color: var(--jp-info-color0)\">INFO</span>: Query finished.</pre>"
      ],
      "text/plain": [
       "<IPython.core.display.HTML object>"
      ]
     },
     "metadata": {},
     "output_type": "display_data"
    },
    {
     "name": "stdout",
     "output_type": "stream",
     "text": [
      "INFO: Query finished. [astroquery.utils.tap.core]\n"
     ]
    },
    {
     "data": {
      "text/html": [
       "<pre style=\"margin: 0.1em;\n",
       "padding-left: 0.25em;\n",
       "border-left-style: solid;\n",
       "font-family: var(--jp-code-font-family);\n",
       "font-size: var(--jp-code-font-size);\n",
       "line-height: var(--jp-code-line-height);\n",
       "\"><span style=\"color: var(--jp-warn-color2)\">astroquery</span> <span style=\"color: var(--jp-info-color0)\">INFO</span>: Query finished.</pre>"
      ],
      "text/plain": [
       "<IPython.core.display.HTML object>"
      ]
     },
     "metadata": {},
     "output_type": "display_data"
    },
    {
     "name": "stdout",
     "output_type": "stream",
     "text": [
      "INFO: Query finished. [astroquery.utils.tap.core]\n"
     ]
    },
    {
     "data": {
      "text/html": [
       "<pre style=\"margin: 0.1em;\n",
       "padding-left: 0.25em;\n",
       "border-left-style: solid;\n",
       "font-family: var(--jp-code-font-family);\n",
       "font-size: var(--jp-code-font-size);\n",
       "line-height: var(--jp-code-line-height);\n",
       "\"><span style=\"color: var(--jp-warn-color2)\">astroquery</span> <span style=\"color: var(--jp-info-color0)\">INFO</span>: Query finished.</pre>"
      ],
      "text/plain": [
       "<IPython.core.display.HTML object>"
      ]
     },
     "metadata": {},
     "output_type": "display_data"
    },
    {
     "name": "stdout",
     "output_type": "stream",
     "text": [
      "INFO: Query finished. [astroquery.utils.tap.core]\n"
     ]
    },
    {
     "data": {
      "text/html": [
       "<pre style=\"margin: 0.1em;\n",
       "padding-left: 0.25em;\n",
       "border-left-style: solid;\n",
       "font-family: var(--jp-code-font-family);\n",
       "font-size: var(--jp-code-font-size);\n",
       "line-height: var(--jp-code-line-height);\n",
       "\"><span style=\"color: var(--jp-warn-color2)\">astroquery</span> <span style=\"color: var(--jp-info-color0)\">INFO</span>: Query finished.</pre>"
      ],
      "text/plain": [
       "<IPython.core.display.HTML object>"
      ]
     },
     "metadata": {},
     "output_type": "display_data"
    },
    {
     "name": "stdout",
     "output_type": "stream",
     "text": [
      "INFO: Query finished. [astroquery.utils.tap.core]\n"
     ]
    },
    {
     "data": {
      "text/html": [
       "<pre style=\"margin: 0.1em;\n",
       "padding-left: 0.25em;\n",
       "border-left-style: solid;\n",
       "font-family: var(--jp-code-font-family);\n",
       "font-size: var(--jp-code-font-size);\n",
       "line-height: var(--jp-code-line-height);\n",
       "\"><span style=\"color: var(--jp-warn-color2)\">astroquery</span> <span style=\"color: var(--jp-info-color0)\">INFO</span>: Query finished.</pre>"
      ],
      "text/plain": [
       "<IPython.core.display.HTML object>"
      ]
     },
     "metadata": {},
     "output_type": "display_data"
    },
    {
     "name": "stdout",
     "output_type": "stream",
     "text": [
      "INFO: Query finished. [astroquery.utils.tap.core]\n"
     ]
    },
    {
     "data": {
      "text/html": [
       "<pre style=\"margin: 0.1em;\n",
       "padding-left: 0.25em;\n",
       "border-left-style: solid;\n",
       "font-family: var(--jp-code-font-family);\n",
       "font-size: var(--jp-code-font-size);\n",
       "line-height: var(--jp-code-line-height);\n",
       "\"><span style=\"color: var(--jp-warn-color2)\">astroquery</span> <span style=\"color: var(--jp-info-color0)\">INFO</span>: Query finished.</pre>"
      ],
      "text/plain": [
       "<IPython.core.display.HTML object>"
      ]
     },
     "metadata": {},
     "output_type": "display_data"
    },
    {
     "name": "stdout",
     "output_type": "stream",
     "text": [
      "INFO: Query finished. [astroquery.utils.tap.core]\n"
     ]
    },
    {
     "data": {
      "text/html": [
       "<pre style=\"margin: 0.1em;\n",
       "padding-left: 0.25em;\n",
       "border-left-style: solid;\n",
       "font-family: var(--jp-code-font-family);\n",
       "font-size: var(--jp-code-font-size);\n",
       "line-height: var(--jp-code-line-height);\n",
       "\"><span style=\"color: var(--jp-warn-color2)\">astroquery</span> <span style=\"color: var(--jp-info-color0)\">INFO</span>: Query finished.</pre>"
      ],
      "text/plain": [
       "<IPython.core.display.HTML object>"
      ]
     },
     "metadata": {},
     "output_type": "display_data"
    },
    {
     "name": "stdout",
     "output_type": "stream",
     "text": [
      "INFO: Query finished. [astroquery.utils.tap.core]\n"
     ]
    },
    {
     "data": {
      "text/html": [
       "<pre style=\"margin: 0.1em;\n",
       "padding-left: 0.25em;\n",
       "border-left-style: solid;\n",
       "font-family: var(--jp-code-font-family);\n",
       "font-size: var(--jp-code-font-size);\n",
       "line-height: var(--jp-code-line-height);\n",
       "\"><span style=\"color: var(--jp-warn-color2)\">astroquery</span> <span style=\"color: var(--jp-info-color0)\">INFO</span>: Query finished.</pre>"
      ],
      "text/plain": [
       "<IPython.core.display.HTML object>"
      ]
     },
     "metadata": {},
     "output_type": "display_data"
    },
    {
     "name": "stdout",
     "output_type": "stream",
     "text": [
      "INFO: Query finished. [astroquery.utils.tap.core]\n"
     ]
    },
    {
     "data": {
      "text/html": [
       "<pre style=\"margin: 0.1em;\n",
       "padding-left: 0.25em;\n",
       "border-left-style: solid;\n",
       "font-family: var(--jp-code-font-family);\n",
       "font-size: var(--jp-code-font-size);\n",
       "line-height: var(--jp-code-line-height);\n",
       "\"><span style=\"color: var(--jp-warn-color2)\">astroquery</span> <span style=\"color: var(--jp-info-color0)\">INFO</span>: Query finished.</pre>"
      ],
      "text/plain": [
       "<IPython.core.display.HTML object>"
      ]
     },
     "metadata": {},
     "output_type": "display_data"
    },
    {
     "name": "stdout",
     "output_type": "stream",
     "text": [
      "INFO: Query finished. [astroquery.utils.tap.core]\n"
     ]
    },
    {
     "data": {
      "text/html": [
       "<pre style=\"margin: 0.1em;\n",
       "padding-left: 0.25em;\n",
       "border-left-style: solid;\n",
       "font-family: var(--jp-code-font-family);\n",
       "font-size: var(--jp-code-font-size);\n",
       "line-height: var(--jp-code-line-height);\n",
       "\"><span style=\"color: var(--jp-warn-color2)\">astroquery</span> <span style=\"color: var(--jp-info-color0)\">INFO</span>: Query finished.</pre>"
      ],
      "text/plain": [
       "<IPython.core.display.HTML object>"
      ]
     },
     "metadata": {},
     "output_type": "display_data"
    },
    {
     "name": "stdout",
     "output_type": "stream",
     "text": [
      "INFO: Query finished. [astroquery.utils.tap.core]\n"
     ]
    },
    {
     "data": {
      "text/html": [
       "<pre style=\"margin: 0.1em;\n",
       "padding-left: 0.25em;\n",
       "border-left-style: solid;\n",
       "font-family: var(--jp-code-font-family);\n",
       "font-size: var(--jp-code-font-size);\n",
       "line-height: var(--jp-code-line-height);\n",
       "\"><span style=\"color: var(--jp-warn-color2)\">astroquery</span> <span style=\"color: var(--jp-info-color0)\">INFO</span>: Query finished.</pre>"
      ],
      "text/plain": [
       "<IPython.core.display.HTML object>"
      ]
     },
     "metadata": {},
     "output_type": "display_data"
    },
    {
     "name": "stdout",
     "output_type": "stream",
     "text": [
      "INFO: Query finished. [astroquery.utils.tap.core]\n"
     ]
    },
    {
     "data": {
      "text/html": [
       "<pre style=\"margin: 0.1em;\n",
       "padding-left: 0.25em;\n",
       "border-left-style: solid;\n",
       "font-family: var(--jp-code-font-family);\n",
       "font-size: var(--jp-code-font-size);\n",
       "line-height: var(--jp-code-line-height);\n",
       "\"><span style=\"color: var(--jp-warn-color2)\">astroquery</span> <span style=\"color: var(--jp-info-color0)\">INFO</span>: Query finished.</pre>"
      ],
      "text/plain": [
       "<IPython.core.display.HTML object>"
      ]
     },
     "metadata": {},
     "output_type": "display_data"
    },
    {
     "name": "stdout",
     "output_type": "stream",
     "text": [
      "INFO: Query finished. [astroquery.utils.tap.core]\n"
     ]
    },
    {
     "data": {
      "text/html": [
       "<pre style=\"margin: 0.1em;\n",
       "padding-left: 0.25em;\n",
       "border-left-style: solid;\n",
       "font-family: var(--jp-code-font-family);\n",
       "font-size: var(--jp-code-font-size);\n",
       "line-height: var(--jp-code-line-height);\n",
       "\"><span style=\"color: var(--jp-warn-color2)\">astroquery</span> <span style=\"color: var(--jp-info-color0)\">INFO</span>: Query finished.</pre>"
      ],
      "text/plain": [
       "<IPython.core.display.HTML object>"
      ]
     },
     "metadata": {},
     "output_type": "display_data"
    },
    {
     "name": "stdout",
     "output_type": "stream",
     "text": [
      "INFO: Query finished. [astroquery.utils.tap.core]\n"
     ]
    },
    {
     "data": {
      "text/html": [
       "<pre style=\"margin: 0.1em;\n",
       "padding-left: 0.25em;\n",
       "border-left-style: solid;\n",
       "font-family: var(--jp-code-font-family);\n",
       "font-size: var(--jp-code-font-size);\n",
       "line-height: var(--jp-code-line-height);\n",
       "\"><span style=\"color: var(--jp-warn-color2)\">astroquery</span> <span style=\"color: var(--jp-info-color0)\">INFO</span>: Query finished.</pre>"
      ],
      "text/plain": [
       "<IPython.core.display.HTML object>"
      ]
     },
     "metadata": {},
     "output_type": "display_data"
    },
    {
     "name": "stdout",
     "output_type": "stream",
     "text": [
      "INFO: Query finished. [astroquery.utils.tap.core]\n"
     ]
    },
    {
     "data": {
      "text/html": [
       "<pre style=\"margin: 0.1em;\n",
       "padding-left: 0.25em;\n",
       "border-left-style: solid;\n",
       "font-family: var(--jp-code-font-family);\n",
       "font-size: var(--jp-code-font-size);\n",
       "line-height: var(--jp-code-line-height);\n",
       "\"><span style=\"color: var(--jp-warn-color2)\">astroquery</span> <span style=\"color: var(--jp-info-color0)\">INFO</span>: Query finished.</pre>"
      ],
      "text/plain": [
       "<IPython.core.display.HTML object>"
      ]
     },
     "metadata": {},
     "output_type": "display_data"
    },
    {
     "name": "stdout",
     "output_type": "stream",
     "text": [
      "INFO: Query finished. [astroquery.utils.tap.core]\n"
     ]
    },
    {
     "data": {
      "text/html": [
       "<pre style=\"margin: 0.1em;\n",
       "padding-left: 0.25em;\n",
       "border-left-style: solid;\n",
       "font-family: var(--jp-code-font-family);\n",
       "font-size: var(--jp-code-font-size);\n",
       "line-height: var(--jp-code-line-height);\n",
       "\"><span style=\"color: var(--jp-warn-color2)\">astroquery</span> <span style=\"color: var(--jp-info-color0)\">INFO</span>: Query finished.</pre>"
      ],
      "text/plain": [
       "<IPython.core.display.HTML object>"
      ]
     },
     "metadata": {},
     "output_type": "display_data"
    },
    {
     "name": "stdout",
     "output_type": "stream",
     "text": [
      "INFO: Query finished. [astroquery.utils.tap.core]\n"
     ]
    },
    {
     "data": {
      "text/html": [
       "<pre style=\"margin: 0.1em;\n",
       "padding-left: 0.25em;\n",
       "border-left-style: solid;\n",
       "font-family: var(--jp-code-font-family);\n",
       "font-size: var(--jp-code-font-size);\n",
       "line-height: var(--jp-code-line-height);\n",
       "\"><span style=\"color: var(--jp-warn-color2)\">astroquery</span> <span style=\"color: var(--jp-info-color0)\">INFO</span>: Query finished.</pre>"
      ],
      "text/plain": [
       "<IPython.core.display.HTML object>"
      ]
     },
     "metadata": {},
     "output_type": "display_data"
    },
    {
     "name": "stdout",
     "output_type": "stream",
     "text": [
      "INFO: Query finished. [astroquery.utils.tap.core]\n"
     ]
    },
    {
     "data": {
      "text/html": [
       "<pre style=\"margin: 0.1em;\n",
       "padding-left: 0.25em;\n",
       "border-left-style: solid;\n",
       "font-family: var(--jp-code-font-family);\n",
       "font-size: var(--jp-code-font-size);\n",
       "line-height: var(--jp-code-line-height);\n",
       "\"><span style=\"color: var(--jp-warn-color2)\">astroquery</span> <span style=\"color: var(--jp-info-color0)\">INFO</span>: Query finished.</pre>"
      ],
      "text/plain": [
       "<IPython.core.display.HTML object>"
      ]
     },
     "metadata": {},
     "output_type": "display_data"
    },
    {
     "name": "stdout",
     "output_type": "stream",
     "text": [
      "INFO: Query finished. [astroquery.utils.tap.core]\n"
     ]
    },
    {
     "data": {
      "text/html": [
       "<pre style=\"margin: 0.1em;\n",
       "padding-left: 0.25em;\n",
       "border-left-style: solid;\n",
       "font-family: var(--jp-code-font-family);\n",
       "font-size: var(--jp-code-font-size);\n",
       "line-height: var(--jp-code-line-height);\n",
       "\"><span style=\"color: var(--jp-warn-color2)\">astroquery</span> <span style=\"color: var(--jp-info-color0)\">INFO</span>: Query finished.</pre>"
      ],
      "text/plain": [
       "<IPython.core.display.HTML object>"
      ]
     },
     "metadata": {},
     "output_type": "display_data"
    },
    {
     "name": "stdout",
     "output_type": "stream",
     "text": [
      "INFO: Query finished. [astroquery.utils.tap.core]\n"
     ]
    },
    {
     "data": {
      "text/html": [
       "<pre style=\"margin: 0.1em;\n",
       "padding-left: 0.25em;\n",
       "border-left-style: solid;\n",
       "font-family: var(--jp-code-font-family);\n",
       "font-size: var(--jp-code-font-size);\n",
       "line-height: var(--jp-code-line-height);\n",
       "\"><span style=\"color: var(--jp-warn-color2)\">astroquery</span> <span style=\"color: var(--jp-info-color0)\">INFO</span>: Query finished.</pre>"
      ],
      "text/plain": [
       "<IPython.core.display.HTML object>"
      ]
     },
     "metadata": {},
     "output_type": "display_data"
    },
    {
     "name": "stdout",
     "output_type": "stream",
     "text": [
      "INFO: Query finished. [astroquery.utils.tap.core]\n"
     ]
    },
    {
     "data": {
      "text/html": [
       "<pre style=\"margin: 0.1em;\n",
       "padding-left: 0.25em;\n",
       "border-left-style: solid;\n",
       "font-family: var(--jp-code-font-family);\n",
       "font-size: var(--jp-code-font-size);\n",
       "line-height: var(--jp-code-line-height);\n",
       "\"><span style=\"color: var(--jp-warn-color2)\">astroquery</span> <span style=\"color: var(--jp-info-color0)\">INFO</span>: Query finished.</pre>"
      ],
      "text/plain": [
       "<IPython.core.display.HTML object>"
      ]
     },
     "metadata": {},
     "output_type": "display_data"
    },
    {
     "name": "stdout",
     "output_type": "stream",
     "text": [
      "INFO: Query finished. [astroquery.utils.tap.core]\n"
     ]
    },
    {
     "data": {
      "text/html": [
       "<pre style=\"margin: 0.1em;\n",
       "padding-left: 0.25em;\n",
       "border-left-style: solid;\n",
       "font-family: var(--jp-code-font-family);\n",
       "font-size: var(--jp-code-font-size);\n",
       "line-height: var(--jp-code-line-height);\n",
       "\"><span style=\"color: var(--jp-warn-color2)\">astroquery</span> <span style=\"color: var(--jp-info-color0)\">INFO</span>: Query finished.</pre>"
      ],
      "text/plain": [
       "<IPython.core.display.HTML object>"
      ]
     },
     "metadata": {},
     "output_type": "display_data"
    },
    {
     "name": "stdout",
     "output_type": "stream",
     "text": [
      "INFO: Query finished. [astroquery.utils.tap.core]\n"
     ]
    },
    {
     "data": {
      "text/html": [
       "<pre style=\"margin: 0.1em;\n",
       "padding-left: 0.25em;\n",
       "border-left-style: solid;\n",
       "font-family: var(--jp-code-font-family);\n",
       "font-size: var(--jp-code-font-size);\n",
       "line-height: var(--jp-code-line-height);\n",
       "\"><span style=\"color: var(--jp-warn-color2)\">astroquery</span> <span style=\"color: var(--jp-info-color0)\">INFO</span>: Query finished.</pre>"
      ],
      "text/plain": [
       "<IPython.core.display.HTML object>"
      ]
     },
     "metadata": {},
     "output_type": "display_data"
    },
    {
     "name": "stdout",
     "output_type": "stream",
     "text": [
      "INFO: Query finished. [astroquery.utils.tap.core]\n"
     ]
    },
    {
     "data": {
      "text/html": [
       "<pre style=\"margin: 0.1em;\n",
       "padding-left: 0.25em;\n",
       "border-left-style: solid;\n",
       "font-family: var(--jp-code-font-family);\n",
       "font-size: var(--jp-code-font-size);\n",
       "line-height: var(--jp-code-line-height);\n",
       "\"><span style=\"color: var(--jp-warn-color2)\">astroquery</span> <span style=\"color: var(--jp-info-color0)\">INFO</span>: Query finished.</pre>"
      ],
      "text/plain": [
       "<IPython.core.display.HTML object>"
      ]
     },
     "metadata": {},
     "output_type": "display_data"
    },
    {
     "name": "stdout",
     "output_type": "stream",
     "text": [
      "INFO: Query finished. [astroquery.utils.tap.core]\n"
     ]
    },
    {
     "data": {
      "text/html": [
       "<pre style=\"margin: 0.1em;\n",
       "padding-left: 0.25em;\n",
       "border-left-style: solid;\n",
       "font-family: var(--jp-code-font-family);\n",
       "font-size: var(--jp-code-font-size);\n",
       "line-height: var(--jp-code-line-height);\n",
       "\"><span style=\"color: var(--jp-warn-color2)\">astroquery</span> <span style=\"color: var(--jp-info-color0)\">INFO</span>: Query finished.</pre>"
      ],
      "text/plain": [
       "<IPython.core.display.HTML object>"
      ]
     },
     "metadata": {},
     "output_type": "display_data"
    },
    {
     "name": "stdout",
     "output_type": "stream",
     "text": [
      "INFO: Query finished. [astroquery.utils.tap.core]\n"
     ]
    },
    {
     "data": {
      "text/html": [
       "<pre style=\"margin: 0.1em;\n",
       "padding-left: 0.25em;\n",
       "border-left-style: solid;\n",
       "font-family: var(--jp-code-font-family);\n",
       "font-size: var(--jp-code-font-size);\n",
       "line-height: var(--jp-code-line-height);\n",
       "\"><span style=\"color: var(--jp-warn-color2)\">astroquery</span> <span style=\"color: var(--jp-info-color0)\">INFO</span>: Query finished.</pre>"
      ],
      "text/plain": [
       "<IPython.core.display.HTML object>"
      ]
     },
     "metadata": {},
     "output_type": "display_data"
    },
    {
     "name": "stdout",
     "output_type": "stream",
     "text": [
      "INFO: Query finished. [astroquery.utils.tap.core]\n"
     ]
    },
    {
     "data": {
      "text/html": [
       "<pre style=\"margin: 0.1em;\n",
       "padding-left: 0.25em;\n",
       "border-left-style: solid;\n",
       "font-family: var(--jp-code-font-family);\n",
       "font-size: var(--jp-code-font-size);\n",
       "line-height: var(--jp-code-line-height);\n",
       "\"><span style=\"color: var(--jp-warn-color2)\">astroquery</span> <span style=\"color: var(--jp-info-color0)\">INFO</span>: Query finished.</pre>"
      ],
      "text/plain": [
       "<IPython.core.display.HTML object>"
      ]
     },
     "metadata": {},
     "output_type": "display_data"
    },
    {
     "name": "stdout",
     "output_type": "stream",
     "text": [
      "INFO: Query finished. [astroquery.utils.tap.core]\n"
     ]
    },
    {
     "data": {
      "text/html": [
       "<pre style=\"margin: 0.1em;\n",
       "padding-left: 0.25em;\n",
       "border-left-style: solid;\n",
       "font-family: var(--jp-code-font-family);\n",
       "font-size: var(--jp-code-font-size);\n",
       "line-height: var(--jp-code-line-height);\n",
       "\"><span style=\"color: var(--jp-warn-color2)\">astroquery</span> <span style=\"color: var(--jp-info-color0)\">INFO</span>: Query finished.</pre>"
      ],
      "text/plain": [
       "<IPython.core.display.HTML object>"
      ]
     },
     "metadata": {},
     "output_type": "display_data"
    },
    {
     "name": "stdout",
     "output_type": "stream",
     "text": [
      "INFO: Query finished. [astroquery.utils.tap.core]\n"
     ]
    },
    {
     "data": {
      "text/html": [
       "<pre style=\"margin: 0.1em;\n",
       "padding-left: 0.25em;\n",
       "border-left-style: solid;\n",
       "font-family: var(--jp-code-font-family);\n",
       "font-size: var(--jp-code-font-size);\n",
       "line-height: var(--jp-code-line-height);\n",
       "\"><span style=\"color: var(--jp-warn-color2)\">astroquery</span> <span style=\"color: var(--jp-info-color0)\">INFO</span>: Query finished.</pre>"
      ],
      "text/plain": [
       "<IPython.core.display.HTML object>"
      ]
     },
     "metadata": {},
     "output_type": "display_data"
    },
    {
     "name": "stdout",
     "output_type": "stream",
     "text": [
      "INFO: Query finished. [astroquery.utils.tap.core]\n"
     ]
    },
    {
     "data": {
      "text/html": [
       "<pre style=\"margin: 0.1em;\n",
       "padding-left: 0.25em;\n",
       "border-left-style: solid;\n",
       "font-family: var(--jp-code-font-family);\n",
       "font-size: var(--jp-code-font-size);\n",
       "line-height: var(--jp-code-line-height);\n",
       "\"><span style=\"color: var(--jp-warn-color2)\">astroquery</span> <span style=\"color: var(--jp-info-color0)\">INFO</span>: Query finished.</pre>"
      ],
      "text/plain": [
       "<IPython.core.display.HTML object>"
      ]
     },
     "metadata": {},
     "output_type": "display_data"
    },
    {
     "name": "stdout",
     "output_type": "stream",
     "text": [
      "INFO: Query finished. [astroquery.utils.tap.core]\n"
     ]
    },
    {
     "data": {
      "text/html": [
       "<pre style=\"margin: 0.1em;\n",
       "padding-left: 0.25em;\n",
       "border-left-style: solid;\n",
       "font-family: var(--jp-code-font-family);\n",
       "font-size: var(--jp-code-font-size);\n",
       "line-height: var(--jp-code-line-height);\n",
       "\"><span style=\"color: var(--jp-warn-color2)\">astroquery</span> <span style=\"color: var(--jp-info-color0)\">INFO</span>: Query finished.</pre>"
      ],
      "text/plain": [
       "<IPython.core.display.HTML object>"
      ]
     },
     "metadata": {},
     "output_type": "display_data"
    },
    {
     "name": "stdout",
     "output_type": "stream",
     "text": [
      "INFO: Query finished. [astroquery.utils.tap.core]\n"
     ]
    },
    {
     "data": {
      "text/html": [
       "<pre style=\"margin: 0.1em;\n",
       "padding-left: 0.25em;\n",
       "border-left-style: solid;\n",
       "font-family: var(--jp-code-font-family);\n",
       "font-size: var(--jp-code-font-size);\n",
       "line-height: var(--jp-code-line-height);\n",
       "\"><span style=\"color: var(--jp-warn-color2)\">astroquery</span> <span style=\"color: var(--jp-info-color0)\">INFO</span>: Query finished.</pre>"
      ],
      "text/plain": [
       "<IPython.core.display.HTML object>"
      ]
     },
     "metadata": {},
     "output_type": "display_data"
    },
    {
     "name": "stdout",
     "output_type": "stream",
     "text": [
      "INFO: Query finished. [astroquery.utils.tap.core]\n"
     ]
    },
    {
     "data": {
      "text/html": [
       "<pre style=\"margin: 0.1em;\n",
       "padding-left: 0.25em;\n",
       "border-left-style: solid;\n",
       "font-family: var(--jp-code-font-family);\n",
       "font-size: var(--jp-code-font-size);\n",
       "line-height: var(--jp-code-line-height);\n",
       "\"><span style=\"color: var(--jp-warn-color2)\">astroquery</span> <span style=\"color: var(--jp-info-color0)\">INFO</span>: Query finished.</pre>"
      ],
      "text/plain": [
       "<IPython.core.display.HTML object>"
      ]
     },
     "metadata": {},
     "output_type": "display_data"
    },
    {
     "name": "stdout",
     "output_type": "stream",
     "text": [
      "INFO: Query finished. [astroquery.utils.tap.core]\n"
     ]
    },
    {
     "data": {
      "text/html": [
       "<pre style=\"margin: 0.1em;\n",
       "padding-left: 0.25em;\n",
       "border-left-style: solid;\n",
       "font-family: var(--jp-code-font-family);\n",
       "font-size: var(--jp-code-font-size);\n",
       "line-height: var(--jp-code-line-height);\n",
       "\"><span style=\"color: var(--jp-warn-color2)\">astroquery</span> <span style=\"color: var(--jp-info-color0)\">INFO</span>: Query finished.</pre>"
      ],
      "text/plain": [
       "<IPython.core.display.HTML object>"
      ]
     },
     "metadata": {},
     "output_type": "display_data"
    },
    {
     "name": "stdout",
     "output_type": "stream",
     "text": [
      "INFO: Query finished. [astroquery.utils.tap.core]\n"
     ]
    },
    {
     "data": {
      "text/html": [
       "<pre style=\"margin: 0.1em;\n",
       "padding-left: 0.25em;\n",
       "border-left-style: solid;\n",
       "font-family: var(--jp-code-font-family);\n",
       "font-size: var(--jp-code-font-size);\n",
       "line-height: var(--jp-code-line-height);\n",
       "\"><span style=\"color: var(--jp-warn-color2)\">astroquery</span> <span style=\"color: var(--jp-info-color0)\">INFO</span>: Query finished.</pre>"
      ],
      "text/plain": [
       "<IPython.core.display.HTML object>"
      ]
     },
     "metadata": {},
     "output_type": "display_data"
    },
    {
     "name": "stdout",
     "output_type": "stream",
     "text": [
      "INFO: Query finished. [astroquery.utils.tap.core]\n"
     ]
    },
    {
     "data": {
      "text/html": [
       "<pre style=\"margin: 0.1em;\n",
       "padding-left: 0.25em;\n",
       "border-left-style: solid;\n",
       "font-family: var(--jp-code-font-family);\n",
       "font-size: var(--jp-code-font-size);\n",
       "line-height: var(--jp-code-line-height);\n",
       "\"><span style=\"color: var(--jp-warn-color2)\">astroquery</span> <span style=\"color: var(--jp-info-color0)\">INFO</span>: Query finished.</pre>"
      ],
      "text/plain": [
       "<IPython.core.display.HTML object>"
      ]
     },
     "metadata": {},
     "output_type": "display_data"
    },
    {
     "name": "stdout",
     "output_type": "stream",
     "text": [
      "INFO: Query finished. [astroquery.utils.tap.core]\n"
     ]
    },
    {
     "data": {
      "text/html": [
       "<pre style=\"margin: 0.1em;\n",
       "padding-left: 0.25em;\n",
       "border-left-style: solid;\n",
       "font-family: var(--jp-code-font-family);\n",
       "font-size: var(--jp-code-font-size);\n",
       "line-height: var(--jp-code-line-height);\n",
       "\"><span style=\"color: var(--jp-warn-color2)\">astroquery</span> <span style=\"color: var(--jp-info-color0)\">INFO</span>: Query finished.</pre>"
      ],
      "text/plain": [
       "<IPython.core.display.HTML object>"
      ]
     },
     "metadata": {},
     "output_type": "display_data"
    },
    {
     "name": "stdout",
     "output_type": "stream",
     "text": [
      "INFO: Query finished. [astroquery.utils.tap.core]\n"
     ]
    },
    {
     "data": {
      "text/html": [
       "<pre style=\"margin: 0.1em;\n",
       "padding-left: 0.25em;\n",
       "border-left-style: solid;\n",
       "font-family: var(--jp-code-font-family);\n",
       "font-size: var(--jp-code-font-size);\n",
       "line-height: var(--jp-code-line-height);\n",
       "\"><span style=\"color: var(--jp-warn-color2)\">astroquery</span> <span style=\"color: var(--jp-info-color0)\">INFO</span>: Query finished.</pre>"
      ],
      "text/plain": [
       "<IPython.core.display.HTML object>"
      ]
     },
     "metadata": {},
     "output_type": "display_data"
    },
    {
     "name": "stdout",
     "output_type": "stream",
     "text": [
      "INFO: Query finished. [astroquery.utils.tap.core]\n"
     ]
    },
    {
     "data": {
      "text/html": [
       "<pre style=\"margin: 0.1em;\n",
       "padding-left: 0.25em;\n",
       "border-left-style: solid;\n",
       "font-family: var(--jp-code-font-family);\n",
       "font-size: var(--jp-code-font-size);\n",
       "line-height: var(--jp-code-line-height);\n",
       "\"><span style=\"color: var(--jp-warn-color2)\">astroquery</span> <span style=\"color: var(--jp-info-color0)\">INFO</span>: Query finished.</pre>"
      ],
      "text/plain": [
       "<IPython.core.display.HTML object>"
      ]
     },
     "metadata": {},
     "output_type": "display_data"
    },
    {
     "name": "stdout",
     "output_type": "stream",
     "text": [
      "INFO: Query finished. [astroquery.utils.tap.core]\n"
     ]
    },
    {
     "data": {
      "text/html": [
       "<pre style=\"margin: 0.1em;\n",
       "padding-left: 0.25em;\n",
       "border-left-style: solid;\n",
       "font-family: var(--jp-code-font-family);\n",
       "font-size: var(--jp-code-font-size);\n",
       "line-height: var(--jp-code-line-height);\n",
       "\"><span style=\"color: var(--jp-warn-color2)\">astroquery</span> <span style=\"color: var(--jp-info-color0)\">INFO</span>: Query finished.</pre>"
      ],
      "text/plain": [
       "<IPython.core.display.HTML object>"
      ]
     },
     "metadata": {},
     "output_type": "display_data"
    },
    {
     "name": "stdout",
     "output_type": "stream",
     "text": [
      "INFO: Query finished. [astroquery.utils.tap.core]\n"
     ]
    },
    {
     "data": {
      "text/html": [
       "<pre style=\"margin: 0.1em;\n",
       "padding-left: 0.25em;\n",
       "border-left-style: solid;\n",
       "font-family: var(--jp-code-font-family);\n",
       "font-size: var(--jp-code-font-size);\n",
       "line-height: var(--jp-code-line-height);\n",
       "\"><span style=\"color: var(--jp-warn-color2)\">astroquery</span> <span style=\"color: var(--jp-info-color0)\">INFO</span>: Query finished.</pre>"
      ],
      "text/plain": [
       "<IPython.core.display.HTML object>"
      ]
     },
     "metadata": {},
     "output_type": "display_data"
    },
    {
     "name": "stdout",
     "output_type": "stream",
     "text": [
      "INFO: Query finished. [astroquery.utils.tap.core]\n"
     ]
    },
    {
     "data": {
      "text/html": [
       "<pre style=\"margin: 0.1em;\n",
       "padding-left: 0.25em;\n",
       "border-left-style: solid;\n",
       "font-family: var(--jp-code-font-family);\n",
       "font-size: var(--jp-code-font-size);\n",
       "line-height: var(--jp-code-line-height);\n",
       "\"><span style=\"color: var(--jp-warn-color2)\">astroquery</span> <span style=\"color: var(--jp-info-color0)\">INFO</span>: Query finished.</pre>"
      ],
      "text/plain": [
       "<IPython.core.display.HTML object>"
      ]
     },
     "metadata": {},
     "output_type": "display_data"
    },
    {
     "name": "stdout",
     "output_type": "stream",
     "text": [
      "INFO: Query finished. [astroquery.utils.tap.core]\n"
     ]
    },
    {
     "data": {
      "text/html": [
       "<pre style=\"margin: 0.1em;\n",
       "padding-left: 0.25em;\n",
       "border-left-style: solid;\n",
       "font-family: var(--jp-code-font-family);\n",
       "font-size: var(--jp-code-font-size);\n",
       "line-height: var(--jp-code-line-height);\n",
       "\"><span style=\"color: var(--jp-warn-color2)\">astroquery</span> <span style=\"color: var(--jp-info-color0)\">INFO</span>: Query finished.</pre>"
      ],
      "text/plain": [
       "<IPython.core.display.HTML object>"
      ]
     },
     "metadata": {},
     "output_type": "display_data"
    },
    {
     "name": "stdout",
     "output_type": "stream",
     "text": [
      "INFO: Query finished. [astroquery.utils.tap.core]\n"
     ]
    },
    {
     "data": {
      "text/html": [
       "<pre style=\"margin: 0.1em;\n",
       "padding-left: 0.25em;\n",
       "border-left-style: solid;\n",
       "font-family: var(--jp-code-font-family);\n",
       "font-size: var(--jp-code-font-size);\n",
       "line-height: var(--jp-code-line-height);\n",
       "\"><span style=\"color: var(--jp-warn-color2)\">astroquery</span> <span style=\"color: var(--jp-info-color0)\">INFO</span>: Query finished.</pre>"
      ],
      "text/plain": [
       "<IPython.core.display.HTML object>"
      ]
     },
     "metadata": {},
     "output_type": "display_data"
    },
    {
     "name": "stdout",
     "output_type": "stream",
     "text": [
      "INFO: Query finished. [astroquery.utils.tap.core]\n"
     ]
    },
    {
     "data": {
      "text/html": [
       "<pre style=\"margin: 0.1em;\n",
       "padding-left: 0.25em;\n",
       "border-left-style: solid;\n",
       "font-family: var(--jp-code-font-family);\n",
       "font-size: var(--jp-code-font-size);\n",
       "line-height: var(--jp-code-line-height);\n",
       "\"><span style=\"color: var(--jp-warn-color2)\">astroquery</span> <span style=\"color: var(--jp-info-color0)\">INFO</span>: Query finished.</pre>"
      ],
      "text/plain": [
       "<IPython.core.display.HTML object>"
      ]
     },
     "metadata": {},
     "output_type": "display_data"
    },
    {
     "name": "stdout",
     "output_type": "stream",
     "text": [
      "INFO: Query finished. [astroquery.utils.tap.core]\n"
     ]
    },
    {
     "data": {
      "text/html": [
       "<pre style=\"margin: 0.1em;\n",
       "padding-left: 0.25em;\n",
       "border-left-style: solid;\n",
       "font-family: var(--jp-code-font-family);\n",
       "font-size: var(--jp-code-font-size);\n",
       "line-height: var(--jp-code-line-height);\n",
       "\"><span style=\"color: var(--jp-warn-color2)\">astroquery</span> <span style=\"color: var(--jp-info-color0)\">INFO</span>: Query finished.</pre>"
      ],
      "text/plain": [
       "<IPython.core.display.HTML object>"
      ]
     },
     "metadata": {},
     "output_type": "display_data"
    },
    {
     "name": "stdout",
     "output_type": "stream",
     "text": [
      "INFO: Query finished. [astroquery.utils.tap.core]\n"
     ]
    },
    {
     "data": {
      "text/html": [
       "<pre style=\"margin: 0.1em;\n",
       "padding-left: 0.25em;\n",
       "border-left-style: solid;\n",
       "font-family: var(--jp-code-font-family);\n",
       "font-size: var(--jp-code-font-size);\n",
       "line-height: var(--jp-code-line-height);\n",
       "\"><span style=\"color: var(--jp-warn-color2)\">astroquery</span> <span style=\"color: var(--jp-info-color0)\">INFO</span>: Query finished.</pre>"
      ],
      "text/plain": [
       "<IPython.core.display.HTML object>"
      ]
     },
     "metadata": {},
     "output_type": "display_data"
    },
    {
     "name": "stdout",
     "output_type": "stream",
     "text": [
      "INFO: Query finished. [astroquery.utils.tap.core]\n"
     ]
    },
    {
     "data": {
      "text/html": [
       "<pre style=\"margin: 0.1em;\n",
       "padding-left: 0.25em;\n",
       "border-left-style: solid;\n",
       "font-family: var(--jp-code-font-family);\n",
       "font-size: var(--jp-code-font-size);\n",
       "line-height: var(--jp-code-line-height);\n",
       "\"><span style=\"color: var(--jp-warn-color2)\">astroquery</span> <span style=\"color: var(--jp-info-color0)\">INFO</span>: Query finished.</pre>"
      ],
      "text/plain": [
       "<IPython.core.display.HTML object>"
      ]
     },
     "metadata": {},
     "output_type": "display_data"
    },
    {
     "name": "stdout",
     "output_type": "stream",
     "text": [
      "INFO: Query finished. [astroquery.utils.tap.core]\n"
     ]
    },
    {
     "data": {
      "text/html": [
       "<pre style=\"margin: 0.1em;\n",
       "padding-left: 0.25em;\n",
       "border-left-style: solid;\n",
       "font-family: var(--jp-code-font-family);\n",
       "font-size: var(--jp-code-font-size);\n",
       "line-height: var(--jp-code-line-height);\n",
       "\"><span style=\"color: var(--jp-warn-color2)\">astroquery</span> <span style=\"color: var(--jp-info-color0)\">INFO</span>: Query finished.</pre>"
      ],
      "text/plain": [
       "<IPython.core.display.HTML object>"
      ]
     },
     "metadata": {},
     "output_type": "display_data"
    },
    {
     "name": "stdout",
     "output_type": "stream",
     "text": [
      "INFO: Query finished. [astroquery.utils.tap.core]\n"
     ]
    },
    {
     "data": {
      "text/html": [
       "<pre style=\"margin: 0.1em;\n",
       "padding-left: 0.25em;\n",
       "border-left-style: solid;\n",
       "font-family: var(--jp-code-font-family);\n",
       "font-size: var(--jp-code-font-size);\n",
       "line-height: var(--jp-code-line-height);\n",
       "\"><span style=\"color: var(--jp-warn-color2)\">astroquery</span> <span style=\"color: var(--jp-info-color0)\">INFO</span>: Query finished.</pre>"
      ],
      "text/plain": [
       "<IPython.core.display.HTML object>"
      ]
     },
     "metadata": {},
     "output_type": "display_data"
    },
    {
     "name": "stdout",
     "output_type": "stream",
     "text": [
      "INFO: Query finished. [astroquery.utils.tap.core]\n"
     ]
    },
    {
     "data": {
      "text/html": [
       "<pre style=\"margin: 0.1em;\n",
       "padding-left: 0.25em;\n",
       "border-left-style: solid;\n",
       "font-family: var(--jp-code-font-family);\n",
       "font-size: var(--jp-code-font-size);\n",
       "line-height: var(--jp-code-line-height);\n",
       "\"><span style=\"color: var(--jp-warn-color2)\">astroquery</span> <span style=\"color: var(--jp-info-color0)\">INFO</span>: Query finished.</pre>"
      ],
      "text/plain": [
       "<IPython.core.display.HTML object>"
      ]
     },
     "metadata": {},
     "output_type": "display_data"
    },
    {
     "name": "stdout",
     "output_type": "stream",
     "text": [
      "INFO: Query finished. [astroquery.utils.tap.core]\n"
     ]
    },
    {
     "data": {
      "text/html": [
       "<pre style=\"margin: 0.1em;\n",
       "padding-left: 0.25em;\n",
       "border-left-style: solid;\n",
       "font-family: var(--jp-code-font-family);\n",
       "font-size: var(--jp-code-font-size);\n",
       "line-height: var(--jp-code-line-height);\n",
       "\"><span style=\"color: var(--jp-warn-color2)\">astroquery</span> <span style=\"color: var(--jp-info-color0)\">INFO</span>: Query finished.</pre>"
      ],
      "text/plain": [
       "<IPython.core.display.HTML object>"
      ]
     },
     "metadata": {},
     "output_type": "display_data"
    },
    {
     "name": "stdout",
     "output_type": "stream",
     "text": [
      "INFO: Query finished. [astroquery.utils.tap.core]\n"
     ]
    },
    {
     "data": {
      "text/html": [
       "<pre style=\"margin: 0.1em;\n",
       "padding-left: 0.25em;\n",
       "border-left-style: solid;\n",
       "font-family: var(--jp-code-font-family);\n",
       "font-size: var(--jp-code-font-size);\n",
       "line-height: var(--jp-code-line-height);\n",
       "\"><span style=\"color: var(--jp-warn-color2)\">astroquery</span> <span style=\"color: var(--jp-info-color0)\">INFO</span>: Query finished.</pre>"
      ],
      "text/plain": [
       "<IPython.core.display.HTML object>"
      ]
     },
     "metadata": {},
     "output_type": "display_data"
    },
    {
     "name": "stdout",
     "output_type": "stream",
     "text": [
      "INFO: Query finished. [astroquery.utils.tap.core]\n"
     ]
    },
    {
     "data": {
      "text/html": [
       "<pre style=\"margin: 0.1em;\n",
       "padding-left: 0.25em;\n",
       "border-left-style: solid;\n",
       "font-family: var(--jp-code-font-family);\n",
       "font-size: var(--jp-code-font-size);\n",
       "line-height: var(--jp-code-line-height);\n",
       "\"><span style=\"color: var(--jp-warn-color2)\">astroquery</span> <span style=\"color: var(--jp-info-color0)\">INFO</span>: Query finished.</pre>"
      ],
      "text/plain": [
       "<IPython.core.display.HTML object>"
      ]
     },
     "metadata": {},
     "output_type": "display_data"
    },
    {
     "name": "stdout",
     "output_type": "stream",
     "text": [
      "INFO: Query finished. [astroquery.utils.tap.core]\n"
     ]
    },
    {
     "data": {
      "text/html": [
       "<pre style=\"margin: 0.1em;\n",
       "padding-left: 0.25em;\n",
       "border-left-style: solid;\n",
       "font-family: var(--jp-code-font-family);\n",
       "font-size: var(--jp-code-font-size);\n",
       "line-height: var(--jp-code-line-height);\n",
       "\"><span style=\"color: var(--jp-warn-color2)\">astroquery</span> <span style=\"color: var(--jp-info-color0)\">INFO</span>: Query finished.</pre>"
      ],
      "text/plain": [
       "<IPython.core.display.HTML object>"
      ]
     },
     "metadata": {},
     "output_type": "display_data"
    },
    {
     "name": "stdout",
     "output_type": "stream",
     "text": [
      "INFO: Query finished. [astroquery.utils.tap.core]\n"
     ]
    },
    {
     "data": {
      "text/html": [
       "<pre style=\"margin: 0.1em;\n",
       "padding-left: 0.25em;\n",
       "border-left-style: solid;\n",
       "font-family: var(--jp-code-font-family);\n",
       "font-size: var(--jp-code-font-size);\n",
       "line-height: var(--jp-code-line-height);\n",
       "\"><span style=\"color: var(--jp-warn-color2)\">astroquery</span> <span style=\"color: var(--jp-info-color0)\">INFO</span>: Query finished.</pre>"
      ],
      "text/plain": [
       "<IPython.core.display.HTML object>"
      ]
     },
     "metadata": {},
     "output_type": "display_data"
    },
    {
     "name": "stdout",
     "output_type": "stream",
     "text": [
      "INFO: Query finished. [astroquery.utils.tap.core]\n"
     ]
    },
    {
     "data": {
      "text/html": [
       "<pre style=\"margin: 0.1em;\n",
       "padding-left: 0.25em;\n",
       "border-left-style: solid;\n",
       "font-family: var(--jp-code-font-family);\n",
       "font-size: var(--jp-code-font-size);\n",
       "line-height: var(--jp-code-line-height);\n",
       "\"><span style=\"color: var(--jp-warn-color2)\">astroquery</span> <span style=\"color: var(--jp-info-color0)\">INFO</span>: Query finished.</pre>"
      ],
      "text/plain": [
       "<IPython.core.display.HTML object>"
      ]
     },
     "metadata": {},
     "output_type": "display_data"
    },
    {
     "name": "stdout",
     "output_type": "stream",
     "text": [
      "INFO: Query finished. [astroquery.utils.tap.core]\n"
     ]
    },
    {
     "data": {
      "text/html": [
       "<pre style=\"margin: 0.1em;\n",
       "padding-left: 0.25em;\n",
       "border-left-style: solid;\n",
       "font-family: var(--jp-code-font-family);\n",
       "font-size: var(--jp-code-font-size);\n",
       "line-height: var(--jp-code-line-height);\n",
       "\"><span style=\"color: var(--jp-warn-color2)\">astroquery</span> <span style=\"color: var(--jp-info-color0)\">INFO</span>: Query finished.</pre>"
      ],
      "text/plain": [
       "<IPython.core.display.HTML object>"
      ]
     },
     "metadata": {},
     "output_type": "display_data"
    },
    {
     "name": "stdout",
     "output_type": "stream",
     "text": [
      "INFO: Query finished. [astroquery.utils.tap.core]\n"
     ]
    },
    {
     "data": {
      "text/html": [
       "<pre style=\"margin: 0.1em;\n",
       "padding-left: 0.25em;\n",
       "border-left-style: solid;\n",
       "font-family: var(--jp-code-font-family);\n",
       "font-size: var(--jp-code-font-size);\n",
       "line-height: var(--jp-code-line-height);\n",
       "\"><span style=\"color: var(--jp-warn-color2)\">astroquery</span> <span style=\"color: var(--jp-info-color0)\">INFO</span>: Query finished.</pre>"
      ],
      "text/plain": [
       "<IPython.core.display.HTML object>"
      ]
     },
     "metadata": {},
     "output_type": "display_data"
    },
    {
     "name": "stdout",
     "output_type": "stream",
     "text": [
      "INFO: Query finished. [astroquery.utils.tap.core]\n"
     ]
    },
    {
     "data": {
      "text/html": [
       "<pre style=\"margin: 0.1em;\n",
       "padding-left: 0.25em;\n",
       "border-left-style: solid;\n",
       "font-family: var(--jp-code-font-family);\n",
       "font-size: var(--jp-code-font-size);\n",
       "line-height: var(--jp-code-line-height);\n",
       "\"><span style=\"color: var(--jp-warn-color2)\">astroquery</span> <span style=\"color: var(--jp-info-color0)\">INFO</span>: Query finished.</pre>"
      ],
      "text/plain": [
       "<IPython.core.display.HTML object>"
      ]
     },
     "metadata": {},
     "output_type": "display_data"
    },
    {
     "name": "stdout",
     "output_type": "stream",
     "text": [
      "INFO: Query finished. [astroquery.utils.tap.core]\n"
     ]
    },
    {
     "data": {
      "text/html": [
       "<pre style=\"margin: 0.1em;\n",
       "padding-left: 0.25em;\n",
       "border-left-style: solid;\n",
       "font-family: var(--jp-code-font-family);\n",
       "font-size: var(--jp-code-font-size);\n",
       "line-height: var(--jp-code-line-height);\n",
       "\"><span style=\"color: var(--jp-warn-color2)\">astroquery</span> <span style=\"color: var(--jp-info-color0)\">INFO</span>: Query finished.</pre>"
      ],
      "text/plain": [
       "<IPython.core.display.HTML object>"
      ]
     },
     "metadata": {},
     "output_type": "display_data"
    },
    {
     "name": "stdout",
     "output_type": "stream",
     "text": [
      "INFO: Query finished. [astroquery.utils.tap.core]\n"
     ]
    },
    {
     "data": {
      "text/html": [
       "<pre style=\"margin: 0.1em;\n",
       "padding-left: 0.25em;\n",
       "border-left-style: solid;\n",
       "font-family: var(--jp-code-font-family);\n",
       "font-size: var(--jp-code-font-size);\n",
       "line-height: var(--jp-code-line-height);\n",
       "\"><span style=\"color: var(--jp-warn-color2)\">astroquery</span> <span style=\"color: var(--jp-info-color0)\">INFO</span>: Query finished.</pre>"
      ],
      "text/plain": [
       "<IPython.core.display.HTML object>"
      ]
     },
     "metadata": {},
     "output_type": "display_data"
    },
    {
     "name": "stdout",
     "output_type": "stream",
     "text": [
      "INFO: Query finished. [astroquery.utils.tap.core]\n"
     ]
    },
    {
     "data": {
      "text/html": [
       "<pre style=\"margin: 0.1em;\n",
       "padding-left: 0.25em;\n",
       "border-left-style: solid;\n",
       "font-family: var(--jp-code-font-family);\n",
       "font-size: var(--jp-code-font-size);\n",
       "line-height: var(--jp-code-line-height);\n",
       "\"><span style=\"color: var(--jp-warn-color2)\">astroquery</span> <span style=\"color: var(--jp-info-color0)\">INFO</span>: Query finished.</pre>"
      ],
      "text/plain": [
       "<IPython.core.display.HTML object>"
      ]
     },
     "metadata": {},
     "output_type": "display_data"
    },
    {
     "name": "stdout",
     "output_type": "stream",
     "text": [
      "INFO: Query finished. [astroquery.utils.tap.core]\n"
     ]
    },
    {
     "data": {
      "text/html": [
       "<pre style=\"margin: 0.1em;\n",
       "padding-left: 0.25em;\n",
       "border-left-style: solid;\n",
       "font-family: var(--jp-code-font-family);\n",
       "font-size: var(--jp-code-font-size);\n",
       "line-height: var(--jp-code-line-height);\n",
       "\"><span style=\"color: var(--jp-warn-color2)\">astroquery</span> <span style=\"color: var(--jp-info-color0)\">INFO</span>: Query finished.</pre>"
      ],
      "text/plain": [
       "<IPython.core.display.HTML object>"
      ]
     },
     "metadata": {},
     "output_type": "display_data"
    },
    {
     "name": "stdout",
     "output_type": "stream",
     "text": [
      "INFO: Query finished. [astroquery.utils.tap.core]\n"
     ]
    },
    {
     "data": {
      "text/html": [
       "<pre style=\"margin: 0.1em;\n",
       "padding-left: 0.25em;\n",
       "border-left-style: solid;\n",
       "font-family: var(--jp-code-font-family);\n",
       "font-size: var(--jp-code-font-size);\n",
       "line-height: var(--jp-code-line-height);\n",
       "\"><span style=\"color: var(--jp-warn-color2)\">astroquery</span> <span style=\"color: var(--jp-info-color0)\">INFO</span>: Query finished.</pre>"
      ],
      "text/plain": [
       "<IPython.core.display.HTML object>"
      ]
     },
     "metadata": {},
     "output_type": "display_data"
    },
    {
     "name": "stdout",
     "output_type": "stream",
     "text": [
      "INFO: Query finished. [astroquery.utils.tap.core]\n"
     ]
    },
    {
     "data": {
      "text/html": [
       "<pre style=\"margin: 0.1em;\n",
       "padding-left: 0.25em;\n",
       "border-left-style: solid;\n",
       "font-family: var(--jp-code-font-family);\n",
       "font-size: var(--jp-code-font-size);\n",
       "line-height: var(--jp-code-line-height);\n",
       "\"><span style=\"color: var(--jp-warn-color2)\">astroquery</span> <span style=\"color: var(--jp-info-color0)\">INFO</span>: Query finished.</pre>"
      ],
      "text/plain": [
       "<IPython.core.display.HTML object>"
      ]
     },
     "metadata": {},
     "output_type": "display_data"
    },
    {
     "name": "stdout",
     "output_type": "stream",
     "text": [
      "INFO: Query finished. [astroquery.utils.tap.core]\n"
     ]
    },
    {
     "data": {
      "text/html": [
       "<pre style=\"margin: 0.1em;\n",
       "padding-left: 0.25em;\n",
       "border-left-style: solid;\n",
       "font-family: var(--jp-code-font-family);\n",
       "font-size: var(--jp-code-font-size);\n",
       "line-height: var(--jp-code-line-height);\n",
       "\"><span style=\"color: var(--jp-warn-color2)\">astroquery</span> <span style=\"color: var(--jp-info-color0)\">INFO</span>: Query finished.</pre>"
      ],
      "text/plain": [
       "<IPython.core.display.HTML object>"
      ]
     },
     "metadata": {},
     "output_type": "display_data"
    },
    {
     "name": "stdout",
     "output_type": "stream",
     "text": [
      "INFO: Query finished. [astroquery.utils.tap.core]\n"
     ]
    },
    {
     "data": {
      "text/html": [
       "<pre style=\"margin: 0.1em;\n",
       "padding-left: 0.25em;\n",
       "border-left-style: solid;\n",
       "font-family: var(--jp-code-font-family);\n",
       "font-size: var(--jp-code-font-size);\n",
       "line-height: var(--jp-code-line-height);\n",
       "\"><span style=\"color: var(--jp-warn-color2)\">astroquery</span> <span style=\"color: var(--jp-info-color0)\">INFO</span>: Query finished.</pre>"
      ],
      "text/plain": [
       "<IPython.core.display.HTML object>"
      ]
     },
     "metadata": {},
     "output_type": "display_data"
    },
    {
     "name": "stdout",
     "output_type": "stream",
     "text": [
      "INFO: Query finished. [astroquery.utils.tap.core]\n"
     ]
    },
    {
     "data": {
      "text/html": [
       "<pre style=\"margin: 0.1em;\n",
       "padding-left: 0.25em;\n",
       "border-left-style: solid;\n",
       "font-family: var(--jp-code-font-family);\n",
       "font-size: var(--jp-code-font-size);\n",
       "line-height: var(--jp-code-line-height);\n",
       "\"><span style=\"color: var(--jp-warn-color2)\">astroquery</span> <span style=\"color: var(--jp-info-color0)\">INFO</span>: Query finished.</pre>"
      ],
      "text/plain": [
       "<IPython.core.display.HTML object>"
      ]
     },
     "metadata": {},
     "output_type": "display_data"
    },
    {
     "name": "stdout",
     "output_type": "stream",
     "text": [
      "INFO: Query finished. [astroquery.utils.tap.core]\n"
     ]
    },
    {
     "data": {
      "text/html": [
       "<pre style=\"margin: 0.1em;\n",
       "padding-left: 0.25em;\n",
       "border-left-style: solid;\n",
       "font-family: var(--jp-code-font-family);\n",
       "font-size: var(--jp-code-font-size);\n",
       "line-height: var(--jp-code-line-height);\n",
       "\"><span style=\"color: var(--jp-warn-color2)\">astroquery</span> <span style=\"color: var(--jp-info-color0)\">INFO</span>: Query finished.</pre>"
      ],
      "text/plain": [
       "<IPython.core.display.HTML object>"
      ]
     },
     "metadata": {},
     "output_type": "display_data"
    },
    {
     "name": "stdout",
     "output_type": "stream",
     "text": [
      "INFO: Query finished. [astroquery.utils.tap.core]\n"
     ]
    },
    {
     "data": {
      "text/html": [
       "<pre style=\"margin: 0.1em;\n",
       "padding-left: 0.25em;\n",
       "border-left-style: solid;\n",
       "font-family: var(--jp-code-font-family);\n",
       "font-size: var(--jp-code-font-size);\n",
       "line-height: var(--jp-code-line-height);\n",
       "\"><span style=\"color: var(--jp-warn-color2)\">astroquery</span> <span style=\"color: var(--jp-info-color0)\">INFO</span>: Query finished.</pre>"
      ],
      "text/plain": [
       "<IPython.core.display.HTML object>"
      ]
     },
     "metadata": {},
     "output_type": "display_data"
    },
    {
     "name": "stdout",
     "output_type": "stream",
     "text": [
      "INFO: Query finished. [astroquery.utils.tap.core]\n"
     ]
    },
    {
     "data": {
      "text/html": [
       "<pre style=\"margin: 0.1em;\n",
       "padding-left: 0.25em;\n",
       "border-left-style: solid;\n",
       "font-family: var(--jp-code-font-family);\n",
       "font-size: var(--jp-code-font-size);\n",
       "line-height: var(--jp-code-line-height);\n",
       "\"><span style=\"color: var(--jp-warn-color2)\">astroquery</span> <span style=\"color: var(--jp-info-color0)\">INFO</span>: Query finished.</pre>"
      ],
      "text/plain": [
       "<IPython.core.display.HTML object>"
      ]
     },
     "metadata": {},
     "output_type": "display_data"
    },
    {
     "name": "stdout",
     "output_type": "stream",
     "text": [
      "INFO: Query finished. [astroquery.utils.tap.core]\n"
     ]
    },
    {
     "data": {
      "text/html": [
       "<pre style=\"margin: 0.1em;\n",
       "padding-left: 0.25em;\n",
       "border-left-style: solid;\n",
       "font-family: var(--jp-code-font-family);\n",
       "font-size: var(--jp-code-font-size);\n",
       "line-height: var(--jp-code-line-height);\n",
       "\"><span style=\"color: var(--jp-warn-color2)\">astroquery</span> <span style=\"color: var(--jp-info-color0)\">INFO</span>: Query finished.</pre>"
      ],
      "text/plain": [
       "<IPython.core.display.HTML object>"
      ]
     },
     "metadata": {},
     "output_type": "display_data"
    },
    {
     "name": "stdout",
     "output_type": "stream",
     "text": [
      "INFO: Query finished. [astroquery.utils.tap.core]\n"
     ]
    },
    {
     "data": {
      "text/html": [
       "<pre style=\"margin: 0.1em;\n",
       "padding-left: 0.25em;\n",
       "border-left-style: solid;\n",
       "font-family: var(--jp-code-font-family);\n",
       "font-size: var(--jp-code-font-size);\n",
       "line-height: var(--jp-code-line-height);\n",
       "\"><span style=\"color: var(--jp-warn-color2)\">astroquery</span> <span style=\"color: var(--jp-info-color0)\">INFO</span>: Query finished.</pre>"
      ],
      "text/plain": [
       "<IPython.core.display.HTML object>"
      ]
     },
     "metadata": {},
     "output_type": "display_data"
    },
    {
     "name": "stdout",
     "output_type": "stream",
     "text": [
      "INFO: Query finished. [astroquery.utils.tap.core]\n"
     ]
    },
    {
     "data": {
      "text/html": [
       "<pre style=\"margin: 0.1em;\n",
       "padding-left: 0.25em;\n",
       "border-left-style: solid;\n",
       "font-family: var(--jp-code-font-family);\n",
       "font-size: var(--jp-code-font-size);\n",
       "line-height: var(--jp-code-line-height);\n",
       "\"><span style=\"color: var(--jp-warn-color2)\">astroquery</span> <span style=\"color: var(--jp-info-color0)\">INFO</span>: Query finished.</pre>"
      ],
      "text/plain": [
       "<IPython.core.display.HTML object>"
      ]
     },
     "metadata": {},
     "output_type": "display_data"
    },
    {
     "name": "stdout",
     "output_type": "stream",
     "text": [
      "INFO: Query finished. [astroquery.utils.tap.core]\n"
     ]
    },
    {
     "data": {
      "text/html": [
       "<pre style=\"margin: 0.1em;\n",
       "padding-left: 0.25em;\n",
       "border-left-style: solid;\n",
       "font-family: var(--jp-code-font-family);\n",
       "font-size: var(--jp-code-font-size);\n",
       "line-height: var(--jp-code-line-height);\n",
       "\"><span style=\"color: var(--jp-warn-color2)\">astroquery</span> <span style=\"color: var(--jp-info-color0)\">INFO</span>: Query finished.</pre>"
      ],
      "text/plain": [
       "<IPython.core.display.HTML object>"
      ]
     },
     "metadata": {},
     "output_type": "display_data"
    },
    {
     "name": "stdout",
     "output_type": "stream",
     "text": [
      "INFO: Query finished. [astroquery.utils.tap.core]\n"
     ]
    },
    {
     "data": {
      "text/html": [
       "<pre style=\"margin: 0.1em;\n",
       "padding-left: 0.25em;\n",
       "border-left-style: solid;\n",
       "font-family: var(--jp-code-font-family);\n",
       "font-size: var(--jp-code-font-size);\n",
       "line-height: var(--jp-code-line-height);\n",
       "\"><span style=\"color: var(--jp-warn-color2)\">astroquery</span> <span style=\"color: var(--jp-info-color0)\">INFO</span>: Query finished.</pre>"
      ],
      "text/plain": [
       "<IPython.core.display.HTML object>"
      ]
     },
     "metadata": {},
     "output_type": "display_data"
    },
    {
     "name": "stdout",
     "output_type": "stream",
     "text": [
      "INFO: Query finished. [astroquery.utils.tap.core]\n"
     ]
    },
    {
     "data": {
      "text/html": [
       "<pre style=\"margin: 0.1em;\n",
       "padding-left: 0.25em;\n",
       "border-left-style: solid;\n",
       "font-family: var(--jp-code-font-family);\n",
       "font-size: var(--jp-code-font-size);\n",
       "line-height: var(--jp-code-line-height);\n",
       "\"><span style=\"color: var(--jp-warn-color2)\">astroquery</span> <span style=\"color: var(--jp-info-color0)\">INFO</span>: Query finished.</pre>"
      ],
      "text/plain": [
       "<IPython.core.display.HTML object>"
      ]
     },
     "metadata": {},
     "output_type": "display_data"
    },
    {
     "name": "stdout",
     "output_type": "stream",
     "text": [
      "INFO: Query finished. [astroquery.utils.tap.core]\n"
     ]
    },
    {
     "data": {
      "text/html": [
       "<pre style=\"margin: 0.1em;\n",
       "padding-left: 0.25em;\n",
       "border-left-style: solid;\n",
       "font-family: var(--jp-code-font-family);\n",
       "font-size: var(--jp-code-font-size);\n",
       "line-height: var(--jp-code-line-height);\n",
       "\"><span style=\"color: var(--jp-warn-color2)\">astroquery</span> <span style=\"color: var(--jp-info-color0)\">INFO</span>: Query finished.</pre>"
      ],
      "text/plain": [
       "<IPython.core.display.HTML object>"
      ]
     },
     "metadata": {},
     "output_type": "display_data"
    },
    {
     "name": "stdout",
     "output_type": "stream",
     "text": [
      "INFO: Query finished. [astroquery.utils.tap.core]\n"
     ]
    },
    {
     "data": {
      "text/html": [
       "<pre style=\"margin: 0.1em;\n",
       "padding-left: 0.25em;\n",
       "border-left-style: solid;\n",
       "font-family: var(--jp-code-font-family);\n",
       "font-size: var(--jp-code-font-size);\n",
       "line-height: var(--jp-code-line-height);\n",
       "\"><span style=\"color: var(--jp-warn-color2)\">astroquery</span> <span style=\"color: var(--jp-info-color0)\">INFO</span>: Query finished.</pre>"
      ],
      "text/plain": [
       "<IPython.core.display.HTML object>"
      ]
     },
     "metadata": {},
     "output_type": "display_data"
    },
    {
     "name": "stdout",
     "output_type": "stream",
     "text": [
      "INFO: Query finished. [astroquery.utils.tap.core]\n"
     ]
    },
    {
     "data": {
      "text/html": [
       "<pre style=\"margin: 0.1em;\n",
       "padding-left: 0.25em;\n",
       "border-left-style: solid;\n",
       "font-family: var(--jp-code-font-family);\n",
       "font-size: var(--jp-code-font-size);\n",
       "line-height: var(--jp-code-line-height);\n",
       "\"><span style=\"color: var(--jp-warn-color2)\">astroquery</span> <span style=\"color: var(--jp-info-color0)\">INFO</span>: Query finished.</pre>"
      ],
      "text/plain": [
       "<IPython.core.display.HTML object>"
      ]
     },
     "metadata": {},
     "output_type": "display_data"
    },
    {
     "name": "stdout",
     "output_type": "stream",
     "text": [
      "INFO: Query finished. [astroquery.utils.tap.core]\n"
     ]
    },
    {
     "data": {
      "text/html": [
       "<pre style=\"margin: 0.1em;\n",
       "padding-left: 0.25em;\n",
       "border-left-style: solid;\n",
       "font-family: var(--jp-code-font-family);\n",
       "font-size: var(--jp-code-font-size);\n",
       "line-height: var(--jp-code-line-height);\n",
       "\"><span style=\"color: var(--jp-warn-color2)\">astroquery</span> <span style=\"color: var(--jp-info-color0)\">INFO</span>: Query finished.</pre>"
      ],
      "text/plain": [
       "<IPython.core.display.HTML object>"
      ]
     },
     "metadata": {},
     "output_type": "display_data"
    },
    {
     "name": "stdout",
     "output_type": "stream",
     "text": [
      "INFO: Query finished. [astroquery.utils.tap.core]\n"
     ]
    },
    {
     "data": {
      "text/html": [
       "<pre style=\"margin: 0.1em;\n",
       "padding-left: 0.25em;\n",
       "border-left-style: solid;\n",
       "font-family: var(--jp-code-font-family);\n",
       "font-size: var(--jp-code-font-size);\n",
       "line-height: var(--jp-code-line-height);\n",
       "\"><span style=\"color: var(--jp-warn-color2)\">astroquery</span> <span style=\"color: var(--jp-info-color0)\">INFO</span>: Query finished.</pre>"
      ],
      "text/plain": [
       "<IPython.core.display.HTML object>"
      ]
     },
     "metadata": {},
     "output_type": "display_data"
    },
    {
     "name": "stdout",
     "output_type": "stream",
     "text": [
      "INFO: Query finished. [astroquery.utils.tap.core]\n"
     ]
    },
    {
     "data": {
      "text/html": [
       "<pre style=\"margin: 0.1em;\n",
       "padding-left: 0.25em;\n",
       "border-left-style: solid;\n",
       "font-family: var(--jp-code-font-family);\n",
       "font-size: var(--jp-code-font-size);\n",
       "line-height: var(--jp-code-line-height);\n",
       "\"><span style=\"color: var(--jp-warn-color2)\">astroquery</span> <span style=\"color: var(--jp-info-color0)\">INFO</span>: Query finished.</pre>"
      ],
      "text/plain": [
       "<IPython.core.display.HTML object>"
      ]
     },
     "metadata": {},
     "output_type": "display_data"
    },
    {
     "name": "stdout",
     "output_type": "stream",
     "text": [
      "INFO: Query finished. [astroquery.utils.tap.core]\n"
     ]
    },
    {
     "data": {
      "text/html": [
       "<pre style=\"margin: 0.1em;\n",
       "padding-left: 0.25em;\n",
       "border-left-style: solid;\n",
       "font-family: var(--jp-code-font-family);\n",
       "font-size: var(--jp-code-font-size);\n",
       "line-height: var(--jp-code-line-height);\n",
       "\"><span style=\"color: var(--jp-warn-color2)\">astroquery</span> <span style=\"color: var(--jp-info-color0)\">INFO</span>: Query finished.</pre>"
      ],
      "text/plain": [
       "<IPython.core.display.HTML object>"
      ]
     },
     "metadata": {},
     "output_type": "display_data"
    },
    {
     "name": "stdout",
     "output_type": "stream",
     "text": [
      "INFO: Query finished. [astroquery.utils.tap.core]\n"
     ]
    },
    {
     "data": {
      "text/html": [
       "<pre style=\"margin: 0.1em;\n",
       "padding-left: 0.25em;\n",
       "border-left-style: solid;\n",
       "font-family: var(--jp-code-font-family);\n",
       "font-size: var(--jp-code-font-size);\n",
       "line-height: var(--jp-code-line-height);\n",
       "\"><span style=\"color: var(--jp-warn-color2)\">astroquery</span> <span style=\"color: var(--jp-info-color0)\">INFO</span>: Query finished.</pre>"
      ],
      "text/plain": [
       "<IPython.core.display.HTML object>"
      ]
     },
     "metadata": {},
     "output_type": "display_data"
    },
    {
     "name": "stdout",
     "output_type": "stream",
     "text": [
      "INFO: Query finished. [astroquery.utils.tap.core]\n"
     ]
    },
    {
     "data": {
      "text/html": [
       "<pre style=\"margin: 0.1em;\n",
       "padding-left: 0.25em;\n",
       "border-left-style: solid;\n",
       "font-family: var(--jp-code-font-family);\n",
       "font-size: var(--jp-code-font-size);\n",
       "line-height: var(--jp-code-line-height);\n",
       "\"><span style=\"color: var(--jp-warn-color2)\">astroquery</span> <span style=\"color: var(--jp-info-color0)\">INFO</span>: Query finished.</pre>"
      ],
      "text/plain": [
       "<IPython.core.display.HTML object>"
      ]
     },
     "metadata": {},
     "output_type": "display_data"
    },
    {
     "name": "stdout",
     "output_type": "stream",
     "text": [
      "INFO: Query finished. [astroquery.utils.tap.core]\n"
     ]
    },
    {
     "data": {
      "text/html": [
       "<pre style=\"margin: 0.1em;\n",
       "padding-left: 0.25em;\n",
       "border-left-style: solid;\n",
       "font-family: var(--jp-code-font-family);\n",
       "font-size: var(--jp-code-font-size);\n",
       "line-height: var(--jp-code-line-height);\n",
       "\"><span style=\"color: var(--jp-warn-color2)\">astroquery</span> <span style=\"color: var(--jp-info-color0)\">INFO</span>: Query finished.</pre>"
      ],
      "text/plain": [
       "<IPython.core.display.HTML object>"
      ]
     },
     "metadata": {},
     "output_type": "display_data"
    },
    {
     "name": "stdout",
     "output_type": "stream",
     "text": [
      "INFO: Query finished. [astroquery.utils.tap.core]\n"
     ]
    },
    {
     "data": {
      "text/html": [
       "<pre style=\"margin: 0.1em;\n",
       "padding-left: 0.25em;\n",
       "border-left-style: solid;\n",
       "font-family: var(--jp-code-font-family);\n",
       "font-size: var(--jp-code-font-size);\n",
       "line-height: var(--jp-code-line-height);\n",
       "\"><span style=\"color: var(--jp-warn-color2)\">astroquery</span> <span style=\"color: var(--jp-info-color0)\">INFO</span>: Query finished.</pre>"
      ],
      "text/plain": [
       "<IPython.core.display.HTML object>"
      ]
     },
     "metadata": {},
     "output_type": "display_data"
    },
    {
     "name": "stdout",
     "output_type": "stream",
     "text": [
      "INFO: Query finished. [astroquery.utils.tap.core]\n"
     ]
    },
    {
     "data": {
      "text/html": [
       "<pre style=\"margin: 0.1em;\n",
       "padding-left: 0.25em;\n",
       "border-left-style: solid;\n",
       "font-family: var(--jp-code-font-family);\n",
       "font-size: var(--jp-code-font-size);\n",
       "line-height: var(--jp-code-line-height);\n",
       "\"><span style=\"color: var(--jp-warn-color2)\">astroquery</span> <span style=\"color: var(--jp-info-color0)\">INFO</span>: Query finished.</pre>"
      ],
      "text/plain": [
       "<IPython.core.display.HTML object>"
      ]
     },
     "metadata": {},
     "output_type": "display_data"
    },
    {
     "name": "stdout",
     "output_type": "stream",
     "text": [
      "INFO: Query finished. [astroquery.utils.tap.core]\n"
     ]
    },
    {
     "data": {
      "text/html": [
       "<pre style=\"margin: 0.1em;\n",
       "padding-left: 0.25em;\n",
       "border-left-style: solid;\n",
       "font-family: var(--jp-code-font-family);\n",
       "font-size: var(--jp-code-font-size);\n",
       "line-height: var(--jp-code-line-height);\n",
       "\"><span style=\"color: var(--jp-warn-color2)\">astroquery</span> <span style=\"color: var(--jp-info-color0)\">INFO</span>: Query finished.</pre>"
      ],
      "text/plain": [
       "<IPython.core.display.HTML object>"
      ]
     },
     "metadata": {},
     "output_type": "display_data"
    },
    {
     "name": "stdout",
     "output_type": "stream",
     "text": [
      "INFO: Query finished. [astroquery.utils.tap.core]\n"
     ]
    },
    {
     "data": {
      "text/html": [
       "<pre style=\"margin: 0.1em;\n",
       "padding-left: 0.25em;\n",
       "border-left-style: solid;\n",
       "font-family: var(--jp-code-font-family);\n",
       "font-size: var(--jp-code-font-size);\n",
       "line-height: var(--jp-code-line-height);\n",
       "\"><span style=\"color: var(--jp-warn-color2)\">astroquery</span> <span style=\"color: var(--jp-info-color0)\">INFO</span>: Query finished.</pre>"
      ],
      "text/plain": [
       "<IPython.core.display.HTML object>"
      ]
     },
     "metadata": {},
     "output_type": "display_data"
    },
    {
     "name": "stdout",
     "output_type": "stream",
     "text": [
      "INFO: Query finished. [astroquery.utils.tap.core]\n"
     ]
    },
    {
     "data": {
      "text/html": [
       "<pre style=\"margin: 0.1em;\n",
       "padding-left: 0.25em;\n",
       "border-left-style: solid;\n",
       "font-family: var(--jp-code-font-family);\n",
       "font-size: var(--jp-code-font-size);\n",
       "line-height: var(--jp-code-line-height);\n",
       "\"><span style=\"color: var(--jp-warn-color2)\">astroquery</span> <span style=\"color: var(--jp-info-color0)\">INFO</span>: Query finished.</pre>"
      ],
      "text/plain": [
       "<IPython.core.display.HTML object>"
      ]
     },
     "metadata": {},
     "output_type": "display_data"
    },
    {
     "name": "stdout",
     "output_type": "stream",
     "text": [
      "INFO: Query finished. [astroquery.utils.tap.core]\n"
     ]
    },
    {
     "data": {
      "text/html": [
       "<pre style=\"margin: 0.1em;\n",
       "padding-left: 0.25em;\n",
       "border-left-style: solid;\n",
       "font-family: var(--jp-code-font-family);\n",
       "font-size: var(--jp-code-font-size);\n",
       "line-height: var(--jp-code-line-height);\n",
       "\"><span style=\"color: var(--jp-warn-color2)\">astroquery</span> <span style=\"color: var(--jp-info-color0)\">INFO</span>: Query finished.</pre>"
      ],
      "text/plain": [
       "<IPython.core.display.HTML object>"
      ]
     },
     "metadata": {},
     "output_type": "display_data"
    },
    {
     "name": "stdout",
     "output_type": "stream",
     "text": [
      "INFO: Query finished. [astroquery.utils.tap.core]\n"
     ]
    },
    {
     "data": {
      "text/html": [
       "<pre style=\"margin: 0.1em;\n",
       "padding-left: 0.25em;\n",
       "border-left-style: solid;\n",
       "font-family: var(--jp-code-font-family);\n",
       "font-size: var(--jp-code-font-size);\n",
       "line-height: var(--jp-code-line-height);\n",
       "\"><span style=\"color: var(--jp-warn-color2)\">astroquery</span> <span style=\"color: var(--jp-info-color0)\">INFO</span>: Query finished.</pre>"
      ],
      "text/plain": [
       "<IPython.core.display.HTML object>"
      ]
     },
     "metadata": {},
     "output_type": "display_data"
    },
    {
     "name": "stdout",
     "output_type": "stream",
     "text": [
      "INFO: Query finished. [astroquery.utils.tap.core]\n"
     ]
    },
    {
     "data": {
      "text/html": [
       "<pre style=\"margin: 0.1em;\n",
       "padding-left: 0.25em;\n",
       "border-left-style: solid;\n",
       "font-family: var(--jp-code-font-family);\n",
       "font-size: var(--jp-code-font-size);\n",
       "line-height: var(--jp-code-line-height);\n",
       "\"><span style=\"color: var(--jp-warn-color2)\">astroquery</span> <span style=\"color: var(--jp-info-color0)\">INFO</span>: Query finished.</pre>"
      ],
      "text/plain": [
       "<IPython.core.display.HTML object>"
      ]
     },
     "metadata": {},
     "output_type": "display_data"
    },
    {
     "name": "stdout",
     "output_type": "stream",
     "text": [
      "INFO: Query finished. [astroquery.utils.tap.core]\n"
     ]
    },
    {
     "data": {
      "text/html": [
       "<pre style=\"margin: 0.1em;\n",
       "padding-left: 0.25em;\n",
       "border-left-style: solid;\n",
       "font-family: var(--jp-code-font-family);\n",
       "font-size: var(--jp-code-font-size);\n",
       "line-height: var(--jp-code-line-height);\n",
       "\"><span style=\"color: var(--jp-warn-color2)\">astroquery</span> <span style=\"color: var(--jp-info-color0)\">INFO</span>: Query finished.</pre>"
      ],
      "text/plain": [
       "<IPython.core.display.HTML object>"
      ]
     },
     "metadata": {},
     "output_type": "display_data"
    },
    {
     "name": "stdout",
     "output_type": "stream",
     "text": [
      "INFO: Query finished. [astroquery.utils.tap.core]\n"
     ]
    },
    {
     "data": {
      "text/html": [
       "<pre style=\"margin: 0.1em;\n",
       "padding-left: 0.25em;\n",
       "border-left-style: solid;\n",
       "font-family: var(--jp-code-font-family);\n",
       "font-size: var(--jp-code-font-size);\n",
       "line-height: var(--jp-code-line-height);\n",
       "\"><span style=\"color: var(--jp-warn-color2)\">astroquery</span> <span style=\"color: var(--jp-info-color0)\">INFO</span>: Query finished.</pre>"
      ],
      "text/plain": [
       "<IPython.core.display.HTML object>"
      ]
     },
     "metadata": {},
     "output_type": "display_data"
    },
    {
     "name": "stdout",
     "output_type": "stream",
     "text": [
      "INFO: Query finished. [astroquery.utils.tap.core]\n"
     ]
    },
    {
     "data": {
      "text/html": [
       "<pre style=\"margin: 0.1em;\n",
       "padding-left: 0.25em;\n",
       "border-left-style: solid;\n",
       "font-family: var(--jp-code-font-family);\n",
       "font-size: var(--jp-code-font-size);\n",
       "line-height: var(--jp-code-line-height);\n",
       "\"><span style=\"color: var(--jp-warn-color2)\">astroquery</span> <span style=\"color: var(--jp-info-color0)\">INFO</span>: Query finished.</pre>"
      ],
      "text/plain": [
       "<IPython.core.display.HTML object>"
      ]
     },
     "metadata": {},
     "output_type": "display_data"
    },
    {
     "name": "stdout",
     "output_type": "stream",
     "text": [
      "INFO: Query finished. [astroquery.utils.tap.core]\n"
     ]
    },
    {
     "data": {
      "text/html": [
       "<pre style=\"margin: 0.1em;\n",
       "padding-left: 0.25em;\n",
       "border-left-style: solid;\n",
       "font-family: var(--jp-code-font-family);\n",
       "font-size: var(--jp-code-font-size);\n",
       "line-height: var(--jp-code-line-height);\n",
       "\"><span style=\"color: var(--jp-warn-color2)\">astroquery</span> <span style=\"color: var(--jp-info-color0)\">INFO</span>: Query finished.</pre>"
      ],
      "text/plain": [
       "<IPython.core.display.HTML object>"
      ]
     },
     "metadata": {},
     "output_type": "display_data"
    },
    {
     "name": "stdout",
     "output_type": "stream",
     "text": [
      "INFO: Query finished. [astroquery.utils.tap.core]\n"
     ]
    },
    {
     "data": {
      "text/html": [
       "<pre style=\"margin: 0.1em;\n",
       "padding-left: 0.25em;\n",
       "border-left-style: solid;\n",
       "font-family: var(--jp-code-font-family);\n",
       "font-size: var(--jp-code-font-size);\n",
       "line-height: var(--jp-code-line-height);\n",
       "\"><span style=\"color: var(--jp-warn-color2)\">astroquery</span> <span style=\"color: var(--jp-info-color0)\">INFO</span>: Query finished.</pre>"
      ],
      "text/plain": [
       "<IPython.core.display.HTML object>"
      ]
     },
     "metadata": {},
     "output_type": "display_data"
    },
    {
     "name": "stdout",
     "output_type": "stream",
     "text": [
      "INFO: Query finished. [astroquery.utils.tap.core]\n"
     ]
    },
    {
     "data": {
      "text/html": [
       "<pre style=\"margin: 0.1em;\n",
       "padding-left: 0.25em;\n",
       "border-left-style: solid;\n",
       "font-family: var(--jp-code-font-family);\n",
       "font-size: var(--jp-code-font-size);\n",
       "line-height: var(--jp-code-line-height);\n",
       "\"><span style=\"color: var(--jp-warn-color2)\">astroquery</span> <span style=\"color: var(--jp-info-color0)\">INFO</span>: Query finished.</pre>"
      ],
      "text/plain": [
       "<IPython.core.display.HTML object>"
      ]
     },
     "metadata": {},
     "output_type": "display_data"
    },
    {
     "name": "stdout",
     "output_type": "stream",
     "text": [
      "INFO: Query finished. [astroquery.utils.tap.core]\n"
     ]
    },
    {
     "data": {
      "text/html": [
       "<pre style=\"margin: 0.1em;\n",
       "padding-left: 0.25em;\n",
       "border-left-style: solid;\n",
       "font-family: var(--jp-code-font-family);\n",
       "font-size: var(--jp-code-font-size);\n",
       "line-height: var(--jp-code-line-height);\n",
       "\"><span style=\"color: var(--jp-warn-color2)\">astroquery</span> <span style=\"color: var(--jp-info-color0)\">INFO</span>: Query finished.</pre>"
      ],
      "text/plain": [
       "<IPython.core.display.HTML object>"
      ]
     },
     "metadata": {},
     "output_type": "display_data"
    },
    {
     "name": "stdout",
     "output_type": "stream",
     "text": [
      "INFO: Query finished. [astroquery.utils.tap.core]\n"
     ]
    },
    {
     "data": {
      "text/html": [
       "<pre style=\"margin: 0.1em;\n",
       "padding-left: 0.25em;\n",
       "border-left-style: solid;\n",
       "font-family: var(--jp-code-font-family);\n",
       "font-size: var(--jp-code-font-size);\n",
       "line-height: var(--jp-code-line-height);\n",
       "\"><span style=\"color: var(--jp-warn-color2)\">astroquery</span> <span style=\"color: var(--jp-info-color0)\">INFO</span>: Query finished.</pre>"
      ],
      "text/plain": [
       "<IPython.core.display.HTML object>"
      ]
     },
     "metadata": {},
     "output_type": "display_data"
    },
    {
     "name": "stdout",
     "output_type": "stream",
     "text": [
      "INFO: Query finished. [astroquery.utils.tap.core]\n"
     ]
    },
    {
     "data": {
      "text/html": [
       "<pre style=\"margin: 0.1em;\n",
       "padding-left: 0.25em;\n",
       "border-left-style: solid;\n",
       "font-family: var(--jp-code-font-family);\n",
       "font-size: var(--jp-code-font-size);\n",
       "line-height: var(--jp-code-line-height);\n",
       "\"><span style=\"color: var(--jp-warn-color2)\">astroquery</span> <span style=\"color: var(--jp-info-color0)\">INFO</span>: Query finished.</pre>"
      ],
      "text/plain": [
       "<IPython.core.display.HTML object>"
      ]
     },
     "metadata": {},
     "output_type": "display_data"
    },
    {
     "name": "stdout",
     "output_type": "stream",
     "text": [
      "INFO: Query finished. [astroquery.utils.tap.core]\n"
     ]
    },
    {
     "data": {
      "text/html": [
       "<pre style=\"margin: 0.1em;\n",
       "padding-left: 0.25em;\n",
       "border-left-style: solid;\n",
       "font-family: var(--jp-code-font-family);\n",
       "font-size: var(--jp-code-font-size);\n",
       "line-height: var(--jp-code-line-height);\n",
       "\"><span style=\"color: var(--jp-warn-color2)\">astroquery</span> <span style=\"color: var(--jp-info-color0)\">INFO</span>: Query finished.</pre>"
      ],
      "text/plain": [
       "<IPython.core.display.HTML object>"
      ]
     },
     "metadata": {},
     "output_type": "display_data"
    },
    {
     "name": "stdout",
     "output_type": "stream",
     "text": [
      "INFO: Query finished. [astroquery.utils.tap.core]\n"
     ]
    },
    {
     "data": {
      "text/html": [
       "<pre style=\"margin: 0.1em;\n",
       "padding-left: 0.25em;\n",
       "border-left-style: solid;\n",
       "font-family: var(--jp-code-font-family);\n",
       "font-size: var(--jp-code-font-size);\n",
       "line-height: var(--jp-code-line-height);\n",
       "\"><span style=\"color: var(--jp-warn-color2)\">astroquery</span> <span style=\"color: var(--jp-info-color0)\">INFO</span>: Query finished.</pre>"
      ],
      "text/plain": [
       "<IPython.core.display.HTML object>"
      ]
     },
     "metadata": {},
     "output_type": "display_data"
    },
    {
     "name": "stdout",
     "output_type": "stream",
     "text": [
      "INFO: Query finished. [astroquery.utils.tap.core]\n"
     ]
    },
    {
     "data": {
      "text/html": [
       "<pre style=\"margin: 0.1em;\n",
       "padding-left: 0.25em;\n",
       "border-left-style: solid;\n",
       "font-family: var(--jp-code-font-family);\n",
       "font-size: var(--jp-code-font-size);\n",
       "line-height: var(--jp-code-line-height);\n",
       "\"><span style=\"color: var(--jp-warn-color2)\">astroquery</span> <span style=\"color: var(--jp-info-color0)\">INFO</span>: Query finished.</pre>"
      ],
      "text/plain": [
       "<IPython.core.display.HTML object>"
      ]
     },
     "metadata": {},
     "output_type": "display_data"
    },
    {
     "name": "stdout",
     "output_type": "stream",
     "text": [
      "INFO: Query finished. [astroquery.utils.tap.core]\n"
     ]
    },
    {
     "data": {
      "text/html": [
       "<pre style=\"margin: 0.1em;\n",
       "padding-left: 0.25em;\n",
       "border-left-style: solid;\n",
       "font-family: var(--jp-code-font-family);\n",
       "font-size: var(--jp-code-font-size);\n",
       "line-height: var(--jp-code-line-height);\n",
       "\"><span style=\"color: var(--jp-warn-color2)\">astroquery</span> <span style=\"color: var(--jp-info-color0)\">INFO</span>: Query finished.</pre>"
      ],
      "text/plain": [
       "<IPython.core.display.HTML object>"
      ]
     },
     "metadata": {},
     "output_type": "display_data"
    },
    {
     "name": "stdout",
     "output_type": "stream",
     "text": [
      "INFO: Query finished. [astroquery.utils.tap.core]\n"
     ]
    },
    {
     "data": {
      "text/html": [
       "<pre style=\"margin: 0.1em;\n",
       "padding-left: 0.25em;\n",
       "border-left-style: solid;\n",
       "font-family: var(--jp-code-font-family);\n",
       "font-size: var(--jp-code-font-size);\n",
       "line-height: var(--jp-code-line-height);\n",
       "\"><span style=\"color: var(--jp-warn-color2)\">astroquery</span> <span style=\"color: var(--jp-info-color0)\">INFO</span>: Query finished.</pre>"
      ],
      "text/plain": [
       "<IPython.core.display.HTML object>"
      ]
     },
     "metadata": {},
     "output_type": "display_data"
    },
    {
     "name": "stdout",
     "output_type": "stream",
     "text": [
      "INFO: Query finished. [astroquery.utils.tap.core]\n"
     ]
    },
    {
     "data": {
      "text/html": [
       "<pre style=\"margin: 0.1em;\n",
       "padding-left: 0.25em;\n",
       "border-left-style: solid;\n",
       "font-family: var(--jp-code-font-family);\n",
       "font-size: var(--jp-code-font-size);\n",
       "line-height: var(--jp-code-line-height);\n",
       "\"><span style=\"color: var(--jp-warn-color2)\">astroquery</span> <span style=\"color: var(--jp-info-color0)\">INFO</span>: Query finished.</pre>"
      ],
      "text/plain": [
       "<IPython.core.display.HTML object>"
      ]
     },
     "metadata": {},
     "output_type": "display_data"
    },
    {
     "name": "stdout",
     "output_type": "stream",
     "text": [
      "INFO: Query finished. [astroquery.utils.tap.core]\n"
     ]
    },
    {
     "data": {
      "text/html": [
       "<pre style=\"margin: 0.1em;\n",
       "padding-left: 0.25em;\n",
       "border-left-style: solid;\n",
       "font-family: var(--jp-code-font-family);\n",
       "font-size: var(--jp-code-font-size);\n",
       "line-height: var(--jp-code-line-height);\n",
       "\"><span style=\"color: var(--jp-warn-color2)\">astroquery</span> <span style=\"color: var(--jp-info-color0)\">INFO</span>: Query finished.</pre>"
      ],
      "text/plain": [
       "<IPython.core.display.HTML object>"
      ]
     },
     "metadata": {},
     "output_type": "display_data"
    },
    {
     "name": "stdout",
     "output_type": "stream",
     "text": [
      "INFO: Query finished. [astroquery.utils.tap.core]\n"
     ]
    },
    {
     "data": {
      "text/html": [
       "<pre style=\"margin: 0.1em;\n",
       "padding-left: 0.25em;\n",
       "border-left-style: solid;\n",
       "font-family: var(--jp-code-font-family);\n",
       "font-size: var(--jp-code-font-size);\n",
       "line-height: var(--jp-code-line-height);\n",
       "\"><span style=\"color: var(--jp-warn-color2)\">astroquery</span> <span style=\"color: var(--jp-info-color0)\">INFO</span>: Query finished.</pre>"
      ],
      "text/plain": [
       "<IPython.core.display.HTML object>"
      ]
     },
     "metadata": {},
     "output_type": "display_data"
    },
    {
     "name": "stdout",
     "output_type": "stream",
     "text": [
      "INFO: Query finished. [astroquery.utils.tap.core]\n"
     ]
    },
    {
     "data": {
      "text/html": [
       "<pre style=\"margin: 0.1em;\n",
       "padding-left: 0.25em;\n",
       "border-left-style: solid;\n",
       "font-family: var(--jp-code-font-family);\n",
       "font-size: var(--jp-code-font-size);\n",
       "line-height: var(--jp-code-line-height);\n",
       "\"><span style=\"color: var(--jp-warn-color2)\">astroquery</span> <span style=\"color: var(--jp-info-color0)\">INFO</span>: Query finished.</pre>"
      ],
      "text/plain": [
       "<IPython.core.display.HTML object>"
      ]
     },
     "metadata": {},
     "output_type": "display_data"
    },
    {
     "name": "stdout",
     "output_type": "stream",
     "text": [
      "INFO: Query finished. [astroquery.utils.tap.core]\n"
     ]
    },
    {
     "data": {
      "text/html": [
       "<pre style=\"margin: 0.1em;\n",
       "padding-left: 0.25em;\n",
       "border-left-style: solid;\n",
       "font-family: var(--jp-code-font-family);\n",
       "font-size: var(--jp-code-font-size);\n",
       "line-height: var(--jp-code-line-height);\n",
       "\"><span style=\"color: var(--jp-warn-color2)\">astroquery</span> <span style=\"color: var(--jp-info-color0)\">INFO</span>: Query finished.</pre>"
      ],
      "text/plain": [
       "<IPython.core.display.HTML object>"
      ]
     },
     "metadata": {},
     "output_type": "display_data"
    },
    {
     "name": "stdout",
     "output_type": "stream",
     "text": [
      "INFO: Query finished. [astroquery.utils.tap.core]\n"
     ]
    },
    {
     "data": {
      "text/html": [
       "<pre style=\"margin: 0.1em;\n",
       "padding-left: 0.25em;\n",
       "border-left-style: solid;\n",
       "font-family: var(--jp-code-font-family);\n",
       "font-size: var(--jp-code-font-size);\n",
       "line-height: var(--jp-code-line-height);\n",
       "\"><span style=\"color: var(--jp-warn-color2)\">astroquery</span> <span style=\"color: var(--jp-info-color0)\">INFO</span>: Query finished.</pre>"
      ],
      "text/plain": [
       "<IPython.core.display.HTML object>"
      ]
     },
     "metadata": {},
     "output_type": "display_data"
    },
    {
     "name": "stdout",
     "output_type": "stream",
     "text": [
      "INFO: Query finished. [astroquery.utils.tap.core]\n"
     ]
    },
    {
     "data": {
      "text/html": [
       "<pre style=\"margin: 0.1em;\n",
       "padding-left: 0.25em;\n",
       "border-left-style: solid;\n",
       "font-family: var(--jp-code-font-family);\n",
       "font-size: var(--jp-code-font-size);\n",
       "line-height: var(--jp-code-line-height);\n",
       "\"><span style=\"color: var(--jp-warn-color2)\">astroquery</span> <span style=\"color: var(--jp-info-color0)\">INFO</span>: Query finished.</pre>"
      ],
      "text/plain": [
       "<IPython.core.display.HTML object>"
      ]
     },
     "metadata": {},
     "output_type": "display_data"
    },
    {
     "name": "stdout",
     "output_type": "stream",
     "text": [
      "INFO: Query finished. [astroquery.utils.tap.core]\n"
     ]
    },
    {
     "data": {
      "text/html": [
       "<pre style=\"margin: 0.1em;\n",
       "padding-left: 0.25em;\n",
       "border-left-style: solid;\n",
       "font-family: var(--jp-code-font-family);\n",
       "font-size: var(--jp-code-font-size);\n",
       "line-height: var(--jp-code-line-height);\n",
       "\"><span style=\"color: var(--jp-warn-color2)\">astroquery</span> <span style=\"color: var(--jp-info-color0)\">INFO</span>: Query finished.</pre>"
      ],
      "text/plain": [
       "<IPython.core.display.HTML object>"
      ]
     },
     "metadata": {},
     "output_type": "display_data"
    },
    {
     "name": "stdout",
     "output_type": "stream",
     "text": [
      "INFO: Query finished. [astroquery.utils.tap.core]\n"
     ]
    },
    {
     "data": {
      "text/html": [
       "<pre style=\"margin: 0.1em;\n",
       "padding-left: 0.25em;\n",
       "border-left-style: solid;\n",
       "font-family: var(--jp-code-font-family);\n",
       "font-size: var(--jp-code-font-size);\n",
       "line-height: var(--jp-code-line-height);\n",
       "\"><span style=\"color: var(--jp-warn-color2)\">astroquery</span> <span style=\"color: var(--jp-info-color0)\">INFO</span>: Query finished.</pre>"
      ],
      "text/plain": [
       "<IPython.core.display.HTML object>"
      ]
     },
     "metadata": {},
     "output_type": "display_data"
    },
    {
     "name": "stdout",
     "output_type": "stream",
     "text": [
      "INFO: Query finished. [astroquery.utils.tap.core]\n"
     ]
    },
    {
     "data": {
      "text/html": [
       "<pre style=\"margin: 0.1em;\n",
       "padding-left: 0.25em;\n",
       "border-left-style: solid;\n",
       "font-family: var(--jp-code-font-family);\n",
       "font-size: var(--jp-code-font-size);\n",
       "line-height: var(--jp-code-line-height);\n",
       "\"><span style=\"color: var(--jp-warn-color2)\">astroquery</span> <span style=\"color: var(--jp-info-color0)\">INFO</span>: Query finished.</pre>"
      ],
      "text/plain": [
       "<IPython.core.display.HTML object>"
      ]
     },
     "metadata": {},
     "output_type": "display_data"
    },
    {
     "name": "stdout",
     "output_type": "stream",
     "text": [
      "INFO: Query finished. [astroquery.utils.tap.core]\n"
     ]
    },
    {
     "data": {
      "text/html": [
       "<pre style=\"margin: 0.1em;\n",
       "padding-left: 0.25em;\n",
       "border-left-style: solid;\n",
       "font-family: var(--jp-code-font-family);\n",
       "font-size: var(--jp-code-font-size);\n",
       "line-height: var(--jp-code-line-height);\n",
       "\"><span style=\"color: var(--jp-warn-color2)\">astroquery</span> <span style=\"color: var(--jp-info-color0)\">INFO</span>: Query finished.</pre>"
      ],
      "text/plain": [
       "<IPython.core.display.HTML object>"
      ]
     },
     "metadata": {},
     "output_type": "display_data"
    },
    {
     "name": "stdout",
     "output_type": "stream",
     "text": [
      "INFO: Query finished. [astroquery.utils.tap.core]\n"
     ]
    },
    {
     "data": {
      "text/html": [
       "<pre style=\"margin: 0.1em;\n",
       "padding-left: 0.25em;\n",
       "border-left-style: solid;\n",
       "font-family: var(--jp-code-font-family);\n",
       "font-size: var(--jp-code-font-size);\n",
       "line-height: var(--jp-code-line-height);\n",
       "\"><span style=\"color: var(--jp-warn-color2)\">astroquery</span> <span style=\"color: var(--jp-info-color0)\">INFO</span>: Query finished.</pre>"
      ],
      "text/plain": [
       "<IPython.core.display.HTML object>"
      ]
     },
     "metadata": {},
     "output_type": "display_data"
    },
    {
     "name": "stdout",
     "output_type": "stream",
     "text": [
      "INFO: Query finished. [astroquery.utils.tap.core]\n"
     ]
    },
    {
     "data": {
      "text/html": [
       "<pre style=\"margin: 0.1em;\n",
       "padding-left: 0.25em;\n",
       "border-left-style: solid;\n",
       "font-family: var(--jp-code-font-family);\n",
       "font-size: var(--jp-code-font-size);\n",
       "line-height: var(--jp-code-line-height);\n",
       "\"><span style=\"color: var(--jp-warn-color2)\">astroquery</span> <span style=\"color: var(--jp-info-color0)\">INFO</span>: Query finished.</pre>"
      ],
      "text/plain": [
       "<IPython.core.display.HTML object>"
      ]
     },
     "metadata": {},
     "output_type": "display_data"
    },
    {
     "name": "stdout",
     "output_type": "stream",
     "text": [
      "INFO: Query finished. [astroquery.utils.tap.core]\n"
     ]
    },
    {
     "data": {
      "text/html": [
       "<pre style=\"margin: 0.1em;\n",
       "padding-left: 0.25em;\n",
       "border-left-style: solid;\n",
       "font-family: var(--jp-code-font-family);\n",
       "font-size: var(--jp-code-font-size);\n",
       "line-height: var(--jp-code-line-height);\n",
       "\"><span style=\"color: var(--jp-warn-color2)\">astroquery</span> <span style=\"color: var(--jp-info-color0)\">INFO</span>: Query finished.</pre>"
      ],
      "text/plain": [
       "<IPython.core.display.HTML object>"
      ]
     },
     "metadata": {},
     "output_type": "display_data"
    },
    {
     "name": "stdout",
     "output_type": "stream",
     "text": [
      "INFO: Query finished. [astroquery.utils.tap.core]\n"
     ]
    },
    {
     "data": {
      "text/html": [
       "<pre style=\"margin: 0.1em;\n",
       "padding-left: 0.25em;\n",
       "border-left-style: solid;\n",
       "font-family: var(--jp-code-font-family);\n",
       "font-size: var(--jp-code-font-size);\n",
       "line-height: var(--jp-code-line-height);\n",
       "\"><span style=\"color: var(--jp-warn-color2)\">astroquery</span> <span style=\"color: var(--jp-info-color0)\">INFO</span>: Query finished.</pre>"
      ],
      "text/plain": [
       "<IPython.core.display.HTML object>"
      ]
     },
     "metadata": {},
     "output_type": "display_data"
    },
    {
     "name": "stdout",
     "output_type": "stream",
     "text": [
      "INFO: Query finished. [astroquery.utils.tap.core]\n"
     ]
    },
    {
     "data": {
      "text/html": [
       "<pre style=\"margin: 0.1em;\n",
       "padding-left: 0.25em;\n",
       "border-left-style: solid;\n",
       "font-family: var(--jp-code-font-family);\n",
       "font-size: var(--jp-code-font-size);\n",
       "line-height: var(--jp-code-line-height);\n",
       "\"><span style=\"color: var(--jp-warn-color2)\">astroquery</span> <span style=\"color: var(--jp-info-color0)\">INFO</span>: Query finished.</pre>"
      ],
      "text/plain": [
       "<IPython.core.display.HTML object>"
      ]
     },
     "metadata": {},
     "output_type": "display_data"
    },
    {
     "name": "stdout",
     "output_type": "stream",
     "text": [
      "INFO: Query finished. [astroquery.utils.tap.core]\n"
     ]
    },
    {
     "data": {
      "text/html": [
       "<pre style=\"margin: 0.1em;\n",
       "padding-left: 0.25em;\n",
       "border-left-style: solid;\n",
       "font-family: var(--jp-code-font-family);\n",
       "font-size: var(--jp-code-font-size);\n",
       "line-height: var(--jp-code-line-height);\n",
       "\"><span style=\"color: var(--jp-warn-color2)\">astroquery</span> <span style=\"color: var(--jp-info-color0)\">INFO</span>: Query finished.</pre>"
      ],
      "text/plain": [
       "<IPython.core.display.HTML object>"
      ]
     },
     "metadata": {},
     "output_type": "display_data"
    },
    {
     "name": "stdout",
     "output_type": "stream",
     "text": [
      "INFO: Query finished. [astroquery.utils.tap.core]\n"
     ]
    },
    {
     "data": {
      "text/html": [
       "<pre style=\"margin: 0.1em;\n",
       "padding-left: 0.25em;\n",
       "border-left-style: solid;\n",
       "font-family: var(--jp-code-font-family);\n",
       "font-size: var(--jp-code-font-size);\n",
       "line-height: var(--jp-code-line-height);\n",
       "\"><span style=\"color: var(--jp-warn-color2)\">astroquery</span> <span style=\"color: var(--jp-info-color0)\">INFO</span>: Query finished.</pre>"
      ],
      "text/plain": [
       "<IPython.core.display.HTML object>"
      ]
     },
     "metadata": {},
     "output_type": "display_data"
    },
    {
     "name": "stdout",
     "output_type": "stream",
     "text": [
      "INFO: Query finished. [astroquery.utils.tap.core]\n"
     ]
    },
    {
     "data": {
      "text/html": [
       "<pre style=\"margin: 0.1em;\n",
       "padding-left: 0.25em;\n",
       "border-left-style: solid;\n",
       "font-family: var(--jp-code-font-family);\n",
       "font-size: var(--jp-code-font-size);\n",
       "line-height: var(--jp-code-line-height);\n",
       "\"><span style=\"color: var(--jp-warn-color2)\">astroquery</span> <span style=\"color: var(--jp-info-color0)\">INFO</span>: Query finished.</pre>"
      ],
      "text/plain": [
       "<IPython.core.display.HTML object>"
      ]
     },
     "metadata": {},
     "output_type": "display_data"
    },
    {
     "name": "stdout",
     "output_type": "stream",
     "text": [
      "INFO: Query finished. [astroquery.utils.tap.core]\n"
     ]
    },
    {
     "data": {
      "text/html": [
       "<pre style=\"margin: 0.1em;\n",
       "padding-left: 0.25em;\n",
       "border-left-style: solid;\n",
       "font-family: var(--jp-code-font-family);\n",
       "font-size: var(--jp-code-font-size);\n",
       "line-height: var(--jp-code-line-height);\n",
       "\"><span style=\"color: var(--jp-warn-color2)\">astroquery</span> <span style=\"color: var(--jp-info-color0)\">INFO</span>: Query finished.</pre>"
      ],
      "text/plain": [
       "<IPython.core.display.HTML object>"
      ]
     },
     "metadata": {},
     "output_type": "display_data"
    },
    {
     "name": "stdout",
     "output_type": "stream",
     "text": [
      "INFO: Query finished. [astroquery.utils.tap.core]\n"
     ]
    },
    {
     "data": {
      "text/html": [
       "<pre style=\"margin: 0.1em;\n",
       "padding-left: 0.25em;\n",
       "border-left-style: solid;\n",
       "font-family: var(--jp-code-font-family);\n",
       "font-size: var(--jp-code-font-size);\n",
       "line-height: var(--jp-code-line-height);\n",
       "\"><span style=\"color: var(--jp-warn-color2)\">astroquery</span> <span style=\"color: var(--jp-info-color0)\">INFO</span>: Query finished.</pre>"
      ],
      "text/plain": [
       "<IPython.core.display.HTML object>"
      ]
     },
     "metadata": {},
     "output_type": "display_data"
    },
    {
     "name": "stdout",
     "output_type": "stream",
     "text": [
      "INFO: Query finished. [astroquery.utils.tap.core]\n"
     ]
    },
    {
     "data": {
      "text/html": [
       "<pre style=\"margin: 0.1em;\n",
       "padding-left: 0.25em;\n",
       "border-left-style: solid;\n",
       "font-family: var(--jp-code-font-family);\n",
       "font-size: var(--jp-code-font-size);\n",
       "line-height: var(--jp-code-line-height);\n",
       "\"><span style=\"color: var(--jp-warn-color2)\">astroquery</span> <span style=\"color: var(--jp-info-color0)\">INFO</span>: Query finished.</pre>"
      ],
      "text/plain": [
       "<IPython.core.display.HTML object>"
      ]
     },
     "metadata": {},
     "output_type": "display_data"
    },
    {
     "name": "stdout",
     "output_type": "stream",
     "text": [
      "INFO: Query finished. [astroquery.utils.tap.core]\n"
     ]
    },
    {
     "data": {
      "text/html": [
       "<pre style=\"margin: 0.1em;\n",
       "padding-left: 0.25em;\n",
       "border-left-style: solid;\n",
       "font-family: var(--jp-code-font-family);\n",
       "font-size: var(--jp-code-font-size);\n",
       "line-height: var(--jp-code-line-height);\n",
       "\"><span style=\"color: var(--jp-warn-color2)\">astroquery</span> <span style=\"color: var(--jp-info-color0)\">INFO</span>: Query finished.</pre>"
      ],
      "text/plain": [
       "<IPython.core.display.HTML object>"
      ]
     },
     "metadata": {},
     "output_type": "display_data"
    },
    {
     "name": "stdout",
     "output_type": "stream",
     "text": [
      "INFO: Query finished. [astroquery.utils.tap.core]\n"
     ]
    },
    {
     "data": {
      "text/html": [
       "<pre style=\"margin: 0.1em;\n",
       "padding-left: 0.25em;\n",
       "border-left-style: solid;\n",
       "font-family: var(--jp-code-font-family);\n",
       "font-size: var(--jp-code-font-size);\n",
       "line-height: var(--jp-code-line-height);\n",
       "\"><span style=\"color: var(--jp-warn-color2)\">astroquery</span> <span style=\"color: var(--jp-info-color0)\">INFO</span>: Query finished.</pre>"
      ],
      "text/plain": [
       "<IPython.core.display.HTML object>"
      ]
     },
     "metadata": {},
     "output_type": "display_data"
    },
    {
     "name": "stdout",
     "output_type": "stream",
     "text": [
      "INFO: Query finished. [astroquery.utils.tap.core]\n"
     ]
    },
    {
     "data": {
      "text/html": [
       "<pre style=\"margin: 0.1em;\n",
       "padding-left: 0.25em;\n",
       "border-left-style: solid;\n",
       "font-family: var(--jp-code-font-family);\n",
       "font-size: var(--jp-code-font-size);\n",
       "line-height: var(--jp-code-line-height);\n",
       "\"><span style=\"color: var(--jp-warn-color2)\">astroquery</span> <span style=\"color: var(--jp-info-color0)\">INFO</span>: Query finished.</pre>"
      ],
      "text/plain": [
       "<IPython.core.display.HTML object>"
      ]
     },
     "metadata": {},
     "output_type": "display_data"
    },
    {
     "name": "stdout",
     "output_type": "stream",
     "text": [
      "INFO: Query finished. [astroquery.utils.tap.core]\n"
     ]
    },
    {
     "data": {
      "text/html": [
       "<pre style=\"margin: 0.1em;\n",
       "padding-left: 0.25em;\n",
       "border-left-style: solid;\n",
       "font-family: var(--jp-code-font-family);\n",
       "font-size: var(--jp-code-font-size);\n",
       "line-height: var(--jp-code-line-height);\n",
       "\"><span style=\"color: var(--jp-warn-color2)\">astroquery</span> <span style=\"color: var(--jp-info-color0)\">INFO</span>: Query finished.</pre>"
      ],
      "text/plain": [
       "<IPython.core.display.HTML object>"
      ]
     },
     "metadata": {},
     "output_type": "display_data"
    },
    {
     "name": "stdout",
     "output_type": "stream",
     "text": [
      "INFO: Query finished. [astroquery.utils.tap.core]\n"
     ]
    },
    {
     "data": {
      "text/html": [
       "<pre style=\"margin: 0.1em;\n",
       "padding-left: 0.25em;\n",
       "border-left-style: solid;\n",
       "font-family: var(--jp-code-font-family);\n",
       "font-size: var(--jp-code-font-size);\n",
       "line-height: var(--jp-code-line-height);\n",
       "\"><span style=\"color: var(--jp-warn-color2)\">astroquery</span> <span style=\"color: var(--jp-info-color0)\">INFO</span>: Query finished.</pre>"
      ],
      "text/plain": [
       "<IPython.core.display.HTML object>"
      ]
     },
     "metadata": {},
     "output_type": "display_data"
    },
    {
     "name": "stdout",
     "output_type": "stream",
     "text": [
      "INFO: Query finished. [astroquery.utils.tap.core]\n"
     ]
    },
    {
     "data": {
      "text/html": [
       "<pre style=\"margin: 0.1em;\n",
       "padding-left: 0.25em;\n",
       "border-left-style: solid;\n",
       "font-family: var(--jp-code-font-family);\n",
       "font-size: var(--jp-code-font-size);\n",
       "line-height: var(--jp-code-line-height);\n",
       "\"><span style=\"color: var(--jp-warn-color2)\">astroquery</span> <span style=\"color: var(--jp-info-color0)\">INFO</span>: Query finished.</pre>"
      ],
      "text/plain": [
       "<IPython.core.display.HTML object>"
      ]
     },
     "metadata": {},
     "output_type": "display_data"
    },
    {
     "name": "stdout",
     "output_type": "stream",
     "text": [
      "INFO: Query finished. [astroquery.utils.tap.core]\n"
     ]
    },
    {
     "data": {
      "text/html": [
       "<pre style=\"margin: 0.1em;\n",
       "padding-left: 0.25em;\n",
       "border-left-style: solid;\n",
       "font-family: var(--jp-code-font-family);\n",
       "font-size: var(--jp-code-font-size);\n",
       "line-height: var(--jp-code-line-height);\n",
       "\"><span style=\"color: var(--jp-warn-color2)\">astroquery</span> <span style=\"color: var(--jp-info-color0)\">INFO</span>: Query finished.</pre>"
      ],
      "text/plain": [
       "<IPython.core.display.HTML object>"
      ]
     },
     "metadata": {},
     "output_type": "display_data"
    },
    {
     "name": "stdout",
     "output_type": "stream",
     "text": [
      "INFO: Query finished. [astroquery.utils.tap.core]\n"
     ]
    },
    {
     "data": {
      "text/html": [
       "<pre style=\"margin: 0.1em;\n",
       "padding-left: 0.25em;\n",
       "border-left-style: solid;\n",
       "font-family: var(--jp-code-font-family);\n",
       "font-size: var(--jp-code-font-size);\n",
       "line-height: var(--jp-code-line-height);\n",
       "\"><span style=\"color: var(--jp-warn-color2)\">astroquery</span> <span style=\"color: var(--jp-info-color0)\">INFO</span>: Query finished.</pre>"
      ],
      "text/plain": [
       "<IPython.core.display.HTML object>"
      ]
     },
     "metadata": {},
     "output_type": "display_data"
    },
    {
     "name": "stdout",
     "output_type": "stream",
     "text": [
      "INFO: Query finished. [astroquery.utils.tap.core]\n"
     ]
    },
    {
     "data": {
      "text/html": [
       "<pre style=\"margin: 0.1em;\n",
       "padding-left: 0.25em;\n",
       "border-left-style: solid;\n",
       "font-family: var(--jp-code-font-family);\n",
       "font-size: var(--jp-code-font-size);\n",
       "line-height: var(--jp-code-line-height);\n",
       "\"><span style=\"color: var(--jp-warn-color2)\">astroquery</span> <span style=\"color: var(--jp-info-color0)\">INFO</span>: Query finished.</pre>"
      ],
      "text/plain": [
       "<IPython.core.display.HTML object>"
      ]
     },
     "metadata": {},
     "output_type": "display_data"
    },
    {
     "name": "stdout",
     "output_type": "stream",
     "text": [
      "INFO: Query finished. [astroquery.utils.tap.core]\n"
     ]
    },
    {
     "data": {
      "text/html": [
       "<pre style=\"margin: 0.1em;\n",
       "padding-left: 0.25em;\n",
       "border-left-style: solid;\n",
       "font-family: var(--jp-code-font-family);\n",
       "font-size: var(--jp-code-font-size);\n",
       "line-height: var(--jp-code-line-height);\n",
       "\"><span style=\"color: var(--jp-warn-color2)\">astroquery</span> <span style=\"color: var(--jp-info-color0)\">INFO</span>: Query finished.</pre>"
      ],
      "text/plain": [
       "<IPython.core.display.HTML object>"
      ]
     },
     "metadata": {},
     "output_type": "display_data"
    },
    {
     "name": "stdout",
     "output_type": "stream",
     "text": [
      "INFO: Query finished. [astroquery.utils.tap.core]\n"
     ]
    },
    {
     "data": {
      "text/html": [
       "<pre style=\"margin: 0.1em;\n",
       "padding-left: 0.25em;\n",
       "border-left-style: solid;\n",
       "font-family: var(--jp-code-font-family);\n",
       "font-size: var(--jp-code-font-size);\n",
       "line-height: var(--jp-code-line-height);\n",
       "\"><span style=\"color: var(--jp-warn-color2)\">astroquery</span> <span style=\"color: var(--jp-info-color0)\">INFO</span>: Query finished.</pre>"
      ],
      "text/plain": [
       "<IPython.core.display.HTML object>"
      ]
     },
     "metadata": {},
     "output_type": "display_data"
    },
    {
     "name": "stdout",
     "output_type": "stream",
     "text": [
      "INFO: Query finished. [astroquery.utils.tap.core]\n"
     ]
    },
    {
     "data": {
      "text/html": [
       "<pre style=\"margin: 0.1em;\n",
       "padding-left: 0.25em;\n",
       "border-left-style: solid;\n",
       "font-family: var(--jp-code-font-family);\n",
       "font-size: var(--jp-code-font-size);\n",
       "line-height: var(--jp-code-line-height);\n",
       "\"><span style=\"color: var(--jp-warn-color2)\">astroquery</span> <span style=\"color: var(--jp-info-color0)\">INFO</span>: Query finished.</pre>"
      ],
      "text/plain": [
       "<IPython.core.display.HTML object>"
      ]
     },
     "metadata": {},
     "output_type": "display_data"
    },
    {
     "name": "stdout",
     "output_type": "stream",
     "text": [
      "INFO: Query finished. [astroquery.utils.tap.core]\n"
     ]
    },
    {
     "data": {
      "text/html": [
       "<pre style=\"margin: 0.1em;\n",
       "padding-left: 0.25em;\n",
       "border-left-style: solid;\n",
       "font-family: var(--jp-code-font-family);\n",
       "font-size: var(--jp-code-font-size);\n",
       "line-height: var(--jp-code-line-height);\n",
       "\"><span style=\"color: var(--jp-warn-color2)\">astroquery</span> <span style=\"color: var(--jp-info-color0)\">INFO</span>: Query finished.</pre>"
      ],
      "text/plain": [
       "<IPython.core.display.HTML object>"
      ]
     },
     "metadata": {},
     "output_type": "display_data"
    },
    {
     "name": "stdout",
     "output_type": "stream",
     "text": [
      "INFO: Query finished. [astroquery.utils.tap.core]\n"
     ]
    },
    {
     "data": {
      "text/html": [
       "<pre style=\"margin: 0.1em;\n",
       "padding-left: 0.25em;\n",
       "border-left-style: solid;\n",
       "font-family: var(--jp-code-font-family);\n",
       "font-size: var(--jp-code-font-size);\n",
       "line-height: var(--jp-code-line-height);\n",
       "\"><span style=\"color: var(--jp-warn-color2)\">astroquery</span> <span style=\"color: var(--jp-info-color0)\">INFO</span>: Query finished.</pre>"
      ],
      "text/plain": [
       "<IPython.core.display.HTML object>"
      ]
     },
     "metadata": {},
     "output_type": "display_data"
    },
    {
     "name": "stdout",
     "output_type": "stream",
     "text": [
      "INFO: Query finished. [astroquery.utils.tap.core]\n"
     ]
    },
    {
     "data": {
      "text/html": [
       "<pre style=\"margin: 0.1em;\n",
       "padding-left: 0.25em;\n",
       "border-left-style: solid;\n",
       "font-family: var(--jp-code-font-family);\n",
       "font-size: var(--jp-code-font-size);\n",
       "line-height: var(--jp-code-line-height);\n",
       "\"><span style=\"color: var(--jp-warn-color2)\">astroquery</span> <span style=\"color: var(--jp-info-color0)\">INFO</span>: Query finished.</pre>"
      ],
      "text/plain": [
       "<IPython.core.display.HTML object>"
      ]
     },
     "metadata": {},
     "output_type": "display_data"
    },
    {
     "name": "stdout",
     "output_type": "stream",
     "text": [
      "INFO: Query finished. [astroquery.utils.tap.core]\n"
     ]
    },
    {
     "data": {
      "text/html": [
       "<pre style=\"margin: 0.1em;\n",
       "padding-left: 0.25em;\n",
       "border-left-style: solid;\n",
       "font-family: var(--jp-code-font-family);\n",
       "font-size: var(--jp-code-font-size);\n",
       "line-height: var(--jp-code-line-height);\n",
       "\"><span style=\"color: var(--jp-warn-color2)\">astroquery</span> <span style=\"color: var(--jp-info-color0)\">INFO</span>: Query finished.</pre>"
      ],
      "text/plain": [
       "<IPython.core.display.HTML object>"
      ]
     },
     "metadata": {},
     "output_type": "display_data"
    },
    {
     "name": "stdout",
     "output_type": "stream",
     "text": [
      "INFO: Query finished. [astroquery.utils.tap.core]\n"
     ]
    },
    {
     "data": {
      "text/html": [
       "<pre style=\"margin: 0.1em;\n",
       "padding-left: 0.25em;\n",
       "border-left-style: solid;\n",
       "font-family: var(--jp-code-font-family);\n",
       "font-size: var(--jp-code-font-size);\n",
       "line-height: var(--jp-code-line-height);\n",
       "\"><span style=\"color: var(--jp-warn-color2)\">astroquery</span> <span style=\"color: var(--jp-info-color0)\">INFO</span>: Query finished.</pre>"
      ],
      "text/plain": [
       "<IPython.core.display.HTML object>"
      ]
     },
     "metadata": {},
     "output_type": "display_data"
    },
    {
     "name": "stdout",
     "output_type": "stream",
     "text": [
      "INFO: Query finished. [astroquery.utils.tap.core]\n"
     ]
    },
    {
     "data": {
      "text/html": [
       "<pre style=\"margin: 0.1em;\n",
       "padding-left: 0.25em;\n",
       "border-left-style: solid;\n",
       "font-family: var(--jp-code-font-family);\n",
       "font-size: var(--jp-code-font-size);\n",
       "line-height: var(--jp-code-line-height);\n",
       "\"><span style=\"color: var(--jp-warn-color2)\">astroquery</span> <span style=\"color: var(--jp-info-color0)\">INFO</span>: Query finished.</pre>"
      ],
      "text/plain": [
       "<IPython.core.display.HTML object>"
      ]
     },
     "metadata": {},
     "output_type": "display_data"
    },
    {
     "name": "stdout",
     "output_type": "stream",
     "text": [
      "INFO: Query finished. [astroquery.utils.tap.core]\n"
     ]
    },
    {
     "data": {
      "text/html": [
       "<pre style=\"margin: 0.1em;\n",
       "padding-left: 0.25em;\n",
       "border-left-style: solid;\n",
       "font-family: var(--jp-code-font-family);\n",
       "font-size: var(--jp-code-font-size);\n",
       "line-height: var(--jp-code-line-height);\n",
       "\"><span style=\"color: var(--jp-warn-color2)\">astroquery</span> <span style=\"color: var(--jp-info-color0)\">INFO</span>: Query finished.</pre>"
      ],
      "text/plain": [
       "<IPython.core.display.HTML object>"
      ]
     },
     "metadata": {},
     "output_type": "display_data"
    },
    {
     "name": "stdout",
     "output_type": "stream",
     "text": [
      "INFO: Query finished. [astroquery.utils.tap.core]\n"
     ]
    },
    {
     "data": {
      "text/html": [
       "<pre style=\"margin: 0.1em;\n",
       "padding-left: 0.25em;\n",
       "border-left-style: solid;\n",
       "font-family: var(--jp-code-font-family);\n",
       "font-size: var(--jp-code-font-size);\n",
       "line-height: var(--jp-code-line-height);\n",
       "\"><span style=\"color: var(--jp-warn-color2)\">astroquery</span> <span style=\"color: var(--jp-info-color0)\">INFO</span>: Query finished.</pre>"
      ],
      "text/plain": [
       "<IPython.core.display.HTML object>"
      ]
     },
     "metadata": {},
     "output_type": "display_data"
    },
    {
     "name": "stdout",
     "output_type": "stream",
     "text": [
      "INFO: Query finished. [astroquery.utils.tap.core]\n"
     ]
    },
    {
     "data": {
      "text/html": [
       "<pre style=\"margin: 0.1em;\n",
       "padding-left: 0.25em;\n",
       "border-left-style: solid;\n",
       "font-family: var(--jp-code-font-family);\n",
       "font-size: var(--jp-code-font-size);\n",
       "line-height: var(--jp-code-line-height);\n",
       "\"><span style=\"color: var(--jp-warn-color2)\">astroquery</span> <span style=\"color: var(--jp-info-color0)\">INFO</span>: Query finished.</pre>"
      ],
      "text/plain": [
       "<IPython.core.display.HTML object>"
      ]
     },
     "metadata": {},
     "output_type": "display_data"
    },
    {
     "name": "stdout",
     "output_type": "stream",
     "text": [
      "INFO: Query finished. [astroquery.utils.tap.core]\n"
     ]
    },
    {
     "data": {
      "text/html": [
       "<pre style=\"margin: 0.1em;\n",
       "padding-left: 0.25em;\n",
       "border-left-style: solid;\n",
       "font-family: var(--jp-code-font-family);\n",
       "font-size: var(--jp-code-font-size);\n",
       "line-height: var(--jp-code-line-height);\n",
       "\"><span style=\"color: var(--jp-warn-color2)\">astroquery</span> <span style=\"color: var(--jp-info-color0)\">INFO</span>: Query finished.</pre>"
      ],
      "text/plain": [
       "<IPython.core.display.HTML object>"
      ]
     },
     "metadata": {},
     "output_type": "display_data"
    },
    {
     "name": "stdout",
     "output_type": "stream",
     "text": [
      "INFO: Query finished. [astroquery.utils.tap.core]\n"
     ]
    },
    {
     "data": {
      "text/html": [
       "<pre style=\"margin: 0.1em;\n",
       "padding-left: 0.25em;\n",
       "border-left-style: solid;\n",
       "font-family: var(--jp-code-font-family);\n",
       "font-size: var(--jp-code-font-size);\n",
       "line-height: var(--jp-code-line-height);\n",
       "\"><span style=\"color: var(--jp-warn-color2)\">astroquery</span> <span style=\"color: var(--jp-info-color0)\">INFO</span>: Query finished.</pre>"
      ],
      "text/plain": [
       "<IPython.core.display.HTML object>"
      ]
     },
     "metadata": {},
     "output_type": "display_data"
    },
    {
     "name": "stdout",
     "output_type": "stream",
     "text": [
      "INFO: Query finished. [astroquery.utils.tap.core]\n"
     ]
    },
    {
     "data": {
      "text/html": [
       "<pre style=\"margin: 0.1em;\n",
       "padding-left: 0.25em;\n",
       "border-left-style: solid;\n",
       "font-family: var(--jp-code-font-family);\n",
       "font-size: var(--jp-code-font-size);\n",
       "line-height: var(--jp-code-line-height);\n",
       "\"><span style=\"color: var(--jp-warn-color2)\">astroquery</span> <span style=\"color: var(--jp-info-color0)\">INFO</span>: Query finished.</pre>"
      ],
      "text/plain": [
       "<IPython.core.display.HTML object>"
      ]
     },
     "metadata": {},
     "output_type": "display_data"
    },
    {
     "name": "stdout",
     "output_type": "stream",
     "text": [
      "INFO: Query finished. [astroquery.utils.tap.core]\n"
     ]
    },
    {
     "data": {
      "text/html": [
       "<pre style=\"margin: 0.1em;\n",
       "padding-left: 0.25em;\n",
       "border-left-style: solid;\n",
       "font-family: var(--jp-code-font-family);\n",
       "font-size: var(--jp-code-font-size);\n",
       "line-height: var(--jp-code-line-height);\n",
       "\"><span style=\"color: var(--jp-warn-color2)\">astroquery</span> <span style=\"color: var(--jp-info-color0)\">INFO</span>: Query finished.</pre>"
      ],
      "text/plain": [
       "<IPython.core.display.HTML object>"
      ]
     },
     "metadata": {},
     "output_type": "display_data"
    },
    {
     "name": "stdout",
     "output_type": "stream",
     "text": [
      "INFO: Query finished. [astroquery.utils.tap.core]\n"
     ]
    },
    {
     "data": {
      "text/html": [
       "<pre style=\"margin: 0.1em;\n",
       "padding-left: 0.25em;\n",
       "border-left-style: solid;\n",
       "font-family: var(--jp-code-font-family);\n",
       "font-size: var(--jp-code-font-size);\n",
       "line-height: var(--jp-code-line-height);\n",
       "\"><span style=\"color: var(--jp-warn-color2)\">astroquery</span> <span style=\"color: var(--jp-info-color0)\">INFO</span>: Query finished.</pre>"
      ],
      "text/plain": [
       "<IPython.core.display.HTML object>"
      ]
     },
     "metadata": {},
     "output_type": "display_data"
    },
    {
     "name": "stdout",
     "output_type": "stream",
     "text": [
      "INFO: Query finished. [astroquery.utils.tap.core]\n"
     ]
    },
    {
     "data": {
      "text/html": [
       "<pre style=\"margin: 0.1em;\n",
       "padding-left: 0.25em;\n",
       "border-left-style: solid;\n",
       "font-family: var(--jp-code-font-family);\n",
       "font-size: var(--jp-code-font-size);\n",
       "line-height: var(--jp-code-line-height);\n",
       "\"><span style=\"color: var(--jp-warn-color2)\">astroquery</span> <span style=\"color: var(--jp-info-color0)\">INFO</span>: Query finished.</pre>"
      ],
      "text/plain": [
       "<IPython.core.display.HTML object>"
      ]
     },
     "metadata": {},
     "output_type": "display_data"
    },
    {
     "name": "stdout",
     "output_type": "stream",
     "text": [
      "INFO: Query finished. [astroquery.utils.tap.core]\n"
     ]
    },
    {
     "data": {
      "text/html": [
       "<pre style=\"margin: 0.1em;\n",
       "padding-left: 0.25em;\n",
       "border-left-style: solid;\n",
       "font-family: var(--jp-code-font-family);\n",
       "font-size: var(--jp-code-font-size);\n",
       "line-height: var(--jp-code-line-height);\n",
       "\"><span style=\"color: var(--jp-warn-color2)\">astroquery</span> <span style=\"color: var(--jp-info-color0)\">INFO</span>: Query finished.</pre>"
      ],
      "text/plain": [
       "<IPython.core.display.HTML object>"
      ]
     },
     "metadata": {},
     "output_type": "display_data"
    },
    {
     "name": "stdout",
     "output_type": "stream",
     "text": [
      "INFO: Query finished. [astroquery.utils.tap.core]\n"
     ]
    },
    {
     "data": {
      "text/html": [
       "<pre style=\"margin: 0.1em;\n",
       "padding-left: 0.25em;\n",
       "border-left-style: solid;\n",
       "font-family: var(--jp-code-font-family);\n",
       "font-size: var(--jp-code-font-size);\n",
       "line-height: var(--jp-code-line-height);\n",
       "\"><span style=\"color: var(--jp-warn-color2)\">astroquery</span> <span style=\"color: var(--jp-info-color0)\">INFO</span>: Query finished.</pre>"
      ],
      "text/plain": [
       "<IPython.core.display.HTML object>"
      ]
     },
     "metadata": {},
     "output_type": "display_data"
    },
    {
     "name": "stdout",
     "output_type": "stream",
     "text": [
      "INFO: Query finished. [astroquery.utils.tap.core]\n"
     ]
    },
    {
     "data": {
      "text/html": [
       "<pre style=\"margin: 0.1em;\n",
       "padding-left: 0.25em;\n",
       "border-left-style: solid;\n",
       "font-family: var(--jp-code-font-family);\n",
       "font-size: var(--jp-code-font-size);\n",
       "line-height: var(--jp-code-line-height);\n",
       "\"><span style=\"color: var(--jp-warn-color2)\">astroquery</span> <span style=\"color: var(--jp-info-color0)\">INFO</span>: Query finished.</pre>"
      ],
      "text/plain": [
       "<IPython.core.display.HTML object>"
      ]
     },
     "metadata": {},
     "output_type": "display_data"
    },
    {
     "name": "stdout",
     "output_type": "stream",
     "text": [
      "INFO: Query finished. [astroquery.utils.tap.core]\n"
     ]
    },
    {
     "data": {
      "text/html": [
       "<pre style=\"margin: 0.1em;\n",
       "padding-left: 0.25em;\n",
       "border-left-style: solid;\n",
       "font-family: var(--jp-code-font-family);\n",
       "font-size: var(--jp-code-font-size);\n",
       "line-height: var(--jp-code-line-height);\n",
       "\"><span style=\"color: var(--jp-warn-color2)\">astroquery</span> <span style=\"color: var(--jp-info-color0)\">INFO</span>: Query finished.</pre>"
      ],
      "text/plain": [
       "<IPython.core.display.HTML object>"
      ]
     },
     "metadata": {},
     "output_type": "display_data"
    },
    {
     "name": "stdout",
     "output_type": "stream",
     "text": [
      "INFO: Query finished. [astroquery.utils.tap.core]\n"
     ]
    },
    {
     "data": {
      "text/html": [
       "<pre style=\"margin: 0.1em;\n",
       "padding-left: 0.25em;\n",
       "border-left-style: solid;\n",
       "font-family: var(--jp-code-font-family);\n",
       "font-size: var(--jp-code-font-size);\n",
       "line-height: var(--jp-code-line-height);\n",
       "\"><span style=\"color: var(--jp-warn-color2)\">astroquery</span> <span style=\"color: var(--jp-info-color0)\">INFO</span>: Query finished.</pre>"
      ],
      "text/plain": [
       "<IPython.core.display.HTML object>"
      ]
     },
     "metadata": {},
     "output_type": "display_data"
    },
    {
     "name": "stdout",
     "output_type": "stream",
     "text": [
      "INFO: Query finished. [astroquery.utils.tap.core]\n"
     ]
    },
    {
     "data": {
      "text/html": [
       "<pre style=\"margin: 0.1em;\n",
       "padding-left: 0.25em;\n",
       "border-left-style: solid;\n",
       "font-family: var(--jp-code-font-family);\n",
       "font-size: var(--jp-code-font-size);\n",
       "line-height: var(--jp-code-line-height);\n",
       "\"><span style=\"color: var(--jp-warn-color2)\">astroquery</span> <span style=\"color: var(--jp-info-color0)\">INFO</span>: Query finished.</pre>"
      ],
      "text/plain": [
       "<IPython.core.display.HTML object>"
      ]
     },
     "metadata": {},
     "output_type": "display_data"
    },
    {
     "name": "stdout",
     "output_type": "stream",
     "text": [
      "INFO: Query finished. [astroquery.utils.tap.core]\n"
     ]
    },
    {
     "data": {
      "text/html": [
       "<pre style=\"margin: 0.1em;\n",
       "padding-left: 0.25em;\n",
       "border-left-style: solid;\n",
       "font-family: var(--jp-code-font-family);\n",
       "font-size: var(--jp-code-font-size);\n",
       "line-height: var(--jp-code-line-height);\n",
       "\"><span style=\"color: var(--jp-warn-color2)\">astroquery</span> <span style=\"color: var(--jp-info-color0)\">INFO</span>: Query finished.</pre>"
      ],
      "text/plain": [
       "<IPython.core.display.HTML object>"
      ]
     },
     "metadata": {},
     "output_type": "display_data"
    },
    {
     "name": "stdout",
     "output_type": "stream",
     "text": [
      "INFO: Query finished. [astroquery.utils.tap.core]\n"
     ]
    },
    {
     "data": {
      "text/html": [
       "<pre style=\"margin: 0.1em;\n",
       "padding-left: 0.25em;\n",
       "border-left-style: solid;\n",
       "font-family: var(--jp-code-font-family);\n",
       "font-size: var(--jp-code-font-size);\n",
       "line-height: var(--jp-code-line-height);\n",
       "\"><span style=\"color: var(--jp-warn-color2)\">astroquery</span> <span style=\"color: var(--jp-info-color0)\">INFO</span>: Query finished.</pre>"
      ],
      "text/plain": [
       "<IPython.core.display.HTML object>"
      ]
     },
     "metadata": {},
     "output_type": "display_data"
    },
    {
     "name": "stdout",
     "output_type": "stream",
     "text": [
      "INFO: Query finished. [astroquery.utils.tap.core]\n"
     ]
    },
    {
     "data": {
      "text/html": [
       "<pre style=\"margin: 0.1em;\n",
       "padding-left: 0.25em;\n",
       "border-left-style: solid;\n",
       "font-family: var(--jp-code-font-family);\n",
       "font-size: var(--jp-code-font-size);\n",
       "line-height: var(--jp-code-line-height);\n",
       "\"><span style=\"color: var(--jp-warn-color2)\">astroquery</span> <span style=\"color: var(--jp-info-color0)\">INFO</span>: Query finished.</pre>"
      ],
      "text/plain": [
       "<IPython.core.display.HTML object>"
      ]
     },
     "metadata": {},
     "output_type": "display_data"
    },
    {
     "name": "stdout",
     "output_type": "stream",
     "text": [
      "INFO: Query finished. [astroquery.utils.tap.core]\n"
     ]
    },
    {
     "data": {
      "text/html": [
       "<pre style=\"margin: 0.1em;\n",
       "padding-left: 0.25em;\n",
       "border-left-style: solid;\n",
       "font-family: var(--jp-code-font-family);\n",
       "font-size: var(--jp-code-font-size);\n",
       "line-height: var(--jp-code-line-height);\n",
       "\"><span style=\"color: var(--jp-warn-color2)\">astroquery</span> <span style=\"color: var(--jp-info-color0)\">INFO</span>: Query finished.</pre>"
      ],
      "text/plain": [
       "<IPython.core.display.HTML object>"
      ]
     },
     "metadata": {},
     "output_type": "display_data"
    },
    {
     "name": "stdout",
     "output_type": "stream",
     "text": [
      "INFO: Query finished. [astroquery.utils.tap.core]\n"
     ]
    },
    {
     "data": {
      "text/html": [
       "<pre style=\"margin: 0.1em;\n",
       "padding-left: 0.25em;\n",
       "border-left-style: solid;\n",
       "font-family: var(--jp-code-font-family);\n",
       "font-size: var(--jp-code-font-size);\n",
       "line-height: var(--jp-code-line-height);\n",
       "\"><span style=\"color: var(--jp-warn-color2)\">astroquery</span> <span style=\"color: var(--jp-info-color0)\">INFO</span>: Query finished.</pre>"
      ],
      "text/plain": [
       "<IPython.core.display.HTML object>"
      ]
     },
     "metadata": {},
     "output_type": "display_data"
    },
    {
     "name": "stdout",
     "output_type": "stream",
     "text": [
      "INFO: Query finished. [astroquery.utils.tap.core]\n"
     ]
    },
    {
     "data": {
      "text/html": [
       "<pre style=\"margin: 0.1em;\n",
       "padding-left: 0.25em;\n",
       "border-left-style: solid;\n",
       "font-family: var(--jp-code-font-family);\n",
       "font-size: var(--jp-code-font-size);\n",
       "line-height: var(--jp-code-line-height);\n",
       "\"><span style=\"color: var(--jp-warn-color2)\">astroquery</span> <span style=\"color: var(--jp-info-color0)\">INFO</span>: Query finished.</pre>"
      ],
      "text/plain": [
       "<IPython.core.display.HTML object>"
      ]
     },
     "metadata": {},
     "output_type": "display_data"
    },
    {
     "name": "stdout",
     "output_type": "stream",
     "text": [
      "INFO: Query finished. [astroquery.utils.tap.core]\n"
     ]
    },
    {
     "data": {
      "text/html": [
       "<pre style=\"margin: 0.1em;\n",
       "padding-left: 0.25em;\n",
       "border-left-style: solid;\n",
       "font-family: var(--jp-code-font-family);\n",
       "font-size: var(--jp-code-font-size);\n",
       "line-height: var(--jp-code-line-height);\n",
       "\"><span style=\"color: var(--jp-warn-color2)\">astroquery</span> <span style=\"color: var(--jp-info-color0)\">INFO</span>: Query finished.</pre>"
      ],
      "text/plain": [
       "<IPython.core.display.HTML object>"
      ]
     },
     "metadata": {},
     "output_type": "display_data"
    },
    {
     "name": "stdout",
     "output_type": "stream",
     "text": [
      "INFO: Query finished. [astroquery.utils.tap.core]\n"
     ]
    },
    {
     "data": {
      "text/html": [
       "<pre style=\"margin: 0.1em;\n",
       "padding-left: 0.25em;\n",
       "border-left-style: solid;\n",
       "font-family: var(--jp-code-font-family);\n",
       "font-size: var(--jp-code-font-size);\n",
       "line-height: var(--jp-code-line-height);\n",
       "\"><span style=\"color: var(--jp-warn-color2)\">astroquery</span> <span style=\"color: var(--jp-info-color0)\">INFO</span>: Query finished.</pre>"
      ],
      "text/plain": [
       "<IPython.core.display.HTML object>"
      ]
     },
     "metadata": {},
     "output_type": "display_data"
    },
    {
     "name": "stdout",
     "output_type": "stream",
     "text": [
      "INFO: Query finished. [astroquery.utils.tap.core]\n"
     ]
    },
    {
     "data": {
      "text/html": [
       "<pre style=\"margin: 0.1em;\n",
       "padding-left: 0.25em;\n",
       "border-left-style: solid;\n",
       "font-family: var(--jp-code-font-family);\n",
       "font-size: var(--jp-code-font-size);\n",
       "line-height: var(--jp-code-line-height);\n",
       "\"><span style=\"color: var(--jp-warn-color2)\">astroquery</span> <span style=\"color: var(--jp-info-color0)\">INFO</span>: Query finished.</pre>"
      ],
      "text/plain": [
       "<IPython.core.display.HTML object>"
      ]
     },
     "metadata": {},
     "output_type": "display_data"
    },
    {
     "name": "stdout",
     "output_type": "stream",
     "text": [
      "INFO: Query finished. [astroquery.utils.tap.core]\n"
     ]
    },
    {
     "data": {
      "text/html": [
       "<pre style=\"margin: 0.1em;\n",
       "padding-left: 0.25em;\n",
       "border-left-style: solid;\n",
       "font-family: var(--jp-code-font-family);\n",
       "font-size: var(--jp-code-font-size);\n",
       "line-height: var(--jp-code-line-height);\n",
       "\"><span style=\"color: var(--jp-warn-color2)\">astroquery</span> <span style=\"color: var(--jp-info-color0)\">INFO</span>: Query finished.</pre>"
      ],
      "text/plain": [
       "<IPython.core.display.HTML object>"
      ]
     },
     "metadata": {},
     "output_type": "display_data"
    },
    {
     "name": "stdout",
     "output_type": "stream",
     "text": [
      "INFO: Query finished. [astroquery.utils.tap.core]\n"
     ]
    },
    {
     "data": {
      "text/html": [
       "<pre style=\"margin: 0.1em;\n",
       "padding-left: 0.25em;\n",
       "border-left-style: solid;\n",
       "font-family: var(--jp-code-font-family);\n",
       "font-size: var(--jp-code-font-size);\n",
       "line-height: var(--jp-code-line-height);\n",
       "\"><span style=\"color: var(--jp-warn-color2)\">astroquery</span> <span style=\"color: var(--jp-info-color0)\">INFO</span>: Query finished.</pre>"
      ],
      "text/plain": [
       "<IPython.core.display.HTML object>"
      ]
     },
     "metadata": {},
     "output_type": "display_data"
    },
    {
     "name": "stdout",
     "output_type": "stream",
     "text": [
      "INFO: Query finished. [astroquery.utils.tap.core]\n"
     ]
    },
    {
     "data": {
      "text/html": [
       "<pre style=\"margin: 0.1em;\n",
       "padding-left: 0.25em;\n",
       "border-left-style: solid;\n",
       "font-family: var(--jp-code-font-family);\n",
       "font-size: var(--jp-code-font-size);\n",
       "line-height: var(--jp-code-line-height);\n",
       "\"><span style=\"color: var(--jp-warn-color2)\">astroquery</span> <span style=\"color: var(--jp-info-color0)\">INFO</span>: Query finished.</pre>"
      ],
      "text/plain": [
       "<IPython.core.display.HTML object>"
      ]
     },
     "metadata": {},
     "output_type": "display_data"
    },
    {
     "name": "stdout",
     "output_type": "stream",
     "text": [
      "INFO: Query finished. [astroquery.utils.tap.core]\n"
     ]
    },
    {
     "data": {
      "text/html": [
       "<pre style=\"margin: 0.1em;\n",
       "padding-left: 0.25em;\n",
       "border-left-style: solid;\n",
       "font-family: var(--jp-code-font-family);\n",
       "font-size: var(--jp-code-font-size);\n",
       "line-height: var(--jp-code-line-height);\n",
       "\"><span style=\"color: var(--jp-warn-color2)\">astroquery</span> <span style=\"color: var(--jp-info-color0)\">INFO</span>: Query finished.</pre>"
      ],
      "text/plain": [
       "<IPython.core.display.HTML object>"
      ]
     },
     "metadata": {},
     "output_type": "display_data"
    },
    {
     "name": "stdout",
     "output_type": "stream",
     "text": [
      "INFO: Query finished. [astroquery.utils.tap.core]\n"
     ]
    },
    {
     "data": {
      "text/html": [
       "<pre style=\"margin: 0.1em;\n",
       "padding-left: 0.25em;\n",
       "border-left-style: solid;\n",
       "font-family: var(--jp-code-font-family);\n",
       "font-size: var(--jp-code-font-size);\n",
       "line-height: var(--jp-code-line-height);\n",
       "\"><span style=\"color: var(--jp-warn-color2)\">astroquery</span> <span style=\"color: var(--jp-info-color0)\">INFO</span>: Query finished.</pre>"
      ],
      "text/plain": [
       "<IPython.core.display.HTML object>"
      ]
     },
     "metadata": {},
     "output_type": "display_data"
    },
    {
     "name": "stdout",
     "output_type": "stream",
     "text": [
      "INFO: Query finished. [astroquery.utils.tap.core]\n"
     ]
    },
    {
     "data": {
      "text/html": [
       "<pre style=\"margin: 0.1em;\n",
       "padding-left: 0.25em;\n",
       "border-left-style: solid;\n",
       "font-family: var(--jp-code-font-family);\n",
       "font-size: var(--jp-code-font-size);\n",
       "line-height: var(--jp-code-line-height);\n",
       "\"><span style=\"color: var(--jp-warn-color2)\">astroquery</span> <span style=\"color: var(--jp-info-color0)\">INFO</span>: Query finished.</pre>"
      ],
      "text/plain": [
       "<IPython.core.display.HTML object>"
      ]
     },
     "metadata": {},
     "output_type": "display_data"
    },
    {
     "name": "stdout",
     "output_type": "stream",
     "text": [
      "INFO: Query finished. [astroquery.utils.tap.core]\n"
     ]
    },
    {
     "data": {
      "text/html": [
       "<pre style=\"margin: 0.1em;\n",
       "padding-left: 0.25em;\n",
       "border-left-style: solid;\n",
       "font-family: var(--jp-code-font-family);\n",
       "font-size: var(--jp-code-font-size);\n",
       "line-height: var(--jp-code-line-height);\n",
       "\"><span style=\"color: var(--jp-warn-color2)\">astroquery</span> <span style=\"color: var(--jp-info-color0)\">INFO</span>: Query finished.</pre>"
      ],
      "text/plain": [
       "<IPython.core.display.HTML object>"
      ]
     },
     "metadata": {},
     "output_type": "display_data"
    },
    {
     "name": "stdout",
     "output_type": "stream",
     "text": [
      "INFO: Query finished. [astroquery.utils.tap.core]\n"
     ]
    },
    {
     "data": {
      "text/html": [
       "<pre style=\"margin: 0.1em;\n",
       "padding-left: 0.25em;\n",
       "border-left-style: solid;\n",
       "font-family: var(--jp-code-font-family);\n",
       "font-size: var(--jp-code-font-size);\n",
       "line-height: var(--jp-code-line-height);\n",
       "\"><span style=\"color: var(--jp-warn-color2)\">astroquery</span> <span style=\"color: var(--jp-info-color0)\">INFO</span>: Query finished.</pre>"
      ],
      "text/plain": [
       "<IPython.core.display.HTML object>"
      ]
     },
     "metadata": {},
     "output_type": "display_data"
    },
    {
     "name": "stdout",
     "output_type": "stream",
     "text": [
      "INFO: Query finished. [astroquery.utils.tap.core]\n"
     ]
    },
    {
     "data": {
      "text/html": [
       "<pre style=\"margin: 0.1em;\n",
       "padding-left: 0.25em;\n",
       "border-left-style: solid;\n",
       "font-family: var(--jp-code-font-family);\n",
       "font-size: var(--jp-code-font-size);\n",
       "line-height: var(--jp-code-line-height);\n",
       "\"><span style=\"color: var(--jp-warn-color2)\">astroquery</span> <span style=\"color: var(--jp-info-color0)\">INFO</span>: Query finished.</pre>"
      ],
      "text/plain": [
       "<IPython.core.display.HTML object>"
      ]
     },
     "metadata": {},
     "output_type": "display_data"
    },
    {
     "name": "stdout",
     "output_type": "stream",
     "text": [
      "INFO: Query finished. [astroquery.utils.tap.core]\n"
     ]
    },
    {
     "data": {
      "text/html": [
       "<pre style=\"margin: 0.1em;\n",
       "padding-left: 0.25em;\n",
       "border-left-style: solid;\n",
       "font-family: var(--jp-code-font-family);\n",
       "font-size: var(--jp-code-font-size);\n",
       "line-height: var(--jp-code-line-height);\n",
       "\"><span style=\"color: var(--jp-warn-color2)\">astroquery</span> <span style=\"color: var(--jp-info-color0)\">INFO</span>: Query finished.</pre>"
      ],
      "text/plain": [
       "<IPython.core.display.HTML object>"
      ]
     },
     "metadata": {},
     "output_type": "display_data"
    },
    {
     "name": "stdout",
     "output_type": "stream",
     "text": [
      "INFO: Query finished. [astroquery.utils.tap.core]\n"
     ]
    },
    {
     "data": {
      "text/html": [
       "<pre style=\"margin: 0.1em;\n",
       "padding-left: 0.25em;\n",
       "border-left-style: solid;\n",
       "font-family: var(--jp-code-font-family);\n",
       "font-size: var(--jp-code-font-size);\n",
       "line-height: var(--jp-code-line-height);\n",
       "\"><span style=\"color: var(--jp-warn-color2)\">astroquery</span> <span style=\"color: var(--jp-info-color0)\">INFO</span>: Query finished.</pre>"
      ],
      "text/plain": [
       "<IPython.core.display.HTML object>"
      ]
     },
     "metadata": {},
     "output_type": "display_data"
    },
    {
     "name": "stdout",
     "output_type": "stream",
     "text": [
      "INFO: Query finished. [astroquery.utils.tap.core]\n"
     ]
    },
    {
     "data": {
      "text/html": [
       "<pre style=\"margin: 0.1em;\n",
       "padding-left: 0.25em;\n",
       "border-left-style: solid;\n",
       "font-family: var(--jp-code-font-family);\n",
       "font-size: var(--jp-code-font-size);\n",
       "line-height: var(--jp-code-line-height);\n",
       "\"><span style=\"color: var(--jp-warn-color2)\">astroquery</span> <span style=\"color: var(--jp-info-color0)\">INFO</span>: Query finished.</pre>"
      ],
      "text/plain": [
       "<IPython.core.display.HTML object>"
      ]
     },
     "metadata": {},
     "output_type": "display_data"
    },
    {
     "name": "stdout",
     "output_type": "stream",
     "text": [
      "INFO: Query finished. [astroquery.utils.tap.core]\n"
     ]
    },
    {
     "data": {
      "text/html": [
       "<pre style=\"margin: 0.1em;\n",
       "padding-left: 0.25em;\n",
       "border-left-style: solid;\n",
       "font-family: var(--jp-code-font-family);\n",
       "font-size: var(--jp-code-font-size);\n",
       "line-height: var(--jp-code-line-height);\n",
       "\"><span style=\"color: var(--jp-warn-color2)\">astroquery</span> <span style=\"color: var(--jp-info-color0)\">INFO</span>: Query finished.</pre>"
      ],
      "text/plain": [
       "<IPython.core.display.HTML object>"
      ]
     },
     "metadata": {},
     "output_type": "display_data"
    },
    {
     "name": "stdout",
     "output_type": "stream",
     "text": [
      "INFO: Query finished. [astroquery.utils.tap.core]\n"
     ]
    },
    {
     "data": {
      "text/html": [
       "<pre style=\"margin: 0.1em;\n",
       "padding-left: 0.25em;\n",
       "border-left-style: solid;\n",
       "font-family: var(--jp-code-font-family);\n",
       "font-size: var(--jp-code-font-size);\n",
       "line-height: var(--jp-code-line-height);\n",
       "\"><span style=\"color: var(--jp-warn-color2)\">astroquery</span> <span style=\"color: var(--jp-info-color0)\">INFO</span>: Query finished.</pre>"
      ],
      "text/plain": [
       "<IPython.core.display.HTML object>"
      ]
     },
     "metadata": {},
     "output_type": "display_data"
    },
    {
     "name": "stdout",
     "output_type": "stream",
     "text": [
      "INFO: Query finished. [astroquery.utils.tap.core]\n"
     ]
    },
    {
     "data": {
      "text/html": [
       "<pre style=\"margin: 0.1em;\n",
       "padding-left: 0.25em;\n",
       "border-left-style: solid;\n",
       "font-family: var(--jp-code-font-family);\n",
       "font-size: var(--jp-code-font-size);\n",
       "line-height: var(--jp-code-line-height);\n",
       "\"><span style=\"color: var(--jp-warn-color2)\">astroquery</span> <span style=\"color: var(--jp-info-color0)\">INFO</span>: Query finished.</pre>"
      ],
      "text/plain": [
       "<IPython.core.display.HTML object>"
      ]
     },
     "metadata": {},
     "output_type": "display_data"
    },
    {
     "name": "stdout",
     "output_type": "stream",
     "text": [
      "INFO: Query finished. [astroquery.utils.tap.core]\n"
     ]
    },
    {
     "data": {
      "text/html": [
       "<pre style=\"margin: 0.1em;\n",
       "padding-left: 0.25em;\n",
       "border-left-style: solid;\n",
       "font-family: var(--jp-code-font-family);\n",
       "font-size: var(--jp-code-font-size);\n",
       "line-height: var(--jp-code-line-height);\n",
       "\"><span style=\"color: var(--jp-warn-color2)\">astroquery</span> <span style=\"color: var(--jp-info-color0)\">INFO</span>: Query finished.</pre>"
      ],
      "text/plain": [
       "<IPython.core.display.HTML object>"
      ]
     },
     "metadata": {},
     "output_type": "display_data"
    },
    {
     "name": "stdout",
     "output_type": "stream",
     "text": [
      "INFO: Query finished. [astroquery.utils.tap.core]\n"
     ]
    },
    {
     "data": {
      "text/html": [
       "<pre style=\"margin: 0.1em;\n",
       "padding-left: 0.25em;\n",
       "border-left-style: solid;\n",
       "font-family: var(--jp-code-font-family);\n",
       "font-size: var(--jp-code-font-size);\n",
       "line-height: var(--jp-code-line-height);\n",
       "\"><span style=\"color: var(--jp-warn-color2)\">astroquery</span> <span style=\"color: var(--jp-info-color0)\">INFO</span>: Query finished.</pre>"
      ],
      "text/plain": [
       "<IPython.core.display.HTML object>"
      ]
     },
     "metadata": {},
     "output_type": "display_data"
    },
    {
     "name": "stdout",
     "output_type": "stream",
     "text": [
      "INFO: Query finished. [astroquery.utils.tap.core]\n"
     ]
    },
    {
     "data": {
      "text/html": [
       "<pre style=\"margin: 0.1em;\n",
       "padding-left: 0.25em;\n",
       "border-left-style: solid;\n",
       "font-family: var(--jp-code-font-family);\n",
       "font-size: var(--jp-code-font-size);\n",
       "line-height: var(--jp-code-line-height);\n",
       "\"><span style=\"color: var(--jp-warn-color2)\">astroquery</span> <span style=\"color: var(--jp-info-color0)\">INFO</span>: Query finished.</pre>"
      ],
      "text/plain": [
       "<IPython.core.display.HTML object>"
      ]
     },
     "metadata": {},
     "output_type": "display_data"
    },
    {
     "name": "stdout",
     "output_type": "stream",
     "text": [
      "INFO: Query finished. [astroquery.utils.tap.core]\n"
     ]
    },
    {
     "data": {
      "text/html": [
       "<pre style=\"margin: 0.1em;\n",
       "padding-left: 0.25em;\n",
       "border-left-style: solid;\n",
       "font-family: var(--jp-code-font-family);\n",
       "font-size: var(--jp-code-font-size);\n",
       "line-height: var(--jp-code-line-height);\n",
       "\"><span style=\"color: var(--jp-warn-color2)\">astroquery</span> <span style=\"color: var(--jp-info-color0)\">INFO</span>: Query finished.</pre>"
      ],
      "text/plain": [
       "<IPython.core.display.HTML object>"
      ]
     },
     "metadata": {},
     "output_type": "display_data"
    },
    {
     "name": "stdout",
     "output_type": "stream",
     "text": [
      "INFO: Query finished. [astroquery.utils.tap.core]\n"
     ]
    },
    {
     "data": {
      "text/html": [
       "<pre style=\"margin: 0.1em;\n",
       "padding-left: 0.25em;\n",
       "border-left-style: solid;\n",
       "font-family: var(--jp-code-font-family);\n",
       "font-size: var(--jp-code-font-size);\n",
       "line-height: var(--jp-code-line-height);\n",
       "\"><span style=\"color: var(--jp-warn-color2)\">astroquery</span> <span style=\"color: var(--jp-info-color0)\">INFO</span>: Query finished.</pre>"
      ],
      "text/plain": [
       "<IPython.core.display.HTML object>"
      ]
     },
     "metadata": {},
     "output_type": "display_data"
    },
    {
     "name": "stdout",
     "output_type": "stream",
     "text": [
      "INFO: Query finished. [astroquery.utils.tap.core]\n"
     ]
    },
    {
     "data": {
      "text/html": [
       "<pre style=\"margin: 0.1em;\n",
       "padding-left: 0.25em;\n",
       "border-left-style: solid;\n",
       "font-family: var(--jp-code-font-family);\n",
       "font-size: var(--jp-code-font-size);\n",
       "line-height: var(--jp-code-line-height);\n",
       "\"><span style=\"color: var(--jp-warn-color2)\">astroquery</span> <span style=\"color: var(--jp-info-color0)\">INFO</span>: Query finished.</pre>"
      ],
      "text/plain": [
       "<IPython.core.display.HTML object>"
      ]
     },
     "metadata": {},
     "output_type": "display_data"
    },
    {
     "name": "stdout",
     "output_type": "stream",
     "text": [
      "INFO: Query finished. [astroquery.utils.tap.core]\n"
     ]
    },
    {
     "data": {
      "text/html": [
       "<pre style=\"margin: 0.1em;\n",
       "padding-left: 0.25em;\n",
       "border-left-style: solid;\n",
       "font-family: var(--jp-code-font-family);\n",
       "font-size: var(--jp-code-font-size);\n",
       "line-height: var(--jp-code-line-height);\n",
       "\"><span style=\"color: var(--jp-warn-color2)\">astroquery</span> <span style=\"color: var(--jp-info-color0)\">INFO</span>: Query finished.</pre>"
      ],
      "text/plain": [
       "<IPython.core.display.HTML object>"
      ]
     },
     "metadata": {},
     "output_type": "display_data"
    },
    {
     "name": "stdout",
     "output_type": "stream",
     "text": [
      "INFO: Query finished. [astroquery.utils.tap.core]\n"
     ]
    },
    {
     "data": {
      "text/html": [
       "<pre style=\"margin: 0.1em;\n",
       "padding-left: 0.25em;\n",
       "border-left-style: solid;\n",
       "font-family: var(--jp-code-font-family);\n",
       "font-size: var(--jp-code-font-size);\n",
       "line-height: var(--jp-code-line-height);\n",
       "\"><span style=\"color: var(--jp-warn-color2)\">astroquery</span> <span style=\"color: var(--jp-info-color0)\">INFO</span>: Query finished.</pre>"
      ],
      "text/plain": [
       "<IPython.core.display.HTML object>"
      ]
     },
     "metadata": {},
     "output_type": "display_data"
    },
    {
     "name": "stdout",
     "output_type": "stream",
     "text": [
      "INFO: Query finished. [astroquery.utils.tap.core]\n"
     ]
    },
    {
     "data": {
      "text/html": [
       "<pre style=\"margin: 0.1em;\n",
       "padding-left: 0.25em;\n",
       "border-left-style: solid;\n",
       "font-family: var(--jp-code-font-family);\n",
       "font-size: var(--jp-code-font-size);\n",
       "line-height: var(--jp-code-line-height);\n",
       "\"><span style=\"color: var(--jp-warn-color2)\">astroquery</span> <span style=\"color: var(--jp-info-color0)\">INFO</span>: Query finished.</pre>"
      ],
      "text/plain": [
       "<IPython.core.display.HTML object>"
      ]
     },
     "metadata": {},
     "output_type": "display_data"
    },
    {
     "name": "stdout",
     "output_type": "stream",
     "text": [
      "INFO: Query finished. [astroquery.utils.tap.core]\n"
     ]
    },
    {
     "data": {
      "text/html": [
       "<pre style=\"margin: 0.1em;\n",
       "padding-left: 0.25em;\n",
       "border-left-style: solid;\n",
       "font-family: var(--jp-code-font-family);\n",
       "font-size: var(--jp-code-font-size);\n",
       "line-height: var(--jp-code-line-height);\n",
       "\"><span style=\"color: var(--jp-warn-color2)\">astroquery</span> <span style=\"color: var(--jp-info-color0)\">INFO</span>: Query finished.</pre>"
      ],
      "text/plain": [
       "<IPython.core.display.HTML object>"
      ]
     },
     "metadata": {},
     "output_type": "display_data"
    },
    {
     "name": "stdout",
     "output_type": "stream",
     "text": [
      "INFO: Query finished. [astroquery.utils.tap.core]\n"
     ]
    },
    {
     "data": {
      "text/html": [
       "<pre style=\"margin: 0.1em;\n",
       "padding-left: 0.25em;\n",
       "border-left-style: solid;\n",
       "font-family: var(--jp-code-font-family);\n",
       "font-size: var(--jp-code-font-size);\n",
       "line-height: var(--jp-code-line-height);\n",
       "\"><span style=\"color: var(--jp-warn-color2)\">astroquery</span> <span style=\"color: var(--jp-info-color0)\">INFO</span>: Query finished.</pre>"
      ],
      "text/plain": [
       "<IPython.core.display.HTML object>"
      ]
     },
     "metadata": {},
     "output_type": "display_data"
    },
    {
     "name": "stdout",
     "output_type": "stream",
     "text": [
      "INFO: Query finished. [astroquery.utils.tap.core]\n"
     ]
    },
    {
     "data": {
      "text/html": [
       "<pre style=\"margin: 0.1em;\n",
       "padding-left: 0.25em;\n",
       "border-left-style: solid;\n",
       "font-family: var(--jp-code-font-family);\n",
       "font-size: var(--jp-code-font-size);\n",
       "line-height: var(--jp-code-line-height);\n",
       "\"><span style=\"color: var(--jp-warn-color2)\">astroquery</span> <span style=\"color: var(--jp-info-color0)\">INFO</span>: Query finished.</pre>"
      ],
      "text/plain": [
       "<IPython.core.display.HTML object>"
      ]
     },
     "metadata": {},
     "output_type": "display_data"
    },
    {
     "name": "stdout",
     "output_type": "stream",
     "text": [
      "INFO: Query finished. [astroquery.utils.tap.core]\n"
     ]
    },
    {
     "data": {
      "text/html": [
       "<pre style=\"margin: 0.1em;\n",
       "padding-left: 0.25em;\n",
       "border-left-style: solid;\n",
       "font-family: var(--jp-code-font-family);\n",
       "font-size: var(--jp-code-font-size);\n",
       "line-height: var(--jp-code-line-height);\n",
       "\"><span style=\"color: var(--jp-warn-color2)\">astroquery</span> <span style=\"color: var(--jp-info-color0)\">INFO</span>: Query finished.</pre>"
      ],
      "text/plain": [
       "<IPython.core.display.HTML object>"
      ]
     },
     "metadata": {},
     "output_type": "display_data"
    },
    {
     "name": "stdout",
     "output_type": "stream",
     "text": [
      "INFO: Query finished. [astroquery.utils.tap.core]\n"
     ]
    },
    {
     "data": {
      "text/html": [
       "<pre style=\"margin: 0.1em;\n",
       "padding-left: 0.25em;\n",
       "border-left-style: solid;\n",
       "font-family: var(--jp-code-font-family);\n",
       "font-size: var(--jp-code-font-size);\n",
       "line-height: var(--jp-code-line-height);\n",
       "\"><span style=\"color: var(--jp-warn-color2)\">astroquery</span> <span style=\"color: var(--jp-info-color0)\">INFO</span>: Query finished.</pre>"
      ],
      "text/plain": [
       "<IPython.core.display.HTML object>"
      ]
     },
     "metadata": {},
     "output_type": "display_data"
    },
    {
     "name": "stdout",
     "output_type": "stream",
     "text": [
      "INFO: Query finished. [astroquery.utils.tap.core]\n"
     ]
    },
    {
     "data": {
      "text/html": [
       "<pre style=\"margin: 0.1em;\n",
       "padding-left: 0.25em;\n",
       "border-left-style: solid;\n",
       "font-family: var(--jp-code-font-family);\n",
       "font-size: var(--jp-code-font-size);\n",
       "line-height: var(--jp-code-line-height);\n",
       "\"><span style=\"color: var(--jp-warn-color2)\">astroquery</span> <span style=\"color: var(--jp-info-color0)\">INFO</span>: Query finished.</pre>"
      ],
      "text/plain": [
       "<IPython.core.display.HTML object>"
      ]
     },
     "metadata": {},
     "output_type": "display_data"
    },
    {
     "name": "stdout",
     "output_type": "stream",
     "text": [
      "INFO: Query finished. [astroquery.utils.tap.core]\n"
     ]
    },
    {
     "data": {
      "text/html": [
       "<pre style=\"margin: 0.1em;\n",
       "padding-left: 0.25em;\n",
       "border-left-style: solid;\n",
       "font-family: var(--jp-code-font-family);\n",
       "font-size: var(--jp-code-font-size);\n",
       "line-height: var(--jp-code-line-height);\n",
       "\"><span style=\"color: var(--jp-warn-color2)\">astroquery</span> <span style=\"color: var(--jp-info-color0)\">INFO</span>: Query finished.</pre>"
      ],
      "text/plain": [
       "<IPython.core.display.HTML object>"
      ]
     },
     "metadata": {},
     "output_type": "display_data"
    },
    {
     "name": "stdout",
     "output_type": "stream",
     "text": [
      "INFO: Query finished. [astroquery.utils.tap.core]\n"
     ]
    },
    {
     "data": {
      "text/html": [
       "<pre style=\"margin: 0.1em;\n",
       "padding-left: 0.25em;\n",
       "border-left-style: solid;\n",
       "font-family: var(--jp-code-font-family);\n",
       "font-size: var(--jp-code-font-size);\n",
       "line-height: var(--jp-code-line-height);\n",
       "\"><span style=\"color: var(--jp-warn-color2)\">astroquery</span> <span style=\"color: var(--jp-info-color0)\">INFO</span>: Query finished.</pre>"
      ],
      "text/plain": [
       "<IPython.core.display.HTML object>"
      ]
     },
     "metadata": {},
     "output_type": "display_data"
    },
    {
     "name": "stdout",
     "output_type": "stream",
     "text": [
      "INFO: Query finished. [astroquery.utils.tap.core]\n"
     ]
    },
    {
     "data": {
      "text/html": [
       "<pre style=\"margin: 0.1em;\n",
       "padding-left: 0.25em;\n",
       "border-left-style: solid;\n",
       "font-family: var(--jp-code-font-family);\n",
       "font-size: var(--jp-code-font-size);\n",
       "line-height: var(--jp-code-line-height);\n",
       "\"><span style=\"color: var(--jp-warn-color2)\">astroquery</span> <span style=\"color: var(--jp-info-color0)\">INFO</span>: Query finished.</pre>"
      ],
      "text/plain": [
       "<IPython.core.display.HTML object>"
      ]
     },
     "metadata": {},
     "output_type": "display_data"
    },
    {
     "name": "stdout",
     "output_type": "stream",
     "text": [
      "INFO: Query finished. [astroquery.utils.tap.core]\n"
     ]
    },
    {
     "data": {
      "text/html": [
       "<pre style=\"margin: 0.1em;\n",
       "padding-left: 0.25em;\n",
       "border-left-style: solid;\n",
       "font-family: var(--jp-code-font-family);\n",
       "font-size: var(--jp-code-font-size);\n",
       "line-height: var(--jp-code-line-height);\n",
       "\"><span style=\"color: var(--jp-warn-color2)\">astroquery</span> <span style=\"color: var(--jp-info-color0)\">INFO</span>: Query finished.</pre>"
      ],
      "text/plain": [
       "<IPython.core.display.HTML object>"
      ]
     },
     "metadata": {},
     "output_type": "display_data"
    },
    {
     "name": "stdout",
     "output_type": "stream",
     "text": [
      "INFO: Query finished. [astroquery.utils.tap.core]\n"
     ]
    },
    {
     "data": {
      "text/html": [
       "<pre style=\"margin: 0.1em;\n",
       "padding-left: 0.25em;\n",
       "border-left-style: solid;\n",
       "font-family: var(--jp-code-font-family);\n",
       "font-size: var(--jp-code-font-size);\n",
       "line-height: var(--jp-code-line-height);\n",
       "\"><span style=\"color: var(--jp-warn-color2)\">astroquery</span> <span style=\"color: var(--jp-info-color0)\">INFO</span>: Query finished.</pre>"
      ],
      "text/plain": [
       "<IPython.core.display.HTML object>"
      ]
     },
     "metadata": {},
     "output_type": "display_data"
    },
    {
     "name": "stdout",
     "output_type": "stream",
     "text": [
      "INFO: Query finished. [astroquery.utils.tap.core]\n"
     ]
    },
    {
     "data": {
      "text/html": [
       "<pre style=\"margin: 0.1em;\n",
       "padding-left: 0.25em;\n",
       "border-left-style: solid;\n",
       "font-family: var(--jp-code-font-family);\n",
       "font-size: var(--jp-code-font-size);\n",
       "line-height: var(--jp-code-line-height);\n",
       "\"><span style=\"color: var(--jp-warn-color2)\">astroquery</span> <span style=\"color: var(--jp-info-color0)\">INFO</span>: Query finished.</pre>"
      ],
      "text/plain": [
       "<IPython.core.display.HTML object>"
      ]
     },
     "metadata": {},
     "output_type": "display_data"
    },
    {
     "name": "stdout",
     "output_type": "stream",
     "text": [
      "INFO: Query finished. [astroquery.utils.tap.core]\n"
     ]
    },
    {
     "data": {
      "text/html": [
       "<pre style=\"margin: 0.1em;\n",
       "padding-left: 0.25em;\n",
       "border-left-style: solid;\n",
       "font-family: var(--jp-code-font-family);\n",
       "font-size: var(--jp-code-font-size);\n",
       "line-height: var(--jp-code-line-height);\n",
       "\"><span style=\"color: var(--jp-warn-color2)\">astroquery</span> <span style=\"color: var(--jp-info-color0)\">INFO</span>: Query finished.</pre>"
      ],
      "text/plain": [
       "<IPython.core.display.HTML object>"
      ]
     },
     "metadata": {},
     "output_type": "display_data"
    },
    {
     "name": "stdout",
     "output_type": "stream",
     "text": [
      "INFO: Query finished. [astroquery.utils.tap.core]\n"
     ]
    },
    {
     "data": {
      "text/html": [
       "<pre style=\"margin: 0.1em;\n",
       "padding-left: 0.25em;\n",
       "border-left-style: solid;\n",
       "font-family: var(--jp-code-font-family);\n",
       "font-size: var(--jp-code-font-size);\n",
       "line-height: var(--jp-code-line-height);\n",
       "\"><span style=\"color: var(--jp-warn-color2)\">astroquery</span> <span style=\"color: var(--jp-info-color0)\">INFO</span>: Query finished.</pre>"
      ],
      "text/plain": [
       "<IPython.core.display.HTML object>"
      ]
     },
     "metadata": {},
     "output_type": "display_data"
    },
    {
     "name": "stdout",
     "output_type": "stream",
     "text": [
      "INFO: Query finished. [astroquery.utils.tap.core]\n"
     ]
    },
    {
     "data": {
      "text/html": [
       "<pre style=\"margin: 0.1em;\n",
       "padding-left: 0.25em;\n",
       "border-left-style: solid;\n",
       "font-family: var(--jp-code-font-family);\n",
       "font-size: var(--jp-code-font-size);\n",
       "line-height: var(--jp-code-line-height);\n",
       "\"><span style=\"color: var(--jp-warn-color2)\">astroquery</span> <span style=\"color: var(--jp-info-color0)\">INFO</span>: Query finished.</pre>"
      ],
      "text/plain": [
       "<IPython.core.display.HTML object>"
      ]
     },
     "metadata": {},
     "output_type": "display_data"
    },
    {
     "name": "stdout",
     "output_type": "stream",
     "text": [
      "INFO: Query finished. [astroquery.utils.tap.core]\n"
     ]
    },
    {
     "data": {
      "text/html": [
       "<pre style=\"margin: 0.1em;\n",
       "padding-left: 0.25em;\n",
       "border-left-style: solid;\n",
       "font-family: var(--jp-code-font-family);\n",
       "font-size: var(--jp-code-font-size);\n",
       "line-height: var(--jp-code-line-height);\n",
       "\"><span style=\"color: var(--jp-warn-color2)\">astroquery</span> <span style=\"color: var(--jp-info-color0)\">INFO</span>: Query finished.</pre>"
      ],
      "text/plain": [
       "<IPython.core.display.HTML object>"
      ]
     },
     "metadata": {},
     "output_type": "display_data"
    },
    {
     "name": "stdout",
     "output_type": "stream",
     "text": [
      "INFO: Query finished. [astroquery.utils.tap.core]\n"
     ]
    },
    {
     "data": {
      "text/html": [
       "<pre style=\"margin: 0.1em;\n",
       "padding-left: 0.25em;\n",
       "border-left-style: solid;\n",
       "font-family: var(--jp-code-font-family);\n",
       "font-size: var(--jp-code-font-size);\n",
       "line-height: var(--jp-code-line-height);\n",
       "\"><span style=\"color: var(--jp-warn-color2)\">astroquery</span> <span style=\"color: var(--jp-info-color0)\">INFO</span>: Query finished.</pre>"
      ],
      "text/plain": [
       "<IPython.core.display.HTML object>"
      ]
     },
     "metadata": {},
     "output_type": "display_data"
    },
    {
     "name": "stdout",
     "output_type": "stream",
     "text": [
      "INFO: Query finished. [astroquery.utils.tap.core]\n"
     ]
    },
    {
     "data": {
      "text/html": [
       "<pre style=\"margin: 0.1em;\n",
       "padding-left: 0.25em;\n",
       "border-left-style: solid;\n",
       "font-family: var(--jp-code-font-family);\n",
       "font-size: var(--jp-code-font-size);\n",
       "line-height: var(--jp-code-line-height);\n",
       "\"><span style=\"color: var(--jp-warn-color2)\">astroquery</span> <span style=\"color: var(--jp-info-color0)\">INFO</span>: Query finished.</pre>"
      ],
      "text/plain": [
       "<IPython.core.display.HTML object>"
      ]
     },
     "metadata": {},
     "output_type": "display_data"
    },
    {
     "name": "stdout",
     "output_type": "stream",
     "text": [
      "INFO: Query finished. [astroquery.utils.tap.core]\n"
     ]
    },
    {
     "data": {
      "text/html": [
       "<pre style=\"margin: 0.1em;\n",
       "padding-left: 0.25em;\n",
       "border-left-style: solid;\n",
       "font-family: var(--jp-code-font-family);\n",
       "font-size: var(--jp-code-font-size);\n",
       "line-height: var(--jp-code-line-height);\n",
       "\"><span style=\"color: var(--jp-warn-color2)\">astroquery</span> <span style=\"color: var(--jp-info-color0)\">INFO</span>: Query finished.</pre>"
      ],
      "text/plain": [
       "<IPython.core.display.HTML object>"
      ]
     },
     "metadata": {},
     "output_type": "display_data"
    },
    {
     "name": "stdout",
     "output_type": "stream",
     "text": [
      "INFO: Query finished. [astroquery.utils.tap.core]\n"
     ]
    },
    {
     "data": {
      "text/html": [
       "<pre style=\"margin: 0.1em;\n",
       "padding-left: 0.25em;\n",
       "border-left-style: solid;\n",
       "font-family: var(--jp-code-font-family);\n",
       "font-size: var(--jp-code-font-size);\n",
       "line-height: var(--jp-code-line-height);\n",
       "\"><span style=\"color: var(--jp-warn-color2)\">astroquery</span> <span style=\"color: var(--jp-info-color0)\">INFO</span>: Query finished.</pre>"
      ],
      "text/plain": [
       "<IPython.core.display.HTML object>"
      ]
     },
     "metadata": {},
     "output_type": "display_data"
    },
    {
     "name": "stdout",
     "output_type": "stream",
     "text": [
      "INFO: Query finished. [astroquery.utils.tap.core]\n"
     ]
    },
    {
     "data": {
      "text/html": [
       "<pre style=\"margin: 0.1em;\n",
       "padding-left: 0.25em;\n",
       "border-left-style: solid;\n",
       "font-family: var(--jp-code-font-family);\n",
       "font-size: var(--jp-code-font-size);\n",
       "line-height: var(--jp-code-line-height);\n",
       "\"><span style=\"color: var(--jp-warn-color2)\">astroquery</span> <span style=\"color: var(--jp-info-color0)\">INFO</span>: Query finished.</pre>"
      ],
      "text/plain": [
       "<IPython.core.display.HTML object>"
      ]
     },
     "metadata": {},
     "output_type": "display_data"
    },
    {
     "name": "stdout",
     "output_type": "stream",
     "text": [
      "INFO: Query finished. [astroquery.utils.tap.core]\n"
     ]
    },
    {
     "data": {
      "text/html": [
       "<pre style=\"margin: 0.1em;\n",
       "padding-left: 0.25em;\n",
       "border-left-style: solid;\n",
       "font-family: var(--jp-code-font-family);\n",
       "font-size: var(--jp-code-font-size);\n",
       "line-height: var(--jp-code-line-height);\n",
       "\"><span style=\"color: var(--jp-warn-color2)\">astroquery</span> <span style=\"color: var(--jp-info-color0)\">INFO</span>: Query finished.</pre>"
      ],
      "text/plain": [
       "<IPython.core.display.HTML object>"
      ]
     },
     "metadata": {},
     "output_type": "display_data"
    },
    {
     "name": "stdout",
     "output_type": "stream",
     "text": [
      "INFO: Query finished. [astroquery.utils.tap.core]\n"
     ]
    },
    {
     "data": {
      "text/html": [
       "<pre style=\"margin: 0.1em;\n",
       "padding-left: 0.25em;\n",
       "border-left-style: solid;\n",
       "font-family: var(--jp-code-font-family);\n",
       "font-size: var(--jp-code-font-size);\n",
       "line-height: var(--jp-code-line-height);\n",
       "\"><span style=\"color: var(--jp-warn-color2)\">astroquery</span> <span style=\"color: var(--jp-info-color0)\">INFO</span>: Query finished.</pre>"
      ],
      "text/plain": [
       "<IPython.core.display.HTML object>"
      ]
     },
     "metadata": {},
     "output_type": "display_data"
    },
    {
     "name": "stdout",
     "output_type": "stream",
     "text": [
      "INFO: Query finished. [astroquery.utils.tap.core]\n"
     ]
    },
    {
     "data": {
      "text/html": [
       "<pre style=\"margin: 0.1em;\n",
       "padding-left: 0.25em;\n",
       "border-left-style: solid;\n",
       "font-family: var(--jp-code-font-family);\n",
       "font-size: var(--jp-code-font-size);\n",
       "line-height: var(--jp-code-line-height);\n",
       "\"><span style=\"color: var(--jp-warn-color2)\">astroquery</span> <span style=\"color: var(--jp-info-color0)\">INFO</span>: Query finished.</pre>"
      ],
      "text/plain": [
       "<IPython.core.display.HTML object>"
      ]
     },
     "metadata": {},
     "output_type": "display_data"
    },
    {
     "name": "stdout",
     "output_type": "stream",
     "text": [
      "INFO: Query finished. [astroquery.utils.tap.core]\n"
     ]
    },
    {
     "data": {
      "text/html": [
       "<pre style=\"margin: 0.1em;\n",
       "padding-left: 0.25em;\n",
       "border-left-style: solid;\n",
       "font-family: var(--jp-code-font-family);\n",
       "font-size: var(--jp-code-font-size);\n",
       "line-height: var(--jp-code-line-height);\n",
       "\"><span style=\"color: var(--jp-warn-color2)\">astroquery</span> <span style=\"color: var(--jp-info-color0)\">INFO</span>: Query finished.</pre>"
      ],
      "text/plain": [
       "<IPython.core.display.HTML object>"
      ]
     },
     "metadata": {},
     "output_type": "display_data"
    },
    {
     "name": "stdout",
     "output_type": "stream",
     "text": [
      "INFO: Query finished. [astroquery.utils.tap.core]\n"
     ]
    },
    {
     "data": {
      "text/html": [
       "<pre style=\"margin: 0.1em;\n",
       "padding-left: 0.25em;\n",
       "border-left-style: solid;\n",
       "font-family: var(--jp-code-font-family);\n",
       "font-size: var(--jp-code-font-size);\n",
       "line-height: var(--jp-code-line-height);\n",
       "\"><span style=\"color: var(--jp-warn-color2)\">astroquery</span> <span style=\"color: var(--jp-info-color0)\">INFO</span>: Query finished.</pre>"
      ],
      "text/plain": [
       "<IPython.core.display.HTML object>"
      ]
     },
     "metadata": {},
     "output_type": "display_data"
    },
    {
     "name": "stdout",
     "output_type": "stream",
     "text": [
      "INFO: Query finished. [astroquery.utils.tap.core]\n"
     ]
    },
    {
     "data": {
      "text/html": [
       "<pre style=\"margin: 0.1em;\n",
       "padding-left: 0.25em;\n",
       "border-left-style: solid;\n",
       "font-family: var(--jp-code-font-family);\n",
       "font-size: var(--jp-code-font-size);\n",
       "line-height: var(--jp-code-line-height);\n",
       "\"><span style=\"color: var(--jp-warn-color2)\">astroquery</span> <span style=\"color: var(--jp-info-color0)\">INFO</span>: Query finished.</pre>"
      ],
      "text/plain": [
       "<IPython.core.display.HTML object>"
      ]
     },
     "metadata": {},
     "output_type": "display_data"
    },
    {
     "name": "stdout",
     "output_type": "stream",
     "text": [
      "INFO: Query finished. [astroquery.utils.tap.core]\n"
     ]
    },
    {
     "data": {
      "text/html": [
       "<pre style=\"margin: 0.1em;\n",
       "padding-left: 0.25em;\n",
       "border-left-style: solid;\n",
       "font-family: var(--jp-code-font-family);\n",
       "font-size: var(--jp-code-font-size);\n",
       "line-height: var(--jp-code-line-height);\n",
       "\"><span style=\"color: var(--jp-warn-color2)\">astroquery</span> <span style=\"color: var(--jp-info-color0)\">INFO</span>: Query finished.</pre>"
      ],
      "text/plain": [
       "<IPython.core.display.HTML object>"
      ]
     },
     "metadata": {},
     "output_type": "display_data"
    },
    {
     "name": "stdout",
     "output_type": "stream",
     "text": [
      "INFO: Query finished. [astroquery.utils.tap.core]\n"
     ]
    },
    {
     "data": {
      "text/html": [
       "<pre style=\"margin: 0.1em;\n",
       "padding-left: 0.25em;\n",
       "border-left-style: solid;\n",
       "font-family: var(--jp-code-font-family);\n",
       "font-size: var(--jp-code-font-size);\n",
       "line-height: var(--jp-code-line-height);\n",
       "\"><span style=\"color: var(--jp-warn-color2)\">astroquery</span> <span style=\"color: var(--jp-info-color0)\">INFO</span>: Query finished.</pre>"
      ],
      "text/plain": [
       "<IPython.core.display.HTML object>"
      ]
     },
     "metadata": {},
     "output_type": "display_data"
    },
    {
     "name": "stdout",
     "output_type": "stream",
     "text": [
      "INFO: Query finished. [astroquery.utils.tap.core]\n"
     ]
    },
    {
     "data": {
      "text/html": [
       "<pre style=\"margin: 0.1em;\n",
       "padding-left: 0.25em;\n",
       "border-left-style: solid;\n",
       "font-family: var(--jp-code-font-family);\n",
       "font-size: var(--jp-code-font-size);\n",
       "line-height: var(--jp-code-line-height);\n",
       "\"><span style=\"color: var(--jp-warn-color2)\">astroquery</span> <span style=\"color: var(--jp-info-color0)\">INFO</span>: Query finished.</pre>"
      ],
      "text/plain": [
       "<IPython.core.display.HTML object>"
      ]
     },
     "metadata": {},
     "output_type": "display_data"
    },
    {
     "name": "stdout",
     "output_type": "stream",
     "text": [
      "INFO: Query finished. [astroquery.utils.tap.core]\n"
     ]
    },
    {
     "data": {
      "text/html": [
       "<pre style=\"margin: 0.1em;\n",
       "padding-left: 0.25em;\n",
       "border-left-style: solid;\n",
       "font-family: var(--jp-code-font-family);\n",
       "font-size: var(--jp-code-font-size);\n",
       "line-height: var(--jp-code-line-height);\n",
       "\"><span style=\"color: var(--jp-warn-color2)\">astroquery</span> <span style=\"color: var(--jp-info-color0)\">INFO</span>: Query finished.</pre>"
      ],
      "text/plain": [
       "<IPython.core.display.HTML object>"
      ]
     },
     "metadata": {},
     "output_type": "display_data"
    },
    {
     "name": "stdout",
     "output_type": "stream",
     "text": [
      "INFO: Query finished. [astroquery.utils.tap.core]\n"
     ]
    },
    {
     "data": {
      "text/html": [
       "<pre style=\"margin: 0.1em;\n",
       "padding-left: 0.25em;\n",
       "border-left-style: solid;\n",
       "font-family: var(--jp-code-font-family);\n",
       "font-size: var(--jp-code-font-size);\n",
       "line-height: var(--jp-code-line-height);\n",
       "\"><span style=\"color: var(--jp-warn-color2)\">astroquery</span> <span style=\"color: var(--jp-info-color0)\">INFO</span>: Query finished.</pre>"
      ],
      "text/plain": [
       "<IPython.core.display.HTML object>"
      ]
     },
     "metadata": {},
     "output_type": "display_data"
    },
    {
     "name": "stdout",
     "output_type": "stream",
     "text": [
      "INFO: Query finished. [astroquery.utils.tap.core]\n"
     ]
    },
    {
     "data": {
      "text/html": [
       "<pre style=\"margin: 0.1em;\n",
       "padding-left: 0.25em;\n",
       "border-left-style: solid;\n",
       "font-family: var(--jp-code-font-family);\n",
       "font-size: var(--jp-code-font-size);\n",
       "line-height: var(--jp-code-line-height);\n",
       "\"><span style=\"color: var(--jp-warn-color2)\">astroquery</span> <span style=\"color: var(--jp-info-color0)\">INFO</span>: Query finished.</pre>"
      ],
      "text/plain": [
       "<IPython.core.display.HTML object>"
      ]
     },
     "metadata": {},
     "output_type": "display_data"
    },
    {
     "name": "stdout",
     "output_type": "stream",
     "text": [
      "INFO: Query finished. [astroquery.utils.tap.core]\n"
     ]
    },
    {
     "data": {
      "text/html": [
       "<pre style=\"margin: 0.1em;\n",
       "padding-left: 0.25em;\n",
       "border-left-style: solid;\n",
       "font-family: var(--jp-code-font-family);\n",
       "font-size: var(--jp-code-font-size);\n",
       "line-height: var(--jp-code-line-height);\n",
       "\"><span style=\"color: var(--jp-warn-color2)\">astroquery</span> <span style=\"color: var(--jp-info-color0)\">INFO</span>: Query finished.</pre>"
      ],
      "text/plain": [
       "<IPython.core.display.HTML object>"
      ]
     },
     "metadata": {},
     "output_type": "display_data"
    },
    {
     "name": "stdout",
     "output_type": "stream",
     "text": [
      "INFO: Query finished. [astroquery.utils.tap.core]\n"
     ]
    },
    {
     "data": {
      "text/html": [
       "<pre style=\"margin: 0.1em;\n",
       "padding-left: 0.25em;\n",
       "border-left-style: solid;\n",
       "font-family: var(--jp-code-font-family);\n",
       "font-size: var(--jp-code-font-size);\n",
       "line-height: var(--jp-code-line-height);\n",
       "\"><span style=\"color: var(--jp-warn-color2)\">astroquery</span> <span style=\"color: var(--jp-info-color0)\">INFO</span>: Query finished.</pre>"
      ],
      "text/plain": [
       "<IPython.core.display.HTML object>"
      ]
     },
     "metadata": {},
     "output_type": "display_data"
    },
    {
     "name": "stdout",
     "output_type": "stream",
     "text": [
      "INFO: Query finished. [astroquery.utils.tap.core]\n"
     ]
    },
    {
     "data": {
      "text/html": [
       "<pre style=\"margin: 0.1em;\n",
       "padding-left: 0.25em;\n",
       "border-left-style: solid;\n",
       "font-family: var(--jp-code-font-family);\n",
       "font-size: var(--jp-code-font-size);\n",
       "line-height: var(--jp-code-line-height);\n",
       "\"><span style=\"color: var(--jp-warn-color2)\">astroquery</span> <span style=\"color: var(--jp-info-color0)\">INFO</span>: Query finished.</pre>"
      ],
      "text/plain": [
       "<IPython.core.display.HTML object>"
      ]
     },
     "metadata": {},
     "output_type": "display_data"
    },
    {
     "name": "stdout",
     "output_type": "stream",
     "text": [
      "INFO: Query finished. [astroquery.utils.tap.core]\n"
     ]
    },
    {
     "data": {
      "text/html": [
       "<pre style=\"margin: 0.1em;\n",
       "padding-left: 0.25em;\n",
       "border-left-style: solid;\n",
       "font-family: var(--jp-code-font-family);\n",
       "font-size: var(--jp-code-font-size);\n",
       "line-height: var(--jp-code-line-height);\n",
       "\"><span style=\"color: var(--jp-warn-color2)\">astroquery</span> <span style=\"color: var(--jp-info-color0)\">INFO</span>: Query finished.</pre>"
      ],
      "text/plain": [
       "<IPython.core.display.HTML object>"
      ]
     },
     "metadata": {},
     "output_type": "display_data"
    },
    {
     "name": "stdout",
     "output_type": "stream",
     "text": [
      "INFO: Query finished. [astroquery.utils.tap.core]\n"
     ]
    },
    {
     "data": {
      "text/html": [
       "<pre style=\"margin: 0.1em;\n",
       "padding-left: 0.25em;\n",
       "border-left-style: solid;\n",
       "font-family: var(--jp-code-font-family);\n",
       "font-size: var(--jp-code-font-size);\n",
       "line-height: var(--jp-code-line-height);\n",
       "\"><span style=\"color: var(--jp-warn-color2)\">astroquery</span> <span style=\"color: var(--jp-info-color0)\">INFO</span>: Query finished.</pre>"
      ],
      "text/plain": [
       "<IPython.core.display.HTML object>"
      ]
     },
     "metadata": {},
     "output_type": "display_data"
    },
    {
     "name": "stdout",
     "output_type": "stream",
     "text": [
      "INFO: Query finished. [astroquery.utils.tap.core]\n"
     ]
    },
    {
     "data": {
      "text/html": [
       "<pre style=\"margin: 0.1em;\n",
       "padding-left: 0.25em;\n",
       "border-left-style: solid;\n",
       "font-family: var(--jp-code-font-family);\n",
       "font-size: var(--jp-code-font-size);\n",
       "line-height: var(--jp-code-line-height);\n",
       "\"><span style=\"color: var(--jp-warn-color2)\">astroquery</span> <span style=\"color: var(--jp-info-color0)\">INFO</span>: Query finished.</pre>"
      ],
      "text/plain": [
       "<IPython.core.display.HTML object>"
      ]
     },
     "metadata": {},
     "output_type": "display_data"
    },
    {
     "name": "stdout",
     "output_type": "stream",
     "text": [
      "INFO: Query finished. [astroquery.utils.tap.core]\n"
     ]
    },
    {
     "data": {
      "text/html": [
       "<pre style=\"margin: 0.1em;\n",
       "padding-left: 0.25em;\n",
       "border-left-style: solid;\n",
       "font-family: var(--jp-code-font-family);\n",
       "font-size: var(--jp-code-font-size);\n",
       "line-height: var(--jp-code-line-height);\n",
       "\"><span style=\"color: var(--jp-warn-color2)\">astroquery</span> <span style=\"color: var(--jp-info-color0)\">INFO</span>: Query finished.</pre>"
      ],
      "text/plain": [
       "<IPython.core.display.HTML object>"
      ]
     },
     "metadata": {},
     "output_type": "display_data"
    },
    {
     "name": "stdout",
     "output_type": "stream",
     "text": [
      "INFO: Query finished. [astroquery.utils.tap.core]\n"
     ]
    },
    {
     "data": {
      "text/html": [
       "<pre style=\"margin: 0.1em;\n",
       "padding-left: 0.25em;\n",
       "border-left-style: solid;\n",
       "font-family: var(--jp-code-font-family);\n",
       "font-size: var(--jp-code-font-size);\n",
       "line-height: var(--jp-code-line-height);\n",
       "\"><span style=\"color: var(--jp-warn-color2)\">astroquery</span> <span style=\"color: var(--jp-info-color0)\">INFO</span>: Query finished.</pre>"
      ],
      "text/plain": [
       "<IPython.core.display.HTML object>"
      ]
     },
     "metadata": {},
     "output_type": "display_data"
    },
    {
     "name": "stdout",
     "output_type": "stream",
     "text": [
      "INFO: Query finished. [astroquery.utils.tap.core]\n"
     ]
    },
    {
     "data": {
      "text/html": [
       "<pre style=\"margin: 0.1em;\n",
       "padding-left: 0.25em;\n",
       "border-left-style: solid;\n",
       "font-family: var(--jp-code-font-family);\n",
       "font-size: var(--jp-code-font-size);\n",
       "line-height: var(--jp-code-line-height);\n",
       "\"><span style=\"color: var(--jp-warn-color2)\">astroquery</span> <span style=\"color: var(--jp-info-color0)\">INFO</span>: Query finished.</pre>"
      ],
      "text/plain": [
       "<IPython.core.display.HTML object>"
      ]
     },
     "metadata": {},
     "output_type": "display_data"
    },
    {
     "name": "stdout",
     "output_type": "stream",
     "text": [
      "INFO: Query finished. [astroquery.utils.tap.core]\n"
     ]
    },
    {
     "data": {
      "text/html": [
       "<pre style=\"margin: 0.1em;\n",
       "padding-left: 0.25em;\n",
       "border-left-style: solid;\n",
       "font-family: var(--jp-code-font-family);\n",
       "font-size: var(--jp-code-font-size);\n",
       "line-height: var(--jp-code-line-height);\n",
       "\"><span style=\"color: var(--jp-warn-color2)\">astroquery</span> <span style=\"color: var(--jp-info-color0)\">INFO</span>: Query finished.</pre>"
      ],
      "text/plain": [
       "<IPython.core.display.HTML object>"
      ]
     },
     "metadata": {},
     "output_type": "display_data"
    },
    {
     "name": "stdout",
     "output_type": "stream",
     "text": [
      "INFO: Query finished. [astroquery.utils.tap.core]\n"
     ]
    },
    {
     "data": {
      "text/html": [
       "<pre style=\"margin: 0.1em;\n",
       "padding-left: 0.25em;\n",
       "border-left-style: solid;\n",
       "font-family: var(--jp-code-font-family);\n",
       "font-size: var(--jp-code-font-size);\n",
       "line-height: var(--jp-code-line-height);\n",
       "\"><span style=\"color: var(--jp-warn-color2)\">astroquery</span> <span style=\"color: var(--jp-info-color0)\">INFO</span>: Query finished.</pre>"
      ],
      "text/plain": [
       "<IPython.core.display.HTML object>"
      ]
     },
     "metadata": {},
     "output_type": "display_data"
    },
    {
     "name": "stdout",
     "output_type": "stream",
     "text": [
      "INFO: Query finished. [astroquery.utils.tap.core]\n"
     ]
    },
    {
     "data": {
      "text/html": [
       "<pre style=\"margin: 0.1em;\n",
       "padding-left: 0.25em;\n",
       "border-left-style: solid;\n",
       "font-family: var(--jp-code-font-family);\n",
       "font-size: var(--jp-code-font-size);\n",
       "line-height: var(--jp-code-line-height);\n",
       "\"><span style=\"color: var(--jp-warn-color2)\">astroquery</span> <span style=\"color: var(--jp-info-color0)\">INFO</span>: Query finished.</pre>"
      ],
      "text/plain": [
       "<IPython.core.display.HTML object>"
      ]
     },
     "metadata": {},
     "output_type": "display_data"
    },
    {
     "name": "stdout",
     "output_type": "stream",
     "text": [
      "INFO: Query finished. [astroquery.utils.tap.core]\n"
     ]
    },
    {
     "data": {
      "text/html": [
       "<pre style=\"margin: 0.1em;\n",
       "padding-left: 0.25em;\n",
       "border-left-style: solid;\n",
       "font-family: var(--jp-code-font-family);\n",
       "font-size: var(--jp-code-font-size);\n",
       "line-height: var(--jp-code-line-height);\n",
       "\"><span style=\"color: var(--jp-warn-color2)\">astroquery</span> <span style=\"color: var(--jp-info-color0)\">INFO</span>: Query finished.</pre>"
      ],
      "text/plain": [
       "<IPython.core.display.HTML object>"
      ]
     },
     "metadata": {},
     "output_type": "display_data"
    },
    {
     "name": "stdout",
     "output_type": "stream",
     "text": [
      "INFO: Query finished. [astroquery.utils.tap.core]\n"
     ]
    },
    {
     "data": {
      "text/html": [
       "<pre style=\"margin: 0.1em;\n",
       "padding-left: 0.25em;\n",
       "border-left-style: solid;\n",
       "font-family: var(--jp-code-font-family);\n",
       "font-size: var(--jp-code-font-size);\n",
       "line-height: var(--jp-code-line-height);\n",
       "\"><span style=\"color: var(--jp-warn-color2)\">astroquery</span> <span style=\"color: var(--jp-info-color0)\">INFO</span>: Query finished.</pre>"
      ],
      "text/plain": [
       "<IPython.core.display.HTML object>"
      ]
     },
     "metadata": {},
     "output_type": "display_data"
    },
    {
     "name": "stdout",
     "output_type": "stream",
     "text": [
      "INFO: Query finished. [astroquery.utils.tap.core]\n"
     ]
    },
    {
     "data": {
      "text/html": [
       "<pre style=\"margin: 0.1em;\n",
       "padding-left: 0.25em;\n",
       "border-left-style: solid;\n",
       "font-family: var(--jp-code-font-family);\n",
       "font-size: var(--jp-code-font-size);\n",
       "line-height: var(--jp-code-line-height);\n",
       "\"><span style=\"color: var(--jp-warn-color2)\">astroquery</span> <span style=\"color: var(--jp-info-color0)\">INFO</span>: Query finished.</pre>"
      ],
      "text/plain": [
       "<IPython.core.display.HTML object>"
      ]
     },
     "metadata": {},
     "output_type": "display_data"
    },
    {
     "name": "stdout",
     "output_type": "stream",
     "text": [
      "INFO: Query finished. [astroquery.utils.tap.core]\n"
     ]
    },
    {
     "data": {
      "text/html": [
       "<pre style=\"margin: 0.1em;\n",
       "padding-left: 0.25em;\n",
       "border-left-style: solid;\n",
       "font-family: var(--jp-code-font-family);\n",
       "font-size: var(--jp-code-font-size);\n",
       "line-height: var(--jp-code-line-height);\n",
       "\"><span style=\"color: var(--jp-warn-color2)\">astroquery</span> <span style=\"color: var(--jp-info-color0)\">INFO</span>: Query finished.</pre>"
      ],
      "text/plain": [
       "<IPython.core.display.HTML object>"
      ]
     },
     "metadata": {},
     "output_type": "display_data"
    },
    {
     "name": "stdout",
     "output_type": "stream",
     "text": [
      "INFO: Query finished. [astroquery.utils.tap.core]\n"
     ]
    },
    {
     "data": {
      "text/html": [
       "<pre style=\"margin: 0.1em;\n",
       "padding-left: 0.25em;\n",
       "border-left-style: solid;\n",
       "font-family: var(--jp-code-font-family);\n",
       "font-size: var(--jp-code-font-size);\n",
       "line-height: var(--jp-code-line-height);\n",
       "\"><span style=\"color: var(--jp-warn-color2)\">astroquery</span> <span style=\"color: var(--jp-info-color0)\">INFO</span>: Query finished.</pre>"
      ],
      "text/plain": [
       "<IPython.core.display.HTML object>"
      ]
     },
     "metadata": {},
     "output_type": "display_data"
    },
    {
     "name": "stdout",
     "output_type": "stream",
     "text": [
      "INFO: Query finished. [astroquery.utils.tap.core]\n"
     ]
    },
    {
     "data": {
      "text/html": [
       "<pre style=\"margin: 0.1em;\n",
       "padding-left: 0.25em;\n",
       "border-left-style: solid;\n",
       "font-family: var(--jp-code-font-family);\n",
       "font-size: var(--jp-code-font-size);\n",
       "line-height: var(--jp-code-line-height);\n",
       "\"><span style=\"color: var(--jp-warn-color2)\">astroquery</span> <span style=\"color: var(--jp-info-color0)\">INFO</span>: Query finished.</pre>"
      ],
      "text/plain": [
       "<IPython.core.display.HTML object>"
      ]
     },
     "metadata": {},
     "output_type": "display_data"
    },
    {
     "name": "stdout",
     "output_type": "stream",
     "text": [
      "INFO: Query finished. [astroquery.utils.tap.core]\n"
     ]
    },
    {
     "data": {
      "text/html": [
       "<pre style=\"margin: 0.1em;\n",
       "padding-left: 0.25em;\n",
       "border-left-style: solid;\n",
       "font-family: var(--jp-code-font-family);\n",
       "font-size: var(--jp-code-font-size);\n",
       "line-height: var(--jp-code-line-height);\n",
       "\"><span style=\"color: var(--jp-warn-color2)\">astroquery</span> <span style=\"color: var(--jp-info-color0)\">INFO</span>: Query finished.</pre>"
      ],
      "text/plain": [
       "<IPython.core.display.HTML object>"
      ]
     },
     "metadata": {},
     "output_type": "display_data"
    },
    {
     "name": "stdout",
     "output_type": "stream",
     "text": [
      "INFO: Query finished. [astroquery.utils.tap.core]\n"
     ]
    },
    {
     "data": {
      "text/html": [
       "<pre style=\"margin: 0.1em;\n",
       "padding-left: 0.25em;\n",
       "border-left-style: solid;\n",
       "font-family: var(--jp-code-font-family);\n",
       "font-size: var(--jp-code-font-size);\n",
       "line-height: var(--jp-code-line-height);\n",
       "\"><span style=\"color: var(--jp-warn-color2)\">astroquery</span> <span style=\"color: var(--jp-info-color0)\">INFO</span>: Query finished.</pre>"
      ],
      "text/plain": [
       "<IPython.core.display.HTML object>"
      ]
     },
     "metadata": {},
     "output_type": "display_data"
    },
    {
     "name": "stdout",
     "output_type": "stream",
     "text": [
      "INFO: Query finished. [astroquery.utils.tap.core]\n"
     ]
    },
    {
     "data": {
      "text/html": [
       "<pre style=\"margin: 0.1em;\n",
       "padding-left: 0.25em;\n",
       "border-left-style: solid;\n",
       "font-family: var(--jp-code-font-family);\n",
       "font-size: var(--jp-code-font-size);\n",
       "line-height: var(--jp-code-line-height);\n",
       "\"><span style=\"color: var(--jp-warn-color2)\">astroquery</span> <span style=\"color: var(--jp-info-color0)\">INFO</span>: Query finished.</pre>"
      ],
      "text/plain": [
       "<IPython.core.display.HTML object>"
      ]
     },
     "metadata": {},
     "output_type": "display_data"
    },
    {
     "name": "stdout",
     "output_type": "stream",
     "text": [
      "INFO: Query finished. [astroquery.utils.tap.core]\n"
     ]
    },
    {
     "data": {
      "text/html": [
       "<pre style=\"margin: 0.1em;\n",
       "padding-left: 0.25em;\n",
       "border-left-style: solid;\n",
       "font-family: var(--jp-code-font-family);\n",
       "font-size: var(--jp-code-font-size);\n",
       "line-height: var(--jp-code-line-height);\n",
       "\"><span style=\"color: var(--jp-warn-color2)\">astroquery</span> <span style=\"color: var(--jp-info-color0)\">INFO</span>: Query finished.</pre>"
      ],
      "text/plain": [
       "<IPython.core.display.HTML object>"
      ]
     },
     "metadata": {},
     "output_type": "display_data"
    },
    {
     "name": "stdout",
     "output_type": "stream",
     "text": [
      "INFO: Query finished. [astroquery.utils.tap.core]\n"
     ]
    },
    {
     "data": {
      "text/html": [
       "<pre style=\"margin: 0.1em;\n",
       "padding-left: 0.25em;\n",
       "border-left-style: solid;\n",
       "font-family: var(--jp-code-font-family);\n",
       "font-size: var(--jp-code-font-size);\n",
       "line-height: var(--jp-code-line-height);\n",
       "\"><span style=\"color: var(--jp-warn-color2)\">astroquery</span> <span style=\"color: var(--jp-info-color0)\">INFO</span>: Query finished.</pre>"
      ],
      "text/plain": [
       "<IPython.core.display.HTML object>"
      ]
     },
     "metadata": {},
     "output_type": "display_data"
    },
    {
     "name": "stdout",
     "output_type": "stream",
     "text": [
      "INFO: Query finished. [astroquery.utils.tap.core]\n"
     ]
    },
    {
     "data": {
      "text/html": [
       "<pre style=\"margin: 0.1em;\n",
       "padding-left: 0.25em;\n",
       "border-left-style: solid;\n",
       "font-family: var(--jp-code-font-family);\n",
       "font-size: var(--jp-code-font-size);\n",
       "line-height: var(--jp-code-line-height);\n",
       "\"><span style=\"color: var(--jp-warn-color2)\">astroquery</span> <span style=\"color: var(--jp-info-color0)\">INFO</span>: Query finished.</pre>"
      ],
      "text/plain": [
       "<IPython.core.display.HTML object>"
      ]
     },
     "metadata": {},
     "output_type": "display_data"
    },
    {
     "name": "stdout",
     "output_type": "stream",
     "text": [
      "INFO: Query finished. [astroquery.utils.tap.core]\n"
     ]
    },
    {
     "data": {
      "text/html": [
       "<pre style=\"margin: 0.1em;\n",
       "padding-left: 0.25em;\n",
       "border-left-style: solid;\n",
       "font-family: var(--jp-code-font-family);\n",
       "font-size: var(--jp-code-font-size);\n",
       "line-height: var(--jp-code-line-height);\n",
       "\"><span style=\"color: var(--jp-warn-color2)\">astroquery</span> <span style=\"color: var(--jp-info-color0)\">INFO</span>: Query finished.</pre>"
      ],
      "text/plain": [
       "<IPython.core.display.HTML object>"
      ]
     },
     "metadata": {},
     "output_type": "display_data"
    },
    {
     "name": "stdout",
     "output_type": "stream",
     "text": [
      "INFO: Query finished. [astroquery.utils.tap.core]\n"
     ]
    },
    {
     "data": {
      "text/html": [
       "<pre style=\"margin: 0.1em;\n",
       "padding-left: 0.25em;\n",
       "border-left-style: solid;\n",
       "font-family: var(--jp-code-font-family);\n",
       "font-size: var(--jp-code-font-size);\n",
       "line-height: var(--jp-code-line-height);\n",
       "\"><span style=\"color: var(--jp-warn-color2)\">astroquery</span> <span style=\"color: var(--jp-info-color0)\">INFO</span>: Query finished.</pre>"
      ],
      "text/plain": [
       "<IPython.core.display.HTML object>"
      ]
     },
     "metadata": {},
     "output_type": "display_data"
    },
    {
     "name": "stdout",
     "output_type": "stream",
     "text": [
      "INFO: Query finished. [astroquery.utils.tap.core]\n"
     ]
    },
    {
     "data": {
      "text/html": [
       "<pre style=\"margin: 0.1em;\n",
       "padding-left: 0.25em;\n",
       "border-left-style: solid;\n",
       "font-family: var(--jp-code-font-family);\n",
       "font-size: var(--jp-code-font-size);\n",
       "line-height: var(--jp-code-line-height);\n",
       "\"><span style=\"color: var(--jp-warn-color2)\">astroquery</span> <span style=\"color: var(--jp-info-color0)\">INFO</span>: Query finished.</pre>"
      ],
      "text/plain": [
       "<IPython.core.display.HTML object>"
      ]
     },
     "metadata": {},
     "output_type": "display_data"
    },
    {
     "name": "stdout",
     "output_type": "stream",
     "text": [
      "INFO: Query finished. [astroquery.utils.tap.core]\n"
     ]
    },
    {
     "data": {
      "text/html": [
       "<pre style=\"margin: 0.1em;\n",
       "padding-left: 0.25em;\n",
       "border-left-style: solid;\n",
       "font-family: var(--jp-code-font-family);\n",
       "font-size: var(--jp-code-font-size);\n",
       "line-height: var(--jp-code-line-height);\n",
       "\"><span style=\"color: var(--jp-warn-color2)\">astroquery</span> <span style=\"color: var(--jp-info-color0)\">INFO</span>: Query finished.</pre>"
      ],
      "text/plain": [
       "<IPython.core.display.HTML object>"
      ]
     },
     "metadata": {},
     "output_type": "display_data"
    },
    {
     "name": "stdout",
     "output_type": "stream",
     "text": [
      "INFO: Query finished. [astroquery.utils.tap.core]\n"
     ]
    },
    {
     "data": {
      "text/html": [
       "<pre style=\"margin: 0.1em;\n",
       "padding-left: 0.25em;\n",
       "border-left-style: solid;\n",
       "font-family: var(--jp-code-font-family);\n",
       "font-size: var(--jp-code-font-size);\n",
       "line-height: var(--jp-code-line-height);\n",
       "\"><span style=\"color: var(--jp-warn-color2)\">astroquery</span> <span style=\"color: var(--jp-info-color0)\">INFO</span>: Query finished.</pre>"
      ],
      "text/plain": [
       "<IPython.core.display.HTML object>"
      ]
     },
     "metadata": {},
     "output_type": "display_data"
    },
    {
     "name": "stdout",
     "output_type": "stream",
     "text": [
      "INFO: Query finished. [astroquery.utils.tap.core]\n"
     ]
    },
    {
     "data": {
      "text/html": [
       "<pre style=\"margin: 0.1em;\n",
       "padding-left: 0.25em;\n",
       "border-left-style: solid;\n",
       "font-family: var(--jp-code-font-family);\n",
       "font-size: var(--jp-code-font-size);\n",
       "line-height: var(--jp-code-line-height);\n",
       "\"><span style=\"color: var(--jp-warn-color2)\">astroquery</span> <span style=\"color: var(--jp-info-color0)\">INFO</span>: Query finished.</pre>"
      ],
      "text/plain": [
       "<IPython.core.display.HTML object>"
      ]
     },
     "metadata": {},
     "output_type": "display_data"
    },
    {
     "name": "stdout",
     "output_type": "stream",
     "text": [
      "INFO: Query finished. [astroquery.utils.tap.core]\n"
     ]
    },
    {
     "data": {
      "text/html": [
       "<pre style=\"margin: 0.1em;\n",
       "padding-left: 0.25em;\n",
       "border-left-style: solid;\n",
       "font-family: var(--jp-code-font-family);\n",
       "font-size: var(--jp-code-font-size);\n",
       "line-height: var(--jp-code-line-height);\n",
       "\"><span style=\"color: var(--jp-warn-color2)\">astroquery</span> <span style=\"color: var(--jp-info-color0)\">INFO</span>: Query finished.</pre>"
      ],
      "text/plain": [
       "<IPython.core.display.HTML object>"
      ]
     },
     "metadata": {},
     "output_type": "display_data"
    },
    {
     "name": "stdout",
     "output_type": "stream",
     "text": [
      "INFO: Query finished. [astroquery.utils.tap.core]\n"
     ]
    },
    {
     "data": {
      "text/html": [
       "<pre style=\"margin: 0.1em;\n",
       "padding-left: 0.25em;\n",
       "border-left-style: solid;\n",
       "font-family: var(--jp-code-font-family);\n",
       "font-size: var(--jp-code-font-size);\n",
       "line-height: var(--jp-code-line-height);\n",
       "\"><span style=\"color: var(--jp-warn-color2)\">astroquery</span> <span style=\"color: var(--jp-info-color0)\">INFO</span>: Query finished.</pre>"
      ],
      "text/plain": [
       "<IPython.core.display.HTML object>"
      ]
     },
     "metadata": {},
     "output_type": "display_data"
    },
    {
     "name": "stdout",
     "output_type": "stream",
     "text": [
      "INFO: Query finished. [astroquery.utils.tap.core]\n"
     ]
    },
    {
     "data": {
      "text/html": [
       "<pre style=\"margin: 0.1em;\n",
       "padding-left: 0.25em;\n",
       "border-left-style: solid;\n",
       "font-family: var(--jp-code-font-family);\n",
       "font-size: var(--jp-code-font-size);\n",
       "line-height: var(--jp-code-line-height);\n",
       "\"><span style=\"color: var(--jp-warn-color2)\">astroquery</span> <span style=\"color: var(--jp-info-color0)\">INFO</span>: Query finished.</pre>"
      ],
      "text/plain": [
       "<IPython.core.display.HTML object>"
      ]
     },
     "metadata": {},
     "output_type": "display_data"
    },
    {
     "name": "stdout",
     "output_type": "stream",
     "text": [
      "INFO: Query finished. [astroquery.utils.tap.core]\n"
     ]
    },
    {
     "data": {
      "text/html": [
       "<pre style=\"margin: 0.1em;\n",
       "padding-left: 0.25em;\n",
       "border-left-style: solid;\n",
       "font-family: var(--jp-code-font-family);\n",
       "font-size: var(--jp-code-font-size);\n",
       "line-height: var(--jp-code-line-height);\n",
       "\"><span style=\"color: var(--jp-warn-color2)\">astroquery</span> <span style=\"color: var(--jp-info-color0)\">INFO</span>: Query finished.</pre>"
      ],
      "text/plain": [
       "<IPython.core.display.HTML object>"
      ]
     },
     "metadata": {},
     "output_type": "display_data"
    },
    {
     "name": "stdout",
     "output_type": "stream",
     "text": [
      "INFO: Query finished. [astroquery.utils.tap.core]\n"
     ]
    },
    {
     "data": {
      "text/html": [
       "<pre style=\"margin: 0.1em;\n",
       "padding-left: 0.25em;\n",
       "border-left-style: solid;\n",
       "font-family: var(--jp-code-font-family);\n",
       "font-size: var(--jp-code-font-size);\n",
       "line-height: var(--jp-code-line-height);\n",
       "\"><span style=\"color: var(--jp-warn-color2)\">astroquery</span> <span style=\"color: var(--jp-info-color0)\">INFO</span>: Query finished.</pre>"
      ],
      "text/plain": [
       "<IPython.core.display.HTML object>"
      ]
     },
     "metadata": {},
     "output_type": "display_data"
    },
    {
     "name": "stdout",
     "output_type": "stream",
     "text": [
      "INFO: Query finished. [astroquery.utils.tap.core]\n"
     ]
    },
    {
     "data": {
      "text/html": [
       "<pre style=\"margin: 0.1em;\n",
       "padding-left: 0.25em;\n",
       "border-left-style: solid;\n",
       "font-family: var(--jp-code-font-family);\n",
       "font-size: var(--jp-code-font-size);\n",
       "line-height: var(--jp-code-line-height);\n",
       "\"><span style=\"color: var(--jp-warn-color2)\">astroquery</span> <span style=\"color: var(--jp-info-color0)\">INFO</span>: Query finished.</pre>"
      ],
      "text/plain": [
       "<IPython.core.display.HTML object>"
      ]
     },
     "metadata": {},
     "output_type": "display_data"
    },
    {
     "name": "stdout",
     "output_type": "stream",
     "text": [
      "INFO: Query finished. [astroquery.utils.tap.core]\n"
     ]
    },
    {
     "data": {
      "text/html": [
       "<pre style=\"margin: 0.1em;\n",
       "padding-left: 0.25em;\n",
       "border-left-style: solid;\n",
       "font-family: var(--jp-code-font-family);\n",
       "font-size: var(--jp-code-font-size);\n",
       "line-height: var(--jp-code-line-height);\n",
       "\"><span style=\"color: var(--jp-warn-color2)\">astroquery</span> <span style=\"color: var(--jp-info-color0)\">INFO</span>: Query finished.</pre>"
      ],
      "text/plain": [
       "<IPython.core.display.HTML object>"
      ]
     },
     "metadata": {},
     "output_type": "display_data"
    },
    {
     "name": "stdout",
     "output_type": "stream",
     "text": [
      "INFO: Query finished. [astroquery.utils.tap.core]\n"
     ]
    },
    {
     "data": {
      "text/html": [
       "<pre style=\"margin: 0.1em;\n",
       "padding-left: 0.25em;\n",
       "border-left-style: solid;\n",
       "font-family: var(--jp-code-font-family);\n",
       "font-size: var(--jp-code-font-size);\n",
       "line-height: var(--jp-code-line-height);\n",
       "\"><span style=\"color: var(--jp-warn-color2)\">astroquery</span> <span style=\"color: var(--jp-info-color0)\">INFO</span>: Query finished.</pre>"
      ],
      "text/plain": [
       "<IPython.core.display.HTML object>"
      ]
     },
     "metadata": {},
     "output_type": "display_data"
    },
    {
     "name": "stdout",
     "output_type": "stream",
     "text": [
      "INFO: Query finished. [astroquery.utils.tap.core]\n"
     ]
    },
    {
     "data": {
      "text/html": [
       "<pre style=\"margin: 0.1em;\n",
       "padding-left: 0.25em;\n",
       "border-left-style: solid;\n",
       "font-family: var(--jp-code-font-family);\n",
       "font-size: var(--jp-code-font-size);\n",
       "line-height: var(--jp-code-line-height);\n",
       "\"><span style=\"color: var(--jp-warn-color2)\">astroquery</span> <span style=\"color: var(--jp-info-color0)\">INFO</span>: Query finished.</pre>"
      ],
      "text/plain": [
       "<IPython.core.display.HTML object>"
      ]
     },
     "metadata": {},
     "output_type": "display_data"
    },
    {
     "name": "stdout",
     "output_type": "stream",
     "text": [
      "INFO: Query finished. [astroquery.utils.tap.core]\n"
     ]
    },
    {
     "data": {
      "text/html": [
       "<pre style=\"margin: 0.1em;\n",
       "padding-left: 0.25em;\n",
       "border-left-style: solid;\n",
       "font-family: var(--jp-code-font-family);\n",
       "font-size: var(--jp-code-font-size);\n",
       "line-height: var(--jp-code-line-height);\n",
       "\"><span style=\"color: var(--jp-warn-color2)\">astroquery</span> <span style=\"color: var(--jp-info-color0)\">INFO</span>: Query finished.</pre>"
      ],
      "text/plain": [
       "<IPython.core.display.HTML object>"
      ]
     },
     "metadata": {},
     "output_type": "display_data"
    },
    {
     "name": "stdout",
     "output_type": "stream",
     "text": [
      "INFO: Query finished. [astroquery.utils.tap.core]\n"
     ]
    },
    {
     "data": {
      "text/html": [
       "<pre style=\"margin: 0.1em;\n",
       "padding-left: 0.25em;\n",
       "border-left-style: solid;\n",
       "font-family: var(--jp-code-font-family);\n",
       "font-size: var(--jp-code-font-size);\n",
       "line-height: var(--jp-code-line-height);\n",
       "\"><span style=\"color: var(--jp-warn-color2)\">astroquery</span> <span style=\"color: var(--jp-info-color0)\">INFO</span>: Query finished.</pre>"
      ],
      "text/plain": [
       "<IPython.core.display.HTML object>"
      ]
     },
     "metadata": {},
     "output_type": "display_data"
    },
    {
     "name": "stdout",
     "output_type": "stream",
     "text": [
      "INFO: Query finished. [astroquery.utils.tap.core]\n"
     ]
    },
    {
     "data": {
      "text/html": [
       "<pre style=\"margin: 0.1em;\n",
       "padding-left: 0.25em;\n",
       "border-left-style: solid;\n",
       "font-family: var(--jp-code-font-family);\n",
       "font-size: var(--jp-code-font-size);\n",
       "line-height: var(--jp-code-line-height);\n",
       "\"><span style=\"color: var(--jp-warn-color2)\">astroquery</span> <span style=\"color: var(--jp-info-color0)\">INFO</span>: Query finished.</pre>"
      ],
      "text/plain": [
       "<IPython.core.display.HTML object>"
      ]
     },
     "metadata": {},
     "output_type": "display_data"
    },
    {
     "name": "stdout",
     "output_type": "stream",
     "text": [
      "INFO: Query finished. [astroquery.utils.tap.core]\n"
     ]
    },
    {
     "data": {
      "text/html": [
       "<pre style=\"margin: 0.1em;\n",
       "padding-left: 0.25em;\n",
       "border-left-style: solid;\n",
       "font-family: var(--jp-code-font-family);\n",
       "font-size: var(--jp-code-font-size);\n",
       "line-height: var(--jp-code-line-height);\n",
       "\"><span style=\"color: var(--jp-warn-color2)\">astroquery</span> <span style=\"color: var(--jp-info-color0)\">INFO</span>: Query finished.</pre>"
      ],
      "text/plain": [
       "<IPython.core.display.HTML object>"
      ]
     },
     "metadata": {},
     "output_type": "display_data"
    },
    {
     "name": "stdout",
     "output_type": "stream",
     "text": [
      "INFO: Query finished. [astroquery.utils.tap.core]\n"
     ]
    },
    {
     "data": {
      "text/html": [
       "<pre style=\"margin: 0.1em;\n",
       "padding-left: 0.25em;\n",
       "border-left-style: solid;\n",
       "font-family: var(--jp-code-font-family);\n",
       "font-size: var(--jp-code-font-size);\n",
       "line-height: var(--jp-code-line-height);\n",
       "\"><span style=\"color: var(--jp-warn-color2)\">astroquery</span> <span style=\"color: var(--jp-info-color0)\">INFO</span>: Query finished.</pre>"
      ],
      "text/plain": [
       "<IPython.core.display.HTML object>"
      ]
     },
     "metadata": {},
     "output_type": "display_data"
    },
    {
     "name": "stdout",
     "output_type": "stream",
     "text": [
      "INFO: Query finished. [astroquery.utils.tap.core]\n"
     ]
    },
    {
     "data": {
      "text/html": [
       "<pre style=\"margin: 0.1em;\n",
       "padding-left: 0.25em;\n",
       "border-left-style: solid;\n",
       "font-family: var(--jp-code-font-family);\n",
       "font-size: var(--jp-code-font-size);\n",
       "line-height: var(--jp-code-line-height);\n",
       "\"><span style=\"color: var(--jp-warn-color2)\">astroquery</span> <span style=\"color: var(--jp-info-color0)\">INFO</span>: Query finished.</pre>"
      ],
      "text/plain": [
       "<IPython.core.display.HTML object>"
      ]
     },
     "metadata": {},
     "output_type": "display_data"
    },
    {
     "name": "stdout",
     "output_type": "stream",
     "text": [
      "INFO: Query finished. [astroquery.utils.tap.core]\n"
     ]
    },
    {
     "data": {
      "text/html": [
       "<pre style=\"margin: 0.1em;\n",
       "padding-left: 0.25em;\n",
       "border-left-style: solid;\n",
       "font-family: var(--jp-code-font-family);\n",
       "font-size: var(--jp-code-font-size);\n",
       "line-height: var(--jp-code-line-height);\n",
       "\"><span style=\"color: var(--jp-warn-color2)\">astroquery</span> <span style=\"color: var(--jp-info-color0)\">INFO</span>: Query finished.</pre>"
      ],
      "text/plain": [
       "<IPython.core.display.HTML object>"
      ]
     },
     "metadata": {},
     "output_type": "display_data"
    },
    {
     "name": "stdout",
     "output_type": "stream",
     "text": [
      "INFO: Query finished. [astroquery.utils.tap.core]\n"
     ]
    },
    {
     "data": {
      "text/html": [
       "<pre style=\"margin: 0.1em;\n",
       "padding-left: 0.25em;\n",
       "border-left-style: solid;\n",
       "font-family: var(--jp-code-font-family);\n",
       "font-size: var(--jp-code-font-size);\n",
       "line-height: var(--jp-code-line-height);\n",
       "\"><span style=\"color: var(--jp-warn-color2)\">astroquery</span> <span style=\"color: var(--jp-info-color0)\">INFO</span>: Query finished.</pre>"
      ],
      "text/plain": [
       "<IPython.core.display.HTML object>"
      ]
     },
     "metadata": {},
     "output_type": "display_data"
    },
    {
     "name": "stdout",
     "output_type": "stream",
     "text": [
      "INFO: Query finished. [astroquery.utils.tap.core]\n"
     ]
    },
    {
     "data": {
      "text/html": [
       "<pre style=\"margin: 0.1em;\n",
       "padding-left: 0.25em;\n",
       "border-left-style: solid;\n",
       "font-family: var(--jp-code-font-family);\n",
       "font-size: var(--jp-code-font-size);\n",
       "line-height: var(--jp-code-line-height);\n",
       "\"><span style=\"color: var(--jp-warn-color2)\">astroquery</span> <span style=\"color: var(--jp-info-color0)\">INFO</span>: Query finished.</pre>"
      ],
      "text/plain": [
       "<IPython.core.display.HTML object>"
      ]
     },
     "metadata": {},
     "output_type": "display_data"
    },
    {
     "name": "stdout",
     "output_type": "stream",
     "text": [
      "INFO: Query finished. [astroquery.utils.tap.core]\n"
     ]
    },
    {
     "data": {
      "text/html": [
       "<pre style=\"margin: 0.1em;\n",
       "padding-left: 0.25em;\n",
       "border-left-style: solid;\n",
       "font-family: var(--jp-code-font-family);\n",
       "font-size: var(--jp-code-font-size);\n",
       "line-height: var(--jp-code-line-height);\n",
       "\"><span style=\"color: var(--jp-warn-color2)\">astroquery</span> <span style=\"color: var(--jp-info-color0)\">INFO</span>: Query finished.</pre>"
      ],
      "text/plain": [
       "<IPython.core.display.HTML object>"
      ]
     },
     "metadata": {},
     "output_type": "display_data"
    },
    {
     "name": "stdout",
     "output_type": "stream",
     "text": [
      "INFO: Query finished. [astroquery.utils.tap.core]\n"
     ]
    },
    {
     "data": {
      "text/html": [
       "<pre style=\"margin: 0.1em;\n",
       "padding-left: 0.25em;\n",
       "border-left-style: solid;\n",
       "font-family: var(--jp-code-font-family);\n",
       "font-size: var(--jp-code-font-size);\n",
       "line-height: var(--jp-code-line-height);\n",
       "\"><span style=\"color: var(--jp-warn-color2)\">astroquery</span> <span style=\"color: var(--jp-info-color0)\">INFO</span>: Query finished.</pre>"
      ],
      "text/plain": [
       "<IPython.core.display.HTML object>"
      ]
     },
     "metadata": {},
     "output_type": "display_data"
    },
    {
     "name": "stdout",
     "output_type": "stream",
     "text": [
      "INFO: Query finished. [astroquery.utils.tap.core]\n"
     ]
    },
    {
     "data": {
      "text/html": [
       "<pre style=\"margin: 0.1em;\n",
       "padding-left: 0.25em;\n",
       "border-left-style: solid;\n",
       "font-family: var(--jp-code-font-family);\n",
       "font-size: var(--jp-code-font-size);\n",
       "line-height: var(--jp-code-line-height);\n",
       "\"><span style=\"color: var(--jp-warn-color2)\">astroquery</span> <span style=\"color: var(--jp-info-color0)\">INFO</span>: Query finished.</pre>"
      ],
      "text/plain": [
       "<IPython.core.display.HTML object>"
      ]
     },
     "metadata": {},
     "output_type": "display_data"
    },
    {
     "name": "stdout",
     "output_type": "stream",
     "text": [
      "INFO: Query finished. [astroquery.utils.tap.core]\n"
     ]
    },
    {
     "data": {
      "text/html": [
       "<pre style=\"margin: 0.1em;\n",
       "padding-left: 0.25em;\n",
       "border-left-style: solid;\n",
       "font-family: var(--jp-code-font-family);\n",
       "font-size: var(--jp-code-font-size);\n",
       "line-height: var(--jp-code-line-height);\n",
       "\"><span style=\"color: var(--jp-warn-color2)\">astroquery</span> <span style=\"color: var(--jp-info-color0)\">INFO</span>: Query finished.</pre>"
      ],
      "text/plain": [
       "<IPython.core.display.HTML object>"
      ]
     },
     "metadata": {},
     "output_type": "display_data"
    },
    {
     "name": "stdout",
     "output_type": "stream",
     "text": [
      "INFO: Query finished. [astroquery.utils.tap.core]\n"
     ]
    },
    {
     "data": {
      "text/html": [
       "<pre style=\"margin: 0.1em;\n",
       "padding-left: 0.25em;\n",
       "border-left-style: solid;\n",
       "font-family: var(--jp-code-font-family);\n",
       "font-size: var(--jp-code-font-size);\n",
       "line-height: var(--jp-code-line-height);\n",
       "\"><span style=\"color: var(--jp-warn-color2)\">astroquery</span> <span style=\"color: var(--jp-info-color0)\">INFO</span>: Query finished.</pre>"
      ],
      "text/plain": [
       "<IPython.core.display.HTML object>"
      ]
     },
     "metadata": {},
     "output_type": "display_data"
    },
    {
     "name": "stdout",
     "output_type": "stream",
     "text": [
      "INFO: Query finished. [astroquery.utils.tap.core]\n"
     ]
    },
    {
     "data": {
      "text/html": [
       "<pre style=\"margin: 0.1em;\n",
       "padding-left: 0.25em;\n",
       "border-left-style: solid;\n",
       "font-family: var(--jp-code-font-family);\n",
       "font-size: var(--jp-code-font-size);\n",
       "line-height: var(--jp-code-line-height);\n",
       "\"><span style=\"color: var(--jp-warn-color2)\">astroquery</span> <span style=\"color: var(--jp-info-color0)\">INFO</span>: Query finished.</pre>"
      ],
      "text/plain": [
       "<IPython.core.display.HTML object>"
      ]
     },
     "metadata": {},
     "output_type": "display_data"
    },
    {
     "name": "stdout",
     "output_type": "stream",
     "text": [
      "INFO: Query finished. [astroquery.utils.tap.core]\n"
     ]
    },
    {
     "data": {
      "text/html": [
       "<pre style=\"margin: 0.1em;\n",
       "padding-left: 0.25em;\n",
       "border-left-style: solid;\n",
       "font-family: var(--jp-code-font-family);\n",
       "font-size: var(--jp-code-font-size);\n",
       "line-height: var(--jp-code-line-height);\n",
       "\"><span style=\"color: var(--jp-warn-color2)\">astroquery</span> <span style=\"color: var(--jp-info-color0)\">INFO</span>: Query finished.</pre>"
      ],
      "text/plain": [
       "<IPython.core.display.HTML object>"
      ]
     },
     "metadata": {},
     "output_type": "display_data"
    },
    {
     "name": "stdout",
     "output_type": "stream",
     "text": [
      "INFO: Query finished. [astroquery.utils.tap.core]\n"
     ]
    },
    {
     "data": {
      "text/html": [
       "<pre style=\"margin: 0.1em;\n",
       "padding-left: 0.25em;\n",
       "border-left-style: solid;\n",
       "font-family: var(--jp-code-font-family);\n",
       "font-size: var(--jp-code-font-size);\n",
       "line-height: var(--jp-code-line-height);\n",
       "\"><span style=\"color: var(--jp-warn-color2)\">astroquery</span> <span style=\"color: var(--jp-info-color0)\">INFO</span>: Query finished.</pre>"
      ],
      "text/plain": [
       "<IPython.core.display.HTML object>"
      ]
     },
     "metadata": {},
     "output_type": "display_data"
    },
    {
     "name": "stdout",
     "output_type": "stream",
     "text": [
      "INFO: Query finished. [astroquery.utils.tap.core]\n"
     ]
    },
    {
     "data": {
      "text/html": [
       "<pre style=\"margin: 0.1em;\n",
       "padding-left: 0.25em;\n",
       "border-left-style: solid;\n",
       "font-family: var(--jp-code-font-family);\n",
       "font-size: var(--jp-code-font-size);\n",
       "line-height: var(--jp-code-line-height);\n",
       "\"><span style=\"color: var(--jp-warn-color2)\">astroquery</span> <span style=\"color: var(--jp-info-color0)\">INFO</span>: Query finished.</pre>"
      ],
      "text/plain": [
       "<IPython.core.display.HTML object>"
      ]
     },
     "metadata": {},
     "output_type": "display_data"
    },
    {
     "name": "stdout",
     "output_type": "stream",
     "text": [
      "INFO: Query finished. [astroquery.utils.tap.core]\n"
     ]
    },
    {
     "data": {
      "text/html": [
       "<pre style=\"margin: 0.1em;\n",
       "padding-left: 0.25em;\n",
       "border-left-style: solid;\n",
       "font-family: var(--jp-code-font-family);\n",
       "font-size: var(--jp-code-font-size);\n",
       "line-height: var(--jp-code-line-height);\n",
       "\"><span style=\"color: var(--jp-warn-color2)\">astroquery</span> <span style=\"color: var(--jp-info-color0)\">INFO</span>: Query finished.</pre>"
      ],
      "text/plain": [
       "<IPython.core.display.HTML object>"
      ]
     },
     "metadata": {},
     "output_type": "display_data"
    },
    {
     "name": "stdout",
     "output_type": "stream",
     "text": [
      "INFO: Query finished. [astroquery.utils.tap.core]\n"
     ]
    },
    {
     "data": {
      "text/html": [
       "<pre style=\"margin: 0.1em;\n",
       "padding-left: 0.25em;\n",
       "border-left-style: solid;\n",
       "font-family: var(--jp-code-font-family);\n",
       "font-size: var(--jp-code-font-size);\n",
       "line-height: var(--jp-code-line-height);\n",
       "\"><span style=\"color: var(--jp-warn-color2)\">astroquery</span> <span style=\"color: var(--jp-info-color0)\">INFO</span>: Query finished.</pre>"
      ],
      "text/plain": [
       "<IPython.core.display.HTML object>"
      ]
     },
     "metadata": {},
     "output_type": "display_data"
    },
    {
     "name": "stdout",
     "output_type": "stream",
     "text": [
      "INFO: Query finished. [astroquery.utils.tap.core]\n"
     ]
    },
    {
     "data": {
      "text/html": [
       "<pre style=\"margin: 0.1em;\n",
       "padding-left: 0.25em;\n",
       "border-left-style: solid;\n",
       "font-family: var(--jp-code-font-family);\n",
       "font-size: var(--jp-code-font-size);\n",
       "line-height: var(--jp-code-line-height);\n",
       "\"><span style=\"color: var(--jp-warn-color2)\">astroquery</span> <span style=\"color: var(--jp-info-color0)\">INFO</span>: Query finished.</pre>"
      ],
      "text/plain": [
       "<IPython.core.display.HTML object>"
      ]
     },
     "metadata": {},
     "output_type": "display_data"
    },
    {
     "name": "stdout",
     "output_type": "stream",
     "text": [
      "INFO: Query finished. [astroquery.utils.tap.core]\n"
     ]
    },
    {
     "data": {
      "text/html": [
       "<pre style=\"margin: 0.1em;\n",
       "padding-left: 0.25em;\n",
       "border-left-style: solid;\n",
       "font-family: var(--jp-code-font-family);\n",
       "font-size: var(--jp-code-font-size);\n",
       "line-height: var(--jp-code-line-height);\n",
       "\"><span style=\"color: var(--jp-warn-color2)\">astroquery</span> <span style=\"color: var(--jp-info-color0)\">INFO</span>: Query finished.</pre>"
      ],
      "text/plain": [
       "<IPython.core.display.HTML object>"
      ]
     },
     "metadata": {},
     "output_type": "display_data"
    },
    {
     "name": "stdout",
     "output_type": "stream",
     "text": [
      "INFO: Query finished. [astroquery.utils.tap.core]\n"
     ]
    },
    {
     "data": {
      "text/html": [
       "<pre style=\"margin: 0.1em;\n",
       "padding-left: 0.25em;\n",
       "border-left-style: solid;\n",
       "font-family: var(--jp-code-font-family);\n",
       "font-size: var(--jp-code-font-size);\n",
       "line-height: var(--jp-code-line-height);\n",
       "\"><span style=\"color: var(--jp-warn-color2)\">astroquery</span> <span style=\"color: var(--jp-info-color0)\">INFO</span>: Query finished.</pre>"
      ],
      "text/plain": [
       "<IPython.core.display.HTML object>"
      ]
     },
     "metadata": {},
     "output_type": "display_data"
    },
    {
     "name": "stdout",
     "output_type": "stream",
     "text": [
      "INFO: Query finished. [astroquery.utils.tap.core]\n"
     ]
    },
    {
     "data": {
      "text/html": [
       "<pre style=\"margin: 0.1em;\n",
       "padding-left: 0.25em;\n",
       "border-left-style: solid;\n",
       "font-family: var(--jp-code-font-family);\n",
       "font-size: var(--jp-code-font-size);\n",
       "line-height: var(--jp-code-line-height);\n",
       "\"><span style=\"color: var(--jp-warn-color2)\">astroquery</span> <span style=\"color: var(--jp-info-color0)\">INFO</span>: Query finished.</pre>"
      ],
      "text/plain": [
       "<IPython.core.display.HTML object>"
      ]
     },
     "metadata": {},
     "output_type": "display_data"
    },
    {
     "name": "stdout",
     "output_type": "stream",
     "text": [
      "INFO: Query finished. [astroquery.utils.tap.core]\n"
     ]
    },
    {
     "data": {
      "text/html": [
       "<pre style=\"margin: 0.1em;\n",
       "padding-left: 0.25em;\n",
       "border-left-style: solid;\n",
       "font-family: var(--jp-code-font-family);\n",
       "font-size: var(--jp-code-font-size);\n",
       "line-height: var(--jp-code-line-height);\n",
       "\"><span style=\"color: var(--jp-warn-color2)\">astroquery</span> <span style=\"color: var(--jp-info-color0)\">INFO</span>: Query finished.</pre>"
      ],
      "text/plain": [
       "<IPython.core.display.HTML object>"
      ]
     },
     "metadata": {},
     "output_type": "display_data"
    },
    {
     "name": "stdout",
     "output_type": "stream",
     "text": [
      "INFO: Query finished. [astroquery.utils.tap.core]\n"
     ]
    },
    {
     "data": {
      "text/html": [
       "<pre style=\"margin: 0.1em;\n",
       "padding-left: 0.25em;\n",
       "border-left-style: solid;\n",
       "font-family: var(--jp-code-font-family);\n",
       "font-size: var(--jp-code-font-size);\n",
       "line-height: var(--jp-code-line-height);\n",
       "\"><span style=\"color: var(--jp-warn-color2)\">astroquery</span> <span style=\"color: var(--jp-info-color0)\">INFO</span>: Query finished.</pre>"
      ],
      "text/plain": [
       "<IPython.core.display.HTML object>"
      ]
     },
     "metadata": {},
     "output_type": "display_data"
    },
    {
     "name": "stdout",
     "output_type": "stream",
     "text": [
      "INFO: Query finished. [astroquery.utils.tap.core]\n"
     ]
    },
    {
     "data": {
      "text/html": [
       "<pre style=\"margin: 0.1em;\n",
       "padding-left: 0.25em;\n",
       "border-left-style: solid;\n",
       "font-family: var(--jp-code-font-family);\n",
       "font-size: var(--jp-code-font-size);\n",
       "line-height: var(--jp-code-line-height);\n",
       "\"><span style=\"color: var(--jp-warn-color2)\">astroquery</span> <span style=\"color: var(--jp-info-color0)\">INFO</span>: Query finished.</pre>"
      ],
      "text/plain": [
       "<IPython.core.display.HTML object>"
      ]
     },
     "metadata": {},
     "output_type": "display_data"
    },
    {
     "name": "stdout",
     "output_type": "stream",
     "text": [
      "INFO: Query finished. [astroquery.utils.tap.core]\n"
     ]
    },
    {
     "data": {
      "text/html": [
       "<pre style=\"margin: 0.1em;\n",
       "padding-left: 0.25em;\n",
       "border-left-style: solid;\n",
       "font-family: var(--jp-code-font-family);\n",
       "font-size: var(--jp-code-font-size);\n",
       "line-height: var(--jp-code-line-height);\n",
       "\"><span style=\"color: var(--jp-warn-color2)\">astroquery</span> <span style=\"color: var(--jp-info-color0)\">INFO</span>: Query finished.</pre>"
      ],
      "text/plain": [
       "<IPython.core.display.HTML object>"
      ]
     },
     "metadata": {},
     "output_type": "display_data"
    },
    {
     "name": "stdout",
     "output_type": "stream",
     "text": [
      "INFO: Query finished. [astroquery.utils.tap.core]\n"
     ]
    },
    {
     "data": {
      "text/html": [
       "<pre style=\"margin: 0.1em;\n",
       "padding-left: 0.25em;\n",
       "border-left-style: solid;\n",
       "font-family: var(--jp-code-font-family);\n",
       "font-size: var(--jp-code-font-size);\n",
       "line-height: var(--jp-code-line-height);\n",
       "\"><span style=\"color: var(--jp-warn-color2)\">astroquery</span> <span style=\"color: var(--jp-info-color0)\">INFO</span>: Query finished.</pre>"
      ],
      "text/plain": [
       "<IPython.core.display.HTML object>"
      ]
     },
     "metadata": {},
     "output_type": "display_data"
    },
    {
     "name": "stdout",
     "output_type": "stream",
     "text": [
      "INFO: Query finished. [astroquery.utils.tap.core]\n"
     ]
    },
    {
     "data": {
      "text/html": [
       "<pre style=\"margin: 0.1em;\n",
       "padding-left: 0.25em;\n",
       "border-left-style: solid;\n",
       "font-family: var(--jp-code-font-family);\n",
       "font-size: var(--jp-code-font-size);\n",
       "line-height: var(--jp-code-line-height);\n",
       "\"><span style=\"color: var(--jp-warn-color2)\">astroquery</span> <span style=\"color: var(--jp-info-color0)\">INFO</span>: Query finished.</pre>"
      ],
      "text/plain": [
       "<IPython.core.display.HTML object>"
      ]
     },
     "metadata": {},
     "output_type": "display_data"
    },
    {
     "name": "stdout",
     "output_type": "stream",
     "text": [
      "INFO: Query finished. [astroquery.utils.tap.core]\n"
     ]
    },
    {
     "data": {
      "text/html": [
       "<pre style=\"margin: 0.1em;\n",
       "padding-left: 0.25em;\n",
       "border-left-style: solid;\n",
       "font-family: var(--jp-code-font-family);\n",
       "font-size: var(--jp-code-font-size);\n",
       "line-height: var(--jp-code-line-height);\n",
       "\"><span style=\"color: var(--jp-warn-color2)\">astroquery</span> <span style=\"color: var(--jp-info-color0)\">INFO</span>: Query finished.</pre>"
      ],
      "text/plain": [
       "<IPython.core.display.HTML object>"
      ]
     },
     "metadata": {},
     "output_type": "display_data"
    },
    {
     "name": "stdout",
     "output_type": "stream",
     "text": [
      "INFO: Query finished. [astroquery.utils.tap.core]\n"
     ]
    },
    {
     "data": {
      "text/html": [
       "<pre style=\"margin: 0.1em;\n",
       "padding-left: 0.25em;\n",
       "border-left-style: solid;\n",
       "font-family: var(--jp-code-font-family);\n",
       "font-size: var(--jp-code-font-size);\n",
       "line-height: var(--jp-code-line-height);\n",
       "\"><span style=\"color: var(--jp-warn-color2)\">astroquery</span> <span style=\"color: var(--jp-info-color0)\">INFO</span>: Query finished.</pre>"
      ],
      "text/plain": [
       "<IPython.core.display.HTML object>"
      ]
     },
     "metadata": {},
     "output_type": "display_data"
    },
    {
     "name": "stdout",
     "output_type": "stream",
     "text": [
      "INFO: Query finished. [astroquery.utils.tap.core]\n"
     ]
    },
    {
     "data": {
      "text/html": [
       "<pre style=\"margin: 0.1em;\n",
       "padding-left: 0.25em;\n",
       "border-left-style: solid;\n",
       "font-family: var(--jp-code-font-family);\n",
       "font-size: var(--jp-code-font-size);\n",
       "line-height: var(--jp-code-line-height);\n",
       "\"><span style=\"color: var(--jp-warn-color2)\">astroquery</span> <span style=\"color: var(--jp-info-color0)\">INFO</span>: Query finished.</pre>"
      ],
      "text/plain": [
       "<IPython.core.display.HTML object>"
      ]
     },
     "metadata": {},
     "output_type": "display_data"
    },
    {
     "name": "stdout",
     "output_type": "stream",
     "text": [
      "INFO: Query finished. [astroquery.utils.tap.core]\n"
     ]
    },
    {
     "data": {
      "text/html": [
       "<pre style=\"margin: 0.1em;\n",
       "padding-left: 0.25em;\n",
       "border-left-style: solid;\n",
       "font-family: var(--jp-code-font-family);\n",
       "font-size: var(--jp-code-font-size);\n",
       "line-height: var(--jp-code-line-height);\n",
       "\"><span style=\"color: var(--jp-warn-color2)\">astroquery</span> <span style=\"color: var(--jp-info-color0)\">INFO</span>: Query finished.</pre>"
      ],
      "text/plain": [
       "<IPython.core.display.HTML object>"
      ]
     },
     "metadata": {},
     "output_type": "display_data"
    },
    {
     "name": "stdout",
     "output_type": "stream",
     "text": [
      "INFO: Query finished. [astroquery.utils.tap.core]\n"
     ]
    },
    {
     "data": {
      "text/html": [
       "<pre style=\"margin: 0.1em;\n",
       "padding-left: 0.25em;\n",
       "border-left-style: solid;\n",
       "font-family: var(--jp-code-font-family);\n",
       "font-size: var(--jp-code-font-size);\n",
       "line-height: var(--jp-code-line-height);\n",
       "\"><span style=\"color: var(--jp-warn-color2)\">astroquery</span> <span style=\"color: var(--jp-info-color0)\">INFO</span>: Query finished.</pre>"
      ],
      "text/plain": [
       "<IPython.core.display.HTML object>"
      ]
     },
     "metadata": {},
     "output_type": "display_data"
    },
    {
     "name": "stdout",
     "output_type": "stream",
     "text": [
      "INFO: Query finished. [astroquery.utils.tap.core]\n"
     ]
    },
    {
     "data": {
      "text/html": [
       "<pre style=\"margin: 0.1em;\n",
       "padding-left: 0.25em;\n",
       "border-left-style: solid;\n",
       "font-family: var(--jp-code-font-family);\n",
       "font-size: var(--jp-code-font-size);\n",
       "line-height: var(--jp-code-line-height);\n",
       "\"><span style=\"color: var(--jp-warn-color2)\">astroquery</span> <span style=\"color: var(--jp-info-color0)\">INFO</span>: Query finished.</pre>"
      ],
      "text/plain": [
       "<IPython.core.display.HTML object>"
      ]
     },
     "metadata": {},
     "output_type": "display_data"
    },
    {
     "name": "stdout",
     "output_type": "stream",
     "text": [
      "INFO: Query finished. [astroquery.utils.tap.core]\n"
     ]
    },
    {
     "data": {
      "text/html": [
       "<pre style=\"margin: 0.1em;\n",
       "padding-left: 0.25em;\n",
       "border-left-style: solid;\n",
       "font-family: var(--jp-code-font-family);\n",
       "font-size: var(--jp-code-font-size);\n",
       "line-height: var(--jp-code-line-height);\n",
       "\"><span style=\"color: var(--jp-warn-color2)\">astroquery</span> <span style=\"color: var(--jp-info-color0)\">INFO</span>: Query finished.</pre>"
      ],
      "text/plain": [
       "<IPython.core.display.HTML object>"
      ]
     },
     "metadata": {},
     "output_type": "display_data"
    },
    {
     "name": "stdout",
     "output_type": "stream",
     "text": [
      "INFO: Query finished. [astroquery.utils.tap.core]\n"
     ]
    },
    {
     "data": {
      "text/html": [
       "<pre style=\"margin: 0.1em;\n",
       "padding-left: 0.25em;\n",
       "border-left-style: solid;\n",
       "font-family: var(--jp-code-font-family);\n",
       "font-size: var(--jp-code-font-size);\n",
       "line-height: var(--jp-code-line-height);\n",
       "\"><span style=\"color: var(--jp-warn-color2)\">astroquery</span> <span style=\"color: var(--jp-info-color0)\">INFO</span>: Query finished.</pre>"
      ],
      "text/plain": [
       "<IPython.core.display.HTML object>"
      ]
     },
     "metadata": {},
     "output_type": "display_data"
    },
    {
     "name": "stdout",
     "output_type": "stream",
     "text": [
      "INFO: Query finished. [astroquery.utils.tap.core]\n"
     ]
    },
    {
     "data": {
      "text/html": [
       "<pre style=\"margin: 0.1em;\n",
       "padding-left: 0.25em;\n",
       "border-left-style: solid;\n",
       "font-family: var(--jp-code-font-family);\n",
       "font-size: var(--jp-code-font-size);\n",
       "line-height: var(--jp-code-line-height);\n",
       "\"><span style=\"color: var(--jp-warn-color2)\">astroquery</span> <span style=\"color: var(--jp-info-color0)\">INFO</span>: Query finished.</pre>"
      ],
      "text/plain": [
       "<IPython.core.display.HTML object>"
      ]
     },
     "metadata": {},
     "output_type": "display_data"
    },
    {
     "name": "stdout",
     "output_type": "stream",
     "text": [
      "INFO: Query finished. [astroquery.utils.tap.core]\n"
     ]
    },
    {
     "data": {
      "text/html": [
       "<pre style=\"margin: 0.1em;\n",
       "padding-left: 0.25em;\n",
       "border-left-style: solid;\n",
       "font-family: var(--jp-code-font-family);\n",
       "font-size: var(--jp-code-font-size);\n",
       "line-height: var(--jp-code-line-height);\n",
       "\"><span style=\"color: var(--jp-warn-color2)\">astroquery</span> <span style=\"color: var(--jp-info-color0)\">INFO</span>: Query finished.</pre>"
      ],
      "text/plain": [
       "<IPython.core.display.HTML object>"
      ]
     },
     "metadata": {},
     "output_type": "display_data"
    },
    {
     "name": "stdout",
     "output_type": "stream",
     "text": [
      "INFO: Query finished. [astroquery.utils.tap.core]\n"
     ]
    },
    {
     "data": {
      "text/html": [
       "<pre style=\"margin: 0.1em;\n",
       "padding-left: 0.25em;\n",
       "border-left-style: solid;\n",
       "font-family: var(--jp-code-font-family);\n",
       "font-size: var(--jp-code-font-size);\n",
       "line-height: var(--jp-code-line-height);\n",
       "\"><span style=\"color: var(--jp-warn-color2)\">astroquery</span> <span style=\"color: var(--jp-info-color0)\">INFO</span>: Query finished.</pre>"
      ],
      "text/plain": [
       "<IPython.core.display.HTML object>"
      ]
     },
     "metadata": {},
     "output_type": "display_data"
    },
    {
     "name": "stdout",
     "output_type": "stream",
     "text": [
      "INFO: Query finished. [astroquery.utils.tap.core]\n"
     ]
    },
    {
     "data": {
      "text/html": [
       "<pre style=\"margin: 0.1em;\n",
       "padding-left: 0.25em;\n",
       "border-left-style: solid;\n",
       "font-family: var(--jp-code-font-family);\n",
       "font-size: var(--jp-code-font-size);\n",
       "line-height: var(--jp-code-line-height);\n",
       "\"><span style=\"color: var(--jp-warn-color2)\">astroquery</span> <span style=\"color: var(--jp-info-color0)\">INFO</span>: Query finished.</pre>"
      ],
      "text/plain": [
       "<IPython.core.display.HTML object>"
      ]
     },
     "metadata": {},
     "output_type": "display_data"
    },
    {
     "name": "stdout",
     "output_type": "stream",
     "text": [
      "INFO: Query finished. [astroquery.utils.tap.core]\n"
     ]
    },
    {
     "data": {
      "text/html": [
       "<pre style=\"margin: 0.1em;\n",
       "padding-left: 0.25em;\n",
       "border-left-style: solid;\n",
       "font-family: var(--jp-code-font-family);\n",
       "font-size: var(--jp-code-font-size);\n",
       "line-height: var(--jp-code-line-height);\n",
       "\"><span style=\"color: var(--jp-warn-color2)\">astroquery</span> <span style=\"color: var(--jp-info-color0)\">INFO</span>: Query finished.</pre>"
      ],
      "text/plain": [
       "<IPython.core.display.HTML object>"
      ]
     },
     "metadata": {},
     "output_type": "display_data"
    },
    {
     "name": "stdout",
     "output_type": "stream",
     "text": [
      "INFO: Query finished. [astroquery.utils.tap.core]\n"
     ]
    },
    {
     "data": {
      "text/html": [
       "<pre style=\"margin: 0.1em;\n",
       "padding-left: 0.25em;\n",
       "border-left-style: solid;\n",
       "font-family: var(--jp-code-font-family);\n",
       "font-size: var(--jp-code-font-size);\n",
       "line-height: var(--jp-code-line-height);\n",
       "\"><span style=\"color: var(--jp-warn-color2)\">astroquery</span> <span style=\"color: var(--jp-info-color0)\">INFO</span>: Query finished.</pre>"
      ],
      "text/plain": [
       "<IPython.core.display.HTML object>"
      ]
     },
     "metadata": {},
     "output_type": "display_data"
    },
    {
     "name": "stdout",
     "output_type": "stream",
     "text": [
      "INFO: Query finished. [astroquery.utils.tap.core]\n"
     ]
    },
    {
     "data": {
      "text/html": [
       "<pre style=\"margin: 0.1em;\n",
       "padding-left: 0.25em;\n",
       "border-left-style: solid;\n",
       "font-family: var(--jp-code-font-family);\n",
       "font-size: var(--jp-code-font-size);\n",
       "line-height: var(--jp-code-line-height);\n",
       "\"><span style=\"color: var(--jp-warn-color2)\">astroquery</span> <span style=\"color: var(--jp-info-color0)\">INFO</span>: Query finished.</pre>"
      ],
      "text/plain": [
       "<IPython.core.display.HTML object>"
      ]
     },
     "metadata": {},
     "output_type": "display_data"
    },
    {
     "name": "stdout",
     "output_type": "stream",
     "text": [
      "INFO: Query finished. [astroquery.utils.tap.core]\n"
     ]
    },
    {
     "data": {
      "text/html": [
       "<pre style=\"margin: 0.1em;\n",
       "padding-left: 0.25em;\n",
       "border-left-style: solid;\n",
       "font-family: var(--jp-code-font-family);\n",
       "font-size: var(--jp-code-font-size);\n",
       "line-height: var(--jp-code-line-height);\n",
       "\"><span style=\"color: var(--jp-warn-color2)\">astroquery</span> <span style=\"color: var(--jp-info-color0)\">INFO</span>: Query finished.</pre>"
      ],
      "text/plain": [
       "<IPython.core.display.HTML object>"
      ]
     },
     "metadata": {},
     "output_type": "display_data"
    },
    {
     "name": "stdout",
     "output_type": "stream",
     "text": [
      "INFO: Query finished. [astroquery.utils.tap.core]\n"
     ]
    },
    {
     "data": {
      "text/html": [
       "<pre style=\"margin: 0.1em;\n",
       "padding-left: 0.25em;\n",
       "border-left-style: solid;\n",
       "font-family: var(--jp-code-font-family);\n",
       "font-size: var(--jp-code-font-size);\n",
       "line-height: var(--jp-code-line-height);\n",
       "\"><span style=\"color: var(--jp-warn-color2)\">astroquery</span> <span style=\"color: var(--jp-info-color0)\">INFO</span>: Query finished.</pre>"
      ],
      "text/plain": [
       "<IPython.core.display.HTML object>"
      ]
     },
     "metadata": {},
     "output_type": "display_data"
    },
    {
     "name": "stdout",
     "output_type": "stream",
     "text": [
      "INFO: Query finished. [astroquery.utils.tap.core]\n"
     ]
    },
    {
     "data": {
      "text/html": [
       "<pre style=\"margin: 0.1em;\n",
       "padding-left: 0.25em;\n",
       "border-left-style: solid;\n",
       "font-family: var(--jp-code-font-family);\n",
       "font-size: var(--jp-code-font-size);\n",
       "line-height: var(--jp-code-line-height);\n",
       "\"><span style=\"color: var(--jp-warn-color2)\">astroquery</span> <span style=\"color: var(--jp-info-color0)\">INFO</span>: Query finished.</pre>"
      ],
      "text/plain": [
       "<IPython.core.display.HTML object>"
      ]
     },
     "metadata": {},
     "output_type": "display_data"
    },
    {
     "name": "stdout",
     "output_type": "stream",
     "text": [
      "INFO: Query finished. [astroquery.utils.tap.core]\n"
     ]
    },
    {
     "data": {
      "text/html": [
       "<pre style=\"margin: 0.1em;\n",
       "padding-left: 0.25em;\n",
       "border-left-style: solid;\n",
       "font-family: var(--jp-code-font-family);\n",
       "font-size: var(--jp-code-font-size);\n",
       "line-height: var(--jp-code-line-height);\n",
       "\"><span style=\"color: var(--jp-warn-color2)\">astroquery</span> <span style=\"color: var(--jp-info-color0)\">INFO</span>: Query finished.</pre>"
      ],
      "text/plain": [
       "<IPython.core.display.HTML object>"
      ]
     },
     "metadata": {},
     "output_type": "display_data"
    },
    {
     "name": "stdout",
     "output_type": "stream",
     "text": [
      "INFO: Query finished. [astroquery.utils.tap.core]\n"
     ]
    },
    {
     "data": {
      "text/html": [
       "<pre style=\"margin: 0.1em;\n",
       "padding-left: 0.25em;\n",
       "border-left-style: solid;\n",
       "font-family: var(--jp-code-font-family);\n",
       "font-size: var(--jp-code-font-size);\n",
       "line-height: var(--jp-code-line-height);\n",
       "\"><span style=\"color: var(--jp-warn-color2)\">astroquery</span> <span style=\"color: var(--jp-info-color0)\">INFO</span>: Query finished.</pre>"
      ],
      "text/plain": [
       "<IPython.core.display.HTML object>"
      ]
     },
     "metadata": {},
     "output_type": "display_data"
    },
    {
     "name": "stdout",
     "output_type": "stream",
     "text": [
      "INFO: Query finished. [astroquery.utils.tap.core]\n"
     ]
    },
    {
     "data": {
      "text/html": [
       "<pre style=\"margin: 0.1em;\n",
       "padding-left: 0.25em;\n",
       "border-left-style: solid;\n",
       "font-family: var(--jp-code-font-family);\n",
       "font-size: var(--jp-code-font-size);\n",
       "line-height: var(--jp-code-line-height);\n",
       "\"><span style=\"color: var(--jp-warn-color2)\">astroquery</span> <span style=\"color: var(--jp-info-color0)\">INFO</span>: Query finished.</pre>"
      ],
      "text/plain": [
       "<IPython.core.display.HTML object>"
      ]
     },
     "metadata": {},
     "output_type": "display_data"
    },
    {
     "name": "stdout",
     "output_type": "stream",
     "text": [
      "INFO: Query finished. [astroquery.utils.tap.core]\n"
     ]
    },
    {
     "data": {
      "text/html": [
       "<pre style=\"margin: 0.1em;\n",
       "padding-left: 0.25em;\n",
       "border-left-style: solid;\n",
       "font-family: var(--jp-code-font-family);\n",
       "font-size: var(--jp-code-font-size);\n",
       "line-height: var(--jp-code-line-height);\n",
       "\"><span style=\"color: var(--jp-warn-color2)\">astroquery</span> <span style=\"color: var(--jp-info-color0)\">INFO</span>: Query finished.</pre>"
      ],
      "text/plain": [
       "<IPython.core.display.HTML object>"
      ]
     },
     "metadata": {},
     "output_type": "display_data"
    },
    {
     "name": "stdout",
     "output_type": "stream",
     "text": [
      "INFO: Query finished. [astroquery.utils.tap.core]\n"
     ]
    },
    {
     "data": {
      "text/html": [
       "<pre style=\"margin: 0.1em;\n",
       "padding-left: 0.25em;\n",
       "border-left-style: solid;\n",
       "font-family: var(--jp-code-font-family);\n",
       "font-size: var(--jp-code-font-size);\n",
       "line-height: var(--jp-code-line-height);\n",
       "\"><span style=\"color: var(--jp-warn-color2)\">astroquery</span> <span style=\"color: var(--jp-info-color0)\">INFO</span>: Query finished.</pre>"
      ],
      "text/plain": [
       "<IPython.core.display.HTML object>"
      ]
     },
     "metadata": {},
     "output_type": "display_data"
    },
    {
     "name": "stdout",
     "output_type": "stream",
     "text": [
      "INFO: Query finished. [astroquery.utils.tap.core]\n"
     ]
    },
    {
     "data": {
      "text/html": [
       "<pre style=\"margin: 0.1em;\n",
       "padding-left: 0.25em;\n",
       "border-left-style: solid;\n",
       "font-family: var(--jp-code-font-family);\n",
       "font-size: var(--jp-code-font-size);\n",
       "line-height: var(--jp-code-line-height);\n",
       "\"><span style=\"color: var(--jp-warn-color2)\">astroquery</span> <span style=\"color: var(--jp-info-color0)\">INFO</span>: Query finished.</pre>"
      ],
      "text/plain": [
       "<IPython.core.display.HTML object>"
      ]
     },
     "metadata": {},
     "output_type": "display_data"
    },
    {
     "name": "stdout",
     "output_type": "stream",
     "text": [
      "INFO: Query finished. [astroquery.utils.tap.core]\n"
     ]
    },
    {
     "data": {
      "text/html": [
       "<pre style=\"margin: 0.1em;\n",
       "padding-left: 0.25em;\n",
       "border-left-style: solid;\n",
       "font-family: var(--jp-code-font-family);\n",
       "font-size: var(--jp-code-font-size);\n",
       "line-height: var(--jp-code-line-height);\n",
       "\"><span style=\"color: var(--jp-warn-color2)\">astroquery</span> <span style=\"color: var(--jp-info-color0)\">INFO</span>: Query finished.</pre>"
      ],
      "text/plain": [
       "<IPython.core.display.HTML object>"
      ]
     },
     "metadata": {},
     "output_type": "display_data"
    },
    {
     "name": "stdout",
     "output_type": "stream",
     "text": [
      "INFO: Query finished. [astroquery.utils.tap.core]\n"
     ]
    },
    {
     "data": {
      "text/html": [
       "<pre style=\"margin: 0.1em;\n",
       "padding-left: 0.25em;\n",
       "border-left-style: solid;\n",
       "font-family: var(--jp-code-font-family);\n",
       "font-size: var(--jp-code-font-size);\n",
       "line-height: var(--jp-code-line-height);\n",
       "\"><span style=\"color: var(--jp-warn-color2)\">astroquery</span> <span style=\"color: var(--jp-info-color0)\">INFO</span>: Query finished.</pre>"
      ],
      "text/plain": [
       "<IPython.core.display.HTML object>"
      ]
     },
     "metadata": {},
     "output_type": "display_data"
    },
    {
     "name": "stdout",
     "output_type": "stream",
     "text": [
      "INFO: Query finished. [astroquery.utils.tap.core]\n"
     ]
    },
    {
     "data": {
      "text/html": [
       "<pre style=\"margin: 0.1em;\n",
       "padding-left: 0.25em;\n",
       "border-left-style: solid;\n",
       "font-family: var(--jp-code-font-family);\n",
       "font-size: var(--jp-code-font-size);\n",
       "line-height: var(--jp-code-line-height);\n",
       "\"><span style=\"color: var(--jp-warn-color2)\">astroquery</span> <span style=\"color: var(--jp-info-color0)\">INFO</span>: Query finished.</pre>"
      ],
      "text/plain": [
       "<IPython.core.display.HTML object>"
      ]
     },
     "metadata": {},
     "output_type": "display_data"
    },
    {
     "name": "stdout",
     "output_type": "stream",
     "text": [
      "INFO: Query finished. [astroquery.utils.tap.core]\n"
     ]
    },
    {
     "data": {
      "text/html": [
       "<pre style=\"margin: 0.1em;\n",
       "padding-left: 0.25em;\n",
       "border-left-style: solid;\n",
       "font-family: var(--jp-code-font-family);\n",
       "font-size: var(--jp-code-font-size);\n",
       "line-height: var(--jp-code-line-height);\n",
       "\"><span style=\"color: var(--jp-warn-color2)\">astroquery</span> <span style=\"color: var(--jp-info-color0)\">INFO</span>: Query finished.</pre>"
      ],
      "text/plain": [
       "<IPython.core.display.HTML object>"
      ]
     },
     "metadata": {},
     "output_type": "display_data"
    },
    {
     "name": "stdout",
     "output_type": "stream",
     "text": [
      "INFO: Query finished. [astroquery.utils.tap.core]\n"
     ]
    },
    {
     "data": {
      "text/html": [
       "<pre style=\"margin: 0.1em;\n",
       "padding-left: 0.25em;\n",
       "border-left-style: solid;\n",
       "font-family: var(--jp-code-font-family);\n",
       "font-size: var(--jp-code-font-size);\n",
       "line-height: var(--jp-code-line-height);\n",
       "\"><span style=\"color: var(--jp-warn-color2)\">astroquery</span> <span style=\"color: var(--jp-info-color0)\">INFO</span>: Query finished.</pre>"
      ],
      "text/plain": [
       "<IPython.core.display.HTML object>"
      ]
     },
     "metadata": {},
     "output_type": "display_data"
    },
    {
     "name": "stdout",
     "output_type": "stream",
     "text": [
      "INFO: Query finished. [astroquery.utils.tap.core]\n"
     ]
    },
    {
     "data": {
      "text/html": [
       "<pre style=\"margin: 0.1em;\n",
       "padding-left: 0.25em;\n",
       "border-left-style: solid;\n",
       "font-family: var(--jp-code-font-family);\n",
       "font-size: var(--jp-code-font-size);\n",
       "line-height: var(--jp-code-line-height);\n",
       "\"><span style=\"color: var(--jp-warn-color2)\">astroquery</span> <span style=\"color: var(--jp-info-color0)\">INFO</span>: Query finished.</pre>"
      ],
      "text/plain": [
       "<IPython.core.display.HTML object>"
      ]
     },
     "metadata": {},
     "output_type": "display_data"
    },
    {
     "name": "stdout",
     "output_type": "stream",
     "text": [
      "INFO: Query finished. [astroquery.utils.tap.core]\n"
     ]
    },
    {
     "data": {
      "text/html": [
       "<pre style=\"margin: 0.1em;\n",
       "padding-left: 0.25em;\n",
       "border-left-style: solid;\n",
       "font-family: var(--jp-code-font-family);\n",
       "font-size: var(--jp-code-font-size);\n",
       "line-height: var(--jp-code-line-height);\n",
       "\"><span style=\"color: var(--jp-warn-color2)\">astroquery</span> <span style=\"color: var(--jp-info-color0)\">INFO</span>: Query finished.</pre>"
      ],
      "text/plain": [
       "<IPython.core.display.HTML object>"
      ]
     },
     "metadata": {},
     "output_type": "display_data"
    },
    {
     "name": "stdout",
     "output_type": "stream",
     "text": [
      "INFO: Query finished. [astroquery.utils.tap.core]\n"
     ]
    },
    {
     "data": {
      "text/html": [
       "<pre style=\"margin: 0.1em;\n",
       "padding-left: 0.25em;\n",
       "border-left-style: solid;\n",
       "font-family: var(--jp-code-font-family);\n",
       "font-size: var(--jp-code-font-size);\n",
       "line-height: var(--jp-code-line-height);\n",
       "\"><span style=\"color: var(--jp-warn-color2)\">astroquery</span> <span style=\"color: var(--jp-info-color0)\">INFO</span>: Query finished.</pre>"
      ],
      "text/plain": [
       "<IPython.core.display.HTML object>"
      ]
     },
     "metadata": {},
     "output_type": "display_data"
    },
    {
     "name": "stdout",
     "output_type": "stream",
     "text": [
      "INFO: Query finished. [astroquery.utils.tap.core]\n"
     ]
    },
    {
     "data": {
      "text/html": [
       "<pre style=\"margin: 0.1em;\n",
       "padding-left: 0.25em;\n",
       "border-left-style: solid;\n",
       "font-family: var(--jp-code-font-family);\n",
       "font-size: var(--jp-code-font-size);\n",
       "line-height: var(--jp-code-line-height);\n",
       "\"><span style=\"color: var(--jp-warn-color2)\">astroquery</span> <span style=\"color: var(--jp-info-color0)\">INFO</span>: Query finished.</pre>"
      ],
      "text/plain": [
       "<IPython.core.display.HTML object>"
      ]
     },
     "metadata": {},
     "output_type": "display_data"
    },
    {
     "name": "stdout",
     "output_type": "stream",
     "text": [
      "INFO: Query finished. [astroquery.utils.tap.core]\n"
     ]
    },
    {
     "data": {
      "text/html": [
       "<pre style=\"margin: 0.1em;\n",
       "padding-left: 0.25em;\n",
       "border-left-style: solid;\n",
       "font-family: var(--jp-code-font-family);\n",
       "font-size: var(--jp-code-font-size);\n",
       "line-height: var(--jp-code-line-height);\n",
       "\"><span style=\"color: var(--jp-warn-color2)\">astroquery</span> <span style=\"color: var(--jp-info-color0)\">INFO</span>: Query finished.</pre>"
      ],
      "text/plain": [
       "<IPython.core.display.HTML object>"
      ]
     },
     "metadata": {},
     "output_type": "display_data"
    },
    {
     "name": "stdout",
     "output_type": "stream",
     "text": [
      "INFO: Query finished. [astroquery.utils.tap.core]\n"
     ]
    },
    {
     "data": {
      "text/html": [
       "<pre style=\"margin: 0.1em;\n",
       "padding-left: 0.25em;\n",
       "border-left-style: solid;\n",
       "font-family: var(--jp-code-font-family);\n",
       "font-size: var(--jp-code-font-size);\n",
       "line-height: var(--jp-code-line-height);\n",
       "\"><span style=\"color: var(--jp-warn-color2)\">astroquery</span> <span style=\"color: var(--jp-info-color0)\">INFO</span>: Query finished.</pre>"
      ],
      "text/plain": [
       "<IPython.core.display.HTML object>"
      ]
     },
     "metadata": {},
     "output_type": "display_data"
    },
    {
     "name": "stdout",
     "output_type": "stream",
     "text": [
      "INFO: Query finished. [astroquery.utils.tap.core]\n"
     ]
    },
    {
     "data": {
      "text/html": [
       "<pre style=\"margin: 0.1em;\n",
       "padding-left: 0.25em;\n",
       "border-left-style: solid;\n",
       "font-family: var(--jp-code-font-family);\n",
       "font-size: var(--jp-code-font-size);\n",
       "line-height: var(--jp-code-line-height);\n",
       "\"><span style=\"color: var(--jp-warn-color2)\">astroquery</span> <span style=\"color: var(--jp-info-color0)\">INFO</span>: Query finished.</pre>"
      ],
      "text/plain": [
       "<IPython.core.display.HTML object>"
      ]
     },
     "metadata": {},
     "output_type": "display_data"
    },
    {
     "name": "stdout",
     "output_type": "stream",
     "text": [
      "INFO: Query finished. [astroquery.utils.tap.core]\n"
     ]
    },
    {
     "data": {
      "text/html": [
       "<pre style=\"margin: 0.1em;\n",
       "padding-left: 0.25em;\n",
       "border-left-style: solid;\n",
       "font-family: var(--jp-code-font-family);\n",
       "font-size: var(--jp-code-font-size);\n",
       "line-height: var(--jp-code-line-height);\n",
       "\"><span style=\"color: var(--jp-warn-color2)\">astroquery</span> <span style=\"color: var(--jp-info-color0)\">INFO</span>: Query finished.</pre>"
      ],
      "text/plain": [
       "<IPython.core.display.HTML object>"
      ]
     },
     "metadata": {},
     "output_type": "display_data"
    },
    {
     "name": "stdout",
     "output_type": "stream",
     "text": [
      "INFO: Query finished. [astroquery.utils.tap.core]\n"
     ]
    },
    {
     "data": {
      "text/html": [
       "<pre style=\"margin: 0.1em;\n",
       "padding-left: 0.25em;\n",
       "border-left-style: solid;\n",
       "font-family: var(--jp-code-font-family);\n",
       "font-size: var(--jp-code-font-size);\n",
       "line-height: var(--jp-code-line-height);\n",
       "\"><span style=\"color: var(--jp-warn-color2)\">astroquery</span> <span style=\"color: var(--jp-info-color0)\">INFO</span>: Query finished.</pre>"
      ],
      "text/plain": [
       "<IPython.core.display.HTML object>"
      ]
     },
     "metadata": {},
     "output_type": "display_data"
    },
    {
     "name": "stdout",
     "output_type": "stream",
     "text": [
      "INFO: Query finished. [astroquery.utils.tap.core]\n"
     ]
    },
    {
     "data": {
      "text/html": [
       "<pre style=\"margin: 0.1em;\n",
       "padding-left: 0.25em;\n",
       "border-left-style: solid;\n",
       "font-family: var(--jp-code-font-family);\n",
       "font-size: var(--jp-code-font-size);\n",
       "line-height: var(--jp-code-line-height);\n",
       "\"><span style=\"color: var(--jp-warn-color2)\">astroquery</span> <span style=\"color: var(--jp-info-color0)\">INFO</span>: Query finished.</pre>"
      ],
      "text/plain": [
       "<IPython.core.display.HTML object>"
      ]
     },
     "metadata": {},
     "output_type": "display_data"
    },
    {
     "name": "stdout",
     "output_type": "stream",
     "text": [
      "INFO: Query finished. [astroquery.utils.tap.core]\n"
     ]
    },
    {
     "data": {
      "text/html": [
       "<pre style=\"margin: 0.1em;\n",
       "padding-left: 0.25em;\n",
       "border-left-style: solid;\n",
       "font-family: var(--jp-code-font-family);\n",
       "font-size: var(--jp-code-font-size);\n",
       "line-height: var(--jp-code-line-height);\n",
       "\"><span style=\"color: var(--jp-warn-color2)\">astroquery</span> <span style=\"color: var(--jp-info-color0)\">INFO</span>: Query finished.</pre>"
      ],
      "text/plain": [
       "<IPython.core.display.HTML object>"
      ]
     },
     "metadata": {},
     "output_type": "display_data"
    },
    {
     "name": "stdout",
     "output_type": "stream",
     "text": [
      "INFO: Query finished. [astroquery.utils.tap.core]\n"
     ]
    },
    {
     "data": {
      "text/html": [
       "<pre style=\"margin: 0.1em;\n",
       "padding-left: 0.25em;\n",
       "border-left-style: solid;\n",
       "font-family: var(--jp-code-font-family);\n",
       "font-size: var(--jp-code-font-size);\n",
       "line-height: var(--jp-code-line-height);\n",
       "\"><span style=\"color: var(--jp-warn-color2)\">astroquery</span> <span style=\"color: var(--jp-info-color0)\">INFO</span>: Query finished.</pre>"
      ],
      "text/plain": [
       "<IPython.core.display.HTML object>"
      ]
     },
     "metadata": {},
     "output_type": "display_data"
    },
    {
     "name": "stdout",
     "output_type": "stream",
     "text": [
      "INFO: Query finished. [astroquery.utils.tap.core]\n"
     ]
    },
    {
     "data": {
      "text/html": [
       "<pre style=\"margin: 0.1em;\n",
       "padding-left: 0.25em;\n",
       "border-left-style: solid;\n",
       "font-family: var(--jp-code-font-family);\n",
       "font-size: var(--jp-code-font-size);\n",
       "line-height: var(--jp-code-line-height);\n",
       "\"><span style=\"color: var(--jp-warn-color2)\">astroquery</span> <span style=\"color: var(--jp-info-color0)\">INFO</span>: Query finished.</pre>"
      ],
      "text/plain": [
       "<IPython.core.display.HTML object>"
      ]
     },
     "metadata": {},
     "output_type": "display_data"
    },
    {
     "name": "stdout",
     "output_type": "stream",
     "text": [
      "INFO: Query finished. [astroquery.utils.tap.core]\n"
     ]
    },
    {
     "data": {
      "text/html": [
       "<pre style=\"margin: 0.1em;\n",
       "padding-left: 0.25em;\n",
       "border-left-style: solid;\n",
       "font-family: var(--jp-code-font-family);\n",
       "font-size: var(--jp-code-font-size);\n",
       "line-height: var(--jp-code-line-height);\n",
       "\"><span style=\"color: var(--jp-warn-color2)\">astroquery</span> <span style=\"color: var(--jp-info-color0)\">INFO</span>: Query finished.</pre>"
      ],
      "text/plain": [
       "<IPython.core.display.HTML object>"
      ]
     },
     "metadata": {},
     "output_type": "display_data"
    },
    {
     "name": "stdout",
     "output_type": "stream",
     "text": [
      "INFO: Query finished. [astroquery.utils.tap.core]\n"
     ]
    },
    {
     "data": {
      "text/html": [
       "<pre style=\"margin: 0.1em;\n",
       "padding-left: 0.25em;\n",
       "border-left-style: solid;\n",
       "font-family: var(--jp-code-font-family);\n",
       "font-size: var(--jp-code-font-size);\n",
       "line-height: var(--jp-code-line-height);\n",
       "\"><span style=\"color: var(--jp-warn-color2)\">astroquery</span> <span style=\"color: var(--jp-info-color0)\">INFO</span>: Query finished.</pre>"
      ],
      "text/plain": [
       "<IPython.core.display.HTML object>"
      ]
     },
     "metadata": {},
     "output_type": "display_data"
    },
    {
     "name": "stdout",
     "output_type": "stream",
     "text": [
      "INFO: Query finished. [astroquery.utils.tap.core]\n"
     ]
    },
    {
     "data": {
      "text/html": [
       "<pre style=\"margin: 0.1em;\n",
       "padding-left: 0.25em;\n",
       "border-left-style: solid;\n",
       "font-family: var(--jp-code-font-family);\n",
       "font-size: var(--jp-code-font-size);\n",
       "line-height: var(--jp-code-line-height);\n",
       "\"><span style=\"color: var(--jp-warn-color2)\">astroquery</span> <span style=\"color: var(--jp-info-color0)\">INFO</span>: Query finished.</pre>"
      ],
      "text/plain": [
       "<IPython.core.display.HTML object>"
      ]
     },
     "metadata": {},
     "output_type": "display_data"
    },
    {
     "name": "stdout",
     "output_type": "stream",
     "text": [
      "INFO: Query finished. [astroquery.utils.tap.core]\n"
     ]
    },
    {
     "data": {
      "text/html": [
       "<pre style=\"margin: 0.1em;\n",
       "padding-left: 0.25em;\n",
       "border-left-style: solid;\n",
       "font-family: var(--jp-code-font-family);\n",
       "font-size: var(--jp-code-font-size);\n",
       "line-height: var(--jp-code-line-height);\n",
       "\"><span style=\"color: var(--jp-warn-color2)\">astroquery</span> <span style=\"color: var(--jp-info-color0)\">INFO</span>: Query finished.</pre>"
      ],
      "text/plain": [
       "<IPython.core.display.HTML object>"
      ]
     },
     "metadata": {},
     "output_type": "display_data"
    },
    {
     "name": "stdout",
     "output_type": "stream",
     "text": [
      "INFO: Query finished. [astroquery.utils.tap.core]\n"
     ]
    },
    {
     "data": {
      "text/html": [
       "<pre style=\"margin: 0.1em;\n",
       "padding-left: 0.25em;\n",
       "border-left-style: solid;\n",
       "font-family: var(--jp-code-font-family);\n",
       "font-size: var(--jp-code-font-size);\n",
       "line-height: var(--jp-code-line-height);\n",
       "\"><span style=\"color: var(--jp-warn-color2)\">astroquery</span> <span style=\"color: var(--jp-info-color0)\">INFO</span>: Query finished.</pre>"
      ],
      "text/plain": [
       "<IPython.core.display.HTML object>"
      ]
     },
     "metadata": {},
     "output_type": "display_data"
    },
    {
     "name": "stdout",
     "output_type": "stream",
     "text": [
      "INFO: Query finished. [astroquery.utils.tap.core]\n"
     ]
    },
    {
     "data": {
      "text/html": [
       "<pre style=\"margin: 0.1em;\n",
       "padding-left: 0.25em;\n",
       "border-left-style: solid;\n",
       "font-family: var(--jp-code-font-family);\n",
       "font-size: var(--jp-code-font-size);\n",
       "line-height: var(--jp-code-line-height);\n",
       "\"><span style=\"color: var(--jp-warn-color2)\">astroquery</span> <span style=\"color: var(--jp-info-color0)\">INFO</span>: Query finished.</pre>"
      ],
      "text/plain": [
       "<IPython.core.display.HTML object>"
      ]
     },
     "metadata": {},
     "output_type": "display_data"
    },
    {
     "name": "stdout",
     "output_type": "stream",
     "text": [
      "INFO: Query finished. [astroquery.utils.tap.core]\n"
     ]
    },
    {
     "data": {
      "text/html": [
       "<pre style=\"margin: 0.1em;\n",
       "padding-left: 0.25em;\n",
       "border-left-style: solid;\n",
       "font-family: var(--jp-code-font-family);\n",
       "font-size: var(--jp-code-font-size);\n",
       "line-height: var(--jp-code-line-height);\n",
       "\"><span style=\"color: var(--jp-warn-color2)\">astroquery</span> <span style=\"color: var(--jp-info-color0)\">INFO</span>: Query finished.</pre>"
      ],
      "text/plain": [
       "<IPython.core.display.HTML object>"
      ]
     },
     "metadata": {},
     "output_type": "display_data"
    },
    {
     "name": "stdout",
     "output_type": "stream",
     "text": [
      "INFO: Query finished. [astroquery.utils.tap.core]\n"
     ]
    },
    {
     "data": {
      "text/html": [
       "<pre style=\"margin: 0.1em;\n",
       "padding-left: 0.25em;\n",
       "border-left-style: solid;\n",
       "font-family: var(--jp-code-font-family);\n",
       "font-size: var(--jp-code-font-size);\n",
       "line-height: var(--jp-code-line-height);\n",
       "\"><span style=\"color: var(--jp-warn-color2)\">astroquery</span> <span style=\"color: var(--jp-info-color0)\">INFO</span>: Query finished.</pre>"
      ],
      "text/plain": [
       "<IPython.core.display.HTML object>"
      ]
     },
     "metadata": {},
     "output_type": "display_data"
    },
    {
     "name": "stdout",
     "output_type": "stream",
     "text": [
      "INFO: Query finished. [astroquery.utils.tap.core]\n"
     ]
    },
    {
     "data": {
      "text/html": [
       "<pre style=\"margin: 0.1em;\n",
       "padding-left: 0.25em;\n",
       "border-left-style: solid;\n",
       "font-family: var(--jp-code-font-family);\n",
       "font-size: var(--jp-code-font-size);\n",
       "line-height: var(--jp-code-line-height);\n",
       "\"><span style=\"color: var(--jp-warn-color2)\">astroquery</span> <span style=\"color: var(--jp-info-color0)\">INFO</span>: Query finished.</pre>"
      ],
      "text/plain": [
       "<IPython.core.display.HTML object>"
      ]
     },
     "metadata": {},
     "output_type": "display_data"
    },
    {
     "name": "stdout",
     "output_type": "stream",
     "text": [
      "INFO: Query finished. [astroquery.utils.tap.core]\n"
     ]
    },
    {
     "data": {
      "text/html": [
       "<pre style=\"margin: 0.1em;\n",
       "padding-left: 0.25em;\n",
       "border-left-style: solid;\n",
       "font-family: var(--jp-code-font-family);\n",
       "font-size: var(--jp-code-font-size);\n",
       "line-height: var(--jp-code-line-height);\n",
       "\"><span style=\"color: var(--jp-warn-color2)\">astroquery</span> <span style=\"color: var(--jp-info-color0)\">INFO</span>: Query finished.</pre>"
      ],
      "text/plain": [
       "<IPython.core.display.HTML object>"
      ]
     },
     "metadata": {},
     "output_type": "display_data"
    },
    {
     "name": "stdout",
     "output_type": "stream",
     "text": [
      "INFO: Query finished. [astroquery.utils.tap.core]\n"
     ]
    },
    {
     "data": {
      "text/html": [
       "<pre style=\"margin: 0.1em;\n",
       "padding-left: 0.25em;\n",
       "border-left-style: solid;\n",
       "font-family: var(--jp-code-font-family);\n",
       "font-size: var(--jp-code-font-size);\n",
       "line-height: var(--jp-code-line-height);\n",
       "\"><span style=\"color: var(--jp-warn-color2)\">astroquery</span> <span style=\"color: var(--jp-info-color0)\">INFO</span>: Query finished.</pre>"
      ],
      "text/plain": [
       "<IPython.core.display.HTML object>"
      ]
     },
     "metadata": {},
     "output_type": "display_data"
    },
    {
     "name": "stdout",
     "output_type": "stream",
     "text": [
      "INFO: Query finished. [astroquery.utils.tap.core]\n"
     ]
    },
    {
     "data": {
      "text/html": [
       "<pre style=\"margin: 0.1em;\n",
       "padding-left: 0.25em;\n",
       "border-left-style: solid;\n",
       "font-family: var(--jp-code-font-family);\n",
       "font-size: var(--jp-code-font-size);\n",
       "line-height: var(--jp-code-line-height);\n",
       "\"><span style=\"color: var(--jp-warn-color2)\">astroquery</span> <span style=\"color: var(--jp-info-color0)\">INFO</span>: Query finished.</pre>"
      ],
      "text/plain": [
       "<IPython.core.display.HTML object>"
      ]
     },
     "metadata": {},
     "output_type": "display_data"
    },
    {
     "name": "stdout",
     "output_type": "stream",
     "text": [
      "INFO: Query finished. [astroquery.utils.tap.core]\n"
     ]
    },
    {
     "data": {
      "text/html": [
       "<pre style=\"margin: 0.1em;\n",
       "padding-left: 0.25em;\n",
       "border-left-style: solid;\n",
       "font-family: var(--jp-code-font-family);\n",
       "font-size: var(--jp-code-font-size);\n",
       "line-height: var(--jp-code-line-height);\n",
       "\"><span style=\"color: var(--jp-warn-color2)\">astroquery</span> <span style=\"color: var(--jp-info-color0)\">INFO</span>: Query finished.</pre>"
      ],
      "text/plain": [
       "<IPython.core.display.HTML object>"
      ]
     },
     "metadata": {},
     "output_type": "display_data"
    },
    {
     "name": "stdout",
     "output_type": "stream",
     "text": [
      "INFO: Query finished. [astroquery.utils.tap.core]\n"
     ]
    },
    {
     "data": {
      "text/html": [
       "<pre style=\"margin: 0.1em;\n",
       "padding-left: 0.25em;\n",
       "border-left-style: solid;\n",
       "font-family: var(--jp-code-font-family);\n",
       "font-size: var(--jp-code-font-size);\n",
       "line-height: var(--jp-code-line-height);\n",
       "\"><span style=\"color: var(--jp-warn-color2)\">astroquery</span> <span style=\"color: var(--jp-info-color0)\">INFO</span>: Query finished.</pre>"
      ],
      "text/plain": [
       "<IPython.core.display.HTML object>"
      ]
     },
     "metadata": {},
     "output_type": "display_data"
    },
    {
     "name": "stdout",
     "output_type": "stream",
     "text": [
      "INFO: Query finished. [astroquery.utils.tap.core]\n"
     ]
    },
    {
     "data": {
      "text/html": [
       "<pre style=\"margin: 0.1em;\n",
       "padding-left: 0.25em;\n",
       "border-left-style: solid;\n",
       "font-family: var(--jp-code-font-family);\n",
       "font-size: var(--jp-code-font-size);\n",
       "line-height: var(--jp-code-line-height);\n",
       "\"><span style=\"color: var(--jp-warn-color2)\">astroquery</span> <span style=\"color: var(--jp-info-color0)\">INFO</span>: Query finished.</pre>"
      ],
      "text/plain": [
       "<IPython.core.display.HTML object>"
      ]
     },
     "metadata": {},
     "output_type": "display_data"
    },
    {
     "name": "stdout",
     "output_type": "stream",
     "text": [
      "INFO: Query finished. [astroquery.utils.tap.core]\n"
     ]
    },
    {
     "data": {
      "text/html": [
       "<pre style=\"margin: 0.1em;\n",
       "padding-left: 0.25em;\n",
       "border-left-style: solid;\n",
       "font-family: var(--jp-code-font-family);\n",
       "font-size: var(--jp-code-font-size);\n",
       "line-height: var(--jp-code-line-height);\n",
       "\"><span style=\"color: var(--jp-warn-color2)\">astroquery</span> <span style=\"color: var(--jp-info-color0)\">INFO</span>: Query finished.</pre>"
      ],
      "text/plain": [
       "<IPython.core.display.HTML object>"
      ]
     },
     "metadata": {},
     "output_type": "display_data"
    },
    {
     "name": "stdout",
     "output_type": "stream",
     "text": [
      "INFO: Query finished. [astroquery.utils.tap.core]\n"
     ]
    },
    {
     "data": {
      "text/html": [
       "<pre style=\"margin: 0.1em;\n",
       "padding-left: 0.25em;\n",
       "border-left-style: solid;\n",
       "font-family: var(--jp-code-font-family);\n",
       "font-size: var(--jp-code-font-size);\n",
       "line-height: var(--jp-code-line-height);\n",
       "\"><span style=\"color: var(--jp-warn-color2)\">astroquery</span> <span style=\"color: var(--jp-info-color0)\">INFO</span>: Query finished.</pre>"
      ],
      "text/plain": [
       "<IPython.core.display.HTML object>"
      ]
     },
     "metadata": {},
     "output_type": "display_data"
    },
    {
     "name": "stdout",
     "output_type": "stream",
     "text": [
      "INFO: Query finished. [astroquery.utils.tap.core]\n"
     ]
    },
    {
     "data": {
      "text/html": [
       "<pre style=\"margin: 0.1em;\n",
       "padding-left: 0.25em;\n",
       "border-left-style: solid;\n",
       "font-family: var(--jp-code-font-family);\n",
       "font-size: var(--jp-code-font-size);\n",
       "line-height: var(--jp-code-line-height);\n",
       "\"><span style=\"color: var(--jp-warn-color2)\">astroquery</span> <span style=\"color: var(--jp-info-color0)\">INFO</span>: Query finished.</pre>"
      ],
      "text/plain": [
       "<IPython.core.display.HTML object>"
      ]
     },
     "metadata": {},
     "output_type": "display_data"
    },
    {
     "name": "stdout",
     "output_type": "stream",
     "text": [
      "INFO: Query finished. [astroquery.utils.tap.core]\n"
     ]
    },
    {
     "data": {
      "text/html": [
       "<pre style=\"margin: 0.1em;\n",
       "padding-left: 0.25em;\n",
       "border-left-style: solid;\n",
       "font-family: var(--jp-code-font-family);\n",
       "font-size: var(--jp-code-font-size);\n",
       "line-height: var(--jp-code-line-height);\n",
       "\"><span style=\"color: var(--jp-warn-color2)\">astroquery</span> <span style=\"color: var(--jp-info-color0)\">INFO</span>: Query finished.</pre>"
      ],
      "text/plain": [
       "<IPython.core.display.HTML object>"
      ]
     },
     "metadata": {},
     "output_type": "display_data"
    },
    {
     "name": "stdout",
     "output_type": "stream",
     "text": [
      "INFO: Query finished. [astroquery.utils.tap.core]\n"
     ]
    },
    {
     "data": {
      "text/html": [
       "<pre style=\"margin: 0.1em;\n",
       "padding-left: 0.25em;\n",
       "border-left-style: solid;\n",
       "font-family: var(--jp-code-font-family);\n",
       "font-size: var(--jp-code-font-size);\n",
       "line-height: var(--jp-code-line-height);\n",
       "\"><span style=\"color: var(--jp-warn-color2)\">astroquery</span> <span style=\"color: var(--jp-info-color0)\">INFO</span>: Query finished.</pre>"
      ],
      "text/plain": [
       "<IPython.core.display.HTML object>"
      ]
     },
     "metadata": {},
     "output_type": "display_data"
    },
    {
     "name": "stdout",
     "output_type": "stream",
     "text": [
      "INFO: Query finished. [astroquery.utils.tap.core]\n"
     ]
    },
    {
     "data": {
      "text/html": [
       "<pre style=\"margin: 0.1em;\n",
       "padding-left: 0.25em;\n",
       "border-left-style: solid;\n",
       "font-family: var(--jp-code-font-family);\n",
       "font-size: var(--jp-code-font-size);\n",
       "line-height: var(--jp-code-line-height);\n",
       "\"><span style=\"color: var(--jp-warn-color2)\">astroquery</span> <span style=\"color: var(--jp-info-color0)\">INFO</span>: Query finished.</pre>"
      ],
      "text/plain": [
       "<IPython.core.display.HTML object>"
      ]
     },
     "metadata": {},
     "output_type": "display_data"
    },
    {
     "name": "stdout",
     "output_type": "stream",
     "text": [
      "INFO: Query finished. [astroquery.utils.tap.core]\n"
     ]
    },
    {
     "data": {
      "text/html": [
       "<pre style=\"margin: 0.1em;\n",
       "padding-left: 0.25em;\n",
       "border-left-style: solid;\n",
       "font-family: var(--jp-code-font-family);\n",
       "font-size: var(--jp-code-font-size);\n",
       "line-height: var(--jp-code-line-height);\n",
       "\"><span style=\"color: var(--jp-warn-color2)\">astroquery</span> <span style=\"color: var(--jp-info-color0)\">INFO</span>: Query finished.</pre>"
      ],
      "text/plain": [
       "<IPython.core.display.HTML object>"
      ]
     },
     "metadata": {},
     "output_type": "display_data"
    },
    {
     "name": "stdout",
     "output_type": "stream",
     "text": [
      "INFO: Query finished. [astroquery.utils.tap.core]\n"
     ]
    },
    {
     "data": {
      "text/html": [
       "<pre style=\"margin: 0.1em;\n",
       "padding-left: 0.25em;\n",
       "border-left-style: solid;\n",
       "font-family: var(--jp-code-font-family);\n",
       "font-size: var(--jp-code-font-size);\n",
       "line-height: var(--jp-code-line-height);\n",
       "\"><span style=\"color: var(--jp-warn-color2)\">astroquery</span> <span style=\"color: var(--jp-info-color0)\">INFO</span>: Query finished.</pre>"
      ],
      "text/plain": [
       "<IPython.core.display.HTML object>"
      ]
     },
     "metadata": {},
     "output_type": "display_data"
    },
    {
     "name": "stdout",
     "output_type": "stream",
     "text": [
      "INFO: Query finished. [astroquery.utils.tap.core]\n"
     ]
    },
    {
     "data": {
      "text/html": [
       "<pre style=\"margin: 0.1em;\n",
       "padding-left: 0.25em;\n",
       "border-left-style: solid;\n",
       "font-family: var(--jp-code-font-family);\n",
       "font-size: var(--jp-code-font-size);\n",
       "line-height: var(--jp-code-line-height);\n",
       "\"><span style=\"color: var(--jp-warn-color2)\">astroquery</span> <span style=\"color: var(--jp-info-color0)\">INFO</span>: Query finished.</pre>"
      ],
      "text/plain": [
       "<IPython.core.display.HTML object>"
      ]
     },
     "metadata": {},
     "output_type": "display_data"
    },
    {
     "name": "stdout",
     "output_type": "stream",
     "text": [
      "INFO: Query finished. [astroquery.utils.tap.core]\n"
     ]
    },
    {
     "data": {
      "text/html": [
       "<pre style=\"margin: 0.1em;\n",
       "padding-left: 0.25em;\n",
       "border-left-style: solid;\n",
       "font-family: var(--jp-code-font-family);\n",
       "font-size: var(--jp-code-font-size);\n",
       "line-height: var(--jp-code-line-height);\n",
       "\"><span style=\"color: var(--jp-warn-color2)\">astroquery</span> <span style=\"color: var(--jp-info-color0)\">INFO</span>: Query finished.</pre>"
      ],
      "text/plain": [
       "<IPython.core.display.HTML object>"
      ]
     },
     "metadata": {},
     "output_type": "display_data"
    },
    {
     "name": "stdout",
     "output_type": "stream",
     "text": [
      "INFO: Query finished. [astroquery.utils.tap.core]\n"
     ]
    },
    {
     "data": {
      "text/html": [
       "<pre style=\"margin: 0.1em;\n",
       "padding-left: 0.25em;\n",
       "border-left-style: solid;\n",
       "font-family: var(--jp-code-font-family);\n",
       "font-size: var(--jp-code-font-size);\n",
       "line-height: var(--jp-code-line-height);\n",
       "\"><span style=\"color: var(--jp-warn-color2)\">astroquery</span> <span style=\"color: var(--jp-info-color0)\">INFO</span>: Query finished.</pre>"
      ],
      "text/plain": [
       "<IPython.core.display.HTML object>"
      ]
     },
     "metadata": {},
     "output_type": "display_data"
    },
    {
     "name": "stdout",
     "output_type": "stream",
     "text": [
      "INFO: Query finished. [astroquery.utils.tap.core]\n"
     ]
    },
    {
     "data": {
      "text/html": [
       "<pre style=\"margin: 0.1em;\n",
       "padding-left: 0.25em;\n",
       "border-left-style: solid;\n",
       "font-family: var(--jp-code-font-family);\n",
       "font-size: var(--jp-code-font-size);\n",
       "line-height: var(--jp-code-line-height);\n",
       "\"><span style=\"color: var(--jp-warn-color2)\">astroquery</span> <span style=\"color: var(--jp-info-color0)\">INFO</span>: Query finished.</pre>"
      ],
      "text/plain": [
       "<IPython.core.display.HTML object>"
      ]
     },
     "metadata": {},
     "output_type": "display_data"
    },
    {
     "name": "stdout",
     "output_type": "stream",
     "text": [
      "INFO: Query finished. [astroquery.utils.tap.core]\n"
     ]
    },
    {
     "data": {
      "text/html": [
       "<pre style=\"margin: 0.1em;\n",
       "padding-left: 0.25em;\n",
       "border-left-style: solid;\n",
       "font-family: var(--jp-code-font-family);\n",
       "font-size: var(--jp-code-font-size);\n",
       "line-height: var(--jp-code-line-height);\n",
       "\"><span style=\"color: var(--jp-warn-color2)\">astroquery</span> <span style=\"color: var(--jp-info-color0)\">INFO</span>: Query finished.</pre>"
      ],
      "text/plain": [
       "<IPython.core.display.HTML object>"
      ]
     },
     "metadata": {},
     "output_type": "display_data"
    },
    {
     "name": "stdout",
     "output_type": "stream",
     "text": [
      "INFO: Query finished. [astroquery.utils.tap.core]\n"
     ]
    },
    {
     "data": {
      "text/html": [
       "<pre style=\"margin: 0.1em;\n",
       "padding-left: 0.25em;\n",
       "border-left-style: solid;\n",
       "font-family: var(--jp-code-font-family);\n",
       "font-size: var(--jp-code-font-size);\n",
       "line-height: var(--jp-code-line-height);\n",
       "\"><span style=\"color: var(--jp-warn-color2)\">astroquery</span> <span style=\"color: var(--jp-info-color0)\">INFO</span>: Query finished.</pre>"
      ],
      "text/plain": [
       "<IPython.core.display.HTML object>"
      ]
     },
     "metadata": {},
     "output_type": "display_data"
    },
    {
     "name": "stdout",
     "output_type": "stream",
     "text": [
      "INFO: Query finished. [astroquery.utils.tap.core]\n"
     ]
    },
    {
     "data": {
      "text/html": [
       "<pre style=\"margin: 0.1em;\n",
       "padding-left: 0.25em;\n",
       "border-left-style: solid;\n",
       "font-family: var(--jp-code-font-family);\n",
       "font-size: var(--jp-code-font-size);\n",
       "line-height: var(--jp-code-line-height);\n",
       "\"><span style=\"color: var(--jp-warn-color2)\">astroquery</span> <span style=\"color: var(--jp-info-color0)\">INFO</span>: Query finished.</pre>"
      ],
      "text/plain": [
       "<IPython.core.display.HTML object>"
      ]
     },
     "metadata": {},
     "output_type": "display_data"
    },
    {
     "name": "stdout",
     "output_type": "stream",
     "text": [
      "INFO: Query finished. [astroquery.utils.tap.core]\n"
     ]
    },
    {
     "data": {
      "text/html": [
       "<pre style=\"margin: 0.1em;\n",
       "padding-left: 0.25em;\n",
       "border-left-style: solid;\n",
       "font-family: var(--jp-code-font-family);\n",
       "font-size: var(--jp-code-font-size);\n",
       "line-height: var(--jp-code-line-height);\n",
       "\"><span style=\"color: var(--jp-warn-color2)\">astroquery</span> <span style=\"color: var(--jp-info-color0)\">INFO</span>: Query finished.</pre>"
      ],
      "text/plain": [
       "<IPython.core.display.HTML object>"
      ]
     },
     "metadata": {},
     "output_type": "display_data"
    },
    {
     "name": "stdout",
     "output_type": "stream",
     "text": [
      "INFO: Query finished. [astroquery.utils.tap.core]\n"
     ]
    },
    {
     "data": {
      "text/html": [
       "<pre style=\"margin: 0.1em;\n",
       "padding-left: 0.25em;\n",
       "border-left-style: solid;\n",
       "font-family: var(--jp-code-font-family);\n",
       "font-size: var(--jp-code-font-size);\n",
       "line-height: var(--jp-code-line-height);\n",
       "\"><span style=\"color: var(--jp-warn-color2)\">astroquery</span> <span style=\"color: var(--jp-info-color0)\">INFO</span>: Query finished.</pre>"
      ],
      "text/plain": [
       "<IPython.core.display.HTML object>"
      ]
     },
     "metadata": {},
     "output_type": "display_data"
    },
    {
     "name": "stdout",
     "output_type": "stream",
     "text": [
      "INFO: Query finished. [astroquery.utils.tap.core]\n"
     ]
    },
    {
     "data": {
      "text/html": [
       "<pre style=\"margin: 0.1em;\n",
       "padding-left: 0.25em;\n",
       "border-left-style: solid;\n",
       "font-family: var(--jp-code-font-family);\n",
       "font-size: var(--jp-code-font-size);\n",
       "line-height: var(--jp-code-line-height);\n",
       "\"><span style=\"color: var(--jp-warn-color2)\">astroquery</span> <span style=\"color: var(--jp-info-color0)\">INFO</span>: Query finished.</pre>"
      ],
      "text/plain": [
       "<IPython.core.display.HTML object>"
      ]
     },
     "metadata": {},
     "output_type": "display_data"
    },
    {
     "name": "stdout",
     "output_type": "stream",
     "text": [
      "INFO: Query finished. [astroquery.utils.tap.core]\n"
     ]
    },
    {
     "data": {
      "text/html": [
       "<pre style=\"margin: 0.1em;\n",
       "padding-left: 0.25em;\n",
       "border-left-style: solid;\n",
       "font-family: var(--jp-code-font-family);\n",
       "font-size: var(--jp-code-font-size);\n",
       "line-height: var(--jp-code-line-height);\n",
       "\"><span style=\"color: var(--jp-warn-color2)\">astroquery</span> <span style=\"color: var(--jp-info-color0)\">INFO</span>: Query finished.</pre>"
      ],
      "text/plain": [
       "<IPython.core.display.HTML object>"
      ]
     },
     "metadata": {},
     "output_type": "display_data"
    },
    {
     "name": "stdout",
     "output_type": "stream",
     "text": [
      "INFO: Query finished. [astroquery.utils.tap.core]\n"
     ]
    },
    {
     "data": {
      "text/html": [
       "<pre style=\"margin: 0.1em;\n",
       "padding-left: 0.25em;\n",
       "border-left-style: solid;\n",
       "font-family: var(--jp-code-font-family);\n",
       "font-size: var(--jp-code-font-size);\n",
       "line-height: var(--jp-code-line-height);\n",
       "\"><span style=\"color: var(--jp-warn-color2)\">astroquery</span> <span style=\"color: var(--jp-info-color0)\">INFO</span>: Query finished.</pre>"
      ],
      "text/plain": [
       "<IPython.core.display.HTML object>"
      ]
     },
     "metadata": {},
     "output_type": "display_data"
    },
    {
     "name": "stdout",
     "output_type": "stream",
     "text": [
      "INFO: Query finished. [astroquery.utils.tap.core]\n"
     ]
    },
    {
     "data": {
      "text/html": [
       "<pre style=\"margin: 0.1em;\n",
       "padding-left: 0.25em;\n",
       "border-left-style: solid;\n",
       "font-family: var(--jp-code-font-family);\n",
       "font-size: var(--jp-code-font-size);\n",
       "line-height: var(--jp-code-line-height);\n",
       "\"><span style=\"color: var(--jp-warn-color2)\">astroquery</span> <span style=\"color: var(--jp-info-color0)\">INFO</span>: Query finished.</pre>"
      ],
      "text/plain": [
       "<IPython.core.display.HTML object>"
      ]
     },
     "metadata": {},
     "output_type": "display_data"
    },
    {
     "name": "stdout",
     "output_type": "stream",
     "text": [
      "INFO: Query finished. [astroquery.utils.tap.core]\n"
     ]
    },
    {
     "data": {
      "text/html": [
       "<pre style=\"margin: 0.1em;\n",
       "padding-left: 0.25em;\n",
       "border-left-style: solid;\n",
       "font-family: var(--jp-code-font-family);\n",
       "font-size: var(--jp-code-font-size);\n",
       "line-height: var(--jp-code-line-height);\n",
       "\"><span style=\"color: var(--jp-warn-color2)\">astroquery</span> <span style=\"color: var(--jp-info-color0)\">INFO</span>: Query finished.</pre>"
      ],
      "text/plain": [
       "<IPython.core.display.HTML object>"
      ]
     },
     "metadata": {},
     "output_type": "display_data"
    },
    {
     "name": "stdout",
     "output_type": "stream",
     "text": [
      "INFO: Query finished. [astroquery.utils.tap.core]\n"
     ]
    },
    {
     "data": {
      "text/html": [
       "<pre style=\"margin: 0.1em;\n",
       "padding-left: 0.25em;\n",
       "border-left-style: solid;\n",
       "font-family: var(--jp-code-font-family);\n",
       "font-size: var(--jp-code-font-size);\n",
       "line-height: var(--jp-code-line-height);\n",
       "\"><span style=\"color: var(--jp-warn-color2)\">astroquery</span> <span style=\"color: var(--jp-info-color0)\">INFO</span>: Query finished.</pre>"
      ],
      "text/plain": [
       "<IPython.core.display.HTML object>"
      ]
     },
     "metadata": {},
     "output_type": "display_data"
    },
    {
     "name": "stdout",
     "output_type": "stream",
     "text": [
      "INFO: Query finished. [astroquery.utils.tap.core]\n"
     ]
    },
    {
     "data": {
      "text/html": [
       "<pre style=\"margin: 0.1em;\n",
       "padding-left: 0.25em;\n",
       "border-left-style: solid;\n",
       "font-family: var(--jp-code-font-family);\n",
       "font-size: var(--jp-code-font-size);\n",
       "line-height: var(--jp-code-line-height);\n",
       "\"><span style=\"color: var(--jp-warn-color2)\">astroquery</span> <span style=\"color: var(--jp-info-color0)\">INFO</span>: Query finished.</pre>"
      ],
      "text/plain": [
       "<IPython.core.display.HTML object>"
      ]
     },
     "metadata": {},
     "output_type": "display_data"
    },
    {
     "name": "stdout",
     "output_type": "stream",
     "text": [
      "INFO: Query finished. [astroquery.utils.tap.core]\n"
     ]
    },
    {
     "data": {
      "text/html": [
       "<pre style=\"margin: 0.1em;\n",
       "padding-left: 0.25em;\n",
       "border-left-style: solid;\n",
       "font-family: var(--jp-code-font-family);\n",
       "font-size: var(--jp-code-font-size);\n",
       "line-height: var(--jp-code-line-height);\n",
       "\"><span style=\"color: var(--jp-warn-color2)\">astroquery</span> <span style=\"color: var(--jp-info-color0)\">INFO</span>: Query finished.</pre>"
      ],
      "text/plain": [
       "<IPython.core.display.HTML object>"
      ]
     },
     "metadata": {},
     "output_type": "display_data"
    },
    {
     "name": "stdout",
     "output_type": "stream",
     "text": [
      "INFO: Query finished. [astroquery.utils.tap.core]\n"
     ]
    },
    {
     "data": {
      "text/html": [
       "<pre style=\"margin: 0.1em;\n",
       "padding-left: 0.25em;\n",
       "border-left-style: solid;\n",
       "font-family: var(--jp-code-font-family);\n",
       "font-size: var(--jp-code-font-size);\n",
       "line-height: var(--jp-code-line-height);\n",
       "\"><span style=\"color: var(--jp-warn-color2)\">astroquery</span> <span style=\"color: var(--jp-info-color0)\">INFO</span>: Query finished.</pre>"
      ],
      "text/plain": [
       "<IPython.core.display.HTML object>"
      ]
     },
     "metadata": {},
     "output_type": "display_data"
    },
    {
     "name": "stdout",
     "output_type": "stream",
     "text": [
      "INFO: Query finished. [astroquery.utils.tap.core]\n"
     ]
    },
    {
     "data": {
      "text/html": [
       "<pre style=\"margin: 0.1em;\n",
       "padding-left: 0.25em;\n",
       "border-left-style: solid;\n",
       "font-family: var(--jp-code-font-family);\n",
       "font-size: var(--jp-code-font-size);\n",
       "line-height: var(--jp-code-line-height);\n",
       "\"><span style=\"color: var(--jp-warn-color2)\">astroquery</span> <span style=\"color: var(--jp-info-color0)\">INFO</span>: Query finished.</pre>"
      ],
      "text/plain": [
       "<IPython.core.display.HTML object>"
      ]
     },
     "metadata": {},
     "output_type": "display_data"
    },
    {
     "name": "stdout",
     "output_type": "stream",
     "text": [
      "INFO: Query finished. [astroquery.utils.tap.core]\n"
     ]
    },
    {
     "data": {
      "text/html": [
       "<pre style=\"margin: 0.1em;\n",
       "padding-left: 0.25em;\n",
       "border-left-style: solid;\n",
       "font-family: var(--jp-code-font-family);\n",
       "font-size: var(--jp-code-font-size);\n",
       "line-height: var(--jp-code-line-height);\n",
       "\"><span style=\"color: var(--jp-warn-color2)\">astroquery</span> <span style=\"color: var(--jp-info-color0)\">INFO</span>: Query finished.</pre>"
      ],
      "text/plain": [
       "<IPython.core.display.HTML object>"
      ]
     },
     "metadata": {},
     "output_type": "display_data"
    },
    {
     "name": "stdout",
     "output_type": "stream",
     "text": [
      "INFO: Query finished. [astroquery.utils.tap.core]\n"
     ]
    },
    {
     "data": {
      "text/html": [
       "<pre style=\"margin: 0.1em;\n",
       "padding-left: 0.25em;\n",
       "border-left-style: solid;\n",
       "font-family: var(--jp-code-font-family);\n",
       "font-size: var(--jp-code-font-size);\n",
       "line-height: var(--jp-code-line-height);\n",
       "\"><span style=\"color: var(--jp-warn-color2)\">astroquery</span> <span style=\"color: var(--jp-info-color0)\">INFO</span>: Query finished.</pre>"
      ],
      "text/plain": [
       "<IPython.core.display.HTML object>"
      ]
     },
     "metadata": {},
     "output_type": "display_data"
    },
    {
     "name": "stdout",
     "output_type": "stream",
     "text": [
      "INFO: Query finished. [astroquery.utils.tap.core]\n"
     ]
    },
    {
     "data": {
      "text/html": [
       "<pre style=\"margin: 0.1em;\n",
       "padding-left: 0.25em;\n",
       "border-left-style: solid;\n",
       "font-family: var(--jp-code-font-family);\n",
       "font-size: var(--jp-code-font-size);\n",
       "line-height: var(--jp-code-line-height);\n",
       "\"><span style=\"color: var(--jp-warn-color2)\">astroquery</span> <span style=\"color: var(--jp-info-color0)\">INFO</span>: Query finished.</pre>"
      ],
      "text/plain": [
       "<IPython.core.display.HTML object>"
      ]
     },
     "metadata": {},
     "output_type": "display_data"
    },
    {
     "name": "stdout",
     "output_type": "stream",
     "text": [
      "INFO: Query finished. [astroquery.utils.tap.core]\n"
     ]
    },
    {
     "data": {
      "text/html": [
       "<pre style=\"margin: 0.1em;\n",
       "padding-left: 0.25em;\n",
       "border-left-style: solid;\n",
       "font-family: var(--jp-code-font-family);\n",
       "font-size: var(--jp-code-font-size);\n",
       "line-height: var(--jp-code-line-height);\n",
       "\"><span style=\"color: var(--jp-warn-color2)\">astroquery</span> <span style=\"color: var(--jp-info-color0)\">INFO</span>: Query finished.</pre>"
      ],
      "text/plain": [
       "<IPython.core.display.HTML object>"
      ]
     },
     "metadata": {},
     "output_type": "display_data"
    },
    {
     "name": "stdout",
     "output_type": "stream",
     "text": [
      "INFO: Query finished. [astroquery.utils.tap.core]\n"
     ]
    },
    {
     "data": {
      "text/html": [
       "<pre style=\"margin: 0.1em;\n",
       "padding-left: 0.25em;\n",
       "border-left-style: solid;\n",
       "font-family: var(--jp-code-font-family);\n",
       "font-size: var(--jp-code-font-size);\n",
       "line-height: var(--jp-code-line-height);\n",
       "\"><span style=\"color: var(--jp-warn-color2)\">astroquery</span> <span style=\"color: var(--jp-info-color0)\">INFO</span>: Query finished.</pre>"
      ],
      "text/plain": [
       "<IPython.core.display.HTML object>"
      ]
     },
     "metadata": {},
     "output_type": "display_data"
    },
    {
     "name": "stdout",
     "output_type": "stream",
     "text": [
      "INFO: Query finished. [astroquery.utils.tap.core]\n"
     ]
    },
    {
     "data": {
      "text/html": [
       "<pre style=\"margin: 0.1em;\n",
       "padding-left: 0.25em;\n",
       "border-left-style: solid;\n",
       "font-family: var(--jp-code-font-family);\n",
       "font-size: var(--jp-code-font-size);\n",
       "line-height: var(--jp-code-line-height);\n",
       "\"><span style=\"color: var(--jp-warn-color2)\">astroquery</span> <span style=\"color: var(--jp-info-color0)\">INFO</span>: Query finished.</pre>"
      ],
      "text/plain": [
       "<IPython.core.display.HTML object>"
      ]
     },
     "metadata": {},
     "output_type": "display_data"
    },
    {
     "name": "stdout",
     "output_type": "stream",
     "text": [
      "INFO: Query finished. [astroquery.utils.tap.core]\n"
     ]
    },
    {
     "data": {
      "text/html": [
       "<pre style=\"margin: 0.1em;\n",
       "padding-left: 0.25em;\n",
       "border-left-style: solid;\n",
       "font-family: var(--jp-code-font-family);\n",
       "font-size: var(--jp-code-font-size);\n",
       "line-height: var(--jp-code-line-height);\n",
       "\"><span style=\"color: var(--jp-warn-color2)\">astroquery</span> <span style=\"color: var(--jp-info-color0)\">INFO</span>: Query finished.</pre>"
      ],
      "text/plain": [
       "<IPython.core.display.HTML object>"
      ]
     },
     "metadata": {},
     "output_type": "display_data"
    },
    {
     "name": "stdout",
     "output_type": "stream",
     "text": [
      "INFO: Query finished. [astroquery.utils.tap.core]\n"
     ]
    },
    {
     "data": {
      "text/html": [
       "<pre style=\"margin: 0.1em;\n",
       "padding-left: 0.25em;\n",
       "border-left-style: solid;\n",
       "font-family: var(--jp-code-font-family);\n",
       "font-size: var(--jp-code-font-size);\n",
       "line-height: var(--jp-code-line-height);\n",
       "\"><span style=\"color: var(--jp-warn-color2)\">astroquery</span> <span style=\"color: var(--jp-info-color0)\">INFO</span>: Query finished.</pre>"
      ],
      "text/plain": [
       "<IPython.core.display.HTML object>"
      ]
     },
     "metadata": {},
     "output_type": "display_data"
    },
    {
     "name": "stdout",
     "output_type": "stream",
     "text": [
      "INFO: Query finished. [astroquery.utils.tap.core]\n"
     ]
    },
    {
     "data": {
      "text/html": [
       "<pre style=\"margin: 0.1em;\n",
       "padding-left: 0.25em;\n",
       "border-left-style: solid;\n",
       "font-family: var(--jp-code-font-family);\n",
       "font-size: var(--jp-code-font-size);\n",
       "line-height: var(--jp-code-line-height);\n",
       "\"><span style=\"color: var(--jp-warn-color2)\">astroquery</span> <span style=\"color: var(--jp-info-color0)\">INFO</span>: Query finished.</pre>"
      ],
      "text/plain": [
       "<IPython.core.display.HTML object>"
      ]
     },
     "metadata": {},
     "output_type": "display_data"
    },
    {
     "name": "stdout",
     "output_type": "stream",
     "text": [
      "INFO: Query finished. [astroquery.utils.tap.core]\n"
     ]
    },
    {
     "data": {
      "text/html": [
       "<pre style=\"margin: 0.1em;\n",
       "padding-left: 0.25em;\n",
       "border-left-style: solid;\n",
       "font-family: var(--jp-code-font-family);\n",
       "font-size: var(--jp-code-font-size);\n",
       "line-height: var(--jp-code-line-height);\n",
       "\"><span style=\"color: var(--jp-warn-color2)\">astroquery</span> <span style=\"color: var(--jp-info-color0)\">INFO</span>: Query finished.</pre>"
      ],
      "text/plain": [
       "<IPython.core.display.HTML object>"
      ]
     },
     "metadata": {},
     "output_type": "display_data"
    },
    {
     "name": "stdout",
     "output_type": "stream",
     "text": [
      "INFO: Query finished. [astroquery.utils.tap.core]\n"
     ]
    },
    {
     "data": {
      "text/html": [
       "<pre style=\"margin: 0.1em;\n",
       "padding-left: 0.25em;\n",
       "border-left-style: solid;\n",
       "font-family: var(--jp-code-font-family);\n",
       "font-size: var(--jp-code-font-size);\n",
       "line-height: var(--jp-code-line-height);\n",
       "\"><span style=\"color: var(--jp-warn-color2)\">astroquery</span> <span style=\"color: var(--jp-info-color0)\">INFO</span>: Query finished.</pre>"
      ],
      "text/plain": [
       "<IPython.core.display.HTML object>"
      ]
     },
     "metadata": {},
     "output_type": "display_data"
    },
    {
     "name": "stdout",
     "output_type": "stream",
     "text": [
      "INFO: Query finished. [astroquery.utils.tap.core]\n"
     ]
    },
    {
     "data": {
      "text/html": [
       "<pre style=\"margin: 0.1em;\n",
       "padding-left: 0.25em;\n",
       "border-left-style: solid;\n",
       "font-family: var(--jp-code-font-family);\n",
       "font-size: var(--jp-code-font-size);\n",
       "line-height: var(--jp-code-line-height);\n",
       "\"><span style=\"color: var(--jp-warn-color2)\">astroquery</span> <span style=\"color: var(--jp-info-color0)\">INFO</span>: Query finished.</pre>"
      ],
      "text/plain": [
       "<IPython.core.display.HTML object>"
      ]
     },
     "metadata": {},
     "output_type": "display_data"
    },
    {
     "name": "stdout",
     "output_type": "stream",
     "text": [
      "INFO: Query finished. [astroquery.utils.tap.core]\n"
     ]
    },
    {
     "data": {
      "text/html": [
       "<pre style=\"margin: 0.1em;\n",
       "padding-left: 0.25em;\n",
       "border-left-style: solid;\n",
       "font-family: var(--jp-code-font-family);\n",
       "font-size: var(--jp-code-font-size);\n",
       "line-height: var(--jp-code-line-height);\n",
       "\"><span style=\"color: var(--jp-warn-color2)\">astroquery</span> <span style=\"color: var(--jp-info-color0)\">INFO</span>: Query finished.</pre>"
      ],
      "text/plain": [
       "<IPython.core.display.HTML object>"
      ]
     },
     "metadata": {},
     "output_type": "display_data"
    },
    {
     "name": "stdout",
     "output_type": "stream",
     "text": [
      "INFO: Query finished. [astroquery.utils.tap.core]\n"
     ]
    },
    {
     "data": {
      "text/html": [
       "<pre style=\"margin: 0.1em;\n",
       "padding-left: 0.25em;\n",
       "border-left-style: solid;\n",
       "font-family: var(--jp-code-font-family);\n",
       "font-size: var(--jp-code-font-size);\n",
       "line-height: var(--jp-code-line-height);\n",
       "\"><span style=\"color: var(--jp-warn-color2)\">astroquery</span> <span style=\"color: var(--jp-info-color0)\">INFO</span>: Query finished.</pre>"
      ],
      "text/plain": [
       "<IPython.core.display.HTML object>"
      ]
     },
     "metadata": {},
     "output_type": "display_data"
    },
    {
     "name": "stdout",
     "output_type": "stream",
     "text": [
      "INFO: Query finished. [astroquery.utils.tap.core]\n"
     ]
    },
    {
     "data": {
      "text/html": [
       "<pre style=\"margin: 0.1em;\n",
       "padding-left: 0.25em;\n",
       "border-left-style: solid;\n",
       "font-family: var(--jp-code-font-family);\n",
       "font-size: var(--jp-code-font-size);\n",
       "line-height: var(--jp-code-line-height);\n",
       "\"><span style=\"color: var(--jp-warn-color2)\">astroquery</span> <span style=\"color: var(--jp-info-color0)\">INFO</span>: Query finished.</pre>"
      ],
      "text/plain": [
       "<IPython.core.display.HTML object>"
      ]
     },
     "metadata": {},
     "output_type": "display_data"
    },
    {
     "name": "stdout",
     "output_type": "stream",
     "text": [
      "INFO: Query finished. [astroquery.utils.tap.core]\n"
     ]
    },
    {
     "data": {
      "text/html": [
       "<pre style=\"margin: 0.1em;\n",
       "padding-left: 0.25em;\n",
       "border-left-style: solid;\n",
       "font-family: var(--jp-code-font-family);\n",
       "font-size: var(--jp-code-font-size);\n",
       "line-height: var(--jp-code-line-height);\n",
       "\"><span style=\"color: var(--jp-warn-color2)\">astroquery</span> <span style=\"color: var(--jp-info-color0)\">INFO</span>: Query finished.</pre>"
      ],
      "text/plain": [
       "<IPython.core.display.HTML object>"
      ]
     },
     "metadata": {},
     "output_type": "display_data"
    },
    {
     "name": "stdout",
     "output_type": "stream",
     "text": [
      "INFO: Query finished. [astroquery.utils.tap.core]\n"
     ]
    },
    {
     "data": {
      "text/html": [
       "<pre style=\"margin: 0.1em;\n",
       "padding-left: 0.25em;\n",
       "border-left-style: solid;\n",
       "font-family: var(--jp-code-font-family);\n",
       "font-size: var(--jp-code-font-size);\n",
       "line-height: var(--jp-code-line-height);\n",
       "\"><span style=\"color: var(--jp-warn-color2)\">astroquery</span> <span style=\"color: var(--jp-info-color0)\">INFO</span>: Query finished.</pre>"
      ],
      "text/plain": [
       "<IPython.core.display.HTML object>"
      ]
     },
     "metadata": {},
     "output_type": "display_data"
    },
    {
     "name": "stdout",
     "output_type": "stream",
     "text": [
      "INFO: Query finished. [astroquery.utils.tap.core]\n"
     ]
    },
    {
     "data": {
      "text/html": [
       "<pre style=\"margin: 0.1em;\n",
       "padding-left: 0.25em;\n",
       "border-left-style: solid;\n",
       "font-family: var(--jp-code-font-family);\n",
       "font-size: var(--jp-code-font-size);\n",
       "line-height: var(--jp-code-line-height);\n",
       "\"><span style=\"color: var(--jp-warn-color2)\">astroquery</span> <span style=\"color: var(--jp-info-color0)\">INFO</span>: Query finished.</pre>"
      ],
      "text/plain": [
       "<IPython.core.display.HTML object>"
      ]
     },
     "metadata": {},
     "output_type": "display_data"
    },
    {
     "name": "stdout",
     "output_type": "stream",
     "text": [
      "INFO: Query finished. [astroquery.utils.tap.core]\n"
     ]
    },
    {
     "data": {
      "text/html": [
       "<pre style=\"margin: 0.1em;\n",
       "padding-left: 0.25em;\n",
       "border-left-style: solid;\n",
       "font-family: var(--jp-code-font-family);\n",
       "font-size: var(--jp-code-font-size);\n",
       "line-height: var(--jp-code-line-height);\n",
       "\"><span style=\"color: var(--jp-warn-color2)\">astroquery</span> <span style=\"color: var(--jp-info-color0)\">INFO</span>: Query finished.</pre>"
      ],
      "text/plain": [
       "<IPython.core.display.HTML object>"
      ]
     },
     "metadata": {},
     "output_type": "display_data"
    },
    {
     "name": "stdout",
     "output_type": "stream",
     "text": [
      "INFO: Query finished. [astroquery.utils.tap.core]\n"
     ]
    },
    {
     "data": {
      "text/html": [
       "<pre style=\"margin: 0.1em;\n",
       "padding-left: 0.25em;\n",
       "border-left-style: solid;\n",
       "font-family: var(--jp-code-font-family);\n",
       "font-size: var(--jp-code-font-size);\n",
       "line-height: var(--jp-code-line-height);\n",
       "\"><span style=\"color: var(--jp-warn-color2)\">astroquery</span> <span style=\"color: var(--jp-info-color0)\">INFO</span>: Query finished.</pre>"
      ],
      "text/plain": [
       "<IPython.core.display.HTML object>"
      ]
     },
     "metadata": {},
     "output_type": "display_data"
    },
    {
     "name": "stdout",
     "output_type": "stream",
     "text": [
      "INFO: Query finished. [astroquery.utils.tap.core]\n"
     ]
    },
    {
     "data": {
      "text/html": [
       "<pre style=\"margin: 0.1em;\n",
       "padding-left: 0.25em;\n",
       "border-left-style: solid;\n",
       "font-family: var(--jp-code-font-family);\n",
       "font-size: var(--jp-code-font-size);\n",
       "line-height: var(--jp-code-line-height);\n",
       "\"><span style=\"color: var(--jp-warn-color2)\">astroquery</span> <span style=\"color: var(--jp-info-color0)\">INFO</span>: Query finished.</pre>"
      ],
      "text/plain": [
       "<IPython.core.display.HTML object>"
      ]
     },
     "metadata": {},
     "output_type": "display_data"
    },
    {
     "name": "stdout",
     "output_type": "stream",
     "text": [
      "INFO: Query finished. [astroquery.utils.tap.core]\n"
     ]
    },
    {
     "data": {
      "text/html": [
       "<pre style=\"margin: 0.1em;\n",
       "padding-left: 0.25em;\n",
       "border-left-style: solid;\n",
       "font-family: var(--jp-code-font-family);\n",
       "font-size: var(--jp-code-font-size);\n",
       "line-height: var(--jp-code-line-height);\n",
       "\"><span style=\"color: var(--jp-warn-color2)\">astroquery</span> <span style=\"color: var(--jp-info-color0)\">INFO</span>: Query finished.</pre>"
      ],
      "text/plain": [
       "<IPython.core.display.HTML object>"
      ]
     },
     "metadata": {},
     "output_type": "display_data"
    },
    {
     "name": "stdout",
     "output_type": "stream",
     "text": [
      "INFO: Query finished. [astroquery.utils.tap.core]\n"
     ]
    },
    {
     "data": {
      "text/html": [
       "<pre style=\"margin: 0.1em;\n",
       "padding-left: 0.25em;\n",
       "border-left-style: solid;\n",
       "font-family: var(--jp-code-font-family);\n",
       "font-size: var(--jp-code-font-size);\n",
       "line-height: var(--jp-code-line-height);\n",
       "\"><span style=\"color: var(--jp-warn-color2)\">astroquery</span> <span style=\"color: var(--jp-info-color0)\">INFO</span>: Query finished.</pre>"
      ],
      "text/plain": [
       "<IPython.core.display.HTML object>"
      ]
     },
     "metadata": {},
     "output_type": "display_data"
    },
    {
     "name": "stdout",
     "output_type": "stream",
     "text": [
      "INFO: Query finished. [astroquery.utils.tap.core]\n"
     ]
    },
    {
     "data": {
      "text/html": [
       "<pre style=\"margin: 0.1em;\n",
       "padding-left: 0.25em;\n",
       "border-left-style: solid;\n",
       "font-family: var(--jp-code-font-family);\n",
       "font-size: var(--jp-code-font-size);\n",
       "line-height: var(--jp-code-line-height);\n",
       "\"><span style=\"color: var(--jp-warn-color2)\">astroquery</span> <span style=\"color: var(--jp-info-color0)\">INFO</span>: Query finished.</pre>"
      ],
      "text/plain": [
       "<IPython.core.display.HTML object>"
      ]
     },
     "metadata": {},
     "output_type": "display_data"
    },
    {
     "name": "stdout",
     "output_type": "stream",
     "text": [
      "INFO: Query finished. [astroquery.utils.tap.core]\n"
     ]
    },
    {
     "data": {
      "text/html": [
       "<pre style=\"margin: 0.1em;\n",
       "padding-left: 0.25em;\n",
       "border-left-style: solid;\n",
       "font-family: var(--jp-code-font-family);\n",
       "font-size: var(--jp-code-font-size);\n",
       "line-height: var(--jp-code-line-height);\n",
       "\"><span style=\"color: var(--jp-warn-color2)\">astroquery</span> <span style=\"color: var(--jp-info-color0)\">INFO</span>: Query finished.</pre>"
      ],
      "text/plain": [
       "<IPython.core.display.HTML object>"
      ]
     },
     "metadata": {},
     "output_type": "display_data"
    },
    {
     "name": "stdout",
     "output_type": "stream",
     "text": [
      "INFO: Query finished. [astroquery.utils.tap.core]\n"
     ]
    },
    {
     "data": {
      "text/html": [
       "<pre style=\"margin: 0.1em;\n",
       "padding-left: 0.25em;\n",
       "border-left-style: solid;\n",
       "font-family: var(--jp-code-font-family);\n",
       "font-size: var(--jp-code-font-size);\n",
       "line-height: var(--jp-code-line-height);\n",
       "\"><span style=\"color: var(--jp-warn-color2)\">astroquery</span> <span style=\"color: var(--jp-info-color0)\">INFO</span>: Query finished.</pre>"
      ],
      "text/plain": [
       "<IPython.core.display.HTML object>"
      ]
     },
     "metadata": {},
     "output_type": "display_data"
    },
    {
     "name": "stdout",
     "output_type": "stream",
     "text": [
      "INFO: Query finished. [astroquery.utils.tap.core]\n"
     ]
    },
    {
     "data": {
      "text/html": [
       "<pre style=\"margin: 0.1em;\n",
       "padding-left: 0.25em;\n",
       "border-left-style: solid;\n",
       "font-family: var(--jp-code-font-family);\n",
       "font-size: var(--jp-code-font-size);\n",
       "line-height: var(--jp-code-line-height);\n",
       "\"><span style=\"color: var(--jp-warn-color2)\">astroquery</span> <span style=\"color: var(--jp-info-color0)\">INFO</span>: Query finished.</pre>"
      ],
      "text/plain": [
       "<IPython.core.display.HTML object>"
      ]
     },
     "metadata": {},
     "output_type": "display_data"
    },
    {
     "name": "stdout",
     "output_type": "stream",
     "text": [
      "INFO: Query finished. [astroquery.utils.tap.core]\n"
     ]
    },
    {
     "data": {
      "text/html": [
       "<pre style=\"margin: 0.1em;\n",
       "padding-left: 0.25em;\n",
       "border-left-style: solid;\n",
       "font-family: var(--jp-code-font-family);\n",
       "font-size: var(--jp-code-font-size);\n",
       "line-height: var(--jp-code-line-height);\n",
       "\"><span style=\"color: var(--jp-warn-color2)\">astroquery</span> <span style=\"color: var(--jp-info-color0)\">INFO</span>: Query finished.</pre>"
      ],
      "text/plain": [
       "<IPython.core.display.HTML object>"
      ]
     },
     "metadata": {},
     "output_type": "display_data"
    },
    {
     "name": "stdout",
     "output_type": "stream",
     "text": [
      "INFO: Query finished. [astroquery.utils.tap.core]\n"
     ]
    },
    {
     "data": {
      "text/html": [
       "<pre style=\"margin: 0.1em;\n",
       "padding-left: 0.25em;\n",
       "border-left-style: solid;\n",
       "font-family: var(--jp-code-font-family);\n",
       "font-size: var(--jp-code-font-size);\n",
       "line-height: var(--jp-code-line-height);\n",
       "\"><span style=\"color: var(--jp-warn-color2)\">astroquery</span> <span style=\"color: var(--jp-info-color0)\">INFO</span>: Query finished.</pre>"
      ],
      "text/plain": [
       "<IPython.core.display.HTML object>"
      ]
     },
     "metadata": {},
     "output_type": "display_data"
    },
    {
     "name": "stdout",
     "output_type": "stream",
     "text": [
      "INFO: Query finished. [astroquery.utils.tap.core]\n"
     ]
    },
    {
     "data": {
      "text/html": [
       "<pre style=\"margin: 0.1em;\n",
       "padding-left: 0.25em;\n",
       "border-left-style: solid;\n",
       "font-family: var(--jp-code-font-family);\n",
       "font-size: var(--jp-code-font-size);\n",
       "line-height: var(--jp-code-line-height);\n",
       "\"><span style=\"color: var(--jp-warn-color2)\">astroquery</span> <span style=\"color: var(--jp-info-color0)\">INFO</span>: Query finished.</pre>"
      ],
      "text/plain": [
       "<IPython.core.display.HTML object>"
      ]
     },
     "metadata": {},
     "output_type": "display_data"
    },
    {
     "name": "stdout",
     "output_type": "stream",
     "text": [
      "INFO: Query finished. [astroquery.utils.tap.core]\n"
     ]
    },
    {
     "data": {
      "text/html": [
       "<pre style=\"margin: 0.1em;\n",
       "padding-left: 0.25em;\n",
       "border-left-style: solid;\n",
       "font-family: var(--jp-code-font-family);\n",
       "font-size: var(--jp-code-font-size);\n",
       "line-height: var(--jp-code-line-height);\n",
       "\"><span style=\"color: var(--jp-warn-color2)\">astroquery</span> <span style=\"color: var(--jp-info-color0)\">INFO</span>: Query finished.</pre>"
      ],
      "text/plain": [
       "<IPython.core.display.HTML object>"
      ]
     },
     "metadata": {},
     "output_type": "display_data"
    },
    {
     "name": "stdout",
     "output_type": "stream",
     "text": [
      "INFO: Query finished. [astroquery.utils.tap.core]\n"
     ]
    },
    {
     "data": {
      "text/html": [
       "<pre style=\"margin: 0.1em;\n",
       "padding-left: 0.25em;\n",
       "border-left-style: solid;\n",
       "font-family: var(--jp-code-font-family);\n",
       "font-size: var(--jp-code-font-size);\n",
       "line-height: var(--jp-code-line-height);\n",
       "\"><span style=\"color: var(--jp-warn-color2)\">astroquery</span> <span style=\"color: var(--jp-info-color0)\">INFO</span>: Query finished.</pre>"
      ],
      "text/plain": [
       "<IPython.core.display.HTML object>"
      ]
     },
     "metadata": {},
     "output_type": "display_data"
    },
    {
     "name": "stdout",
     "output_type": "stream",
     "text": [
      "INFO: Query finished. [astroquery.utils.tap.core]\n"
     ]
    },
    {
     "data": {
      "text/html": [
       "<pre style=\"margin: 0.1em;\n",
       "padding-left: 0.25em;\n",
       "border-left-style: solid;\n",
       "font-family: var(--jp-code-font-family);\n",
       "font-size: var(--jp-code-font-size);\n",
       "line-height: var(--jp-code-line-height);\n",
       "\"><span style=\"color: var(--jp-warn-color2)\">astroquery</span> <span style=\"color: var(--jp-info-color0)\">INFO</span>: Query finished.</pre>"
      ],
      "text/plain": [
       "<IPython.core.display.HTML object>"
      ]
     },
     "metadata": {},
     "output_type": "display_data"
    },
    {
     "name": "stdout",
     "output_type": "stream",
     "text": [
      "INFO: Query finished. [astroquery.utils.tap.core]\n"
     ]
    },
    {
     "data": {
      "text/html": [
       "<pre style=\"margin: 0.1em;\n",
       "padding-left: 0.25em;\n",
       "border-left-style: solid;\n",
       "font-family: var(--jp-code-font-family);\n",
       "font-size: var(--jp-code-font-size);\n",
       "line-height: var(--jp-code-line-height);\n",
       "\"><span style=\"color: var(--jp-warn-color2)\">astroquery</span> <span style=\"color: var(--jp-info-color0)\">INFO</span>: Query finished.</pre>"
      ],
      "text/plain": [
       "<IPython.core.display.HTML object>"
      ]
     },
     "metadata": {},
     "output_type": "display_data"
    },
    {
     "name": "stdout",
     "output_type": "stream",
     "text": [
      "INFO: Query finished. [astroquery.utils.tap.core]\n"
     ]
    },
    {
     "data": {
      "text/html": [
       "<pre style=\"margin: 0.1em;\n",
       "padding-left: 0.25em;\n",
       "border-left-style: solid;\n",
       "font-family: var(--jp-code-font-family);\n",
       "font-size: var(--jp-code-font-size);\n",
       "line-height: var(--jp-code-line-height);\n",
       "\"><span style=\"color: var(--jp-warn-color2)\">astroquery</span> <span style=\"color: var(--jp-info-color0)\">INFO</span>: Query finished.</pre>"
      ],
      "text/plain": [
       "<IPython.core.display.HTML object>"
      ]
     },
     "metadata": {},
     "output_type": "display_data"
    },
    {
     "name": "stdout",
     "output_type": "stream",
     "text": [
      "INFO: Query finished. [astroquery.utils.tap.core]\n"
     ]
    },
    {
     "data": {
      "text/html": [
       "<pre style=\"margin: 0.1em;\n",
       "padding-left: 0.25em;\n",
       "border-left-style: solid;\n",
       "font-family: var(--jp-code-font-family);\n",
       "font-size: var(--jp-code-font-size);\n",
       "line-height: var(--jp-code-line-height);\n",
       "\"><span style=\"color: var(--jp-warn-color2)\">astroquery</span> <span style=\"color: var(--jp-info-color0)\">INFO</span>: Query finished.</pre>"
      ],
      "text/plain": [
       "<IPython.core.display.HTML object>"
      ]
     },
     "metadata": {},
     "output_type": "display_data"
    },
    {
     "name": "stdout",
     "output_type": "stream",
     "text": [
      "INFO: Query finished. [astroquery.utils.tap.core]\n"
     ]
    },
    {
     "data": {
      "text/html": [
       "<pre style=\"margin: 0.1em;\n",
       "padding-left: 0.25em;\n",
       "border-left-style: solid;\n",
       "font-family: var(--jp-code-font-family);\n",
       "font-size: var(--jp-code-font-size);\n",
       "line-height: var(--jp-code-line-height);\n",
       "\"><span style=\"color: var(--jp-warn-color2)\">astroquery</span> <span style=\"color: var(--jp-info-color0)\">INFO</span>: Query finished.</pre>"
      ],
      "text/plain": [
       "<IPython.core.display.HTML object>"
      ]
     },
     "metadata": {},
     "output_type": "display_data"
    },
    {
     "name": "stdout",
     "output_type": "stream",
     "text": [
      "INFO: Query finished. [astroquery.utils.tap.core]\n"
     ]
    },
    {
     "data": {
      "text/html": [
       "<pre style=\"margin: 0.1em;\n",
       "padding-left: 0.25em;\n",
       "border-left-style: solid;\n",
       "font-family: var(--jp-code-font-family);\n",
       "font-size: var(--jp-code-font-size);\n",
       "line-height: var(--jp-code-line-height);\n",
       "\"><span style=\"color: var(--jp-warn-color2)\">astroquery</span> <span style=\"color: var(--jp-info-color0)\">INFO</span>: Query finished.</pre>"
      ],
      "text/plain": [
       "<IPython.core.display.HTML object>"
      ]
     },
     "metadata": {},
     "output_type": "display_data"
    },
    {
     "name": "stdout",
     "output_type": "stream",
     "text": [
      "INFO: Query finished. [astroquery.utils.tap.core]\n"
     ]
    },
    {
     "data": {
      "text/html": [
       "<pre style=\"margin: 0.1em;\n",
       "padding-left: 0.25em;\n",
       "border-left-style: solid;\n",
       "font-family: var(--jp-code-font-family);\n",
       "font-size: var(--jp-code-font-size);\n",
       "line-height: var(--jp-code-line-height);\n",
       "\"><span style=\"color: var(--jp-warn-color2)\">astroquery</span> <span style=\"color: var(--jp-info-color0)\">INFO</span>: Query finished.</pre>"
      ],
      "text/plain": [
       "<IPython.core.display.HTML object>"
      ]
     },
     "metadata": {},
     "output_type": "display_data"
    },
    {
     "name": "stdout",
     "output_type": "stream",
     "text": [
      "INFO: Query finished. [astroquery.utils.tap.core]\n"
     ]
    },
    {
     "data": {
      "text/html": [
       "<pre style=\"margin: 0.1em;\n",
       "padding-left: 0.25em;\n",
       "border-left-style: solid;\n",
       "font-family: var(--jp-code-font-family);\n",
       "font-size: var(--jp-code-font-size);\n",
       "line-height: var(--jp-code-line-height);\n",
       "\"><span style=\"color: var(--jp-warn-color2)\">astroquery</span> <span style=\"color: var(--jp-info-color0)\">INFO</span>: Query finished.</pre>"
      ],
      "text/plain": [
       "<IPython.core.display.HTML object>"
      ]
     },
     "metadata": {},
     "output_type": "display_data"
    },
    {
     "name": "stdout",
     "output_type": "stream",
     "text": [
      "INFO: Query finished. [astroquery.utils.tap.core]\n"
     ]
    },
    {
     "data": {
      "text/html": [
       "<pre style=\"margin: 0.1em;\n",
       "padding-left: 0.25em;\n",
       "border-left-style: solid;\n",
       "font-family: var(--jp-code-font-family);\n",
       "font-size: var(--jp-code-font-size);\n",
       "line-height: var(--jp-code-line-height);\n",
       "\"><span style=\"color: var(--jp-warn-color2)\">astroquery</span> <span style=\"color: var(--jp-info-color0)\">INFO</span>: Query finished.</pre>"
      ],
      "text/plain": [
       "<IPython.core.display.HTML object>"
      ]
     },
     "metadata": {},
     "output_type": "display_data"
    },
    {
     "name": "stdout",
     "output_type": "stream",
     "text": [
      "INFO: Query finished. [astroquery.utils.tap.core]\n"
     ]
    },
    {
     "data": {
      "text/html": [
       "<pre style=\"margin: 0.1em;\n",
       "padding-left: 0.25em;\n",
       "border-left-style: solid;\n",
       "font-family: var(--jp-code-font-family);\n",
       "font-size: var(--jp-code-font-size);\n",
       "line-height: var(--jp-code-line-height);\n",
       "\"><span style=\"color: var(--jp-warn-color2)\">astroquery</span> <span style=\"color: var(--jp-info-color0)\">INFO</span>: Query finished.</pre>"
      ],
      "text/plain": [
       "<IPython.core.display.HTML object>"
      ]
     },
     "metadata": {},
     "output_type": "display_data"
    },
    {
     "name": "stdout",
     "output_type": "stream",
     "text": [
      "INFO: Query finished. [astroquery.utils.tap.core]\n"
     ]
    },
    {
     "data": {
      "text/html": [
       "<pre style=\"margin: 0.1em;\n",
       "padding-left: 0.25em;\n",
       "border-left-style: solid;\n",
       "font-family: var(--jp-code-font-family);\n",
       "font-size: var(--jp-code-font-size);\n",
       "line-height: var(--jp-code-line-height);\n",
       "\"><span style=\"color: var(--jp-warn-color2)\">astroquery</span> <span style=\"color: var(--jp-info-color0)\">INFO</span>: Query finished.</pre>"
      ],
      "text/plain": [
       "<IPython.core.display.HTML object>"
      ]
     },
     "metadata": {},
     "output_type": "display_data"
    },
    {
     "name": "stdout",
     "output_type": "stream",
     "text": [
      "INFO: Query finished. [astroquery.utils.tap.core]\n"
     ]
    },
    {
     "data": {
      "text/html": [
       "<pre style=\"margin: 0.1em;\n",
       "padding-left: 0.25em;\n",
       "border-left-style: solid;\n",
       "font-family: var(--jp-code-font-family);\n",
       "font-size: var(--jp-code-font-size);\n",
       "line-height: var(--jp-code-line-height);\n",
       "\"><span style=\"color: var(--jp-warn-color2)\">astroquery</span> <span style=\"color: var(--jp-info-color0)\">INFO</span>: Query finished.</pre>"
      ],
      "text/plain": [
       "<IPython.core.display.HTML object>"
      ]
     },
     "metadata": {},
     "output_type": "display_data"
    },
    {
     "name": "stdout",
     "output_type": "stream",
     "text": [
      "INFO: Query finished. [astroquery.utils.tap.core]\n"
     ]
    },
    {
     "data": {
      "text/html": [
       "<pre style=\"margin: 0.1em;\n",
       "padding-left: 0.25em;\n",
       "border-left-style: solid;\n",
       "font-family: var(--jp-code-font-family);\n",
       "font-size: var(--jp-code-font-size);\n",
       "line-height: var(--jp-code-line-height);\n",
       "\"><span style=\"color: var(--jp-warn-color2)\">astroquery</span> <span style=\"color: var(--jp-info-color0)\">INFO</span>: Query finished.</pre>"
      ],
      "text/plain": [
       "<IPython.core.display.HTML object>"
      ]
     },
     "metadata": {},
     "output_type": "display_data"
    },
    {
     "name": "stdout",
     "output_type": "stream",
     "text": [
      "INFO: Query finished. [astroquery.utils.tap.core]\n"
     ]
    },
    {
     "data": {
      "text/html": [
       "<pre style=\"margin: 0.1em;\n",
       "padding-left: 0.25em;\n",
       "border-left-style: solid;\n",
       "font-family: var(--jp-code-font-family);\n",
       "font-size: var(--jp-code-font-size);\n",
       "line-height: var(--jp-code-line-height);\n",
       "\"><span style=\"color: var(--jp-warn-color2)\">astroquery</span> <span style=\"color: var(--jp-info-color0)\">INFO</span>: Query finished.</pre>"
      ],
      "text/plain": [
       "<IPython.core.display.HTML object>"
      ]
     },
     "metadata": {},
     "output_type": "display_data"
    },
    {
     "name": "stdout",
     "output_type": "stream",
     "text": [
      "INFO: Query finished. [astroquery.utils.tap.core]\n"
     ]
    },
    {
     "data": {
      "text/html": [
       "<pre style=\"margin: 0.1em;\n",
       "padding-left: 0.25em;\n",
       "border-left-style: solid;\n",
       "font-family: var(--jp-code-font-family);\n",
       "font-size: var(--jp-code-font-size);\n",
       "line-height: var(--jp-code-line-height);\n",
       "\"><span style=\"color: var(--jp-warn-color2)\">astroquery</span> <span style=\"color: var(--jp-info-color0)\">INFO</span>: Query finished.</pre>"
      ],
      "text/plain": [
       "<IPython.core.display.HTML object>"
      ]
     },
     "metadata": {},
     "output_type": "display_data"
    },
    {
     "name": "stdout",
     "output_type": "stream",
     "text": [
      "INFO: Query finished. [astroquery.utils.tap.core]\n"
     ]
    },
    {
     "data": {
      "text/html": [
       "<pre style=\"margin: 0.1em;\n",
       "padding-left: 0.25em;\n",
       "border-left-style: solid;\n",
       "font-family: var(--jp-code-font-family);\n",
       "font-size: var(--jp-code-font-size);\n",
       "line-height: var(--jp-code-line-height);\n",
       "\"><span style=\"color: var(--jp-warn-color2)\">astroquery</span> <span style=\"color: var(--jp-info-color0)\">INFO</span>: Query finished.</pre>"
      ],
      "text/plain": [
       "<IPython.core.display.HTML object>"
      ]
     },
     "metadata": {},
     "output_type": "display_data"
    },
    {
     "name": "stdout",
     "output_type": "stream",
     "text": [
      "INFO: Query finished. [astroquery.utils.tap.core]\n"
     ]
    },
    {
     "data": {
      "text/html": [
       "<pre style=\"margin: 0.1em;\n",
       "padding-left: 0.25em;\n",
       "border-left-style: solid;\n",
       "font-family: var(--jp-code-font-family);\n",
       "font-size: var(--jp-code-font-size);\n",
       "line-height: var(--jp-code-line-height);\n",
       "\"><span style=\"color: var(--jp-warn-color2)\">astroquery</span> <span style=\"color: var(--jp-info-color0)\">INFO</span>: Query finished.</pre>"
      ],
      "text/plain": [
       "<IPython.core.display.HTML object>"
      ]
     },
     "metadata": {},
     "output_type": "display_data"
    },
    {
     "name": "stdout",
     "output_type": "stream",
     "text": [
      "INFO: Query finished. [astroquery.utils.tap.core]\n"
     ]
    },
    {
     "data": {
      "text/html": [
       "<pre style=\"margin: 0.1em;\n",
       "padding-left: 0.25em;\n",
       "border-left-style: solid;\n",
       "font-family: var(--jp-code-font-family);\n",
       "font-size: var(--jp-code-font-size);\n",
       "line-height: var(--jp-code-line-height);\n",
       "\"><span style=\"color: var(--jp-warn-color2)\">astroquery</span> <span style=\"color: var(--jp-info-color0)\">INFO</span>: Query finished.</pre>"
      ],
      "text/plain": [
       "<IPython.core.display.HTML object>"
      ]
     },
     "metadata": {},
     "output_type": "display_data"
    },
    {
     "name": "stdout",
     "output_type": "stream",
     "text": [
      "INFO: Query finished. [astroquery.utils.tap.core]\n"
     ]
    },
    {
     "data": {
      "text/html": [
       "<pre style=\"margin: 0.1em;\n",
       "padding-left: 0.25em;\n",
       "border-left-style: solid;\n",
       "font-family: var(--jp-code-font-family);\n",
       "font-size: var(--jp-code-font-size);\n",
       "line-height: var(--jp-code-line-height);\n",
       "\"><span style=\"color: var(--jp-warn-color2)\">astroquery</span> <span style=\"color: var(--jp-info-color0)\">INFO</span>: Query finished.</pre>"
      ],
      "text/plain": [
       "<IPython.core.display.HTML object>"
      ]
     },
     "metadata": {},
     "output_type": "display_data"
    },
    {
     "name": "stdout",
     "output_type": "stream",
     "text": [
      "INFO: Query finished. [astroquery.utils.tap.core]\n"
     ]
    },
    {
     "data": {
      "text/html": [
       "<pre style=\"margin: 0.1em;\n",
       "padding-left: 0.25em;\n",
       "border-left-style: solid;\n",
       "font-family: var(--jp-code-font-family);\n",
       "font-size: var(--jp-code-font-size);\n",
       "line-height: var(--jp-code-line-height);\n",
       "\"><span style=\"color: var(--jp-warn-color2)\">astroquery</span> <span style=\"color: var(--jp-info-color0)\">INFO</span>: Query finished.</pre>"
      ],
      "text/plain": [
       "<IPython.core.display.HTML object>"
      ]
     },
     "metadata": {},
     "output_type": "display_data"
    },
    {
     "name": "stdout",
     "output_type": "stream",
     "text": [
      "INFO: Query finished. [astroquery.utils.tap.core]\n"
     ]
    },
    {
     "data": {
      "text/html": [
       "<pre style=\"margin: 0.1em;\n",
       "padding-left: 0.25em;\n",
       "border-left-style: solid;\n",
       "font-family: var(--jp-code-font-family);\n",
       "font-size: var(--jp-code-font-size);\n",
       "line-height: var(--jp-code-line-height);\n",
       "\"><span style=\"color: var(--jp-warn-color2)\">astroquery</span> <span style=\"color: var(--jp-info-color0)\">INFO</span>: Query finished.</pre>"
      ],
      "text/plain": [
       "<IPython.core.display.HTML object>"
      ]
     },
     "metadata": {},
     "output_type": "display_data"
    },
    {
     "name": "stdout",
     "output_type": "stream",
     "text": [
      "INFO: Query finished. [astroquery.utils.tap.core]\n"
     ]
    },
    {
     "data": {
      "text/html": [
       "<pre style=\"margin: 0.1em;\n",
       "padding-left: 0.25em;\n",
       "border-left-style: solid;\n",
       "font-family: var(--jp-code-font-family);\n",
       "font-size: var(--jp-code-font-size);\n",
       "line-height: var(--jp-code-line-height);\n",
       "\"><span style=\"color: var(--jp-warn-color2)\">astroquery</span> <span style=\"color: var(--jp-info-color0)\">INFO</span>: Query finished.</pre>"
      ],
      "text/plain": [
       "<IPython.core.display.HTML object>"
      ]
     },
     "metadata": {},
     "output_type": "display_data"
    },
    {
     "name": "stdout",
     "output_type": "stream",
     "text": [
      "INFO: Query finished. [astroquery.utils.tap.core]\n"
     ]
    },
    {
     "data": {
      "text/html": [
       "<pre style=\"margin: 0.1em;\n",
       "padding-left: 0.25em;\n",
       "border-left-style: solid;\n",
       "font-family: var(--jp-code-font-family);\n",
       "font-size: var(--jp-code-font-size);\n",
       "line-height: var(--jp-code-line-height);\n",
       "\"><span style=\"color: var(--jp-warn-color2)\">astroquery</span> <span style=\"color: var(--jp-info-color0)\">INFO</span>: Query finished.</pre>"
      ],
      "text/plain": [
       "<IPython.core.display.HTML object>"
      ]
     },
     "metadata": {},
     "output_type": "display_data"
    },
    {
     "name": "stdout",
     "output_type": "stream",
     "text": [
      "INFO: Query finished. [astroquery.utils.tap.core]\n"
     ]
    },
    {
     "data": {
      "text/html": [
       "<pre style=\"margin: 0.1em;\n",
       "padding-left: 0.25em;\n",
       "border-left-style: solid;\n",
       "font-family: var(--jp-code-font-family);\n",
       "font-size: var(--jp-code-font-size);\n",
       "line-height: var(--jp-code-line-height);\n",
       "\"><span style=\"color: var(--jp-warn-color2)\">astroquery</span> <span style=\"color: var(--jp-info-color0)\">INFO</span>: Query finished.</pre>"
      ],
      "text/plain": [
       "<IPython.core.display.HTML object>"
      ]
     },
     "metadata": {},
     "output_type": "display_data"
    },
    {
     "name": "stdout",
     "output_type": "stream",
     "text": [
      "INFO: Query finished. [astroquery.utils.tap.core]\n"
     ]
    },
    {
     "data": {
      "text/html": [
       "<pre style=\"margin: 0.1em;\n",
       "padding-left: 0.25em;\n",
       "border-left-style: solid;\n",
       "font-family: var(--jp-code-font-family);\n",
       "font-size: var(--jp-code-font-size);\n",
       "line-height: var(--jp-code-line-height);\n",
       "\"><span style=\"color: var(--jp-warn-color2)\">astroquery</span> <span style=\"color: var(--jp-info-color0)\">INFO</span>: Query finished.</pre>"
      ],
      "text/plain": [
       "<IPython.core.display.HTML object>"
      ]
     },
     "metadata": {},
     "output_type": "display_data"
    },
    {
     "name": "stdout",
     "output_type": "stream",
     "text": [
      "INFO: Query finished. [astroquery.utils.tap.core]\n"
     ]
    },
    {
     "data": {
      "text/html": [
       "<pre style=\"margin: 0.1em;\n",
       "padding-left: 0.25em;\n",
       "border-left-style: solid;\n",
       "font-family: var(--jp-code-font-family);\n",
       "font-size: var(--jp-code-font-size);\n",
       "line-height: var(--jp-code-line-height);\n",
       "\"><span style=\"color: var(--jp-warn-color2)\">astroquery</span> <span style=\"color: var(--jp-info-color0)\">INFO</span>: Query finished.</pre>"
      ],
      "text/plain": [
       "<IPython.core.display.HTML object>"
      ]
     },
     "metadata": {},
     "output_type": "display_data"
    },
    {
     "name": "stdout",
     "output_type": "stream",
     "text": [
      "INFO: Query finished. [astroquery.utils.tap.core]\n"
     ]
    },
    {
     "data": {
      "text/html": [
       "<pre style=\"margin: 0.1em;\n",
       "padding-left: 0.25em;\n",
       "border-left-style: solid;\n",
       "font-family: var(--jp-code-font-family);\n",
       "font-size: var(--jp-code-font-size);\n",
       "line-height: var(--jp-code-line-height);\n",
       "\"><span style=\"color: var(--jp-warn-color2)\">astroquery</span> <span style=\"color: var(--jp-info-color0)\">INFO</span>: Query finished.</pre>"
      ],
      "text/plain": [
       "<IPython.core.display.HTML object>"
      ]
     },
     "metadata": {},
     "output_type": "display_data"
    },
    {
     "name": "stdout",
     "output_type": "stream",
     "text": [
      "INFO: Query finished. [astroquery.utils.tap.core]\n"
     ]
    },
    {
     "data": {
      "text/html": [
       "<pre style=\"margin: 0.1em;\n",
       "padding-left: 0.25em;\n",
       "border-left-style: solid;\n",
       "font-family: var(--jp-code-font-family);\n",
       "font-size: var(--jp-code-font-size);\n",
       "line-height: var(--jp-code-line-height);\n",
       "\"><span style=\"color: var(--jp-warn-color2)\">astroquery</span> <span style=\"color: var(--jp-info-color0)\">INFO</span>: Query finished.</pre>"
      ],
      "text/plain": [
       "<IPython.core.display.HTML object>"
      ]
     },
     "metadata": {},
     "output_type": "display_data"
    },
    {
     "name": "stdout",
     "output_type": "stream",
     "text": [
      "INFO: Query finished. [astroquery.utils.tap.core]\n"
     ]
    },
    {
     "data": {
      "text/html": [
       "<pre style=\"margin: 0.1em;\n",
       "padding-left: 0.25em;\n",
       "border-left-style: solid;\n",
       "font-family: var(--jp-code-font-family);\n",
       "font-size: var(--jp-code-font-size);\n",
       "line-height: var(--jp-code-line-height);\n",
       "\"><span style=\"color: var(--jp-warn-color2)\">astroquery</span> <span style=\"color: var(--jp-info-color0)\">INFO</span>: Query finished.</pre>"
      ],
      "text/plain": [
       "<IPython.core.display.HTML object>"
      ]
     },
     "metadata": {},
     "output_type": "display_data"
    },
    {
     "name": "stdout",
     "output_type": "stream",
     "text": [
      "INFO: Query finished. [astroquery.utils.tap.core]\n"
     ]
    },
    {
     "data": {
      "text/html": [
       "<pre style=\"margin: 0.1em;\n",
       "padding-left: 0.25em;\n",
       "border-left-style: solid;\n",
       "font-family: var(--jp-code-font-family);\n",
       "font-size: var(--jp-code-font-size);\n",
       "line-height: var(--jp-code-line-height);\n",
       "\"><span style=\"color: var(--jp-warn-color2)\">astroquery</span> <span style=\"color: var(--jp-info-color0)\">INFO</span>: Query finished.</pre>"
      ],
      "text/plain": [
       "<IPython.core.display.HTML object>"
      ]
     },
     "metadata": {},
     "output_type": "display_data"
    },
    {
     "name": "stdout",
     "output_type": "stream",
     "text": [
      "INFO: Query finished. [astroquery.utils.tap.core]\n"
     ]
    },
    {
     "data": {
      "text/html": [
       "<pre style=\"margin: 0.1em;\n",
       "padding-left: 0.25em;\n",
       "border-left-style: solid;\n",
       "font-family: var(--jp-code-font-family);\n",
       "font-size: var(--jp-code-font-size);\n",
       "line-height: var(--jp-code-line-height);\n",
       "\"><span style=\"color: var(--jp-warn-color2)\">astroquery</span> <span style=\"color: var(--jp-info-color0)\">INFO</span>: Query finished.</pre>"
      ],
      "text/plain": [
       "<IPython.core.display.HTML object>"
      ]
     },
     "metadata": {},
     "output_type": "display_data"
    },
    {
     "name": "stdout",
     "output_type": "stream",
     "text": [
      "INFO: Query finished. [astroquery.utils.tap.core]\n"
     ]
    },
    {
     "data": {
      "text/html": [
       "<pre style=\"margin: 0.1em;\n",
       "padding-left: 0.25em;\n",
       "border-left-style: solid;\n",
       "font-family: var(--jp-code-font-family);\n",
       "font-size: var(--jp-code-font-size);\n",
       "line-height: var(--jp-code-line-height);\n",
       "\"><span style=\"color: var(--jp-warn-color2)\">astroquery</span> <span style=\"color: var(--jp-info-color0)\">INFO</span>: Query finished.</pre>"
      ],
      "text/plain": [
       "<IPython.core.display.HTML object>"
      ]
     },
     "metadata": {},
     "output_type": "display_data"
    },
    {
     "name": "stderr",
     "output_type": "stream",
     "text": [
      "/opt/lsst/software/stack/conda/miniconda3-py38_4.9.2/envs/lsst-scipipe-7.0.1/lib/python3.11/site-packages/numpy/core/fromnumeric.py:3464: RuntimeWarning: Mean of empty slice.\n",
      "  return _methods._mean(a, axis=axis, dtype=dtype,\n",
      "/opt/lsst/software/stack/conda/miniconda3-py38_4.9.2/envs/lsst-scipipe-7.0.1/lib/python3.11/site-packages/numpy/core/_methods.py:192: RuntimeWarning: invalid value encountered in scalar divide\n",
      "  ret = ret.dtype.type(ret / rcount)\n"
     ]
    },
    {
     "name": "stdout",
     "output_type": "stream",
     "text": [
      "INFO: Query finished. [astroquery.utils.tap.core]\n"
     ]
    },
    {
     "data": {
      "text/html": [
       "<pre style=\"margin: 0.1em;\n",
       "padding-left: 0.25em;\n",
       "border-left-style: solid;\n",
       "font-family: var(--jp-code-font-family);\n",
       "font-size: var(--jp-code-font-size);\n",
       "line-height: var(--jp-code-line-height);\n",
       "\"><span style=\"color: var(--jp-warn-color2)\">astroquery</span> <span style=\"color: var(--jp-info-color0)\">INFO</span>: Query finished.</pre>"
      ],
      "text/plain": [
       "<IPython.core.display.HTML object>"
      ]
     },
     "metadata": {},
     "output_type": "display_data"
    },
    {
     "name": "stdout",
     "output_type": "stream",
     "text": [
      "INFO: Query finished. [astroquery.utils.tap.core]\n"
     ]
    },
    {
     "data": {
      "text/html": [
       "<pre style=\"margin: 0.1em;\n",
       "padding-left: 0.25em;\n",
       "border-left-style: solid;\n",
       "font-family: var(--jp-code-font-family);\n",
       "font-size: var(--jp-code-font-size);\n",
       "line-height: var(--jp-code-line-height);\n",
       "\"><span style=\"color: var(--jp-warn-color2)\">astroquery</span> <span style=\"color: var(--jp-info-color0)\">INFO</span>: Query finished.</pre>"
      ],
      "text/plain": [
       "<IPython.core.display.HTML object>"
      ]
     },
     "metadata": {},
     "output_type": "display_data"
    },
    {
     "name": "stdout",
     "output_type": "stream",
     "text": [
      "INFO: Query finished. [astroquery.utils.tap.core]\n"
     ]
    },
    {
     "data": {
      "text/html": [
       "<pre style=\"margin: 0.1em;\n",
       "padding-left: 0.25em;\n",
       "border-left-style: solid;\n",
       "font-family: var(--jp-code-font-family);\n",
       "font-size: var(--jp-code-font-size);\n",
       "line-height: var(--jp-code-line-height);\n",
       "\"><span style=\"color: var(--jp-warn-color2)\">astroquery</span> <span style=\"color: var(--jp-info-color0)\">INFO</span>: Query finished.</pre>"
      ],
      "text/plain": [
       "<IPython.core.display.HTML object>"
      ]
     },
     "metadata": {},
     "output_type": "display_data"
    },
    {
     "name": "stdout",
     "output_type": "stream",
     "text": [
      "INFO: Query finished. [astroquery.utils.tap.core]\n"
     ]
    },
    {
     "data": {
      "text/html": [
       "<pre style=\"margin: 0.1em;\n",
       "padding-left: 0.25em;\n",
       "border-left-style: solid;\n",
       "font-family: var(--jp-code-font-family);\n",
       "font-size: var(--jp-code-font-size);\n",
       "line-height: var(--jp-code-line-height);\n",
       "\"><span style=\"color: var(--jp-warn-color2)\">astroquery</span> <span style=\"color: var(--jp-info-color0)\">INFO</span>: Query finished.</pre>"
      ],
      "text/plain": [
       "<IPython.core.display.HTML object>"
      ]
     },
     "metadata": {},
     "output_type": "display_data"
    },
    {
     "name": "stdout",
     "output_type": "stream",
     "text": [
      "INFO: Query finished. [astroquery.utils.tap.core]\n"
     ]
    },
    {
     "data": {
      "text/html": [
       "<pre style=\"margin: 0.1em;\n",
       "padding-left: 0.25em;\n",
       "border-left-style: solid;\n",
       "font-family: var(--jp-code-font-family);\n",
       "font-size: var(--jp-code-font-size);\n",
       "line-height: var(--jp-code-line-height);\n",
       "\"><span style=\"color: var(--jp-warn-color2)\">astroquery</span> <span style=\"color: var(--jp-info-color0)\">INFO</span>: Query finished.</pre>"
      ],
      "text/plain": [
       "<IPython.core.display.HTML object>"
      ]
     },
     "metadata": {},
     "output_type": "display_data"
    },
    {
     "name": "stdout",
     "output_type": "stream",
     "text": [
      "INFO: Query finished. [astroquery.utils.tap.core]\n"
     ]
    },
    {
     "data": {
      "text/html": [
       "<pre style=\"margin: 0.1em;\n",
       "padding-left: 0.25em;\n",
       "border-left-style: solid;\n",
       "font-family: var(--jp-code-font-family);\n",
       "font-size: var(--jp-code-font-size);\n",
       "line-height: var(--jp-code-line-height);\n",
       "\"><span style=\"color: var(--jp-warn-color2)\">astroquery</span> <span style=\"color: var(--jp-info-color0)\">INFO</span>: Query finished.</pre>"
      ],
      "text/plain": [
       "<IPython.core.display.HTML object>"
      ]
     },
     "metadata": {},
     "output_type": "display_data"
    },
    {
     "name": "stdout",
     "output_type": "stream",
     "text": [
      "INFO: Query finished. [astroquery.utils.tap.core]\n"
     ]
    },
    {
     "data": {
      "text/html": [
       "<pre style=\"margin: 0.1em;\n",
       "padding-left: 0.25em;\n",
       "border-left-style: solid;\n",
       "font-family: var(--jp-code-font-family);\n",
       "font-size: var(--jp-code-font-size);\n",
       "line-height: var(--jp-code-line-height);\n",
       "\"><span style=\"color: var(--jp-warn-color2)\">astroquery</span> <span style=\"color: var(--jp-info-color0)\">INFO</span>: Query finished.</pre>"
      ],
      "text/plain": [
       "<IPython.core.display.HTML object>"
      ]
     },
     "metadata": {},
     "output_type": "display_data"
    },
    {
     "name": "stdout",
     "output_type": "stream",
     "text": [
      "INFO: Query finished. [astroquery.utils.tap.core]\n"
     ]
    },
    {
     "data": {
      "text/html": [
       "<pre style=\"margin: 0.1em;\n",
       "padding-left: 0.25em;\n",
       "border-left-style: solid;\n",
       "font-family: var(--jp-code-font-family);\n",
       "font-size: var(--jp-code-font-size);\n",
       "line-height: var(--jp-code-line-height);\n",
       "\"><span style=\"color: var(--jp-warn-color2)\">astroquery</span> <span style=\"color: var(--jp-info-color0)\">INFO</span>: Query finished.</pre>"
      ],
      "text/plain": [
       "<IPython.core.display.HTML object>"
      ]
     },
     "metadata": {},
     "output_type": "display_data"
    },
    {
     "name": "stdout",
     "output_type": "stream",
     "text": [
      "INFO: Query finished. [astroquery.utils.tap.core]\n"
     ]
    },
    {
     "data": {
      "text/html": [
       "<pre style=\"margin: 0.1em;\n",
       "padding-left: 0.25em;\n",
       "border-left-style: solid;\n",
       "font-family: var(--jp-code-font-family);\n",
       "font-size: var(--jp-code-font-size);\n",
       "line-height: var(--jp-code-line-height);\n",
       "\"><span style=\"color: var(--jp-warn-color2)\">astroquery</span> <span style=\"color: var(--jp-info-color0)\">INFO</span>: Query finished.</pre>"
      ],
      "text/plain": [
       "<IPython.core.display.HTML object>"
      ]
     },
     "metadata": {},
     "output_type": "display_data"
    },
    {
     "name": "stdout",
     "output_type": "stream",
     "text": [
      "INFO: Query finished. [astroquery.utils.tap.core]\n"
     ]
    },
    {
     "data": {
      "text/html": [
       "<pre style=\"margin: 0.1em;\n",
       "padding-left: 0.25em;\n",
       "border-left-style: solid;\n",
       "font-family: var(--jp-code-font-family);\n",
       "font-size: var(--jp-code-font-size);\n",
       "line-height: var(--jp-code-line-height);\n",
       "\"><span style=\"color: var(--jp-warn-color2)\">astroquery</span> <span style=\"color: var(--jp-info-color0)\">INFO</span>: Query finished.</pre>"
      ],
      "text/plain": [
       "<IPython.core.display.HTML object>"
      ]
     },
     "metadata": {},
     "output_type": "display_data"
    },
    {
     "name": "stdout",
     "output_type": "stream",
     "text": [
      "INFO: Query finished. [astroquery.utils.tap.core]\n"
     ]
    },
    {
     "data": {
      "text/html": [
       "<pre style=\"margin: 0.1em;\n",
       "padding-left: 0.25em;\n",
       "border-left-style: solid;\n",
       "font-family: var(--jp-code-font-family);\n",
       "font-size: var(--jp-code-font-size);\n",
       "line-height: var(--jp-code-line-height);\n",
       "\"><span style=\"color: var(--jp-warn-color2)\">astroquery</span> <span style=\"color: var(--jp-info-color0)\">INFO</span>: Query finished.</pre>"
      ],
      "text/plain": [
       "<IPython.core.display.HTML object>"
      ]
     },
     "metadata": {},
     "output_type": "display_data"
    },
    {
     "name": "stdout",
     "output_type": "stream",
     "text": [
      "INFO: Query finished. [astroquery.utils.tap.core]\n"
     ]
    },
    {
     "data": {
      "text/html": [
       "<pre style=\"margin: 0.1em;\n",
       "padding-left: 0.25em;\n",
       "border-left-style: solid;\n",
       "font-family: var(--jp-code-font-family);\n",
       "font-size: var(--jp-code-font-size);\n",
       "line-height: var(--jp-code-line-height);\n",
       "\"><span style=\"color: var(--jp-warn-color2)\">astroquery</span> <span style=\"color: var(--jp-info-color0)\">INFO</span>: Query finished.</pre>"
      ],
      "text/plain": [
       "<IPython.core.display.HTML object>"
      ]
     },
     "metadata": {},
     "output_type": "display_data"
    },
    {
     "name": "stdout",
     "output_type": "stream",
     "text": [
      "INFO: Query finished. [astroquery.utils.tap.core]\n"
     ]
    },
    {
     "data": {
      "text/html": [
       "<pre style=\"margin: 0.1em;\n",
       "padding-left: 0.25em;\n",
       "border-left-style: solid;\n",
       "font-family: var(--jp-code-font-family);\n",
       "font-size: var(--jp-code-font-size);\n",
       "line-height: var(--jp-code-line-height);\n",
       "\"><span style=\"color: var(--jp-warn-color2)\">astroquery</span> <span style=\"color: var(--jp-info-color0)\">INFO</span>: Query finished.</pre>"
      ],
      "text/plain": [
       "<IPython.core.display.HTML object>"
      ]
     },
     "metadata": {},
     "output_type": "display_data"
    },
    {
     "name": "stdout",
     "output_type": "stream",
     "text": [
      "INFO: Query finished. [astroquery.utils.tap.core]\n"
     ]
    },
    {
     "data": {
      "text/html": [
       "<pre style=\"margin: 0.1em;\n",
       "padding-left: 0.25em;\n",
       "border-left-style: solid;\n",
       "font-family: var(--jp-code-font-family);\n",
       "font-size: var(--jp-code-font-size);\n",
       "line-height: var(--jp-code-line-height);\n",
       "\"><span style=\"color: var(--jp-warn-color2)\">astroquery</span> <span style=\"color: var(--jp-info-color0)\">INFO</span>: Query finished.</pre>"
      ],
      "text/plain": [
       "<IPython.core.display.HTML object>"
      ]
     },
     "metadata": {},
     "output_type": "display_data"
    },
    {
     "name": "stdout",
     "output_type": "stream",
     "text": [
      "INFO: Query finished. [astroquery.utils.tap.core]\n"
     ]
    },
    {
     "data": {
      "text/html": [
       "<pre style=\"margin: 0.1em;\n",
       "padding-left: 0.25em;\n",
       "border-left-style: solid;\n",
       "font-family: var(--jp-code-font-family);\n",
       "font-size: var(--jp-code-font-size);\n",
       "line-height: var(--jp-code-line-height);\n",
       "\"><span style=\"color: var(--jp-warn-color2)\">astroquery</span> <span style=\"color: var(--jp-info-color0)\">INFO</span>: Query finished.</pre>"
      ],
      "text/plain": [
       "<IPython.core.display.HTML object>"
      ]
     },
     "metadata": {},
     "output_type": "display_data"
    },
    {
     "name": "stdout",
     "output_type": "stream",
     "text": [
      "INFO: Query finished. [astroquery.utils.tap.core]\n"
     ]
    },
    {
     "data": {
      "text/html": [
       "<pre style=\"margin: 0.1em;\n",
       "padding-left: 0.25em;\n",
       "border-left-style: solid;\n",
       "font-family: var(--jp-code-font-family);\n",
       "font-size: var(--jp-code-font-size);\n",
       "line-height: var(--jp-code-line-height);\n",
       "\"><span style=\"color: var(--jp-warn-color2)\">astroquery</span> <span style=\"color: var(--jp-info-color0)\">INFO</span>: Query finished.</pre>"
      ],
      "text/plain": [
       "<IPython.core.display.HTML object>"
      ]
     },
     "metadata": {},
     "output_type": "display_data"
    },
    {
     "name": "stdout",
     "output_type": "stream",
     "text": [
      "INFO: Query finished. [astroquery.utils.tap.core]\n"
     ]
    },
    {
     "data": {
      "text/html": [
       "<pre style=\"margin: 0.1em;\n",
       "padding-left: 0.25em;\n",
       "border-left-style: solid;\n",
       "font-family: var(--jp-code-font-family);\n",
       "font-size: var(--jp-code-font-size);\n",
       "line-height: var(--jp-code-line-height);\n",
       "\"><span style=\"color: var(--jp-warn-color2)\">astroquery</span> <span style=\"color: var(--jp-info-color0)\">INFO</span>: Query finished.</pre>"
      ],
      "text/plain": [
       "<IPython.core.display.HTML object>"
      ]
     },
     "metadata": {},
     "output_type": "display_data"
    },
    {
     "name": "stdout",
     "output_type": "stream",
     "text": [
      "INFO: Query finished. [astroquery.utils.tap.core]\n"
     ]
    },
    {
     "data": {
      "text/html": [
       "<pre style=\"margin: 0.1em;\n",
       "padding-left: 0.25em;\n",
       "border-left-style: solid;\n",
       "font-family: var(--jp-code-font-family);\n",
       "font-size: var(--jp-code-font-size);\n",
       "line-height: var(--jp-code-line-height);\n",
       "\"><span style=\"color: var(--jp-warn-color2)\">astroquery</span> <span style=\"color: var(--jp-info-color0)\">INFO</span>: Query finished.</pre>"
      ],
      "text/plain": [
       "<IPython.core.display.HTML object>"
      ]
     },
     "metadata": {},
     "output_type": "display_data"
    },
    {
     "name": "stdout",
     "output_type": "stream",
     "text": [
      "INFO: Query finished. [astroquery.utils.tap.core]\n"
     ]
    },
    {
     "data": {
      "text/html": [
       "<pre style=\"margin: 0.1em;\n",
       "padding-left: 0.25em;\n",
       "border-left-style: solid;\n",
       "font-family: var(--jp-code-font-family);\n",
       "font-size: var(--jp-code-font-size);\n",
       "line-height: var(--jp-code-line-height);\n",
       "\"><span style=\"color: var(--jp-warn-color2)\">astroquery</span> <span style=\"color: var(--jp-info-color0)\">INFO</span>: Query finished.</pre>"
      ],
      "text/plain": [
       "<IPython.core.display.HTML object>"
      ]
     },
     "metadata": {},
     "output_type": "display_data"
    },
    {
     "name": "stdout",
     "output_type": "stream",
     "text": [
      "INFO: Query finished. [astroquery.utils.tap.core]\n"
     ]
    },
    {
     "data": {
      "text/html": [
       "<pre style=\"margin: 0.1em;\n",
       "padding-left: 0.25em;\n",
       "border-left-style: solid;\n",
       "font-family: var(--jp-code-font-family);\n",
       "font-size: var(--jp-code-font-size);\n",
       "line-height: var(--jp-code-line-height);\n",
       "\"><span style=\"color: var(--jp-warn-color2)\">astroquery</span> <span style=\"color: var(--jp-info-color0)\">INFO</span>: Query finished.</pre>"
      ],
      "text/plain": [
       "<IPython.core.display.HTML object>"
      ]
     },
     "metadata": {},
     "output_type": "display_data"
    },
    {
     "name": "stdout",
     "output_type": "stream",
     "text": [
      "INFO: Query finished. [astroquery.utils.tap.core]\n"
     ]
    },
    {
     "data": {
      "text/html": [
       "<pre style=\"margin: 0.1em;\n",
       "padding-left: 0.25em;\n",
       "border-left-style: solid;\n",
       "font-family: var(--jp-code-font-family);\n",
       "font-size: var(--jp-code-font-size);\n",
       "line-height: var(--jp-code-line-height);\n",
       "\"><span style=\"color: var(--jp-warn-color2)\">astroquery</span> <span style=\"color: var(--jp-info-color0)\">INFO</span>: Query finished.</pre>"
      ],
      "text/plain": [
       "<IPython.core.display.HTML object>"
      ]
     },
     "metadata": {},
     "output_type": "display_data"
    },
    {
     "name": "stdout",
     "output_type": "stream",
     "text": [
      "INFO: Query finished. [astroquery.utils.tap.core]\n"
     ]
    },
    {
     "data": {
      "text/html": [
       "<pre style=\"margin: 0.1em;\n",
       "padding-left: 0.25em;\n",
       "border-left-style: solid;\n",
       "font-family: var(--jp-code-font-family);\n",
       "font-size: var(--jp-code-font-size);\n",
       "line-height: var(--jp-code-line-height);\n",
       "\"><span style=\"color: var(--jp-warn-color2)\">astroquery</span> <span style=\"color: var(--jp-info-color0)\">INFO</span>: Query finished.</pre>"
      ],
      "text/plain": [
       "<IPython.core.display.HTML object>"
      ]
     },
     "metadata": {},
     "output_type": "display_data"
    },
    {
     "name": "stdout",
     "output_type": "stream",
     "text": [
      "INFO: Query finished. [astroquery.utils.tap.core]\n"
     ]
    },
    {
     "data": {
      "text/html": [
       "<pre style=\"margin: 0.1em;\n",
       "padding-left: 0.25em;\n",
       "border-left-style: solid;\n",
       "font-family: var(--jp-code-font-family);\n",
       "font-size: var(--jp-code-font-size);\n",
       "line-height: var(--jp-code-line-height);\n",
       "\"><span style=\"color: var(--jp-warn-color2)\">astroquery</span> <span style=\"color: var(--jp-info-color0)\">INFO</span>: Query finished.</pre>"
      ],
      "text/plain": [
       "<IPython.core.display.HTML object>"
      ]
     },
     "metadata": {},
     "output_type": "display_data"
    },
    {
     "name": "stdout",
     "output_type": "stream",
     "text": [
      "INFO: Query finished. [astroquery.utils.tap.core]\n"
     ]
    },
    {
     "data": {
      "text/html": [
       "<pre style=\"margin: 0.1em;\n",
       "padding-left: 0.25em;\n",
       "border-left-style: solid;\n",
       "font-family: var(--jp-code-font-family);\n",
       "font-size: var(--jp-code-font-size);\n",
       "line-height: var(--jp-code-line-height);\n",
       "\"><span style=\"color: var(--jp-warn-color2)\">astroquery</span> <span style=\"color: var(--jp-info-color0)\">INFO</span>: Query finished.</pre>"
      ],
      "text/plain": [
       "<IPython.core.display.HTML object>"
      ]
     },
     "metadata": {},
     "output_type": "display_data"
    },
    {
     "name": "stdout",
     "output_type": "stream",
     "text": [
      "INFO: Query finished. [astroquery.utils.tap.core]\n"
     ]
    },
    {
     "data": {
      "text/html": [
       "<pre style=\"margin: 0.1em;\n",
       "padding-left: 0.25em;\n",
       "border-left-style: solid;\n",
       "font-family: var(--jp-code-font-family);\n",
       "font-size: var(--jp-code-font-size);\n",
       "line-height: var(--jp-code-line-height);\n",
       "\"><span style=\"color: var(--jp-warn-color2)\">astroquery</span> <span style=\"color: var(--jp-info-color0)\">INFO</span>: Query finished.</pre>"
      ],
      "text/plain": [
       "<IPython.core.display.HTML object>"
      ]
     },
     "metadata": {},
     "output_type": "display_data"
    },
    {
     "name": "stdout",
     "output_type": "stream",
     "text": [
      "INFO: Query finished. [astroquery.utils.tap.core]\n"
     ]
    },
    {
     "data": {
      "text/html": [
       "<pre style=\"margin: 0.1em;\n",
       "padding-left: 0.25em;\n",
       "border-left-style: solid;\n",
       "font-family: var(--jp-code-font-family);\n",
       "font-size: var(--jp-code-font-size);\n",
       "line-height: var(--jp-code-line-height);\n",
       "\"><span style=\"color: var(--jp-warn-color2)\">astroquery</span> <span style=\"color: var(--jp-info-color0)\">INFO</span>: Query finished.</pre>"
      ],
      "text/plain": [
       "<IPython.core.display.HTML object>"
      ]
     },
     "metadata": {},
     "output_type": "display_data"
    },
    {
     "name": "stdout",
     "output_type": "stream",
     "text": [
      "INFO: Query finished. [astroquery.utils.tap.core]\n"
     ]
    },
    {
     "data": {
      "text/html": [
       "<pre style=\"margin: 0.1em;\n",
       "padding-left: 0.25em;\n",
       "border-left-style: solid;\n",
       "font-family: var(--jp-code-font-family);\n",
       "font-size: var(--jp-code-font-size);\n",
       "line-height: var(--jp-code-line-height);\n",
       "\"><span style=\"color: var(--jp-warn-color2)\">astroquery</span> <span style=\"color: var(--jp-info-color0)\">INFO</span>: Query finished.</pre>"
      ],
      "text/plain": [
       "<IPython.core.display.HTML object>"
      ]
     },
     "metadata": {},
     "output_type": "display_data"
    },
    {
     "name": "stdout",
     "output_type": "stream",
     "text": [
      "INFO: Query finished. [astroquery.utils.tap.core]\n"
     ]
    },
    {
     "data": {
      "text/html": [
       "<pre style=\"margin: 0.1em;\n",
       "padding-left: 0.25em;\n",
       "border-left-style: solid;\n",
       "font-family: var(--jp-code-font-family);\n",
       "font-size: var(--jp-code-font-size);\n",
       "line-height: var(--jp-code-line-height);\n",
       "\"><span style=\"color: var(--jp-warn-color2)\">astroquery</span> <span style=\"color: var(--jp-info-color0)\">INFO</span>: Query finished.</pre>"
      ],
      "text/plain": [
       "<IPython.core.display.HTML object>"
      ]
     },
     "metadata": {},
     "output_type": "display_data"
    },
    {
     "name": "stdout",
     "output_type": "stream",
     "text": [
      "INFO: Query finished. [astroquery.utils.tap.core]\n"
     ]
    },
    {
     "data": {
      "text/html": [
       "<pre style=\"margin: 0.1em;\n",
       "padding-left: 0.25em;\n",
       "border-left-style: solid;\n",
       "font-family: var(--jp-code-font-family);\n",
       "font-size: var(--jp-code-font-size);\n",
       "line-height: var(--jp-code-line-height);\n",
       "\"><span style=\"color: var(--jp-warn-color2)\">astroquery</span> <span style=\"color: var(--jp-info-color0)\">INFO</span>: Query finished.</pre>"
      ],
      "text/plain": [
       "<IPython.core.display.HTML object>"
      ]
     },
     "metadata": {},
     "output_type": "display_data"
    },
    {
     "name": "stdout",
     "output_type": "stream",
     "text": [
      "INFO: Query finished. [astroquery.utils.tap.core]\n"
     ]
    },
    {
     "data": {
      "text/html": [
       "<pre style=\"margin: 0.1em;\n",
       "padding-left: 0.25em;\n",
       "border-left-style: solid;\n",
       "font-family: var(--jp-code-font-family);\n",
       "font-size: var(--jp-code-font-size);\n",
       "line-height: var(--jp-code-line-height);\n",
       "\"><span style=\"color: var(--jp-warn-color2)\">astroquery</span> <span style=\"color: var(--jp-info-color0)\">INFO</span>: Query finished.</pre>"
      ],
      "text/plain": [
       "<IPython.core.display.HTML object>"
      ]
     },
     "metadata": {},
     "output_type": "display_data"
    },
    {
     "name": "stdout",
     "output_type": "stream",
     "text": [
      "INFO: Query finished. [astroquery.utils.tap.core]\n"
     ]
    },
    {
     "data": {
      "text/html": [
       "<pre style=\"margin: 0.1em;\n",
       "padding-left: 0.25em;\n",
       "border-left-style: solid;\n",
       "font-family: var(--jp-code-font-family);\n",
       "font-size: var(--jp-code-font-size);\n",
       "line-height: var(--jp-code-line-height);\n",
       "\"><span style=\"color: var(--jp-warn-color2)\">astroquery</span> <span style=\"color: var(--jp-info-color0)\">INFO</span>: Query finished.</pre>"
      ],
      "text/plain": [
       "<IPython.core.display.HTML object>"
      ]
     },
     "metadata": {},
     "output_type": "display_data"
    },
    {
     "name": "stdout",
     "output_type": "stream",
     "text": [
      "INFO: Query finished. [astroquery.utils.tap.core]\n"
     ]
    },
    {
     "data": {
      "text/html": [
       "<pre style=\"margin: 0.1em;\n",
       "padding-left: 0.25em;\n",
       "border-left-style: solid;\n",
       "font-family: var(--jp-code-font-family);\n",
       "font-size: var(--jp-code-font-size);\n",
       "line-height: var(--jp-code-line-height);\n",
       "\"><span style=\"color: var(--jp-warn-color2)\">astroquery</span> <span style=\"color: var(--jp-info-color0)\">INFO</span>: Query finished.</pre>"
      ],
      "text/plain": [
       "<IPython.core.display.HTML object>"
      ]
     },
     "metadata": {},
     "output_type": "display_data"
    },
    {
     "name": "stdout",
     "output_type": "stream",
     "text": [
      "INFO: Query finished. [astroquery.utils.tap.core]\n"
     ]
    },
    {
     "data": {
      "text/html": [
       "<pre style=\"margin: 0.1em;\n",
       "padding-left: 0.25em;\n",
       "border-left-style: solid;\n",
       "font-family: var(--jp-code-font-family);\n",
       "font-size: var(--jp-code-font-size);\n",
       "line-height: var(--jp-code-line-height);\n",
       "\"><span style=\"color: var(--jp-warn-color2)\">astroquery</span> <span style=\"color: var(--jp-info-color0)\">INFO</span>: Query finished.</pre>"
      ],
      "text/plain": [
       "<IPython.core.display.HTML object>"
      ]
     },
     "metadata": {},
     "output_type": "display_data"
    },
    {
     "name": "stdout",
     "output_type": "stream",
     "text": [
      "INFO: Query finished. [astroquery.utils.tap.core]\n"
     ]
    },
    {
     "data": {
      "text/html": [
       "<pre style=\"margin: 0.1em;\n",
       "padding-left: 0.25em;\n",
       "border-left-style: solid;\n",
       "font-family: var(--jp-code-font-family);\n",
       "font-size: var(--jp-code-font-size);\n",
       "line-height: var(--jp-code-line-height);\n",
       "\"><span style=\"color: var(--jp-warn-color2)\">astroquery</span> <span style=\"color: var(--jp-info-color0)\">INFO</span>: Query finished.</pre>"
      ],
      "text/plain": [
       "<IPython.core.display.HTML object>"
      ]
     },
     "metadata": {},
     "output_type": "display_data"
    },
    {
     "name": "stdout",
     "output_type": "stream",
     "text": [
      "INFO: Query finished. [astroquery.utils.tap.core]\n"
     ]
    },
    {
     "data": {
      "text/html": [
       "<pre style=\"margin: 0.1em;\n",
       "padding-left: 0.25em;\n",
       "border-left-style: solid;\n",
       "font-family: var(--jp-code-font-family);\n",
       "font-size: var(--jp-code-font-size);\n",
       "line-height: var(--jp-code-line-height);\n",
       "\"><span style=\"color: var(--jp-warn-color2)\">astroquery</span> <span style=\"color: var(--jp-info-color0)\">INFO</span>: Query finished.</pre>"
      ],
      "text/plain": [
       "<IPython.core.display.HTML object>"
      ]
     },
     "metadata": {},
     "output_type": "display_data"
    },
    {
     "name": "stdout",
     "output_type": "stream",
     "text": [
      "INFO: Query finished. [astroquery.utils.tap.core]\n"
     ]
    },
    {
     "data": {
      "text/html": [
       "<pre style=\"margin: 0.1em;\n",
       "padding-left: 0.25em;\n",
       "border-left-style: solid;\n",
       "font-family: var(--jp-code-font-family);\n",
       "font-size: var(--jp-code-font-size);\n",
       "line-height: var(--jp-code-line-height);\n",
       "\"><span style=\"color: var(--jp-warn-color2)\">astroquery</span> <span style=\"color: var(--jp-info-color0)\">INFO</span>: Query finished.</pre>"
      ],
      "text/plain": [
       "<IPython.core.display.HTML object>"
      ]
     },
     "metadata": {},
     "output_type": "display_data"
    },
    {
     "name": "stdout",
     "output_type": "stream",
     "text": [
      "INFO: Query finished. [astroquery.utils.tap.core]\n"
     ]
    },
    {
     "data": {
      "text/html": [
       "<pre style=\"margin: 0.1em;\n",
       "padding-left: 0.25em;\n",
       "border-left-style: solid;\n",
       "font-family: var(--jp-code-font-family);\n",
       "font-size: var(--jp-code-font-size);\n",
       "line-height: var(--jp-code-line-height);\n",
       "\"><span style=\"color: var(--jp-warn-color2)\">astroquery</span> <span style=\"color: var(--jp-info-color0)\">INFO</span>: Query finished.</pre>"
      ],
      "text/plain": [
       "<IPython.core.display.HTML object>"
      ]
     },
     "metadata": {},
     "output_type": "display_data"
    },
    {
     "name": "stdout",
     "output_type": "stream",
     "text": [
      "INFO: Query finished. [astroquery.utils.tap.core]\n"
     ]
    },
    {
     "data": {
      "text/html": [
       "<pre style=\"margin: 0.1em;\n",
       "padding-left: 0.25em;\n",
       "border-left-style: solid;\n",
       "font-family: var(--jp-code-font-family);\n",
       "font-size: var(--jp-code-font-size);\n",
       "line-height: var(--jp-code-line-height);\n",
       "\"><span style=\"color: var(--jp-warn-color2)\">astroquery</span> <span style=\"color: var(--jp-info-color0)\">INFO</span>: Query finished.</pre>"
      ],
      "text/plain": [
       "<IPython.core.display.HTML object>"
      ]
     },
     "metadata": {},
     "output_type": "display_data"
    },
    {
     "name": "stdout",
     "output_type": "stream",
     "text": [
      "INFO: Query finished. [astroquery.utils.tap.core]\n"
     ]
    },
    {
     "data": {
      "text/html": [
       "<pre style=\"margin: 0.1em;\n",
       "padding-left: 0.25em;\n",
       "border-left-style: solid;\n",
       "font-family: var(--jp-code-font-family);\n",
       "font-size: var(--jp-code-font-size);\n",
       "line-height: var(--jp-code-line-height);\n",
       "\"><span style=\"color: var(--jp-warn-color2)\">astroquery</span> <span style=\"color: var(--jp-info-color0)\">INFO</span>: Query finished.</pre>"
      ],
      "text/plain": [
       "<IPython.core.display.HTML object>"
      ]
     },
     "metadata": {},
     "output_type": "display_data"
    },
    {
     "name": "stdout",
     "output_type": "stream",
     "text": [
      "INFO: Query finished. [astroquery.utils.tap.core]\n"
     ]
    },
    {
     "data": {
      "text/html": [
       "<pre style=\"margin: 0.1em;\n",
       "padding-left: 0.25em;\n",
       "border-left-style: solid;\n",
       "font-family: var(--jp-code-font-family);\n",
       "font-size: var(--jp-code-font-size);\n",
       "line-height: var(--jp-code-line-height);\n",
       "\"><span style=\"color: var(--jp-warn-color2)\">astroquery</span> <span style=\"color: var(--jp-info-color0)\">INFO</span>: Query finished.</pre>"
      ],
      "text/plain": [
       "<IPython.core.display.HTML object>"
      ]
     },
     "metadata": {},
     "output_type": "display_data"
    },
    {
     "name": "stdout",
     "output_type": "stream",
     "text": [
      "INFO: Query finished. [astroquery.utils.tap.core]\n"
     ]
    },
    {
     "data": {
      "text/html": [
       "<pre style=\"margin: 0.1em;\n",
       "padding-left: 0.25em;\n",
       "border-left-style: solid;\n",
       "font-family: var(--jp-code-font-family);\n",
       "font-size: var(--jp-code-font-size);\n",
       "line-height: var(--jp-code-line-height);\n",
       "\"><span style=\"color: var(--jp-warn-color2)\">astroquery</span> <span style=\"color: var(--jp-info-color0)\">INFO</span>: Query finished.</pre>"
      ],
      "text/plain": [
       "<IPython.core.display.HTML object>"
      ]
     },
     "metadata": {},
     "output_type": "display_data"
    },
    {
     "name": "stdout",
     "output_type": "stream",
     "text": [
      "INFO: Query finished. [astroquery.utils.tap.core]\n"
     ]
    },
    {
     "data": {
      "text/html": [
       "<pre style=\"margin: 0.1em;\n",
       "padding-left: 0.25em;\n",
       "border-left-style: solid;\n",
       "font-family: var(--jp-code-font-family);\n",
       "font-size: var(--jp-code-font-size);\n",
       "line-height: var(--jp-code-line-height);\n",
       "\"><span style=\"color: var(--jp-warn-color2)\">astroquery</span> <span style=\"color: var(--jp-info-color0)\">INFO</span>: Query finished.</pre>"
      ],
      "text/plain": [
       "<IPython.core.display.HTML object>"
      ]
     },
     "metadata": {},
     "output_type": "display_data"
    },
    {
     "name": "stdout",
     "output_type": "stream",
     "text": [
      "INFO: Query finished. [astroquery.utils.tap.core]\n"
     ]
    },
    {
     "data": {
      "text/html": [
       "<pre style=\"margin: 0.1em;\n",
       "padding-left: 0.25em;\n",
       "border-left-style: solid;\n",
       "font-family: var(--jp-code-font-family);\n",
       "font-size: var(--jp-code-font-size);\n",
       "line-height: var(--jp-code-line-height);\n",
       "\"><span style=\"color: var(--jp-warn-color2)\">astroquery</span> <span style=\"color: var(--jp-info-color0)\">INFO</span>: Query finished.</pre>"
      ],
      "text/plain": [
       "<IPython.core.display.HTML object>"
      ]
     },
     "metadata": {},
     "output_type": "display_data"
    },
    {
     "name": "stdout",
     "output_type": "stream",
     "text": [
      "INFO: Query finished. [astroquery.utils.tap.core]\n"
     ]
    },
    {
     "data": {
      "text/html": [
       "<pre style=\"margin: 0.1em;\n",
       "padding-left: 0.25em;\n",
       "border-left-style: solid;\n",
       "font-family: var(--jp-code-font-family);\n",
       "font-size: var(--jp-code-font-size);\n",
       "line-height: var(--jp-code-line-height);\n",
       "\"><span style=\"color: var(--jp-warn-color2)\">astroquery</span> <span style=\"color: var(--jp-info-color0)\">INFO</span>: Query finished.</pre>"
      ],
      "text/plain": [
       "<IPython.core.display.HTML object>"
      ]
     },
     "metadata": {},
     "output_type": "display_data"
    },
    {
     "name": "stdout",
     "output_type": "stream",
     "text": [
      "INFO: Query finished. [astroquery.utils.tap.core]\n"
     ]
    },
    {
     "data": {
      "text/html": [
       "<pre style=\"margin: 0.1em;\n",
       "padding-left: 0.25em;\n",
       "border-left-style: solid;\n",
       "font-family: var(--jp-code-font-family);\n",
       "font-size: var(--jp-code-font-size);\n",
       "line-height: var(--jp-code-line-height);\n",
       "\"><span style=\"color: var(--jp-warn-color2)\">astroquery</span> <span style=\"color: var(--jp-info-color0)\">INFO</span>: Query finished.</pre>"
      ],
      "text/plain": [
       "<IPython.core.display.HTML object>"
      ]
     },
     "metadata": {},
     "output_type": "display_data"
    }
   ],
   "source": [
    "num_calib_astrom = []\n",
    "median_mag_astrom = []\n",
    "medianAstromOffsets = []\n",
    "numGaiaMatches = []\n",
    "\n",
    "# Select some visit/detector combinations from these at random:\n",
    "numvisits = 500\n",
    "dataid_sel = random.choices(data_ids, k=numvisits)\n",
    "\n",
    "for did in dataid_sel:\n",
    "    # Sometimes CCDs fail, so test whether the dataset exists before grabbing it:\n",
    "    if butler.exists(\"calexp\", did):\n",
    "        finalVisitSummary = butler.get('finalVisitSummary', dataId = did)\n",
    "        fvs = finalVisitSummary.find(did['detector'])\n",
    "\n",
    "        # Check how many objects were used to calibrate the astrometry:\n",
    "        src = butler.get('src', dataId = did)\n",
    "        astrom_selection = np.where(src['calib_astrometry_used'] == True)\n",
    "        num_calib_astrom.append(np.size(astrom_selection))\n",
    "        photo_calib = fvs.getPhotoCalib()\n",
    "        src_mag = photo_calib.instFluxToMagnitude(src, 'base_PsfFlux')\n",
    "\n",
    "        median_mag_astrom.append(np.median(src_mag[astrom_selection,0]))\n",
    "\n",
    "        # Extract the WCS and match to Gaia:\n",
    "        wcs = fvs.getWcs()\n",
    "        width = fvs['bbox_max_x']-fvs['bbox_min_x']\n",
    "        height = fvs['bbox_max_y']-fvs['bbox_min_y']\n",
    "        center = wcs.pixelToSky(fvs['bbox_min_x']+width/2.0, fvs['bbox_min_y']+height/2.0)\n",
    "        pscale = wcs.getPixelScale()\n",
    "        width = width*pscale.asDegrees()\n",
    "        height = height*pscale.asDegrees()\n",
    "        cen = SkyCoord(center.getRa().asDegrees()*u.degree, center.getDec().asDegrees()*u.degree)\n",
    "        width = u.Quantity(width, u.deg)\n",
    "        height = u.Quantity(height, u.deg)\n",
    "        width = u.Quantity((np.max(fvs['raCorners']) - np.min(fvs['raCorners'])), u.deg)\n",
    "        height = u.Quantity((np.max(fvs['decCorners']) - np.min(fvs['decCorners'])), u.deg)\n",
    "\n",
    "        # Start from XY, then use the WCS to convert to RA, Dec:\n",
    "        xxx = src.getX()\n",
    "        yyy = src.getY()\n",
    "        radec = [wcs.pixelToSky(xxx[i], yyy[i]) for i in range(len(xxx))]\n",
    "        radec_arr = np.array([(coo.getRa().asDegrees(), coo.getDec().asDegrees()) for coo in radec])\n",
    "\n",
    "        gaia_mch = Gaia.query_object_async(coordinate=cen, width=width, height=height)\n",
    "        sc_src = SkyCoord(radec_arr[:,0]*u.deg, radec_arr[:,1]*u.deg)\n",
    "        sc_gaia = SkyCoord(gaia_mch['ra'], gaia_mch['dec'])\n",
    "        src_match = sc_src.match_to_catalog_sky(sc_gaia)\n",
    "        sep_match = src_match[1]\n",
    "        \n",
    "        gaia_gmag = gaia_mch['phot_g_mean_mag']\n",
    "        \n",
    "        okmch = (sep_match.arcsec < 0.5)\n",
    "        matchsep = sep_match[okmch]\n",
    "        \n",
    "        # Require the matches to have similar magnitudes:\n",
    "        magdiff = src_mag[okmch][:,0]-gaia_gmag[src_match[0][okmch]]\n",
    "        \n",
    "        okmagdiff = (np.abs(magdiff - np.median(magdiff)) < 1.0)\n",
    "        okmatchsep = matchsep[okmagdiff]\n",
    "        \n",
    "        medianOffset = np.median(np.array(okmatchsep.marcsec))\n",
    "        medianAstromOffsets.append(medianOffset)\n",
    "        numGaiaMatches.append(np.size(okmatchsep))\n",
    "\n",
    "        del src, finalVisitSummary, gaia_mch, radec, radec_arr, sc_src, sc_gaia, src_match\n",
    "        gc.collect()\n"
   ]
  },
  {
   "cell_type": "code",
   "execution_count": 9,
   "metadata": {
    "execution": {
     "iopub.execute_input": "2023-10-20T02:59:56.663528Z",
     "iopub.status.busy": "2023-10-20T02:59:56.663380Z",
     "iopub.status.idle": "2023-10-20T02:59:56.667145Z",
     "shell.execute_reply": "2023-10-20T02:59:56.666793Z",
     "shell.execute_reply.started": "2023-10-20T02:59:56.663515Z"
    },
    "tags": []
   },
   "outputs": [],
   "source": [
    "# Convert the outputs of the previous cell to numpy arrays:\n",
    "numGaiaMatches = np.array(numGaiaMatches)\n",
    "medianAstromOffsets = np.array(medianAstromOffsets)\n",
    "num_calib_astrom = np.array(num_calib_astrom)\n",
    "median_mag_astrom = np.array(median_mag_astrom)\n",
    "\n",
    "# Keep only the CCDs with at least one Gaia match:\n",
    "okmch = np.where(numGaiaMatches >= 1)\n",
    "\n",
    "nGaiaMatches = numGaiaMatches[okmch[0]]\n",
    "medAstromOffsets = medianAstromOffsets[okmch[0]]\n",
    "n_calib_astrom = num_calib_astrom[okmch[0]]\n",
    "med_mag_astrom = median_mag_astrom[okmch[0]]"
   ]
  },
  {
   "cell_type": "markdown",
   "metadata": {},
   "source": [
    "#### Did all of the CCDs use more than `astrometricMinStandards` = 5 standards?"
   ]
  },
  {
   "cell_type": "code",
   "execution_count": 10,
   "metadata": {
    "execution": {
     "iopub.execute_input": "2023-10-20T02:59:56.667760Z",
     "iopub.status.busy": "2023-10-20T02:59:56.667637Z",
     "iopub.status.idle": "2023-10-20T02:59:56.676443Z",
     "shell.execute_reply": "2023-10-20T02:59:56.676079Z",
     "shell.execute_reply.started": "2023-10-20T02:59:56.667749Z"
    },
    "tags": []
   },
   "outputs": [
    {
     "name": "stdout",
     "output_type": "stream",
     "text": [
      "Percentage of fields with > astrometricMinStandards=5:  100.0 %  --  True\n"
     ]
    }
   ],
   "source": [
    "# Calculate the fraction of fields that used > 5 standards for astrometric calibration:\n",
    "wcsFlagsPercent = (np.size(np.where(num_calib_astrom > 5))/np.size(num_calib_astrom))*100.0*u.percent\n",
    "print('Percentage of fields with > astrometricMinStandards=5: ', wcsFlagsPercent,' -- ',wcsFlagsPercent == 100.0*u.percent)"
   ]
  },
  {
   "cell_type": "markdown",
   "metadata": {},
   "source": [
    "#### Fraction of CCDs meeting the `astrometricAccuracy` threshold:"
   ]
  },
  {
   "cell_type": "code",
   "execution_count": 11,
   "metadata": {
    "execution": {
     "iopub.execute_input": "2023-10-20T02:59:56.677044Z",
     "iopub.status.busy": "2023-10-20T02:59:56.676922Z",
     "iopub.status.idle": "2023-10-20T02:59:56.681685Z",
     "shell.execute_reply": "2023-10-20T02:59:56.681299Z",
     "shell.execute_reply.started": "2023-10-20T02:59:56.677034Z"
    },
    "tags": []
   },
   "outputs": [
    {
     "name": "stdout",
     "output_type": "stream",
     "text": [
      "Percentage of fields meeting the threshold:  95.99198396793587 %  --  False\n"
     ]
    }
   ],
   "source": [
    "# Calculate the fraction of CCDs that meet the requirement:\n",
    "astrometricAccuracy = 50.0 # 50 mas is the threshold in the requirement\n",
    "astromMeetsThreshPercent = (np.size(np.where(medAstromOffsets < astrometricAccuracy))/np.size(medAstromOffsets))*100.0*u.percent\n",
    "print('Percentage of fields meeting the threshold: ', astromMeetsThreshPercent,' -- ',astromMeetsThreshPercent == 100.0*u.percent)"
   ]
  },
  {
   "cell_type": "markdown",
   "metadata": {},
   "source": [
    "### Discussion, figures:\n",
    "For any random selection of CCDs on which we calculate this, a small fraction do not meet the threshold. This may have more to do with the matching to Gaia than the accuracy of the WCS. Let's explore..."
   ]
  },
  {
   "cell_type": "markdown",
   "metadata": {},
   "source": [
    "#### Compare the median value of the astrometric residuals (vs. Gaia) to the number of Gaia sources matched:"
   ]
  },
  {
   "cell_type": "code",
   "execution_count": 15,
   "metadata": {
    "execution": {
     "iopub.execute_input": "2023-10-20T03:00:26.664644Z",
     "iopub.status.busy": "2023-10-20T03:00:26.664440Z",
     "iopub.status.idle": "2023-10-20T03:00:26.861639Z",
     "shell.execute_reply": "2023-10-20T03:00:26.861226Z",
     "shell.execute_reply.started": "2023-10-20T03:00:26.664630Z"
    },
    "tags": []
   },
   "outputs": [
    {
     "data": {
      "image/png": "[encoded data removed]",
      "text/plain": [
       "<Figure size 1200x800 with 1 Axes>"
      ]
     },
     "metadata": {},
     "output_type": "display_data"
    }
   ],
   "source": [
    "plt.plot(nGaiaMatches, medAstromOffsets, 'k.', ms=15)\n",
    "plt.xlabel('number of Gaia matches')\n",
    "plt.ylabel('median astrometric residual (mas)')\n",
    "plt.hlines(astrometricAccuracy, 0, 150, linestyle='dashed', label='Requirement')\n",
    "plt.xlim(0,np.max(nGaiaMatches)*1.1)\n",
    "plt.ylim(0,np.max(medAstromOffsets)*1.1)\n",
    "plt.legend()\n",
    "plt.minorticks_on()\n",
    "plt.show()"
   ]
  },
  {
   "cell_type": "markdown",
   "metadata": {},
   "source": [
    "Most of the objects with high residuals are those that have few Gaia matches. Do they also have few astrometric calibrators?"
   ]
  },
  {
   "cell_type": "code",
   "execution_count": 13,
   "metadata": {
    "execution": {
     "iopub.execute_input": "2023-10-20T02:59:56.909313Z",
     "iopub.status.busy": "2023-10-20T02:59:56.909118Z",
     "iopub.status.idle": "2023-10-20T02:59:57.110499Z",
     "shell.execute_reply": "2023-10-20T02:59:57.110073Z",
     "shell.execute_reply.started": "2023-10-20T02:59:56.909301Z"
    },
    "tags": []
   },
   "outputs": [
    {
     "data": {
      "image/png": "[encoded data removed]",
      "text/plain": [
       "<Figure size 1200x800 with 1 Axes>"
      ]
     },
     "metadata": {},
     "output_type": "display_data"
    }
   ],
   "source": [
    "plt.plot(n_calib_astrom, medAstromOffsets, 'k.', ms=15)\n",
    "plt.xlabel('number of astrometric calibrators')\n",
    "plt.ylabel('median astrometric residual (mas)')\n",
    "plt.hlines(astrometricAccuracy, 0, 1000, linestyle='dashed', label='Requirement')\n",
    "plt.xlim(0,np.max(n_calib_astrom)*1.1)\n",
    "plt.ylim(0,np.max(medAstromOffsets)*1.1)\n",
    "plt.legend()\n",
    "plt.minorticks_on()\n",
    "plt.show()"
   ]
  },
  {
   "cell_type": "markdown",
   "metadata": {},
   "source": [
    "In fact, it seems that many of the fields with large residuals have large numbers of calibrators (and _all_ have > 50).\n",
    "\n",
    "Furthermore, there seem to be too few Gaia matches per CCD to be able to split them into smaller spatial regions. "
   ]
  },
  {
   "cell_type": "markdown",
   "metadata": {},
   "source": [
    "#### What is the median magnitude of sources that contributed to the astrometric solution?"
   ]
  },
  {
   "cell_type": "code",
   "execution_count": 14,
   "metadata": {
    "execution": {
     "iopub.execute_input": "2023-10-20T02:59:57.111219Z",
     "iopub.status.busy": "2023-10-20T02:59:57.111084Z",
     "iopub.status.idle": "2023-10-20T02:59:57.317737Z",
     "shell.execute_reply": "2023-10-20T02:59:57.317343Z",
     "shell.execute_reply.started": "2023-10-20T02:59:57.111207Z"
    },
    "tags": []
   },
   "outputs": [
    {
     "data": {
      "image/png": "[encoded data removed]",
      "text/plain": [
       "<Figure size 1200x800 with 1 Axes>"
      ]
     },
     "metadata": {},
     "output_type": "display_data"
    }
   ],
   "source": [
    "# Just to try to understand the previous two plots, check the median mag of astrometric calibrators:\n",
    "plt.plot(med_mag_astrom, medAstromOffsets, 'k.', ms=15)\n",
    "plt.xlabel('median mag of astrometric calibrators')\n",
    "plt.ylabel('median astrometric residual (mas)')\n",
    "plt.hlines(astrometricAccuracy, 0, 1000, linestyle='dashed', label='Requirement')\n",
    "plt.xlim(np.min(med_mag_astrom)*0.95,np.max(med_mag_astrom)*1.05)\n",
    "plt.ylim(0,np.max(medAstromOffsets)*1.1)\n",
    "plt.legend()\n",
    "plt.minorticks_on()\n",
    "plt.show()"
   ]
  },
  {
   "cell_type": "markdown",
   "metadata": {},
   "source": [
    "It seems that the fields with large astrometric residuals when compared to Gaia were calibrated using faint stars. These may be deep exposures, so that many Gaia objects saturate, or some other similar effect. Because of this small fraction of fields, the test for LVV-T40 technically does not pass. Given that this may be due to a lack of Gaia reference catalog objects, and not due to a deficiency in DM algorithms, we consider the result of this test a __\"Pass\"__."
   ]
  },
  {
   "cell_type": "code",
   "execution_count": null,
   "metadata": {},
   "outputs": [],
   "source": []
  }
 ],
 "metadata": {
  "kernelspec": {
   "display_name": "LSST",
   "language": "python",
   "name": "lsst"
  },
  "language_info": {
   "codemirror_mode": {
    "name": "ipython",
    "version": 3
   },
   "file_extension": ".py",
   "mimetype": "text/x-python",
   "name": "python",
   "nbconvert_exporter": "python",
   "pygments_lexer": "ipython3",
   "version": "3.11.4"
  }
 },
 "nbformat": 4,
 "nbformat_minor": 4
}
